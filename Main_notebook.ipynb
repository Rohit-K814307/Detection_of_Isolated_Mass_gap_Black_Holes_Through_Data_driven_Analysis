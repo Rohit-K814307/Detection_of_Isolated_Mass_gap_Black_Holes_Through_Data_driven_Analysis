{
 "cells": [
  {
   "cell_type": "code",
   "execution_count": 1,
   "metadata": {},
   "outputs": [],
   "source": [
    "import numpy as np\n",
    "from astropy.table import Table\n",
    "\n",
    "import pandas as pd\n",
    "import matplotlib.pyplot as plt\n",
    "import seaborn as sns"
   ]
  },
  {
   "attachments": {},
   "cell_type": "markdown",
   "metadata": {},
   "source": [
    "POPSYCLE SIM"
   ]
  },
  {
   "cell_type": "code",
   "execution_count": 2,
   "metadata": {},
   "outputs": [],
   "source": [
    "pops = Table.read(\"data/research_paper/popsycle_sim.fits\").to_pandas()"
   ]
  },
  {
   "attachments": {},
   "cell_type": "markdown",
   "metadata": {},
   "source": [
    "OB110462 - Mass gap classified data"
   ]
  },
  {
   "cell_type": "code",
   "execution_count": 3,
   "metadata": {},
   "outputs": [
    {
     "data": {
      "text/html": [
       "<div>\n",
       "<style scoped>\n",
       "    .dataframe tbody tr th:only-of-type {\n",
       "        vertical-align: middle;\n",
       "    }\n",
       "\n",
       "    .dataframe tbody tr th {\n",
       "        vertical-align: top;\n",
       "    }\n",
       "\n",
       "    .dataframe thead th {\n",
       "        text-align: right;\n",
       "    }\n",
       "</style>\n",
       "<table border=\"1\" class=\"dataframe\">\n",
       "  <thead>\n",
       "    <tr style=\"text-align: right;\">\n",
       "      <th></th>\n",
       "      <th>logLike</th>\n",
       "      <th>t0</th>\n",
       "      <th>u0_amp</th>\n",
       "      <th>tE</th>\n",
       "      <th>log10_thetaE</th>\n",
       "      <th>piS</th>\n",
       "      <th>piE_E</th>\n",
       "      <th>piE_N</th>\n",
       "      <th>xS0_E</th>\n",
       "      <th>xS0_N</th>\n",
       "      <th>muS_E</th>\n",
       "      <th>muS_N</th>\n",
       "      <th>mL</th>\n",
       "      <th>piL</th>\n",
       "      <th>piRel</th>\n",
       "      <th>muL_E</th>\n",
       "      <th>muL_N</th>\n",
       "      <th>muRel_E</th>\n",
       "      <th>muRel_N</th>\n",
       "    </tr>\n",
       "  </thead>\n",
       "  <tbody>\n",
       "    <tr>\n",
       "      <th>0</th>\n",
       "      <td>184.877683</td>\n",
       "      <td>55763.312017</td>\n",
       "      <td>-0.051724</td>\n",
       "      <td>287.263116</td>\n",
       "      <td>0.728651</td>\n",
       "      <td>0.135751</td>\n",
       "      <td>0.021247</td>\n",
       "      <td>-0.093013</td>\n",
       "      <td>0.229670</td>\n",
       "      <td>-0.213814</td>\n",
       "      <td>0.066662</td>\n",
       "      <td>1.157038</td>\n",
       "      <td>6.890218</td>\n",
       "      <td>0.646538</td>\n",
       "      <td>0.510787</td>\n",
       "      <td>-1.449263</td>\n",
       "      <td>7.793189</td>\n",
       "      <td>1.515925</td>\n",
       "      <td>-6.636151</td>\n",
       "    </tr>\n",
       "    <tr>\n",
       "      <th>1</th>\n",
       "      <td>189.491588</td>\n",
       "      <td>55763.143207</td>\n",
       "      <td>-0.056239</td>\n",
       "      <td>273.684662</td>\n",
       "      <td>0.363211</td>\n",
       "      <td>0.123753</td>\n",
       "      <td>0.019904</td>\n",
       "      <td>-0.110011</td>\n",
       "      <td>0.229638</td>\n",
       "      <td>-0.214271</td>\n",
       "      <td>0.122164</td>\n",
       "      <td>1.132030</td>\n",
       "      <td>2.534837</td>\n",
       "      <td>0.381767</td>\n",
       "      <td>0.258013</td>\n",
       "      <td>-0.426201</td>\n",
       "      <td>4.162822</td>\n",
       "      <td>0.548365</td>\n",
       "      <td>-3.030792</td>\n",
       "    </tr>\n",
       "    <tr>\n",
       "      <th>2</th>\n",
       "      <td>191.105374</td>\n",
       "      <td>55762.869349</td>\n",
       "      <td>-0.059092</td>\n",
       "      <td>280.197751</td>\n",
       "      <td>0.597241</td>\n",
       "      <td>0.117932</td>\n",
       "      <td>0.019986</td>\n",
       "      <td>-0.119649</td>\n",
       "      <td>0.230059</td>\n",
       "      <td>-0.214283</td>\n",
       "      <td>0.031534</td>\n",
       "      <td>1.162280</td>\n",
       "      <td>4.004285</td>\n",
       "      <td>0.597806</td>\n",
       "      <td>0.479873</td>\n",
       "      <td>-0.818066</td>\n",
       "      <td>6.248444</td>\n",
       "      <td>0.849601</td>\n",
       "      <td>-5.086164</td>\n",
       "    </tr>\n",
       "    <tr>\n",
       "      <th>3</th>\n",
       "      <td>191.884685</td>\n",
       "      <td>55764.431058</td>\n",
       "      <td>-0.042804</td>\n",
       "      <td>279.152526</td>\n",
       "      <td>0.617667</td>\n",
       "      <td>0.098635</td>\n",
       "      <td>0.025575</td>\n",
       "      <td>-0.087679</td>\n",
       "      <td>0.229609</td>\n",
       "      <td>-0.214235</td>\n",
       "      <td>0.126121</td>\n",
       "      <td>1.152938</td>\n",
       "      <td>5.574564</td>\n",
       "      <td>0.477333</td>\n",
       "      <td>0.378698</td>\n",
       "      <td>-1.393074</td>\n",
       "      <td>6.361090</td>\n",
       "      <td>1.519195</td>\n",
       "      <td>-5.208152</td>\n",
       "    </tr>\n",
       "    <tr>\n",
       "      <th>4</th>\n",
       "      <td>192.296255</td>\n",
       "      <td>55762.025369</td>\n",
       "      <td>-0.067009</td>\n",
       "      <td>273.444603</td>\n",
       "      <td>0.572748</td>\n",
       "      <td>0.138009</td>\n",
       "      <td>0.020906</td>\n",
       "      <td>-0.127337</td>\n",
       "      <td>0.229948</td>\n",
       "      <td>-0.214424</td>\n",
       "      <td>0.060268</td>\n",
       "      <td>1.204426</td>\n",
       "      <td>3.557838</td>\n",
       "      <td>0.620489</td>\n",
       "      <td>0.482480</td>\n",
       "      <td>-0.748844</td>\n",
       "      <td>6.132681</td>\n",
       "      <td>0.809112</td>\n",
       "      <td>-4.928255</td>\n",
       "    </tr>\n",
       "  </tbody>\n",
       "</table>\n",
       "</div>"
      ],
      "text/plain": [
       "      logLike            t0    u0_amp          tE  log10_thetaE       piS  \\\n",
       "0  184.877683  55763.312017 -0.051724  287.263116      0.728651  0.135751   \n",
       "1  189.491588  55763.143207 -0.056239  273.684662      0.363211  0.123753   \n",
       "2  191.105374  55762.869349 -0.059092  280.197751      0.597241  0.117932   \n",
       "3  191.884685  55764.431058 -0.042804  279.152526      0.617667  0.098635   \n",
       "4  192.296255  55762.025369 -0.067009  273.444603      0.572748  0.138009   \n",
       "\n",
       "      piE_E     piE_N     xS0_E     xS0_N     muS_E     muS_N        mL  \\\n",
       "0  0.021247 -0.093013  0.229670 -0.213814  0.066662  1.157038  6.890218   \n",
       "1  0.019904 -0.110011  0.229638 -0.214271  0.122164  1.132030  2.534837   \n",
       "2  0.019986 -0.119649  0.230059 -0.214283  0.031534  1.162280  4.004285   \n",
       "3  0.025575 -0.087679  0.229609 -0.214235  0.126121  1.152938  5.574564   \n",
       "4  0.020906 -0.127337  0.229948 -0.214424  0.060268  1.204426  3.557838   \n",
       "\n",
       "        piL     piRel     muL_E     muL_N   muRel_E   muRel_N  \n",
       "0  0.646538  0.510787 -1.449263  7.793189  1.515925 -6.636151  \n",
       "1  0.381767  0.258013 -0.426201  4.162822  0.548365 -3.030792  \n",
       "2  0.597806  0.479873 -0.818066  6.248444  0.849601 -5.086164  \n",
       "3  0.477333  0.378698 -1.393074  6.361090  1.519195 -5.208152  \n",
       "4  0.620489  0.482480 -0.748844  6.132681  0.809112 -4.928255  "
      ]
     },
     "execution_count": 3,
     "metadata": {},
     "output_type": "execute_result"
    }
   ],
   "source": [
    "ob = Table.read(\"data/research_paper/OB110462_DW_post.fits\").to_pandas() #color data\n",
    "ob.head()"
   ]
  },
  {
   "cell_type": "code",
   "execution_count": 4,
   "metadata": {},
   "outputs": [
    {
     "data": {
      "text/plain": [
       "Index(['logLike', 't0', 'u0_amp', 'tE', 'log10_thetaE', 'piS', 'piE_E',\n",
       "       'piE_N', 'xS0_E', 'xS0_N', 'muS_E', 'muS_N', 'mL', 'piL', 'piRel',\n",
       "       'muL_E', 'muL_N', 'muRel_E', 'muRel_N'],\n",
       "      dtype='object')"
      ]
     },
     "execution_count": 4,
     "metadata": {},
     "output_type": "execute_result"
    }
   ],
   "source": [
    "ob.columns"
   ]
  },
  {
   "attachments": {},
   "cell_type": "markdown",
   "metadata": {},
   "source": [
    "combine data"
   ]
  },
  {
   "cell_type": "code",
   "execution_count": 5,
   "metadata": {},
   "outputs": [
    {
     "data": {
      "text/plain": [
       "23139"
      ]
     },
     "execution_count": 5,
     "metadata": {},
     "output_type": "execute_result"
    }
   ],
   "source": [
    "popsCols = list(pops.columns)\n",
    "obCols = list(ob.columns)\n",
    "len(pops) + len(ob)"
   ]
  },
  {
   "cell_type": "code",
   "execution_count": 6,
   "metadata": {},
   "outputs": [],
   "source": [
    "wanted_ob = [\"t0\",\"u0_amp\",\"tE\",\"log10_thetaE\",\"piE_E\",\"muS_E\",\"mL\",\"piRel\",\"muL_E\",\"muRel_E\"]\n",
    "wanted_pops = [\"t0\",\"u0\",\"t_E\",\"theta_E\",\"pi_E\",\"mu_b_S\",\"mass_L\",\"pi_rel\",\"mu_b_L\",\"mu_rel\"]\n",
    "\n",
    "ob_to_pops = {\"t0\":\"t0\", \"u0_amp\":\"u0\",\"tE\":\"t_E\",\"log10_thetaE\":\"theta_E\",\"piE_E\":\"pi_E\",\"muS_E\":\"mu_b_S\",\"mL\":\"mass_L\",\"piRel\":\"pi_rel\",\"muL_E\":\"mu_b_L\",\"muRel_E\":\"mu_rel\"}\n",
    "\n",
    "\n",
    "def gk(val,d=ob_to_pops):\n",
    "    keys = [k for k, v in d.items() if v == val]\n",
    "    if keys:\n",
    "        return keys[0]\n",
    "    return None\n",
    "\n",
    "\n",
    "dfWhole = pd.DataFrame()\n",
    "for j in wanted_ob:\n",
    "    for k in range(len(ob[j])):\n",
    "        dfWhole.at[k,j] = ob[j][k] #0,x \n",
    "\n",
    "dict = {\"id\":[]}\n",
    "\n",
    "for j in wanted_pops:\n",
    "    jVal = gk(j)\n",
    "    dict[jVal] = pops[j]\n",
    "\n",
    "for i in range(len(pops[\"rem_id_L\"])):\n",
    "    dict[\"id\"].append(pops[\"rem_id_L\"][i])\n",
    "\n",
    "dfTotal = pd.concat([dfWhole,pd.DataFrame(dict)])\n"
   ]
  },
  {
   "attachments": {},
   "cell_type": "markdown",
   "metadata": {},
   "source": [
    "Current class labels\n",
    "\n",
    "- 0 = star\n",
    "- 101 = white dwarf , \n",
    "- 102 = neutron star\n",
    "- 103 = black hole\n",
    "\n",
    "Changed/altered class Labels\n",
    "- 0 = star\n",
    "- 1 = mass gap bh (current nan)\n",
    "- 2 = white dwarf\n",
    "- 3 = neutron star\n",
    "- 4 = regular bh"
   ]
  },
  {
   "cell_type": "code",
   "execution_count": 7,
   "metadata": {},
   "outputs": [
    {
     "data": {
      "text/plain": [
       "3285"
      ]
     },
     "execution_count": 7,
     "metadata": {},
     "output_type": "execute_result"
    }
   ],
   "source": [
    "massGP = [val for val in dfTotal[\"mL\"] if val >= 2.5 and val <= 5]\n",
    "len(massGP)"
   ]
  },
  {
   "cell_type": "code",
   "execution_count": 8,
   "metadata": {},
   "outputs": [
    {
     "data": {
      "text/html": [
       "<div>\n",
       "<style scoped>\n",
       "    .dataframe tbody tr th:only-of-type {\n",
       "        vertical-align: middle;\n",
       "    }\n",
       "\n",
       "    .dataframe tbody tr th {\n",
       "        vertical-align: top;\n",
       "    }\n",
       "\n",
       "    .dataframe thead th {\n",
       "        text-align: right;\n",
       "    }\n",
       "</style>\n",
       "<table border=\"1\" class=\"dataframe\">\n",
       "  <thead>\n",
       "    <tr style=\"text-align: right;\">\n",
       "      <th></th>\n",
       "      <th>t0</th>\n",
       "      <th>u0_amp</th>\n",
       "      <th>tE</th>\n",
       "      <th>log10_thetaE</th>\n",
       "      <th>piE_E</th>\n",
       "      <th>muS_E</th>\n",
       "      <th>mL</th>\n",
       "      <th>piRel</th>\n",
       "      <th>muL_E</th>\n",
       "      <th>muRel_E</th>\n",
       "      <th>id</th>\n",
       "    </tr>\n",
       "  </thead>\n",
       "  <tbody>\n",
       "    <tr>\n",
       "      <th>0</th>\n",
       "      <td>55763.312017</td>\n",
       "      <td>-0.051724</td>\n",
       "      <td>287.263116</td>\n",
       "      <td>0.728651</td>\n",
       "      <td>0.021247</td>\n",
       "      <td>0.066662</td>\n",
       "      <td>6.890218</td>\n",
       "      <td>0.510787</td>\n",
       "      <td>-1.449263</td>\n",
       "      <td>1.515925</td>\n",
       "      <td>NaN</td>\n",
       "    </tr>\n",
       "    <tr>\n",
       "      <th>1</th>\n",
       "      <td>55763.143207</td>\n",
       "      <td>-0.056239</td>\n",
       "      <td>273.684662</td>\n",
       "      <td>0.363211</td>\n",
       "      <td>0.019904</td>\n",
       "      <td>0.122164</td>\n",
       "      <td>2.534837</td>\n",
       "      <td>0.258013</td>\n",
       "      <td>-0.426201</td>\n",
       "      <td>0.548365</td>\n",
       "      <td>NaN</td>\n",
       "    </tr>\n",
       "    <tr>\n",
       "      <th>2</th>\n",
       "      <td>55762.869349</td>\n",
       "      <td>-0.059092</td>\n",
       "      <td>280.197751</td>\n",
       "      <td>0.597241</td>\n",
       "      <td>0.019986</td>\n",
       "      <td>0.031534</td>\n",
       "      <td>4.004285</td>\n",
       "      <td>0.479873</td>\n",
       "      <td>-0.818066</td>\n",
       "      <td>0.849601</td>\n",
       "      <td>NaN</td>\n",
       "    </tr>\n",
       "    <tr>\n",
       "      <th>3</th>\n",
       "      <td>55764.431058</td>\n",
       "      <td>-0.042804</td>\n",
       "      <td>279.152526</td>\n",
       "      <td>0.617667</td>\n",
       "      <td>0.025575</td>\n",
       "      <td>0.126121</td>\n",
       "      <td>5.574564</td>\n",
       "      <td>0.378698</td>\n",
       "      <td>-1.393074</td>\n",
       "      <td>1.519195</td>\n",
       "      <td>NaN</td>\n",
       "    </tr>\n",
       "    <tr>\n",
       "      <th>4</th>\n",
       "      <td>55762.025369</td>\n",
       "      <td>-0.067009</td>\n",
       "      <td>273.444603</td>\n",
       "      <td>0.572748</td>\n",
       "      <td>0.020906</td>\n",
       "      <td>0.060268</td>\n",
       "      <td>3.557838</td>\n",
       "      <td>0.482480</td>\n",
       "      <td>-0.748844</td>\n",
       "      <td>0.809112</td>\n",
       "      <td>NaN</td>\n",
       "    </tr>\n",
       "    <tr>\n",
       "      <th>...</th>\n",
       "      <td>...</td>\n",
       "      <td>...</td>\n",
       "      <td>...</td>\n",
       "      <td>...</td>\n",
       "      <td>...</td>\n",
       "      <td>...</td>\n",
       "      <td>...</td>\n",
       "      <td>...</td>\n",
       "      <td>...</td>\n",
       "      <td>...</td>\n",
       "      <td>...</td>\n",
       "    </tr>\n",
       "    <tr>\n",
       "      <th>19713</th>\n",
       "      <td>-100.757093</td>\n",
       "      <td>-0.002355</td>\n",
       "      <td>10.272065</td>\n",
       "      <td>0.156485</td>\n",
       "      <td>0.026858</td>\n",
       "      <td>-2.123513</td>\n",
       "      <td>0.717312</td>\n",
       "      <td>0.004203</td>\n",
       "      <td>3.368475</td>\n",
       "      <td>5.564230</td>\n",
       "      <td>101.0</td>\n",
       "    </tr>\n",
       "    <tr>\n",
       "      <th>19714</th>\n",
       "      <td>44.697865</td>\n",
       "      <td>0.031002</td>\n",
       "      <td>44.315966</td>\n",
       "      <td>0.413579</td>\n",
       "      <td>0.080408</td>\n",
       "      <td>-0.152435</td>\n",
       "      <td>0.633246</td>\n",
       "      <td>0.033255</td>\n",
       "      <td>3.079775</td>\n",
       "      <td>3.408702</td>\n",
       "      <td>101.0</td>\n",
       "    </tr>\n",
       "    <tr>\n",
       "      <th>19715</th>\n",
       "      <td>36.049509</td>\n",
       "      <td>-0.020305</td>\n",
       "      <td>41.374829</td>\n",
       "      <td>0.282264</td>\n",
       "      <td>0.060556</td>\n",
       "      <td>-0.406050</td>\n",
       "      <td>0.573866</td>\n",
       "      <td>0.017093</td>\n",
       "      <td>-1.207997</td>\n",
       "      <td>2.491783</td>\n",
       "      <td>101.0</td>\n",
       "    </tr>\n",
       "    <tr>\n",
       "      <th>19716</th>\n",
       "      <td>107.731479</td>\n",
       "      <td>-0.341648</td>\n",
       "      <td>50.540982</td>\n",
       "      <td>0.495956</td>\n",
       "      <td>0.070537</td>\n",
       "      <td>-0.167646</td>\n",
       "      <td>0.865635</td>\n",
       "      <td>0.034983</td>\n",
       "      <td>1.031318</td>\n",
       "      <td>3.584180</td>\n",
       "      <td>101.0</td>\n",
       "    </tr>\n",
       "    <tr>\n",
       "      <th>19717</th>\n",
       "      <td>-284.983980</td>\n",
       "      <td>-0.271003</td>\n",
       "      <td>29.328169</td>\n",
       "      <td>0.336153</td>\n",
       "      <td>0.049972</td>\n",
       "      <td>-0.318781</td>\n",
       "      <td>0.828171</td>\n",
       "      <td>0.016798</td>\n",
       "      <td>-2.453456</td>\n",
       "      <td>4.186411</td>\n",
       "      <td>101.0</td>\n",
       "    </tr>\n",
       "  </tbody>\n",
       "</table>\n",
       "<p>23139 rows × 11 columns</p>\n",
       "</div>"
      ],
      "text/plain": [
       "                 t0    u0_amp          tE  log10_thetaE     piE_E     muS_E  \\\n",
       "0      55763.312017 -0.051724  287.263116      0.728651  0.021247  0.066662   \n",
       "1      55763.143207 -0.056239  273.684662      0.363211  0.019904  0.122164   \n",
       "2      55762.869349 -0.059092  280.197751      0.597241  0.019986  0.031534   \n",
       "3      55764.431058 -0.042804  279.152526      0.617667  0.025575  0.126121   \n",
       "4      55762.025369 -0.067009  273.444603      0.572748  0.020906  0.060268   \n",
       "...             ...       ...         ...           ...       ...       ...   \n",
       "19713   -100.757093 -0.002355   10.272065      0.156485  0.026858 -2.123513   \n",
       "19714     44.697865  0.031002   44.315966      0.413579  0.080408 -0.152435   \n",
       "19715     36.049509 -0.020305   41.374829      0.282264  0.060556 -0.406050   \n",
       "19716    107.731479 -0.341648   50.540982      0.495956  0.070537 -0.167646   \n",
       "19717   -284.983980 -0.271003   29.328169      0.336153  0.049972 -0.318781   \n",
       "\n",
       "             mL     piRel     muL_E   muRel_E     id  \n",
       "0      6.890218  0.510787 -1.449263  1.515925    NaN  \n",
       "1      2.534837  0.258013 -0.426201  0.548365    NaN  \n",
       "2      4.004285  0.479873 -0.818066  0.849601    NaN  \n",
       "3      5.574564  0.378698 -1.393074  1.519195    NaN  \n",
       "4      3.557838  0.482480 -0.748844  0.809112    NaN  \n",
       "...         ...       ...       ...       ...    ...  \n",
       "19713  0.717312  0.004203  3.368475  5.564230  101.0  \n",
       "19714  0.633246  0.033255  3.079775  3.408702  101.0  \n",
       "19715  0.573866  0.017093 -1.207997  2.491783  101.0  \n",
       "19716  0.865635  0.034983  1.031318  3.584180  101.0  \n",
       "19717  0.828171  0.016798 -2.453456  4.186411  101.0  \n",
       "\n",
       "[23139 rows x 11 columns]"
      ]
     },
     "execution_count": 8,
     "metadata": {},
     "output_type": "execute_result"
    }
   ],
   "source": [
    "dfTotal"
   ]
  },
  {
   "cell_type": "code",
   "execution_count": 9,
   "metadata": {},
   "outputs": [
    {
     "name": "stdout",
     "output_type": "stream",
     "text": [
      "t0              0\n",
      "u0_amp          0\n",
      "tE              0\n",
      "log10_thetaE    0\n",
      "piE_E           0\n",
      "muS_E           0\n",
      "mL              0\n",
      "piRel           0\n",
      "muL_E           0\n",
      "muRel_E         0\n",
      "id              0\n",
      "dtype: int64\n"
     ]
    }
   ],
   "source": [
    "dfTotal = dfTotal.fillna(1)\n",
    "dfTotal = pd.concat([dfTotal[[col for col in dfTotal.columns if col != \"id\"]], dfTotal[\"id\"].replace(101,2)], axis=1)\n",
    "dfTotal = pd.concat([dfTotal[[col for col in dfTotal.columns if col != \"id\"]], dfTotal[\"id\"].replace(102,3)], axis=1)\n",
    "dfTotal = pd.concat([dfTotal[[col for col in dfTotal.columns if col != \"id\"]], dfTotal[\"id\"].replace(103,4)], axis=1)\n",
    "print(dfTotal.isna().sum())\n"
   ]
  },
  {
   "cell_type": "code",
   "execution_count": 10,
   "metadata": {},
   "outputs": [
    {
     "data": {
      "text/plain": [
       "0.0    17153\n",
       "1.0     3421\n",
       "2.0     2088\n",
       "3.0      276\n",
       "4.0      201\n",
       "Name: id, dtype: int64"
      ]
     },
     "execution_count": 10,
     "metadata": {},
     "output_type": "execute_result"
    }
   ],
   "source": [
    "dfTotal[\"id\"].value_counts()"
   ]
  },
  {
   "attachments": {},
   "cell_type": "markdown",
   "metadata": {},
   "source": [
    "Preprocess data"
   ]
  },
  {
   "cell_type": "code",
   "execution_count": 11,
   "metadata": {},
   "outputs": [
    {
     "data": {
      "text/plain": [
       "t0              float64\n",
       "u0_amp          float64\n",
       "tE              float64\n",
       "log10_thetaE    float64\n",
       "piE_E           float64\n",
       "muS_E           float64\n",
       "mL              float64\n",
       "piRel           float64\n",
       "muL_E           float64\n",
       "muRel_E         float64\n",
       "id              float64\n",
       "dtype: object"
      ]
     },
     "execution_count": 11,
     "metadata": {},
     "output_type": "execute_result"
    }
   ],
   "source": [
    "dfTotal.dtypes"
   ]
  },
  {
   "cell_type": "code",
   "execution_count": 12,
   "metadata": {},
   "outputs": [
    {
     "name": "stdout",
     "output_type": "stream",
     "text": [
      "t0              1.983625\n",
      "u0_amp          0.401305\n",
      "tE              1.887421\n",
      "log10_thetaE    4.519006\n",
      "piE_E           2.087928\n",
      "muS_E          -0.109301\n",
      "mL              3.042050\n",
      "piRel           3.724419\n",
      "muL_E          -0.087966\n",
      "muRel_E         1.331930\n",
      "id              2.110386\n",
      "dtype: float64\n",
      "_________________________\n",
      " \n",
      "t0               1.936378\n",
      "u0_amp           2.476196\n",
      "tE               1.877551\n",
      "log10_thetaE    51.244954\n",
      "piE_E           30.167515\n",
      "muS_E            1.872167\n",
      "mL              13.631273\n",
      "piRel           59.298826\n",
      "muL_E            2.442283\n",
      "muRel_E          7.202166\n",
      "id               4.426641\n",
      "dtype: float64\n"
     ]
    }
   ],
   "source": [
    "print(dfTotal.skew())\n",
    "print(\"_________________________\")\n",
    "print(\" \")\n",
    "print(dfTotal.kurtosis())"
   ]
  },
  {
   "cell_type": "code",
   "execution_count": 13,
   "metadata": {},
   "outputs": [
    {
     "data": {
      "image/png": "[encoded data removed]",
      "text/plain": [
       "<Figure size 200x200 with 1 Axes>"
      ]
     },
     "metadata": {},
     "output_type": "display_data"
    },
    {
     "data": {
      "image/png": "[encoded data removed]",
      "text/plain": [
       "<Figure size 200x200 with 1 Axes>"
      ]
     },
     "metadata": {},
     "output_type": "display_data"
    },
    {
     "data": {
      "image/png": "[encoded data removed]",
      "text/plain": [
       "<Figure size 200x200 with 1 Axes>"
      ]
     },
     "metadata": {},
     "output_type": "display_data"
    },
    {
     "data": {
      "image/png": "[encoded data removed]",
      "text/plain": [
       "<Figure size 200x200 with 1 Axes>"
      ]
     },
     "metadata": {},
     "output_type": "display_data"
    },
    {
     "data": {
      "image/png": "[encoded data removed]",
      "text/plain": [
       "<Figure size 200x200 with 1 Axes>"
      ]
     },
     "metadata": {},
     "output_type": "display_data"
    },
    {
     "data": {
      "image/png": "[encoded data removed]",
      "text/plain": [
       "<Figure size 200x200 with 1 Axes>"
      ]
     },
     "metadata": {},
     "output_type": "display_data"
    },
    {
     "data": {
      "image/png": "[encoded data removed]",
      "text/plain": [
       "<Figure size 200x200 with 1 Axes>"
      ]
     },
     "metadata": {},
     "output_type": "display_data"
    },
    {
     "data": {
      "image/png": "[encoded data removed]",
      "text/plain": [
       "<Figure size 200x200 with 1 Axes>"
      ]
     },
     "metadata": {},
     "output_type": "display_data"
    },
    {
     "data": {
      "image/png": "[encoded data removed]",
      "text/plain": [
       "<Figure size 200x200 with 1 Axes>"
      ]
     },
     "metadata": {},
     "output_type": "display_data"
    },
    {
     "data": {
      "image/png": "[encoded data removed]",
      "text/plain": [
       "<Figure size 200x200 with 1 Axes>"
      ]
     },
     "metadata": {},
     "output_type": "display_data"
    },
    {
     "data": {
      "image/png": "[encoded data removed]",
      "text/plain": [
       "<Figure size 200x200 with 1 Axes>"
      ]
     },
     "metadata": {},
     "output_type": "display_data"
    }
   ],
   "source": [
    "from matplotlib import rcParams\n",
    "rcParams['figure.figsize'] = 2,2\n",
    "for col in list(dfTotal.columns):\n",
    "    plt.figure()\n",
    "    sns.kdeplot(dfTotal[col],bw_method=0.5)\n",
    "    \n",
    "    "
   ]
  },
  {
   "attachments": {},
   "cell_type": "markdown",
   "metadata": {},
   "source": [
    "Deal with imbalanced dataset (labels)"
   ]
  },
  {
   "attachments": {},
   "cell_type": "markdown",
   "metadata": {},
   "source": [
    "classes 3 and 4 are critical for prediction - neutron stars can fall in the mass gap, and black holes can be similar to mass gap black holes"
   ]
  },
  {
   "attachments": {},
   "cell_type": "markdown",
   "metadata": {},
   "source": [
    "we should upsample to preserve data: SMOTE-TOMEK link algorithm"
   ]
  },
  {
   "cell_type": "code",
   "execution_count": 14,
   "metadata": {},
   "outputs": [
    {
     "data": {
      "text/plain": [
       "0.0    17153\n",
       "1.0     3421\n",
       "2.0     2088\n",
       "3.0      276\n",
       "4.0      201\n",
       "Name: id, dtype: int64"
      ]
     },
     "execution_count": 14,
     "metadata": {},
     "output_type": "execute_result"
    }
   ],
   "source": [
    "dfTotal[\"id\"].value_counts()"
   ]
  },
  {
   "attachments": {},
   "cell_type": "markdown",
   "metadata": {},
   "source": [
    "split data"
   ]
  },
  {
   "cell_type": "code",
   "execution_count": 15,
   "metadata": {},
   "outputs": [],
   "source": [
    "from sklearn.model_selection import train_test_split\n",
    "xCols = [col for col in dfTotal.columns if col != \"id\"]\n",
    "x_data = dfTotal[xCols]\n",
    "y_data = dfTotal[\"id\"]\n",
    "\n",
    "X_train, X_t, y_train, y_t = train_test_split(x_data, y_data, test_size = 0.4, random_state=42)\n",
    "X_test, X_val, y_test, y_val = train_test_split(X_t,y_t,test_size=0.2)"
   ]
  },
  {
   "attachments": {},
   "cell_type": "markdown",
   "metadata": {},
   "source": [
    "SMOTETomek fit for even data"
   ]
  },
  {
   "cell_type": "code",
   "execution_count": 16,
   "metadata": {},
   "outputs": [],
   "source": [
    "from imblearn.combine import SMOTETomek\n",
    "smk = SMOTETomek()\n",
    "X_res,y_res=smk.fit_resample(X_train, y_train)\n",
    "\n",
    "smk2 = SMOTETomek()\n",
    "X_testRes, y_testRes = smk2.fit_resample(X_test,y_test)"
   ]
  },
  {
   "attachments": {},
   "cell_type": "markdown",
   "metadata": {},
   "source": [
    "vie PCA'd data"
   ]
  },
  {
   "cell_type": "code",
   "execution_count": 17,
   "metadata": {},
   "outputs": [],
   "source": [
    "from sklearn.decomposition import PCA"
   ]
  },
  {
   "cell_type": "code",
   "execution_count": 18,
   "metadata": {},
   "outputs": [],
   "source": [
    "pca = PCA(n_components=1)\n",
    "Xcop = X_res.copy()\n",
    "Xcop = pca.fit_transform(Xcop)"
   ]
  },
  {
   "cell_type": "code",
   "execution_count": 19,
   "metadata": {},
   "outputs": [
    {
     "data": {
      "text/plain": [
       "1.0    10277\n",
       "4.0    10274\n",
       "3.0    10267\n",
       "2.0    10114\n",
       "0.0    10109\n",
       "Name: id, dtype: int64"
      ]
     },
     "execution_count": 19,
     "metadata": {},
     "output_type": "execute_result"
    }
   ],
   "source": [
    "y_res.value_counts()"
   ]
  },
  {
   "cell_type": "code",
   "execution_count": 20,
   "metadata": {},
   "outputs": [
    {
     "data": {
      "image/png": "[encoded data removed]",
      "text/plain": [
       "<Figure size 200x200 with 1 Axes>"
      ]
     },
     "metadata": {},
     "output_type": "display_data"
    }
   ],
   "source": [
    "fig = plt.figure()\n",
    "ax = fig.add_subplot()\n",
    "\n",
    "for i in range(1000):\n",
    "    ax.scatter(Xcop[i][0], y_res[i])\n",
    "\n",
    "ax.set_xlabel('Principle Component 1')\n",
    "ax.set_ylabel('ID')\n",
    "\n",
    "plt.show()"
   ]
  },
  {
   "attachments": {},
   "cell_type": "markdown",
   "metadata": {},
   "source": [
    "Change the y's to vectors with indices"
   ]
  },
  {
   "attachments": {},
   "cell_type": "markdown",
   "metadata": {},
   "source": [
    "- train data: X_res, y_res\n",
    "- val data: X_val, y_val\n",
    "- train data: X_testRes, y_testRes"
   ]
  },
  {
   "cell_type": "code",
   "execution_count": 21,
   "metadata": {},
   "outputs": [],
   "source": [
    "y_res = y_res.to_numpy()\n",
    "y_val = y_val.to_numpy()\n",
    "y_testRes = y_testRes.to_numpy()"
   ]
  },
  {
   "cell_type": "code",
   "execution_count": 22,
   "metadata": {},
   "outputs": [],
   "source": [
    "y_res = y_res.astype(int)\n",
    "y_val = y_val.astype(int)\n",
    "y_testRes = y_testRes.astype(int)"
   ]
  },
  {
   "cell_type": "code",
   "execution_count": 23,
   "metadata": {},
   "outputs": [],
   "source": [
    "arr1 = []\n",
    "for i in range(len(y_res)):\n",
    "    thing1 = [0,0,0,0,0]\n",
    "    thing1[y_res[i]]=1\n",
    "    arr1.append(thing1)\n",
    "        \n",
    "arr2 = []\n",
    "for j in range(len(y_val)):\n",
    "    thing2 = [0,0,0,0,0]\n",
    "    thing2[y_val[j]]=1\n",
    "    arr2.append(thing2)\n",
    "\n",
    "arr3 = []\n",
    "for k in range(len(y_testRes)):\n",
    "    thing3 = [0,0,0,0,0]\n",
    "    thing3[y_testRes[k]]=1 \n",
    "    arr3.append(thing3)\n",
    "\n",
    "\n",
    "yTraining = np.array(arr1)\n",
    "yValidation = np.array(arr2)\n",
    "yTesting = np.array(arr3)"
   ]
  },
  {
   "attachments": {},
   "cell_type": "markdown",
   "metadata": {},
   "source": [
    "Model Building"
   ]
  },
  {
   "attachments": {},
   "cell_type": "markdown",
   "metadata": {},
   "source": [
    "imports"
   ]
  },
  {
   "cell_type": "code",
   "execution_count": 24,
   "metadata": {},
   "outputs": [],
   "source": [
    "import tensorflow as tf\n",
    "from tensorflow import keras\n",
    "from keras.callbacks import EarlyStopping"
   ]
  },
  {
   "cell_type": "code",
   "execution_count": 25,
   "metadata": {},
   "outputs": [],
   "source": [
    "def model(metrics):\n",
    "   \n",
    "    inputs = keras.Input(shape=(10,))\n",
    "    net = tf.keras.layers.Dense(32, activation='relu')(inputs)\n",
    "    net = tf.keras.layers.Dropout(0.2)(net)\n",
    "    net = tf.keras.layers.Dense(64, activation='relu')(net)\n",
    "    out = tf.keras.layers.Dense(5, activation='softmax')(net)\n",
    "    \n",
    "    model = tf.keras.models.Model(inputs=inputs, outputs=out)\n",
    "    model.compile(tf.keras.optimizers.Adam(learning_rate=1e-5), loss='categorical_crossentropy', metrics=metrics)\n",
    "    \n",
    "    return model"
   ]
  },
  {
   "cell_type": "code",
   "execution_count": 26,
   "metadata": {},
   "outputs": [],
   "source": [
    "es = EarlyStopping(monitor='val_loss', mode='min', verbose=1, patience=10)"
   ]
  },
  {
   "cell_type": "code",
   "execution_count": 27,
   "metadata": {},
   "outputs": [
    {
     "name": "stdout",
     "output_type": "stream",
     "text": [
      "Model: \"model\"\n",
      "_________________________________________________________________\n",
      " Layer (type)                Output Shape              Param #   \n",
      "=================================================================\n",
      " input_1 (InputLayer)        [(None, 10)]              0         \n",
      "                                                                 \n",
      " dense (Dense)               (None, 32)                352       \n",
      "                                                                 \n",
      " dropout (Dropout)           (None, 32)                0         \n",
      "                                                                 \n",
      " dense_1 (Dense)             (None, 64)                2112      \n",
      "                                                                 \n",
      " dense_2 (Dense)             (None, 5)                 325       \n",
      "                                                                 \n",
      "=================================================================\n",
      "Total params: 2,789\n",
      "Trainable params: 2,789\n",
      "Non-trainable params: 0\n",
      "_________________________________________________________________\n"
     ]
    }
   ],
   "source": [
    "METRICS = [\n",
    "    tf.keras.metrics.BinaryAccuracy(name='accuracy'),\n",
    "      tf.keras.metrics.Precision(name='precision'),\n",
    "      tf.keras.metrics.Recall(name='recall')\n",
    "]\n",
    "\n",
    "massDet = model(METRICS)\n",
    "massDet.summary()"
   ]
  },
  {
   "cell_type": "code",
   "execution_count": 28,
   "metadata": {},
   "outputs": [
    {
     "name": "stdout",
     "output_type": "stream",
     "text": [
      "Epoch 1/4000\n",
      "1596/1596 - 8s - loss: 1561.0062 - accuracy: 0.6839 - precision: 0.2077 - recall: 0.2062 - val_loss: 30.1824 - val_accuracy: 0.6693 - val_precision: 0.1635 - val_recall: 0.1587 - 8s/epoch - 5ms/step\n",
      "Epoch 2/4000\n",
      "1596/1596 - 5s - loss: 97.9139 - accuracy: 0.7153 - precision: 0.2852 - recall: 0.2812 - val_loss: 31.2685 - val_accuracy: 0.6863 - val_precision: 0.1912 - val_recall: 0.1760 - 5s/epoch - 3ms/step\n",
      "Epoch 3/4000\n",
      "1596/1596 - 4s - loss: 37.4866 - accuracy: 0.7252 - precision: 0.3086 - recall: 0.3014 - val_loss: 30.2458 - val_accuracy: 0.6922 - val_precision: 0.1942 - val_recall: 0.1712 - 4s/epoch - 2ms/step\n",
      "Epoch 4/4000\n",
      "1596/1596 - 4s - loss: 27.4322 - accuracy: 0.7338 - precision: 0.3280 - recall: 0.3158 - val_loss: 27.0837 - val_accuracy: 0.7023 - val_precision: 0.2044 - val_recall: 0.1690 - 4s/epoch - 2ms/step\n",
      "Epoch 5/4000\n",
      "1596/1596 - 4s - loss: 23.4703 - accuracy: 0.7389 - precision: 0.3400 - recall: 0.3248 - val_loss: 23.5780 - val_accuracy: 0.7076 - val_precision: 0.2116 - val_recall: 0.1695 - 4s/epoch - 2ms/step\n",
      "Epoch 6/4000\n",
      "1596/1596 - 4s - loss: 20.5719 - accuracy: 0.7442 - precision: 0.3522 - recall: 0.3324 - val_loss: 19.7886 - val_accuracy: 0.7180 - val_precision: 0.2087 - val_recall: 0.1469 - 4s/epoch - 2ms/step\n",
      "Epoch 7/4000\n",
      "1596/1596 - 4s - loss: 17.6127 - accuracy: 0.7495 - precision: 0.3635 - recall: 0.3364 - val_loss: 16.6888 - val_accuracy: 0.7140 - val_precision: 0.2034 - val_recall: 0.1474 - 4s/epoch - 2ms/step\n",
      "Epoch 8/4000\n",
      "1596/1596 - 4s - loss: 15.2969 - accuracy: 0.7551 - precision: 0.3770 - recall: 0.3437 - val_loss: 14.8250 - val_accuracy: 0.7339 - val_precision: 0.2380 - val_recall: 0.1501 - 4s/epoch - 2ms/step\n",
      "Epoch 9/4000\n",
      "1596/1596 - 4s - loss: 13.7297 - accuracy: 0.7582 - precision: 0.3841 - recall: 0.3462 - val_loss: 13.1165 - val_accuracy: 0.7312 - val_precision: 0.2303 - val_recall: 0.1469 - 4s/epoch - 3ms/step\n",
      "Epoch 10/4000\n",
      "1596/1596 - 4s - loss: 12.1856 - accuracy: 0.7637 - precision: 0.3976 - recall: 0.3528 - val_loss: 11.6832 - val_accuracy: 0.7416 - val_precision: 0.2507 - val_recall: 0.1469 - 4s/epoch - 2ms/step\n",
      "Epoch 11/4000\n",
      "1596/1596 - 3s - loss: 11.1570 - accuracy: 0.7679 - precision: 0.4080 - recall: 0.3560 - val_loss: 10.6346 - val_accuracy: 0.7436 - val_precision: 0.2547 - val_recall: 0.1463 - 3s/epoch - 2ms/step\n",
      "Epoch 12/4000\n",
      "1596/1596 - 3s - loss: 10.6477 - accuracy: 0.7715 - precision: 0.4173 - recall: 0.3601 - val_loss: 10.1129 - val_accuracy: 0.7545 - val_precision: 0.3078 - val_recall: 0.1820 - 3s/epoch - 2ms/step\n",
      "Epoch 13/4000\n",
      "1596/1596 - 3s - loss: 9.2330 - accuracy: 0.7767 - precision: 0.4315 - recall: 0.3670 - val_loss: 9.0190 - val_accuracy: 0.7549 - val_precision: 0.2983 - val_recall: 0.1668 - 3s/epoch - 2ms/step\n",
      "Epoch 14/4000\n",
      "1596/1596 - 4s - loss: 8.6472 - accuracy: 0.7814 - precision: 0.4448 - recall: 0.3741 - val_loss: 8.4180 - val_accuracy: 0.7670 - val_precision: 0.3665 - val_recall: 0.2268 - 4s/epoch - 2ms/step\n",
      "Epoch 15/4000\n",
      "1596/1596 - 4s - loss: 7.6060 - accuracy: 0.7848 - precision: 0.4547 - recall: 0.3806 - val_loss: 7.4181 - val_accuracy: 0.7712 - val_precision: 0.3834 - val_recall: 0.2370 - 4s/epoch - 2ms/step\n",
      "Epoch 16/4000\n",
      "1596/1596 - 4s - loss: 7.0919 - accuracy: 0.7878 - precision: 0.4635 - recall: 0.3874 - val_loss: 7.1264 - val_accuracy: 0.7707 - val_precision: 0.3833 - val_recall: 0.2403 - 4s/epoch - 2ms/step\n",
      "Epoch 17/4000\n",
      "1596/1596 - 4s - loss: 6.4781 - accuracy: 0.7927 - precision: 0.4780 - recall: 0.3969 - val_loss: 6.9641 - val_accuracy: 0.7710 - val_precision: 0.3817 - val_recall: 0.2343 - 4s/epoch - 3ms/step\n",
      "Epoch 18/4000\n",
      "1596/1596 - 4s - loss: 5.8316 - accuracy: 0.7956 - precision: 0.4868 - recall: 0.4025 - val_loss: 5.9366 - val_accuracy: 0.7746 - val_precision: 0.4023 - val_recall: 0.2613 - 4s/epoch - 3ms/step\n",
      "Epoch 19/4000\n",
      "1596/1596 - 4s - loss: 5.2672 - accuracy: 0.8000 - precision: 0.5001 - recall: 0.4133 - val_loss: 5.7111 - val_accuracy: 0.7708 - val_precision: 0.3869 - val_recall: 0.2495 - 4s/epoch - 2ms/step\n",
      "Epoch 20/4000\n",
      "1596/1596 - 4s - loss: 4.8652 - accuracy: 0.8040 - precision: 0.5122 - recall: 0.4235 - val_loss: 5.2252 - val_accuracy: 0.7673 - val_precision: 0.3688 - val_recall: 0.2300 - 4s/epoch - 2ms/step\n",
      "Epoch 21/4000\n",
      "1596/1596 - 4s - loss: 4.4217 - accuracy: 0.8067 - precision: 0.5202 - recall: 0.4318 - val_loss: 4.5804 - val_accuracy: 0.7690 - val_precision: 0.3777 - val_recall: 0.2392 - 4s/epoch - 3ms/step\n",
      "Epoch 22/4000\n",
      "1596/1596 - 4s - loss: 4.2379 - accuracy: 0.8105 - precision: 0.5318 - recall: 0.4398 - val_loss: 4.5359 - val_accuracy: 0.7726 - val_precision: 0.3952 - val_recall: 0.2586 - 4s/epoch - 2ms/step\n",
      "Epoch 23/4000\n",
      "1596/1596 - 3s - loss: 4.0211 - accuracy: 0.8118 - precision: 0.5355 - recall: 0.4440 - val_loss: 4.2716 - val_accuracy: 0.7690 - val_precision: 0.3755 - val_recall: 0.2338 - 3s/epoch - 2ms/step\n",
      "Epoch 24/4000\n",
      "1596/1596 - 5s - loss: 3.5958 - accuracy: 0.8161 - precision: 0.5484 - recall: 0.4551 - val_loss: 3.6557 - val_accuracy: 0.7670 - val_precision: 0.3651 - val_recall: 0.2235 - 5s/epoch - 3ms/step\n",
      "Epoch 25/4000\n",
      "1596/1596 - 4s - loss: 3.2392 - accuracy: 0.8190 - precision: 0.5573 - recall: 0.4613 - val_loss: 3.5556 - val_accuracy: 0.7693 - val_precision: 0.3769 - val_recall: 0.2349 - 4s/epoch - 2ms/step\n",
      "Epoch 26/4000\n",
      "1596/1596 - 3s - loss: 2.9716 - accuracy: 0.8215 - precision: 0.5648 - recall: 0.4680 - val_loss: 3.3123 - val_accuracy: 0.7674 - val_precision: 0.3645 - val_recall: 0.2192 - 3s/epoch - 2ms/step\n",
      "Epoch 27/4000\n",
      "1596/1596 - 4s - loss: 2.9386 - accuracy: 0.8235 - precision: 0.5711 - recall: 0.4713 - val_loss: 3.1262 - val_accuracy: 0.7722 - val_precision: 0.3876 - val_recall: 0.2392 - 4s/epoch - 3ms/step\n",
      "Epoch 28/4000\n",
      "1596/1596 - 5s - loss: 2.7344 - accuracy: 0.8250 - precision: 0.5763 - recall: 0.4730 - val_loss: 2.7307 - val_accuracy: 0.7790 - val_precision: 0.4154 - val_recall: 0.2570 - 5s/epoch - 3ms/step\n",
      "Epoch 29/4000\n",
      "1596/1596 - 5s - loss: 2.5083 - accuracy: 0.8276 - precision: 0.5836 - recall: 0.4821 - val_loss: 2.6763 - val_accuracy: 0.7758 - val_precision: 0.4007 - val_recall: 0.2441 - 5s/epoch - 3ms/step\n",
      "Epoch 30/4000\n",
      "1596/1596 - 4s - loss: 2.2866 - accuracy: 0.8299 - precision: 0.5914 - recall: 0.4838 - val_loss: 2.2603 - val_accuracy: 0.7820 - val_precision: 0.4251 - val_recall: 0.2559 - 4s/epoch - 2ms/step\n",
      "Epoch 31/4000\n",
      "1596/1596 - 5s - loss: 2.3146 - accuracy: 0.8315 - precision: 0.5966 - recall: 0.4865 - val_loss: 2.2029 - val_accuracy: 0.7796 - val_precision: 0.4134 - val_recall: 0.2435 - 5s/epoch - 3ms/step\n",
      "Epoch 32/4000\n",
      "1596/1596 - 7s - loss: 2.1134 - accuracy: 0.8337 - precision: 0.6039 - recall: 0.4895 - val_loss: 2.2188 - val_accuracy: 0.7753 - val_precision: 0.3915 - val_recall: 0.2230 - 7s/epoch - 4ms/step\n",
      "Epoch 33/4000\n",
      "1596/1596 - 4s - loss: 2.1055 - accuracy: 0.8348 - precision: 0.6072 - recall: 0.4927 - val_loss: 1.9726 - val_accuracy: 0.7677 - val_precision: 0.3530 - val_recall: 0.1938 - 4s/epoch - 3ms/step\n",
      "Epoch 34/4000\n",
      "1596/1596 - 4s - loss: 1.8900 - accuracy: 0.8371 - precision: 0.6147 - recall: 0.4964 - val_loss: 1.6609 - val_accuracy: 0.7875 - val_precision: 0.4442 - val_recall: 0.2495 - 4s/epoch - 3ms/step\n",
      "Epoch 35/4000\n",
      "1596/1596 - 4s - loss: 1.8781 - accuracy: 0.8382 - precision: 0.6188 - recall: 0.4969 - val_loss: 1.7423 - val_accuracy: 0.7875 - val_precision: 0.4449 - val_recall: 0.2527 - 4s/epoch - 2ms/step\n",
      "Epoch 36/4000\n",
      "1596/1596 - 4s - loss: 1.7766 - accuracy: 0.8401 - precision: 0.6257 - recall: 0.4987 - val_loss: 1.6164 - val_accuracy: 0.7854 - val_precision: 0.4331 - val_recall: 0.2360 - 4s/epoch - 2ms/step\n",
      "Epoch 37/4000\n",
      "1596/1596 - 4s - loss: 1.6998 - accuracy: 0.8418 - precision: 0.6316 - recall: 0.5013 - val_loss: 1.5299 - val_accuracy: 0.7851 - val_precision: 0.4292 - val_recall: 0.2257 - 4s/epoch - 2ms/step\n",
      "Epoch 38/4000\n",
      "1596/1596 - 3s - loss: 1.6371 - accuracy: 0.8437 - precision: 0.6379 - recall: 0.5052 - val_loss: 1.3621 - val_accuracy: 0.7963 - val_precision: 0.4832 - val_recall: 0.2635 - 3s/epoch - 2ms/step\n",
      "Epoch 39/4000\n",
      "1596/1596 - 4s - loss: 1.5195 - accuracy: 0.8465 - precision: 0.6479 - recall: 0.5087 - val_loss: 1.3471 - val_accuracy: 0.7931 - val_precision: 0.4667 - val_recall: 0.2419 - 4s/epoch - 2ms/step\n",
      "Epoch 40/4000\n",
      "1596/1596 - 3s - loss: 1.5490 - accuracy: 0.8473 - precision: 0.6520 - recall: 0.5076 - val_loss: 1.3844 - val_accuracy: 0.7895 - val_precision: 0.4486 - val_recall: 0.2284 - 3s/epoch - 2ms/step\n",
      "Epoch 41/4000\n",
      "1596/1596 - 3s - loss: 1.4941 - accuracy: 0.8484 - precision: 0.6556 - recall: 0.5100 - val_loss: 1.2282 - val_accuracy: 0.8058 - val_precision: 0.5278 - val_recall: 0.2765 - 3s/epoch - 2ms/step\n",
      "Epoch 42/4000\n",
      "1596/1596 - 4s - loss: 1.4534 - accuracy: 0.8494 - precision: 0.6599 - recall: 0.5100 - val_loss: 1.1511 - val_accuracy: 0.8062 - val_precision: 0.5298 - val_recall: 0.2738 - 4s/epoch - 3ms/step\n",
      "Epoch 43/4000\n",
      "1596/1596 - 4s - loss: 1.3598 - accuracy: 0.8526 - precision: 0.6710 - recall: 0.5162 - val_loss: 1.1182 - val_accuracy: 0.8097 - val_precision: 0.5481 - val_recall: 0.2770 - 4s/epoch - 2ms/step\n",
      "Epoch 44/4000\n",
      "1596/1596 - 4s - loss: 1.3354 - accuracy: 0.8536 - precision: 0.6756 - recall: 0.5157 - val_loss: 1.1720 - val_accuracy: 0.8078 - val_precision: 0.5376 - val_recall: 0.2781 - 4s/epoch - 2ms/step\n",
      "Epoch 45/4000\n",
      "1596/1596 - 3s - loss: 1.2532 - accuracy: 0.8544 - precision: 0.6792 - recall: 0.5153 - val_loss: 1.1080 - val_accuracy: 0.8078 - val_precision: 0.5387 - val_recall: 0.2705 - 3s/epoch - 2ms/step\n",
      "Epoch 46/4000\n",
      "1596/1596 - 4s - loss: 1.2446 - accuracy: 0.8563 - precision: 0.6851 - recall: 0.5211 - val_loss: 0.9874 - val_accuracy: 0.8189 - val_precision: 0.5928 - val_recall: 0.3018 - 4s/epoch - 2ms/step\n",
      "Epoch 47/4000\n",
      "1596/1596 - 3s - loss: 1.2063 - accuracy: 0.8583 - precision: 0.6930 - recall: 0.5231 - val_loss: 0.9452 - val_accuracy: 0.8340 - val_precision: 0.6725 - val_recall: 0.3315 - 3s/epoch - 2ms/step\n",
      "Epoch 48/4000\n",
      "1596/1596 - 3s - loss: 1.1447 - accuracy: 0.8596 - precision: 0.6979 - recall: 0.5255 - val_loss: 0.9540 - val_accuracy: 0.8247 - val_precision: 0.6265 - val_recall: 0.3062 - 3s/epoch - 2ms/step\n",
      "Epoch 49/4000\n",
      "1596/1596 - 4s - loss: 1.1122 - accuracy: 0.8609 - precision: 0.7028 - recall: 0.5279 - val_loss: 1.0116 - val_accuracy: 0.8135 - val_precision: 0.5679 - val_recall: 0.2824 - 4s/epoch - 2ms/step\n",
      "Epoch 50/4000\n",
      "1596/1596 - 3s - loss: 1.0836 - accuracy: 0.8628 - precision: 0.7096 - recall: 0.5312 - val_loss: 0.9660 - val_accuracy: 0.8206 - val_precision: 0.6067 - val_recall: 0.2932 - 3s/epoch - 2ms/step\n",
      "Epoch 51/4000\n",
      "1596/1596 - 4s - loss: 1.0480 - accuracy: 0.8642 - precision: 0.7161 - recall: 0.5320 - val_loss: 0.9040 - val_accuracy: 0.8327 - val_precision: 0.6712 - val_recall: 0.3207 - 4s/epoch - 2ms/step\n",
      "Epoch 52/4000\n",
      "1596/1596 - 4s - loss: 1.0420 - accuracy: 0.8666 - precision: 0.7244 - recall: 0.5373 - val_loss: 0.8912 - val_accuracy: 0.8336 - val_precision: 0.6745 - val_recall: 0.3245 - 4s/epoch - 3ms/step\n",
      "Epoch 53/4000\n",
      "1596/1596 - 3s - loss: 1.0179 - accuracy: 0.8675 - precision: 0.7280 - recall: 0.5390 - val_loss: 0.9210 - val_accuracy: 0.8289 - val_precision: 0.6496 - val_recall: 0.3143 - 3s/epoch - 2ms/step\n",
      "Epoch 54/4000\n",
      "1596/1596 - 4s - loss: 0.9871 - accuracy: 0.8688 - precision: 0.7335 - recall: 0.5405 - val_loss: 0.8119 - val_accuracy: 0.8640 - val_precision: 0.8085 - val_recall: 0.4195 - 4s/epoch - 2ms/step\n",
      "Epoch 55/4000\n",
      "1596/1596 - 5s - loss: 0.9525 - accuracy: 0.8701 - precision: 0.7366 - recall: 0.5457 - val_loss: 0.8376 - val_accuracy: 0.8549 - val_precision: 0.7743 - val_recall: 0.3871 - 5s/epoch - 3ms/step\n",
      "Epoch 56/4000\n",
      "1596/1596 - 4s - loss: 0.9547 - accuracy: 0.8709 - precision: 0.7400 - recall: 0.5466 - val_loss: 0.8745 - val_accuracy: 0.8392 - val_precision: 0.7074 - val_recall: 0.3342 - 4s/epoch - 3ms/step\n",
      "Epoch 57/4000\n",
      "1596/1596 - 5s - loss: 0.9031 - accuracy: 0.8724 - precision: 0.7459 - recall: 0.5488 - val_loss: 0.8279 - val_accuracy: 0.8506 - val_precision: 0.7519 - val_recall: 0.3780 - 5s/epoch - 3ms/step\n",
      "Epoch 58/4000\n",
      "1596/1596 - 4s - loss: 0.9364 - accuracy: 0.8742 - precision: 0.7521 - recall: 0.5535 - val_loss: 0.8452 - val_accuracy: 0.8464 - val_precision: 0.7384 - val_recall: 0.3596 - 4s/epoch - 2ms/step\n",
      "Epoch 59/4000\n",
      "1596/1596 - 4s - loss: 0.8857 - accuracy: 0.8753 - precision: 0.7562 - recall: 0.5559 - val_loss: 0.8306 - val_accuracy: 0.8581 - val_precision: 0.8071 - val_recall: 0.3817 - 4s/epoch - 2ms/step\n",
      "Epoch 60/4000\n",
      "1596/1596 - 4s - loss: 0.8789 - accuracy: 0.8768 - precision: 0.7611 - recall: 0.5594 - val_loss: 0.8357 - val_accuracy: 0.8527 - val_precision: 0.7748 - val_recall: 0.3715 - 4s/epoch - 2ms/step\n",
      "Epoch 61/4000\n",
      "1596/1596 - 3s - loss: 0.8519 - accuracy: 0.8772 - precision: 0.7631 - recall: 0.5595 - val_loss: 0.8567 - val_accuracy: 0.8387 - val_precision: 0.6912 - val_recall: 0.3494 - 3s/epoch - 2ms/step\n",
      "Epoch 62/4000\n",
      "1596/1596 - 3s - loss: 0.8459 - accuracy: 0.8778 - precision: 0.7648 - recall: 0.5618 - val_loss: 0.8371 - val_accuracy: 0.8433 - val_precision: 0.7158 - val_recall: 0.3591 - 3s/epoch - 2ms/step\n",
      "Epoch 63/4000\n",
      "1596/1596 - 4s - loss: 0.8650 - accuracy: 0.8796 - precision: 0.7716 - recall: 0.5655 - val_loss: 0.7657 - val_accuracy: 0.8635 - val_precision: 0.7940 - val_recall: 0.4287 - 4s/epoch - 2ms/step\n",
      "Epoch 64/4000\n",
      "1596/1596 - 3s - loss: 0.8150 - accuracy: 0.8797 - precision: 0.7712 - recall: 0.5669 - val_loss: 0.7925 - val_accuracy: 0.8560 - val_precision: 0.7684 - val_recall: 0.4012 - 3s/epoch - 2ms/step\n",
      "Epoch 65/4000\n",
      "1596/1596 - 4s - loss: 0.8010 - accuracy: 0.8811 - precision: 0.7758 - recall: 0.5705 - val_loss: 0.7487 - val_accuracy: 0.8779 - val_precision: 0.8728 - val_recall: 0.4557 - 4s/epoch - 2ms/step\n",
      "Epoch 66/4000\n",
      "1596/1596 - 4s - loss: 0.7946 - accuracy: 0.8817 - precision: 0.7791 - recall: 0.5704 - val_loss: 0.7813 - val_accuracy: 0.8629 - val_precision: 0.8006 - val_recall: 0.4185 - 4s/epoch - 3ms/step\n",
      "Epoch 67/4000\n",
      "1596/1596 - 3s - loss: 0.7644 - accuracy: 0.8839 - precision: 0.7846 - recall: 0.5781 - val_loss: 0.7809 - val_accuracy: 0.8591 - val_precision: 0.7771 - val_recall: 0.4141 - 3s/epoch - 2ms/step\n",
      "Epoch 68/4000\n",
      "1596/1596 - 4s - loss: 0.7853 - accuracy: 0.8840 - precision: 0.7860 - recall: 0.5775 - val_loss: 0.7607 - val_accuracy: 0.8614 - val_precision: 0.7825 - val_recall: 0.4255 - 4s/epoch - 2ms/step\n",
      "Epoch 69/4000\n",
      "1596/1596 - 4s - loss: 0.7650 - accuracy: 0.8852 - precision: 0.7894 - recall: 0.5813 - val_loss: 0.7540 - val_accuracy: 0.8678 - val_precision: 0.8178 - val_recall: 0.4363 - 4s/epoch - 2ms/step\n",
      "Epoch 70/4000\n",
      "1596/1596 - 3s - loss: 0.7483 - accuracy: 0.8861 - precision: 0.7932 - recall: 0.5820 - val_loss: 0.7474 - val_accuracy: 0.8705 - val_precision: 0.8249 - val_recall: 0.4476 - 3s/epoch - 2ms/step\n",
      "Epoch 71/4000\n",
      "1596/1596 - 4s - loss: 0.7198 - accuracy: 0.8886 - precision: 0.8025 - recall: 0.5877 - val_loss: 0.7353 - val_accuracy: 0.8724 - val_precision: 0.8377 - val_recall: 0.4487 - 4s/epoch - 3ms/step\n",
      "Epoch 72/4000\n",
      "1596/1596 - 4s - loss: 0.7065 - accuracy: 0.8893 - precision: 0.8018 - recall: 0.5930 - val_loss: 0.7311 - val_accuracy: 0.8748 - val_precision: 0.8489 - val_recall: 0.4552 - 4s/epoch - 3ms/step\n",
      "Epoch 73/4000\n",
      "1596/1596 - 3s - loss: 0.7050 - accuracy: 0.8895 - precision: 0.8036 - recall: 0.5925 - val_loss: 0.7569 - val_accuracy: 0.8649 - val_precision: 0.8088 - val_recall: 0.4249 - 3s/epoch - 2ms/step\n",
      "Epoch 74/4000\n",
      "1596/1596 - 3s - loss: 0.7030 - accuracy: 0.8903 - precision: 0.8055 - recall: 0.5954 - val_loss: 0.7385 - val_accuracy: 0.8672 - val_precision: 0.8116 - val_recall: 0.4374 - 3s/epoch - 2ms/step\n",
      "Epoch 75/4000\n",
      "1596/1596 - 3s - loss: 0.7135 - accuracy: 0.8915 - precision: 0.8094 - recall: 0.5986 - val_loss: 0.7016 - val_accuracy: 0.8817 - val_precision: 0.8722 - val_recall: 0.4789 - 3s/epoch - 2ms/step\n",
      "Epoch 76/4000\n",
      "1596/1596 - 3s - loss: 0.6876 - accuracy: 0.8928 - precision: 0.8123 - recall: 0.6037 - val_loss: 0.7054 - val_accuracy: 0.8800 - val_precision: 0.8559 - val_recall: 0.4811 - 3s/epoch - 2ms/step\n",
      "Epoch 77/4000\n",
      "1596/1596 - 4s - loss: 0.6880 - accuracy: 0.8931 - precision: 0.8127 - recall: 0.6050 - val_loss: 0.6742 - val_accuracy: 0.8871 - val_precision: 0.8733 - val_recall: 0.5097 - 4s/epoch - 2ms/step\n",
      "Epoch 78/4000\n",
      "1596/1596 - 4s - loss: 0.6635 - accuracy: 0.8946 - precision: 0.8187 - recall: 0.6074 - val_loss: 0.7077 - val_accuracy: 0.8795 - val_precision: 0.8622 - val_recall: 0.4730 - 4s/epoch - 3ms/step\n",
      "Epoch 79/4000\n",
      "1596/1596 - 4s - loss: 0.6467 - accuracy: 0.8966 - precision: 0.8240 - recall: 0.6139 - val_loss: 0.6874 - val_accuracy: 0.8850 - val_precision: 0.8780 - val_recall: 0.4935 - 4s/epoch - 2ms/step\n",
      "Epoch 80/4000\n",
      "1596/1596 - 3s - loss: 0.6630 - accuracy: 0.8963 - precision: 0.8233 - recall: 0.6134 - val_loss: 0.6874 - val_accuracy: 0.8832 - val_precision: 0.8598 - val_recall: 0.4968 - 3s/epoch - 2ms/step\n",
      "Epoch 81/4000\n",
      "1596/1596 - 3s - loss: 0.6376 - accuracy: 0.8979 - precision: 0.8267 - recall: 0.6196 - val_loss: 0.6857 - val_accuracy: 0.8854 - val_precision: 0.8686 - val_recall: 0.5032 - 3s/epoch - 2ms/step\n",
      "Epoch 82/4000\n",
      "1596/1596 - 3s - loss: 0.6315 - accuracy: 0.8988 - precision: 0.8283 - recall: 0.6231 - val_loss: 0.6927 - val_accuracy: 0.8826 - val_precision: 0.8632 - val_recall: 0.4908 - 3s/epoch - 2ms/step\n",
      "Epoch 83/4000\n",
      "1596/1596 - 4s - loss: 0.6598 - accuracy: 0.8983 - precision: 0.8282 - recall: 0.6200 - val_loss: 0.6852 - val_accuracy: 0.8837 - val_precision: 0.8632 - val_recall: 0.4973 - 4s/epoch - 3ms/step\n",
      "Epoch 84/4000\n",
      "1596/1596 - 3s - loss: 0.6192 - accuracy: 0.8997 - precision: 0.8308 - recall: 0.6257 - val_loss: 0.6701 - val_accuracy: 0.8867 - val_precision: 0.8653 - val_recall: 0.5135 - 3s/epoch - 2ms/step\n",
      "Epoch 85/4000\n",
      "1596/1596 - 3s - loss: 0.6150 - accuracy: 0.9006 - precision: 0.8334 - recall: 0.6284 - val_loss: 0.6806 - val_accuracy: 0.8833 - val_precision: 0.8527 - val_recall: 0.5032 - 3s/epoch - 2ms/step\n",
      "Epoch 86/4000\n",
      "1596/1596 - 3s - loss: 0.6146 - accuracy: 0.9004 - precision: 0.8330 - recall: 0.6280 - val_loss: 0.6577 - val_accuracy: 0.8882 - val_precision: 0.8651 - val_recall: 0.5227 - 3s/epoch - 2ms/step\n",
      "Epoch 87/4000\n",
      "1596/1596 - 3s - loss: 0.6173 - accuracy: 0.9020 - precision: 0.8362 - recall: 0.6344 - val_loss: 0.6263 - val_accuracy: 0.9022 - val_precision: 0.9186 - val_recall: 0.5605 - 3s/epoch - 2ms/step\n",
      "Epoch 88/4000\n",
      "1596/1596 - 3s - loss: 0.5996 - accuracy: 0.9029 - precision: 0.8390 - recall: 0.6367 - val_loss: 0.6575 - val_accuracy: 0.8893 - val_precision: 0.8709 - val_recall: 0.5243 - 3s/epoch - 2ms/step\n",
      "Epoch 89/4000\n",
      "1596/1596 - 3s - loss: 0.6011 - accuracy: 0.9034 - precision: 0.8400 - recall: 0.6387 - val_loss: 0.6204 - val_accuracy: 0.9052 - val_precision: 0.9279 - val_recall: 0.5702 - 3s/epoch - 2ms/step\n",
      "Epoch 90/4000\n",
      "1596/1596 - 4s - loss: 0.6260 - accuracy: 0.9040 - precision: 0.8414 - recall: 0.6410 - val_loss: 0.6538 - val_accuracy: 0.8916 - val_precision: 0.8834 - val_recall: 0.5275 - 4s/epoch - 2ms/step\n",
      "Epoch 91/4000\n",
      "1596/1596 - 3s - loss: 0.5853 - accuracy: 0.9047 - precision: 0.8436 - recall: 0.6425 - val_loss: 0.6245 - val_accuracy: 0.8996 - val_precision: 0.8960 - val_recall: 0.5632 - 3s/epoch - 2ms/step\n",
      "Epoch 92/4000\n",
      "1596/1596 - 3s - loss: 0.5931 - accuracy: 0.9065 - precision: 0.8485 - recall: 0.6484 - val_loss: 0.6204 - val_accuracy: 0.9005 - val_precision: 0.8975 - val_recall: 0.5675 - 3s/epoch - 2ms/step\n",
      "Epoch 93/4000\n",
      "1596/1596 - 4s - loss: 0.5860 - accuracy: 0.9056 - precision: 0.8448 - recall: 0.6468 - val_loss: 0.6284 - val_accuracy: 0.8972 - val_precision: 0.8866 - val_recall: 0.5572 - 4s/epoch - 3ms/step\n",
      "Epoch 94/4000\n",
      "1596/1596 - 3s - loss: 0.5634 - accuracy: 0.9070 - precision: 0.8483 - recall: 0.6516 - val_loss: 0.6386 - val_accuracy: 0.8947 - val_precision: 0.8745 - val_recall: 0.5529 - 3s/epoch - 2ms/step\n",
      "Epoch 95/4000\n",
      "1596/1596 - 3s - loss: 0.5588 - accuracy: 0.9083 - precision: 0.8512 - recall: 0.6561 - val_loss: 0.6023 - val_accuracy: 0.9059 - val_precision: 0.9111 - val_recall: 0.5869 - 3s/epoch - 2ms/step\n",
      "Epoch 96/4000\n",
      "1596/1596 - 3s - loss: 0.5754 - accuracy: 0.9090 - precision: 0.8538 - recall: 0.6579 - val_loss: 0.6109 - val_accuracy: 0.9028 - val_precision: 0.8987 - val_recall: 0.5794 - 3s/epoch - 2ms/step\n",
      "Epoch 97/4000\n",
      "1596/1596 - 3s - loss: 0.5516 - accuracy: 0.9096 - precision: 0.8546 - recall: 0.6606 - val_loss: 0.5925 - val_accuracy: 0.9070 - val_precision: 0.9105 - val_recall: 0.5934 - 3s/epoch - 2ms/step\n",
      "Epoch 98/4000\n",
      "1596/1596 - 3s - loss: 0.5481 - accuracy: 0.9103 - precision: 0.8540 - recall: 0.6652 - val_loss: 0.5966 - val_accuracy: 0.9054 - val_precision: 0.9046 - val_recall: 0.5891 - 3s/epoch - 2ms/step\n",
      "Epoch 99/4000\n",
      "1596/1596 - 3s - loss: 0.5670 - accuracy: 0.9105 - precision: 0.8546 - recall: 0.6656 - val_loss: 0.6014 - val_accuracy: 0.9051 - val_precision: 0.9105 - val_recall: 0.5826 - 3s/epoch - 2ms/step\n",
      "Epoch 100/4000\n",
      "1596/1596 - 4s - loss: 0.5410 - accuracy: 0.9110 - precision: 0.8562 - recall: 0.6669 - val_loss: 0.5988 - val_accuracy: 0.9037 - val_precision: 0.9007 - val_recall: 0.5826 - 4s/epoch - 2ms/step\n",
      "Epoch 101/4000\n",
      "1596/1596 - 7s - loss: 0.5315 - accuracy: 0.9132 - precision: 0.8606 - recall: 0.6757 - val_loss: 0.5853 - val_accuracy: 0.9087 - val_precision: 0.9110 - val_recall: 0.6026 - 7s/epoch - 4ms/step\n",
      "Epoch 102/4000\n",
      "1596/1596 - 7s - loss: 0.5291 - accuracy: 0.9134 - precision: 0.8602 - recall: 0.6767 - val_loss: 0.5653 - val_accuracy: 0.9139 - val_precision: 0.9092 - val_recall: 0.6328 - 7s/epoch - 4ms/step\n",
      "Epoch 103/4000\n",
      "1596/1596 - 6s - loss: 0.5215 - accuracy: 0.9140 - precision: 0.8610 - recall: 0.6797 - val_loss: 0.5775 - val_accuracy: 0.9113 - val_precision: 0.9095 - val_recall: 0.6183 - 6s/epoch - 4ms/step\n",
      "Epoch 104/4000\n",
      "1596/1596 - 7s - loss: 0.5258 - accuracy: 0.9139 - precision: 0.8597 - recall: 0.6804 - val_loss: 0.5739 - val_accuracy: 0.9103 - val_precision: 0.8991 - val_recall: 0.6210 - 7s/epoch - 4ms/step\n",
      "Epoch 105/4000\n",
      "1596/1596 - 10s - loss: 0.5358 - accuracy: 0.9147 - precision: 0.8612 - recall: 0.6838 - val_loss: 0.5577 - val_accuracy: 0.9171 - val_precision: 0.9288 - val_recall: 0.6339 - 10s/epoch - 6ms/step\n",
      "Epoch 106/4000\n",
      "1596/1596 - 11s - loss: 0.5193 - accuracy: 0.9148 - precision: 0.8624 - recall: 0.6832 - val_loss: 0.5639 - val_accuracy: 0.9117 - val_precision: 0.9045 - val_recall: 0.6242 - 11s/epoch - 7ms/step\n",
      "Epoch 107/4000\n",
      "1596/1596 - 8s - loss: 0.5067 - accuracy: 0.9161 - precision: 0.8660 - recall: 0.6866 - val_loss: 0.5748 - val_accuracy: 0.9100 - val_precision: 0.8977 - val_recall: 0.6210 - 8s/epoch - 5ms/step\n",
      "Epoch 108/4000\n",
      "1596/1596 - 7s - loss: 0.5216 - accuracy: 0.9161 - precision: 0.8644 - recall: 0.6886 - val_loss: 0.5658 - val_accuracy: 0.9124 - val_precision: 0.8995 - val_recall: 0.6328 - 7s/epoch - 5ms/step\n",
      "Epoch 109/4000\n",
      "1596/1596 - 7s - loss: 0.4995 - accuracy: 0.9168 - precision: 0.8653 - recall: 0.6918 - val_loss: 0.5763 - val_accuracy: 0.9093 - val_precision: 0.8851 - val_recall: 0.6280 - 7s/epoch - 4ms/step\n",
      "Epoch 110/4000\n",
      "1596/1596 - 7s - loss: 0.4914 - accuracy: 0.9174 - precision: 0.8651 - recall: 0.6957 - val_loss: 0.5898 - val_accuracy: 0.9055 - val_precision: 0.8743 - val_recall: 0.6161 - 7s/epoch - 5ms/step\n",
      "Epoch 111/4000\n",
      "1596/1596 - 7s - loss: 0.4911 - accuracy: 0.9182 - precision: 0.8678 - recall: 0.6973 - val_loss: 0.5490 - val_accuracy: 0.9156 - val_precision: 0.9023 - val_recall: 0.6479 - 7s/epoch - 5ms/step\n",
      "Epoch 112/4000\n",
      "1596/1596 - 7s - loss: 0.4870 - accuracy: 0.9192 - precision: 0.8683 - recall: 0.7028 - val_loss: 0.5691 - val_accuracy: 0.9084 - val_precision: 0.8780 - val_recall: 0.6296 - 7s/epoch - 5ms/step\n",
      "Epoch 113/4000\n",
      "1596/1596 - 7s - loss: 0.4820 - accuracy: 0.9194 - precision: 0.8674 - recall: 0.7045 - val_loss: 0.5538 - val_accuracy: 0.9146 - val_precision: 0.8909 - val_recall: 0.6528 - 7s/epoch - 5ms/step\n",
      "Epoch 114/4000\n",
      "1596/1596 - 7s - loss: 0.4746 - accuracy: 0.9201 - precision: 0.8692 - recall: 0.7070 - val_loss: 0.5505 - val_accuracy: 0.9145 - val_precision: 0.8863 - val_recall: 0.6566 - 7s/epoch - 5ms/step\n",
      "Epoch 115/4000\n",
      "1596/1596 - 7s - loss: 0.4729 - accuracy: 0.9209 - precision: 0.8699 - recall: 0.7108 - val_loss: 0.5470 - val_accuracy: 0.9152 - val_precision: 0.8869 - val_recall: 0.6604 - 7s/epoch - 4ms/step\n",
      "Epoch 116/4000\n",
      "1596/1596 - 7s - loss: 0.4646 - accuracy: 0.9218 - precision: 0.8714 - recall: 0.7143 - val_loss: 0.5437 - val_accuracy: 0.9137 - val_precision: 0.8812 - val_recall: 0.6571 - 7s/epoch - 4ms/step\n",
      "Epoch 117/4000\n",
      "1596/1596 - 7s - loss: 0.4683 - accuracy: 0.9232 - precision: 0.8746 - recall: 0.7193 - val_loss: 0.5336 - val_accuracy: 0.9173 - val_precision: 0.8929 - val_recall: 0.6663 - 7s/epoch - 5ms/step\n",
      "Epoch 118/4000\n",
      "1596/1596 - 7s - loss: 0.4595 - accuracy: 0.9229 - precision: 0.8729 - recall: 0.7190 - val_loss: 0.5387 - val_accuracy: 0.9165 - val_precision: 0.8879 - val_recall: 0.6668 - 7s/epoch - 4ms/step\n",
      "Epoch 119/4000\n",
      "1596/1596 - 7s - loss: 0.4499 - accuracy: 0.9242 - precision: 0.8757 - recall: 0.7236 - val_loss: 0.5261 - val_accuracy: 0.9199 - val_precision: 0.8914 - val_recall: 0.6825 - 7s/epoch - 4ms/step\n",
      "Epoch 120/4000\n",
      "1596/1596 - 7s - loss: 0.4574 - accuracy: 0.9240 - precision: 0.8752 - recall: 0.7232 - val_loss: 0.5309 - val_accuracy: 0.9176 - val_precision: 0.8843 - val_recall: 0.6766 - 7s/epoch - 4ms/step\n",
      "Epoch 121/4000\n",
      "1596/1596 - 7s - loss: 0.4452 - accuracy: 0.9253 - precision: 0.8764 - recall: 0.7293 - val_loss: 0.5550 - val_accuracy: 0.9105 - val_precision: 0.8630 - val_recall: 0.6566 - 7s/epoch - 5ms/step\n",
      "Epoch 122/4000\n",
      "1596/1596 - 7s - loss: 0.4375 - accuracy: 0.9258 - precision: 0.8768 - recall: 0.7317 - val_loss: 0.5143 - val_accuracy: 0.9219 - val_precision: 0.8907 - val_recall: 0.6949 - 7s/epoch - 4ms/step\n",
      "Epoch 123/4000\n",
      "1596/1596 - 7s - loss: 0.4317 - accuracy: 0.9273 - precision: 0.8811 - recall: 0.7360 - val_loss: 0.5207 - val_accuracy: 0.9200 - val_precision: 0.8860 - val_recall: 0.6884 - 7s/epoch - 5ms/step\n",
      "Epoch 124/4000\n",
      "1596/1596 - 7s - loss: 0.4440 - accuracy: 0.9274 - precision: 0.8807 - recall: 0.7368 - val_loss: 0.5198 - val_accuracy: 0.9220 - val_precision: 0.8929 - val_recall: 0.6933 - 7s/epoch - 4ms/step\n",
      "Epoch 125/4000\n",
      "1596/1596 - 7s - loss: 0.4294 - accuracy: 0.9274 - precision: 0.8787 - recall: 0.7389 - val_loss: 0.5119 - val_accuracy: 0.9227 - val_precision: 0.8874 - val_recall: 0.7025 - 7s/epoch - 4ms/step\n",
      "Epoch 126/4000\n",
      "1596/1596 - 7s - loss: 0.4241 - accuracy: 0.9290 - precision: 0.8812 - recall: 0.7454 - val_loss: 0.5120 - val_accuracy: 0.9205 - val_precision: 0.8801 - val_recall: 0.6976 - 7s/epoch - 5ms/step\n",
      "Epoch 127/4000\n",
      "1596/1596 - 7s - loss: 0.4306 - accuracy: 0.9287 - precision: 0.8814 - recall: 0.7437 - val_loss: 0.5122 - val_accuracy: 0.9211 - val_precision: 0.8858 - val_recall: 0.6949 - 7s/epoch - 4ms/step\n",
      "Epoch 128/4000\n",
      "1596/1596 - 7s - loss: 0.4156 - accuracy: 0.9301 - precision: 0.8811 - recall: 0.7518 - val_loss: 0.5046 - val_accuracy: 0.9247 - val_precision: 0.8947 - val_recall: 0.7068 - 7s/epoch - 4ms/step\n",
      "Epoch 129/4000\n",
      "1596/1596 - 7s - loss: 0.4164 - accuracy: 0.9309 - precision: 0.8838 - recall: 0.7537 - val_loss: 0.5007 - val_accuracy: 0.9247 - val_precision: 0.8910 - val_recall: 0.7106 - 7s/epoch - 5ms/step\n",
      "Epoch 130/4000\n",
      "1596/1596 - 7s - loss: 0.4094 - accuracy: 0.9318 - precision: 0.8855 - recall: 0.7568 - val_loss: 0.5218 - val_accuracy: 0.9185 - val_precision: 0.8694 - val_recall: 0.6971 - 7s/epoch - 4ms/step\n",
      "Epoch 131/4000\n",
      "1596/1596 - 7s - loss: 0.4058 - accuracy: 0.9321 - precision: 0.8846 - recall: 0.7594 - val_loss: 0.4840 - val_accuracy: 0.9311 - val_precision: 0.9063 - val_recall: 0.7311 - 7s/epoch - 4ms/step\n",
      "Epoch 132/4000\n",
      "1596/1596 - 8s - loss: 0.4011 - accuracy: 0.9323 - precision: 0.8845 - recall: 0.7608 - val_loss: 0.4959 - val_accuracy: 0.9280 - val_precision: 0.8969 - val_recall: 0.7230 - 8s/epoch - 5ms/step\n",
      "Epoch 133/4000\n",
      "1596/1596 - 9s - loss: 0.3999 - accuracy: 0.9332 - precision: 0.8847 - recall: 0.7656 - val_loss: 0.4825 - val_accuracy: 0.9330 - val_precision: 0.9101 - val_recall: 0.7381 - 9s/epoch - 5ms/step\n",
      "Epoch 134/4000\n",
      "1596/1596 - 9s - loss: 0.3899 - accuracy: 0.9346 - precision: 0.8876 - recall: 0.7708 - val_loss: 0.5076 - val_accuracy: 0.9212 - val_precision: 0.8624 - val_recall: 0.7208 - 9s/epoch - 6ms/step\n",
      "Epoch 135/4000\n",
      "1596/1596 - 9s - loss: 0.3938 - accuracy: 0.9335 - precision: 0.8841 - recall: 0.7684 - val_loss: 0.5075 - val_accuracy: 0.9243 - val_precision: 0.8764 - val_recall: 0.7235 - 9s/epoch - 5ms/step\n",
      "Epoch 136/4000\n",
      "1596/1596 - 8s - loss: 0.3867 - accuracy: 0.9351 - precision: 0.8872 - recall: 0.7736 - val_loss: 0.4913 - val_accuracy: 0.9309 - val_precision: 0.8961 - val_recall: 0.7403 - 8s/epoch - 5ms/step\n",
      "Epoch 137/4000\n",
      "1596/1596 - 8s - loss: 0.3929 - accuracy: 0.9352 - precision: 0.8876 - recall: 0.7742 - val_loss: 0.4874 - val_accuracy: 0.9321 - val_precision: 0.8989 - val_recall: 0.7441 - 8s/epoch - 5ms/step\n",
      "Epoch 138/4000\n",
      "1596/1596 - 8s - loss: 0.3813 - accuracy: 0.9379 - precision: 0.8925 - recall: 0.7842 - val_loss: 0.4680 - val_accuracy: 0.9366 - val_precision: 0.9052 - val_recall: 0.7630 - 8s/epoch - 5ms/step\n",
      "Epoch 139/4000\n",
      "1596/1596 - 9s - loss: 0.3764 - accuracy: 0.9377 - precision: 0.8918 - recall: 0.7837 - val_loss: 0.4833 - val_accuracy: 0.9322 - val_precision: 0.8923 - val_recall: 0.7516 - 9s/epoch - 5ms/step\n",
      "Epoch 140/4000\n",
      "1596/1596 - 9s - loss: 0.3795 - accuracy: 0.9377 - precision: 0.8907 - recall: 0.7850 - val_loss: 0.4839 - val_accuracy: 0.9313 - val_precision: 0.8843 - val_recall: 0.7554 - 9s/epoch - 6ms/step\n",
      "Epoch 141/4000\n",
      "1596/1596 - 9s - loss: 0.3711 - accuracy: 0.9387 - precision: 0.8920 - recall: 0.7892 - val_loss: 0.4785 - val_accuracy: 0.9322 - val_precision: 0.8839 - val_recall: 0.7608 - 9s/epoch - 6ms/step\n",
      "Epoch 142/4000\n",
      "1596/1596 - 9s - loss: 0.3682 - accuracy: 0.9396 - precision: 0.8936 - recall: 0.7926 - val_loss: 0.4670 - val_accuracy: 0.9380 - val_precision: 0.9049 - val_recall: 0.7711 - 9s/epoch - 5ms/step\n",
      "Epoch 143/4000\n",
      "1596/1596 - 8s - loss: 0.3635 - accuracy: 0.9410 - precision: 0.8962 - recall: 0.7976 - val_loss: 0.4688 - val_accuracy: 0.9362 - val_precision: 0.8928 - val_recall: 0.7738 - 8s/epoch - 5ms/step\n",
      "Epoch 144/4000\n",
      "1596/1596 - 8s - loss: 0.3626 - accuracy: 0.9415 - precision: 0.8950 - recall: 0.8014 - val_loss: 0.4652 - val_accuracy: 0.9370 - val_precision: 0.8953 - val_recall: 0.7759 - 8s/epoch - 5ms/step\n",
      "Epoch 145/4000\n",
      "1596/1596 - 9s - loss: 0.3588 - accuracy: 0.9425 - precision: 0.8968 - recall: 0.8049 - val_loss: 0.4576 - val_accuracy: 0.9392 - val_precision: 0.9001 - val_recall: 0.7829 - 9s/epoch - 6ms/step\n",
      "Epoch 146/4000\n",
      "1596/1596 - 11s - loss: 0.3583 - accuracy: 0.9423 - precision: 0.8962 - recall: 0.8046 - val_loss: 0.4618 - val_accuracy: 0.9368 - val_precision: 0.8860 - val_recall: 0.7851 - 11s/epoch - 7ms/step\n",
      "Epoch 147/4000\n",
      "1596/1596 - 7s - loss: 0.3645 - accuracy: 0.9433 - precision: 0.8984 - recall: 0.8079 - val_loss: 0.4622 - val_accuracy: 0.9364 - val_precision: 0.8816 - val_recall: 0.7878 - 7s/epoch - 4ms/step\n",
      "Epoch 148/4000\n",
      "1596/1596 - 6s - loss: 0.3544 - accuracy: 0.9440 - precision: 0.8981 - recall: 0.8123 - val_loss: 0.4607 - val_accuracy: 0.9365 - val_precision: 0.8821 - val_recall: 0.7878 - 6s/epoch - 3ms/step\n",
      "Epoch 149/4000\n",
      "1596/1596 - 5s - loss: 0.3495 - accuracy: 0.9444 - precision: 0.8988 - recall: 0.8133 - val_loss: 0.4506 - val_accuracy: 0.9401 - val_precision: 0.8904 - val_recall: 0.7986 - 5s/epoch - 3ms/step\n",
      "Epoch 150/4000\n",
      "1596/1596 - 9s - loss: 0.3512 - accuracy: 0.9448 - precision: 0.8988 - recall: 0.8161 - val_loss: 0.4669 - val_accuracy: 0.9378 - val_precision: 0.8807 - val_recall: 0.7970 - 9s/epoch - 5ms/step\n",
      "Epoch 151/4000\n",
      "1596/1596 - 6s - loss: 0.3439 - accuracy: 0.9453 - precision: 0.9004 - recall: 0.8169 - val_loss: 0.4487 - val_accuracy: 0.9407 - val_precision: 0.8866 - val_recall: 0.8067 - 6s/epoch - 4ms/step\n",
      "Epoch 152/4000\n",
      "1596/1596 - 6s - loss: 0.3459 - accuracy: 0.9462 - precision: 0.9006 - recall: 0.8219 - val_loss: 0.4494 - val_accuracy: 0.9411 - val_precision: 0.8860 - val_recall: 0.8099 - 6s/epoch - 4ms/step\n",
      "Epoch 153/4000\n",
      "1596/1596 - 6s - loss: 0.3395 - accuracy: 0.9468 - precision: 0.9017 - recall: 0.8241 - val_loss: 0.4528 - val_accuracy: 0.9401 - val_precision: 0.8821 - val_recall: 0.8083 - 6s/epoch - 4ms/step\n",
      "Epoch 154/4000\n",
      "1596/1596 - 5s - loss: 0.3436 - accuracy: 0.9471 - precision: 0.9024 - recall: 0.8249 - val_loss: 0.4520 - val_accuracy: 0.9401 - val_precision: 0.8812 - val_recall: 0.8094 - 5s/epoch - 3ms/step\n",
      "Epoch 155/4000\n",
      "1596/1596 - 7s - loss: 0.3336 - accuracy: 0.9485 - precision: 0.9024 - recall: 0.8325 - val_loss: 0.4231 - val_accuracy: 0.9460 - val_precision: 0.8967 - val_recall: 0.8251 - 7s/epoch - 4ms/step\n",
      "Epoch 156/4000\n",
      "1596/1596 - 6s - loss: 0.3395 - accuracy: 0.9491 - precision: 0.9048 - recall: 0.8330 - val_loss: 0.4291 - val_accuracy: 0.9455 - val_precision: 0.8932 - val_recall: 0.8261 - 6s/epoch - 4ms/step\n",
      "Epoch 157/4000\n",
      "1596/1596 - 6s - loss: 0.3292 - accuracy: 0.9491 - precision: 0.9037 - recall: 0.8342 - val_loss: 0.4466 - val_accuracy: 0.9430 - val_precision: 0.8871 - val_recall: 0.8191 - 6s/epoch - 4ms/step\n",
      "Epoch 158/4000\n",
      "1596/1596 - 6s - loss: 0.3334 - accuracy: 0.9496 - precision: 0.9039 - recall: 0.8370 - val_loss: 0.4193 - val_accuracy: 0.9473 - val_precision: 0.8961 - val_recall: 0.8332 - 6s/epoch - 4ms/step\n",
      "Epoch 159/4000\n",
      "1596/1596 - 5s - loss: 0.3303 - accuracy: 0.9494 - precision: 0.9029 - recall: 0.8371 - val_loss: 0.4270 - val_accuracy: 0.9461 - val_precision: 0.8949 - val_recall: 0.8278 - 5s/epoch - 3ms/step\n",
      "Epoch 160/4000\n",
      "1596/1596 - 9s - loss: 0.3236 - accuracy: 0.9508 - precision: 0.9049 - recall: 0.8427 - val_loss: 0.4258 - val_accuracy: 0.9457 - val_precision: 0.8910 - val_recall: 0.8299 - 9s/epoch - 6ms/step\n",
      "Epoch 161/4000\n",
      "1596/1596 - 19s - loss: 0.3406 - accuracy: 0.9509 - precision: 0.9060 - recall: 0.8421 - val_loss: 0.4185 - val_accuracy: 0.9471 - val_precision: 0.8932 - val_recall: 0.8353 - 19s/epoch - 12ms/step\n",
      "Epoch 162/4000\n",
      "1596/1596 - 10s - loss: 0.3191 - accuracy: 0.9512 - precision: 0.9054 - recall: 0.8444 - val_loss: 0.4316 - val_accuracy: 0.9442 - val_precision: 0.8838 - val_recall: 0.8299 - 10s/epoch - 6ms/step\n",
      "Epoch 163/4000\n",
      "1596/1596 - 9s - loss: 0.3241 - accuracy: 0.9516 - precision: 0.9050 - recall: 0.8471 - val_loss: 0.4091 - val_accuracy: 0.9483 - val_precision: 0.8943 - val_recall: 0.8407 - 9s/epoch - 6ms/step\n",
      "Epoch 164/4000\n",
      "1596/1596 - 8s - loss: 0.3214 - accuracy: 0.9528 - precision: 0.9069 - recall: 0.8514 - val_loss: 0.4332 - val_accuracy: 0.9462 - val_precision: 0.8891 - val_recall: 0.8353 - 8s/epoch - 5ms/step\n",
      "Epoch 165/4000\n",
      "1596/1596 - 8s - loss: 0.3116 - accuracy: 0.9540 - precision: 0.9106 - recall: 0.8536 - val_loss: 0.4127 - val_accuracy: 0.9481 - val_precision: 0.8937 - val_recall: 0.8402 - 8s/epoch - 5ms/step\n",
      "Epoch 166/4000\n",
      "1596/1596 - 8s - loss: 0.3146 - accuracy: 0.9532 - precision: 0.9082 - recall: 0.8519 - val_loss: 0.3999 - val_accuracy: 0.9503 - val_precision: 0.9014 - val_recall: 0.8440 - 8s/epoch - 5ms/step\n",
      "Epoch 167/4000\n",
      "1596/1596 - 8s - loss: 0.3098 - accuracy: 0.9545 - precision: 0.9103 - recall: 0.8569 - val_loss: 0.4171 - val_accuracy: 0.9476 - val_precision: 0.8912 - val_recall: 0.8407 - 8s/epoch - 5ms/step\n",
      "Epoch 168/4000\n",
      "1596/1596 - 8s - loss: 0.3070 - accuracy: 0.9551 - precision: 0.9112 - recall: 0.8595 - val_loss: 0.4056 - val_accuracy: 0.9495 - val_precision: 0.8963 - val_recall: 0.8450 - 8s/epoch - 5ms/step\n",
      "Epoch 169/4000\n",
      "1596/1596 - 7s - loss: 0.3128 - accuracy: 0.9549 - precision: 0.9091 - recall: 0.8604 - val_loss: 0.4049 - val_accuracy: 0.9497 - val_precision: 0.8978 - val_recall: 0.8445 - 7s/epoch - 5ms/step\n",
      "Epoch 170/4000\n",
      "1596/1596 - 7s - loss: 0.3094 - accuracy: 0.9550 - precision: 0.9094 - recall: 0.8606 - val_loss: 0.3862 - val_accuracy: 0.9523 - val_precision: 0.9024 - val_recall: 0.8537 - 7s/epoch - 5ms/step\n",
      "Epoch 171/4000\n",
      "1596/1596 - 7s - loss: 0.3028 - accuracy: 0.9563 - precision: 0.9127 - recall: 0.8644 - val_loss: 0.4071 - val_accuracy: 0.9497 - val_precision: 0.8969 - val_recall: 0.8456 - 7s/epoch - 5ms/step\n",
      "Epoch 172/4000\n",
      "1596/1596 - 9s - loss: 0.3013 - accuracy: 0.9563 - precision: 0.9122 - recall: 0.8646 - val_loss: 0.4130 - val_accuracy: 0.9473 - val_precision: 0.8862 - val_recall: 0.8450 - 9s/epoch - 6ms/step\n",
      "Epoch 173/4000\n",
      "1596/1596 - 11s - loss: 0.3076 - accuracy: 0.9564 - precision: 0.9116 - recall: 0.8658 - val_loss: 0.4023 - val_accuracy: 0.9487 - val_precision: 0.8910 - val_recall: 0.8472 - 11s/epoch - 7ms/step\n",
      "Epoch 174/4000\n",
      "1596/1596 - 11s - loss: 0.2976 - accuracy: 0.9572 - precision: 0.9131 - recall: 0.8687 - val_loss: 0.3883 - val_accuracy: 0.9519 - val_precision: 0.9004 - val_recall: 0.8542 - 11s/epoch - 7ms/step\n",
      "Epoch 175/4000\n",
      "1596/1596 - 10s - loss: 0.2946 - accuracy: 0.9575 - precision: 0.9138 - recall: 0.8697 - val_loss: 0.4037 - val_accuracy: 0.9494 - val_precision: 0.8927 - val_recall: 0.8488 - 10s/epoch - 6ms/step\n",
      "Epoch 176/4000\n",
      "1596/1596 - 4s - loss: 0.2918 - accuracy: 0.9580 - precision: 0.9139 - recall: 0.8721 - val_loss: 0.3860 - val_accuracy: 0.9512 - val_precision: 0.8982 - val_recall: 0.8526 - 4s/epoch - 2ms/step\n",
      "Epoch 177/4000\n",
      "1596/1596 - 4s - loss: 0.2917 - accuracy: 0.9581 - precision: 0.9146 - recall: 0.8721 - val_loss: 0.3827 - val_accuracy: 0.9524 - val_precision: 0.9006 - val_recall: 0.8564 - 4s/epoch - 2ms/step\n",
      "Epoch 178/4000\n",
      "1596/1596 - 4s - loss: 0.2921 - accuracy: 0.9589 - precision: 0.9157 - recall: 0.8750 - val_loss: 0.3921 - val_accuracy: 0.9501 - val_precision: 0.8927 - val_recall: 0.8531 - 4s/epoch - 2ms/step\n",
      "Epoch 179/4000\n",
      "1596/1596 - 3s - loss: 0.2888 - accuracy: 0.9585 - precision: 0.9144 - recall: 0.8743 - val_loss: 0.3830 - val_accuracy: 0.9518 - val_precision: 0.8976 - val_recall: 0.8569 - 3s/epoch - 2ms/step\n",
      "Epoch 180/4000\n",
      "1596/1596 - 3s - loss: 0.2844 - accuracy: 0.9598 - precision: 0.9175 - recall: 0.8780 - val_loss: 0.3896 - val_accuracy: 0.9513 - val_precision: 0.8946 - val_recall: 0.8575 - 3s/epoch - 2ms/step\n",
      "Epoch 181/4000\n",
      "1596/1596 - 3s - loss: 0.2874 - accuracy: 0.9594 - precision: 0.9157 - recall: 0.8775 - val_loss: 0.3827 - val_accuracy: 0.9516 - val_precision: 0.8962 - val_recall: 0.8575 - 3s/epoch - 2ms/step\n",
      "Epoch 182/4000\n",
      "1596/1596 - 4s - loss: 0.2852 - accuracy: 0.9597 - precision: 0.9165 - recall: 0.8785 - val_loss: 0.3726 - val_accuracy: 0.9532 - val_precision: 0.9015 - val_recall: 0.8602 - 4s/epoch - 2ms/step\n",
      "Epoch 183/4000\n",
      "1596/1596 - 3s - loss: 0.2827 - accuracy: 0.9605 - precision: 0.9180 - recall: 0.8811 - val_loss: 0.3851 - val_accuracy: 0.9517 - val_precision: 0.8962 - val_recall: 0.8580 - 3s/epoch - 2ms/step\n",
      "Epoch 184/4000\n",
      "1596/1596 - 3s - loss: 0.2829 - accuracy: 0.9608 - precision: 0.9179 - recall: 0.8833 - val_loss: 0.3778 - val_accuracy: 0.9531 - val_precision: 0.8988 - val_recall: 0.8629 - 3s/epoch - 2ms/step\n",
      "Epoch 185/4000\n",
      "1596/1596 - 3s - loss: 0.2827 - accuracy: 0.9604 - precision: 0.9166 - recall: 0.8823 - val_loss: 0.3831 - val_accuracy: 0.9517 - val_precision: 0.8922 - val_recall: 0.8629 - 3s/epoch - 2ms/step\n",
      "Epoch 186/4000\n",
      "1596/1596 - 3s - loss: 0.2773 - accuracy: 0.9620 - precision: 0.9197 - recall: 0.8874 - val_loss: 0.3840 - val_accuracy: 0.9523 - val_precision: 0.8917 - val_recall: 0.8666 - 3s/epoch - 2ms/step\n",
      "Epoch 187/4000\n",
      "1596/1596 - 3s - loss: 0.2756 - accuracy: 0.9615 - precision: 0.9184 - recall: 0.8863 - val_loss: 0.3724 - val_accuracy: 0.9528 - val_precision: 0.8942 - val_recall: 0.8666 - 3s/epoch - 2ms/step\n",
      "Epoch 188/4000\n",
      "1596/1596 - 4s - loss: 0.2817 - accuracy: 0.9617 - precision: 0.9182 - recall: 0.8878 - val_loss: 0.3890 - val_accuracy: 0.9508 - val_precision: 0.8878 - val_recall: 0.8629 - 4s/epoch - 3ms/step\n",
      "Epoch 189/4000\n",
      "1596/1596 - 4s - loss: 0.2734 - accuracy: 0.9627 - precision: 0.9205 - recall: 0.8902 - val_loss: 0.3717 - val_accuracy: 0.9528 - val_precision: 0.8937 - val_recall: 0.8672 - 4s/epoch - 2ms/step\n",
      "Epoch 190/4000\n",
      "1596/1596 - 4s - loss: 0.2876 - accuracy: 0.9623 - precision: 0.9202 - recall: 0.8884 - val_loss: 0.3755 - val_accuracy: 0.9551 - val_precision: 0.9029 - val_recall: 0.8688 - 4s/epoch - 2ms/step\n",
      "Epoch 191/4000\n",
      "1596/1596 - 3s - loss: 0.2731 - accuracy: 0.9625 - precision: 0.9197 - recall: 0.8902 - val_loss: 0.3743 - val_accuracy: 0.9525 - val_precision: 0.8922 - val_recall: 0.8672 - 3s/epoch - 2ms/step\n",
      "Epoch 192/4000\n",
      "1596/1596 - 3s - loss: 0.2714 - accuracy: 0.9620 - precision: 0.9178 - recall: 0.8896 - val_loss: 0.3633 - val_accuracy: 0.9546 - val_precision: 0.8969 - val_recall: 0.8737 - 3s/epoch - 2ms/step\n",
      "Epoch 193/4000\n",
      "1596/1596 - 3s - loss: 0.2662 - accuracy: 0.9632 - precision: 0.9206 - recall: 0.8932 - val_loss: 0.3569 - val_accuracy: 0.9553 - val_precision: 0.8981 - val_recall: 0.8758 - 3s/epoch - 2ms/step\n",
      "Epoch 194/4000\n",
      "1596/1596 - 4s - loss: 0.2648 - accuracy: 0.9638 - precision: 0.9217 - recall: 0.8953 - val_loss: 0.3545 - val_accuracy: 0.9558 - val_precision: 0.9006 - val_recall: 0.8758 - 4s/epoch - 2ms/step\n",
      "Epoch 195/4000\n",
      "1596/1596 - 4s - loss: 0.2727 - accuracy: 0.9641 - precision: 0.9223 - recall: 0.8958 - val_loss: 0.3588 - val_accuracy: 0.9549 - val_precision: 0.8975 - val_recall: 0.8742 - 4s/epoch - 2ms/step\n",
      "Epoch 196/4000\n",
      "1596/1596 - 4s - loss: 0.2664 - accuracy: 0.9647 - precision: 0.9238 - recall: 0.8975 - val_loss: 0.3723 - val_accuracy: 0.9538 - val_precision: 0.8947 - val_recall: 0.8715 - 4s/epoch - 2ms/step\n",
      "Epoch 197/4000\n",
      "1596/1596 - 3s - loss: 0.2611 - accuracy: 0.9645 - precision: 0.9229 - recall: 0.8975 - val_loss: 0.3599 - val_accuracy: 0.9555 - val_precision: 0.8969 - val_recall: 0.8785 - 3s/epoch - 2ms/step\n",
      "Epoch 198/4000\n",
      "1596/1596 - 3s - loss: 0.2651 - accuracy: 0.9645 - precision: 0.9235 - recall: 0.8970 - val_loss: 0.3541 - val_accuracy: 0.9562 - val_precision: 0.8986 - val_recall: 0.8801 - 3s/epoch - 2ms/step\n",
      "Epoch 199/4000\n",
      "1596/1596 - 4s - loss: 0.2613 - accuracy: 0.9648 - precision: 0.9228 - recall: 0.8992 - val_loss: 0.3642 - val_accuracy: 0.9542 - val_precision: 0.8936 - val_recall: 0.8753 - 4s/epoch - 2ms/step\n",
      "Epoch 200/4000\n",
      "1596/1596 - 3s - loss: 0.2618 - accuracy: 0.9648 - precision: 0.9232 - recall: 0.8990 - val_loss: 0.3594 - val_accuracy: 0.9549 - val_precision: 0.8944 - val_recall: 0.8780 - 3s/epoch - 2ms/step\n",
      "Epoch 201/4000\n",
      "1596/1596 - 3s - loss: 0.2597 - accuracy: 0.9652 - precision: 0.9236 - recall: 0.9006 - val_loss: 0.3453 - val_accuracy: 0.9576 - val_precision: 0.9033 - val_recall: 0.8823 - 3s/epoch - 2ms/step\n",
      "Epoch 202/4000\n",
      "1596/1596 - 4s - loss: 0.2607 - accuracy: 0.9659 - precision: 0.9250 - recall: 0.9029 - val_loss: 0.3640 - val_accuracy: 0.9535 - val_precision: 0.8902 - val_recall: 0.8753 - 4s/epoch - 2ms/step\n",
      "Epoch 203/4000\n",
      "1596/1596 - 3s - loss: 0.2543 - accuracy: 0.9663 - precision: 0.9257 - recall: 0.9039 - val_loss: 0.3594 - val_accuracy: 0.9559 - val_precision: 0.8976 - val_recall: 0.8801 - 3s/epoch - 2ms/step\n",
      "Epoch 204/4000\n",
      "1596/1596 - 3s - loss: 0.2519 - accuracy: 0.9666 - precision: 0.9262 - recall: 0.9051 - val_loss: 0.3566 - val_accuracy: 0.9558 - val_precision: 0.8962 - val_recall: 0.8812 - 3s/epoch - 2ms/step\n",
      "Epoch 205/4000\n",
      "1596/1596 - 3s - loss: 0.2524 - accuracy: 0.9668 - precision: 0.9269 - recall: 0.9053 - val_loss: 0.3488 - val_accuracy: 0.9569 - val_precision: 0.9012 - val_recall: 0.8812 - 3s/epoch - 2ms/step\n",
      "Epoch 206/4000\n",
      "1596/1596 - 3s - loss: 0.2506 - accuracy: 0.9667 - precision: 0.9264 - recall: 0.9052 - val_loss: 0.3625 - val_accuracy: 0.9544 - val_precision: 0.8916 - val_recall: 0.8790 - 3s/epoch - 2ms/step\n",
      "Epoch 207/4000\n",
      "1596/1596 - 5s - loss: 0.2516 - accuracy: 0.9669 - precision: 0.9269 - recall: 0.9061 - val_loss: 0.3560 - val_accuracy: 0.9560 - val_precision: 0.8972 - val_recall: 0.8812 - 5s/epoch - 3ms/step\n",
      "Epoch 208/4000\n",
      "1596/1596 - 4s - loss: 0.2470 - accuracy: 0.9675 - precision: 0.9281 - recall: 0.9076 - val_loss: 0.3507 - val_accuracy: 0.9555 - val_precision: 0.8943 - val_recall: 0.8817 - 4s/epoch - 2ms/step\n",
      "Epoch 209/4000\n",
      "1596/1596 - 3s - loss: 0.2534 - accuracy: 0.9671 - precision: 0.9263 - recall: 0.9074 - val_loss: 0.3433 - val_accuracy: 0.9578 - val_precision: 0.9016 - val_recall: 0.8855 - 3s/epoch - 2ms/step\n",
      "Epoch 210/4000\n",
      "1596/1596 - 3s - loss: 0.2436 - accuracy: 0.9680 - precision: 0.9280 - recall: 0.9105 - val_loss: 0.3327 - val_accuracy: 0.9586 - val_precision: 0.9033 - val_recall: 0.8882 - 3s/epoch - 2ms/step\n",
      "Epoch 211/4000\n",
      "1596/1596 - 4s - loss: 0.2422 - accuracy: 0.9684 - precision: 0.9289 - recall: 0.9116 - val_loss: 0.3582 - val_accuracy: 0.9550 - val_precision: 0.8923 - val_recall: 0.8812 - 4s/epoch - 3ms/step\n",
      "Epoch 212/4000\n",
      "1596/1596 - 4s - loss: 0.2418 - accuracy: 0.9686 - precision: 0.9296 - recall: 0.9121 - val_loss: 0.3528 - val_accuracy: 0.9556 - val_precision: 0.8948 - val_recall: 0.8817 - 4s/epoch - 2ms/step\n",
      "Epoch 213/4000\n",
      "1596/1596 - 4s - loss: 0.2436 - accuracy: 0.9682 - precision: 0.9281 - recall: 0.9116 - val_loss: 0.3519 - val_accuracy: 0.9555 - val_precision: 0.8943 - val_recall: 0.8817 - 4s/epoch - 2ms/step\n",
      "Epoch 214/4000\n",
      "1596/1596 - 4s - loss: 0.2409 - accuracy: 0.9686 - precision: 0.9290 - recall: 0.9125 - val_loss: 0.3509 - val_accuracy: 0.9554 - val_precision: 0.8925 - val_recall: 0.8834 - 4s/epoch - 2ms/step\n",
      "Epoch 215/4000\n",
      "1596/1596 - 3s - loss: 0.2426 - accuracy: 0.9689 - precision: 0.9296 - recall: 0.9134 - val_loss: 0.3442 - val_accuracy: 0.9563 - val_precision: 0.8951 - val_recall: 0.8850 - 3s/epoch - 2ms/step\n",
      "Epoch 216/4000\n",
      "1596/1596 - 3s - loss: 0.2383 - accuracy: 0.9693 - precision: 0.9305 - recall: 0.9147 - val_loss: 0.3544 - val_accuracy: 0.9549 - val_precision: 0.8918 - val_recall: 0.8812 - 3s/epoch - 2ms/step\n",
      "Epoch 217/4000\n",
      "1596/1596 - 4s - loss: 0.2384 - accuracy: 0.9694 - precision: 0.9306 - recall: 0.9152 - val_loss: 0.3421 - val_accuracy: 0.9571 - val_precision: 0.8969 - val_recall: 0.8877 - 4s/epoch - 2ms/step\n",
      "Epoch 218/4000\n",
      "1596/1596 - 3s - loss: 0.2350 - accuracy: 0.9694 - precision: 0.9300 - recall: 0.9160 - val_loss: 0.3466 - val_accuracy: 0.9557 - val_precision: 0.8931 - val_recall: 0.8844 - 3s/epoch - 2ms/step\n",
      "Epoch 219/4000\n",
      "1596/1596 - 3s - loss: 0.2322 - accuracy: 0.9698 - precision: 0.9306 - recall: 0.9173 - val_loss: 0.3331 - val_accuracy: 0.9571 - val_precision: 0.8969 - val_recall: 0.8877 - 3s/epoch - 2ms/step\n",
      "Epoch 220/4000\n",
      "1596/1596 - 3s - loss: 0.2359 - accuracy: 0.9701 - precision: 0.9315 - recall: 0.9178 - val_loss: 0.3511 - val_accuracy: 0.9553 - val_precision: 0.8929 - val_recall: 0.8823 - 3s/epoch - 2ms/step\n",
      "Epoch 220: early stopping\n"
     ]
    }
   ],
   "source": [
    "train_history = massDet.fit(X_res, yTraining, validation_data=(X_val, yValidation), epochs=4000, verbose=2, callbacks=[es])"
   ]
  },
  {
   "cell_type": "code",
   "execution_count": 29,
   "metadata": {},
   "outputs": [
    {
     "name": "stdout",
     "output_type": "stream",
     "text": [
      "850/850 - 2s - loss: 0.1873 - accuracy: 0.9811 - precision: 0.9566 - recall: 0.9485 - 2s/epoch - 2ms/step\n"
     ]
    },
    {
     "data": {
      "text/plain": [
       "[0.18732814490795135,\n",
       " 0.9810844659805298,\n",
       " 0.9565572142601013,\n",
       " 0.9484991431236267]"
      ]
     },
     "execution_count": 29,
     "metadata": {},
     "output_type": "execute_result"
    }
   ],
   "source": [
    "massDet.evaluate(X_testRes, yTesting, verbose=2)"
   ]
  },
  {
   "cell_type": "code",
   "execution_count": 30,
   "metadata": {},
   "outputs": [],
   "source": [
    "massDet.save_weights('Model/save_model/model')"
   ]
  },
  {
   "cell_type": "code",
   "execution_count": 56,
   "metadata": {},
   "outputs": [
    {
     "data": {
      "text/plain": [
       "<tensorflow.python.training.tracking.util.CheckpointLoadStatus at 0x2854d0cf880>"
      ]
     },
     "execution_count": 56,
     "metadata": {},
     "output_type": "execute_result"
    }
   ],
   "source": [
    "modl = model(METRICS)\n",
    "modl.load_weights(\"Model/save_model/model\")"
   ]
  },
  {
   "cell_type": "code",
   "execution_count": 96,
   "metadata": {},
   "outputs": [
    {
     "data": {
      "image/png": "[encoded data removed]",
      "text/plain": [
       "<Figure size 800x600 with 1 Axes>"
      ]
     },
     "metadata": {},
     "output_type": "display_data"
    },
    {
     "data": {
      "image/png": "[encoded data removed]",
      "text/plain": [
       "<Figure size 800x600 with 1 Axes>"
      ]
     },
     "metadata": {},
     "output_type": "display_data"
    }
   ],
   "source": [
    "acc = train_history.history['accuracy']\n",
    "val_acc = train_history.history['val_accuracy']\n",
    "loss = train_history.history['loss']\n",
    "val_loss = train_history.history['val_loss']\n",
    "\n",
    "epochs = range(1, len(acc) + 1)\n",
    "plt.figure(figsize=(8, 6), dpi=100)\n",
    "plt.plot(epochs, acc, 'bo', label='Training acc')\n",
    "plt.plot(epochs, val_acc, 'b', label='Validation acc')\n",
    "plt.title('Training and validation accuracy')\n",
    "plt.legend()\n",
    "\n",
    "plt.figure(figsize=(8, 6), dpi=100)\n",
    "\n",
    "plt.plot(epochs, loss, 'bo', label='Training loss')\n",
    "plt.plot(epochs, val_loss, 'b', label='Validation loss')\n",
    "plt.title('Training and validation loss')\n",
    "plt.legend()\n",
    "\n",
    "plt.show()"
   ]
  },
  {
   "cell_type": "code",
   "execution_count": 101,
   "metadata": {},
   "outputs": [
    {
     "name": "stdout",
     "output_type": "stream",
     "text": [
      "850/850 [==============================] - 3s 3ms/step\n"
     ]
    }
   ],
   "source": [
    "t_pred = modl.predict(X_testRes)\n",
    "t_true = yTesting"
   ]
  },
  {
   "cell_type": "code",
   "execution_count": 105,
   "metadata": {},
   "outputs": [],
   "source": [
    "class estimator:\n",
    "  _estimator_type = ''\n",
    "  classes_=[]\n",
    "  def __init__(self, model, classes):\n",
    "    self.model = model\n",
    "    self._estimator_type = 'classifier'\n",
    "    self.classes_ = classes\n",
    "  def predict(self, X):\n",
    "    y_prob= self.model.predict(X)\n",
    "    y_pred = y_prob.argmax(axis=1)\n",
    "    return y_pred\n",
    "\n",
    "classifier = estimator(modl, [0,1,2,3,4])"
   ]
  },
  {
   "cell_type": "code",
   "execution_count": 112,
   "metadata": {},
   "outputs": [
    {
     "name": "stderr",
     "output_type": "stream",
     "text": [
      "c:\\Users\\kulka\\OneDrive\\Documents\\Python_Class\\Anaconda\\anacon\\lib\\site-packages\\sklearn\\utils\\deprecation.py:87: FutureWarning: Function plot_confusion_matrix is deprecated; Function `plot_confusion_matrix` is deprecated in 1.0 and will be removed in 1.2. Use one of the class methods: ConfusionMatrixDisplay.from_predictions or ConfusionMatrixDisplay.from_estimator.\n",
      "  warnings.warn(msg, category=FutureWarning)\n"
     ]
    },
    {
     "name": "stdout",
     "output_type": "stream",
     "text": [
      "850/850 [==============================] - 3s 3ms/step\n"
     ]
    },
    {
     "data": {
      "image/png": "[encoded data removed]",
      "text/plain": [
       "<Figure size 1500x1500 with 2 Axes>"
      ]
     },
     "metadata": {},
     "output_type": "display_data"
    }
   ],
   "source": [
    "from sklearn.metrics import plot_confusion_matrix\n",
    "disp = plot_confusion_matrix(classifier, X=X_testRes, y_true=np.argmax(yTesting,axis=1),cmap=plt.cm.Blues)\n",
    "plt.title('Confusion matrix')\n",
    "fig = disp.figure_\n",
    "fig.set_figwidth(15)\n",
    "fig.set_figheight(15) \n",
    "plt.show()"
   ]
  }
 ],
 "metadata": {
  "kernelspec": {
   "display_name": "base",
   "language": "python",
   "name": "python3"
  },
  "language_info": {
   "codemirror_mode": {
    "name": "ipython",
    "version": 3
   },
   "file_extension": ".py",
   "mimetype": "text/x-python",
   "name": "python",
   "nbconvert_exporter": "python",
   "pygments_lexer": "ipython3",
   "version": "3.8.16"
  },
  "orig_nbformat": 4,
  "vscode": {
   "interpreter": {
    "hash": "aaeaf8a9ff06fb6bdf563288c20a6e8a09c59750333508f25818577d19f5cc59"
   }
  }
 },
 "nbformat": 4,
 "nbformat_minor": 2
}
