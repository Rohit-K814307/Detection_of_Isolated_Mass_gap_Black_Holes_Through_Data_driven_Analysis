{
 "cells": [
  {
   "cell_type": "code",
   "execution_count": 1,
   "metadata": {},
   "outputs": [],
   "source": [
    "import numpy as np\n",
    "from astropy.table import Table\n",
    "\n",
    "import pandas as pd\n",
    "import matplotlib.pyplot as plt\n",
    "import seaborn as sns"
   ]
  },
  {
   "attachments": {},
   "cell_type": "markdown",
   "metadata": {},
   "source": [
    "POPSYCLE SIM"
   ]
  },
  {
   "cell_type": "code",
   "execution_count": 2,
   "metadata": {},
   "outputs": [],
   "source": [
    "pops = Table.read(\"data/research_paper/popsycle_sim.fits\").to_pandas()"
   ]
  },
  {
   "cell_type": "code",
   "execution_count": 19,
   "metadata": {},
   "outputs": [],
   "source": [
    "arr = []\n",
    "for i in range(len(pops)):\n",
    "    if (pops[\"rem_id_L\"][i] == 103 and (pops[\"mass_L\"][i] > 2.5 and pops[\"mass_L\"][i] < 6)): #.5 for added padding to mass gap\n",
    "        arr.append(i) #lower mass gap of bhs is between 2.5 or so and 5-7"
   ]
  },
  {
   "attachments": {},
   "cell_type": "markdown",
   "metadata": {},
   "source": [
    "OB110462 - Mass gap classified data"
   ]
  },
  {
   "cell_type": "code",
   "execution_count": null,
   "metadata": {},
   "outputs": [],
   "source": [
    "ob = Table.read(\"data/research_paper/OB110462_DW_post.fits\").to_pandas() #color data\n",
    "ob.head()"
   ]
  },
  {
   "cell_type": "code",
   "execution_count": 26,
   "metadata": {},
   "outputs": [
    {
     "data": {
      "text/plain": [
       "Index(['logLike', 't0', 'u0_amp', 'tE', 'log10_thetaE', 'piS', 'piE_E',\n",
       "       'piE_N', 'xS0_E', 'xS0_N', 'muS_E', 'muS_N', 'mL', 'piL', 'piRel',\n",
       "       'muL_E', 'muL_N', 'muRel_E', 'muRel_N'],\n",
       "      dtype='object')"
      ]
     },
     "execution_count": 26,
     "metadata": {},
     "output_type": "execute_result"
    }
   ],
   "source": [
    "ob.columns"
   ]
  },
  {
   "attachments": {},
   "cell_type": "markdown",
   "metadata": {},
   "source": [
    "combine data"
   ]
  },
  {
   "cell_type": "code",
   "execution_count": 54,
   "metadata": {},
   "outputs": [
    {
     "data": {
      "text/plain": [
       "23139"
      ]
     },
     "execution_count": 54,
     "metadata": {},
     "output_type": "execute_result"
    }
   ],
   "source": [
    "popsCols = list(pops.columns)\n",
    "obCols = list(ob.columns)\n",
    "len(pops) + len(ob)"
   ]
  },
  {
   "cell_type": "code",
   "execution_count": 52,
   "metadata": {},
   "outputs": [],
   "source": [
    "wanted_ob = [\"t0\",\"u0_amp\",\"tE\",\"log10_thetaE\",\"piE_E\",\"muS_E\",\"mL\",\"piRel\",\"muL_E\",\"muRel_E\"]\n",
    "wanted_pops = [\"t0\",\"u0\",\"t_E\",\"theta_E\",\"pi_E\",\"mu_b_S\",\"mass_L\",\"pi_rel\",\"mu_b_L\",\"mu_rel\"]\n",
    "\n",
    "ob_to_pops = {\"t0\":\"t0\", \"u0_amp\":\"u0\",\"tE\":\"t_E\",\"log10_thetaE\":\"theta_E\",\"piE_E\":\"pi_E\",\"muS_E\":\"mu_b_S\",\"mL\":\"mass_L\",\"piRel\":\"pi_rel\",\"muL_E\":\"mu_b_L\",\"muRel_E\":\"mu_rel\"}\n",
    "\n",
    "\n",
    "def gk(val,d=ob_to_pops):\n",
    "    keys = [k for k, v in d.items() if v == val]\n",
    "    if keys:\n",
    "        return keys[0]\n",
    "    return None\n",
    "\n",
    "\n",
    "dfWhole = pd.DataFrame()\n",
    "for j in wanted_ob:\n",
    "    for k in range(len(ob[j])):\n",
    "        dfWhole.at[k,j] = ob[j][k] #0,x \n",
    "\n",
    "dict = {\"id\":[]}\n",
    "\n",
    "for j in wanted_pops:\n",
    "    jVal = gk(j)\n",
    "    dict[jVal] = pops[j]\n",
    "\n",
    "for i in range(len(pops[\"rem_id_L\"])):\n",
    "    dict[\"id\"].append(pops[\"rem_id_L\"][i])\n",
    "\n",
    "dfTotal = pd.concat([dfWhole,pd.DataFrame(dict)])\n"
   ]
  },
  {
   "cell_type": "code",
   "execution_count": 55,
   "metadata": {},
   "outputs": [
    {
     "data": {
      "text/html": [
       "<div>\n",
       "<style scoped>\n",
       "    .dataframe tbody tr th:only-of-type {\n",
       "        vertical-align: middle;\n",
       "    }\n",
       "\n",
       "    .dataframe tbody tr th {\n",
       "        vertical-align: top;\n",
       "    }\n",
       "\n",
       "    .dataframe thead th {\n",
       "        text-align: right;\n",
       "    }\n",
       "</style>\n",
       "<table border=\"1\" class=\"dataframe\">\n",
       "  <thead>\n",
       "    <tr style=\"text-align: right;\">\n",
       "      <th></th>\n",
       "      <th>t0</th>\n",
       "      <th>u0_amp</th>\n",
       "      <th>tE</th>\n",
       "      <th>log10_thetaE</th>\n",
       "      <th>piE_E</th>\n",
       "      <th>muS_E</th>\n",
       "      <th>mL</th>\n",
       "      <th>piRel</th>\n",
       "      <th>muL_E</th>\n",
       "      <th>muRel_E</th>\n",
       "      <th>id</th>\n",
       "    </tr>\n",
       "  </thead>\n",
       "  <tbody>\n",
       "    <tr>\n",
       "      <th>0</th>\n",
       "      <td>55763.312017</td>\n",
       "      <td>-0.051724</td>\n",
       "      <td>287.263116</td>\n",
       "      <td>0.728651</td>\n",
       "      <td>0.021247</td>\n",
       "      <td>0.066662</td>\n",
       "      <td>6.890218</td>\n",
       "      <td>0.510787</td>\n",
       "      <td>-1.449263</td>\n",
       "      <td>1.515925</td>\n",
       "      <td>NaN</td>\n",
       "    </tr>\n",
       "    <tr>\n",
       "      <th>1</th>\n",
       "      <td>55763.143207</td>\n",
       "      <td>-0.056239</td>\n",
       "      <td>273.684662</td>\n",
       "      <td>0.363211</td>\n",
       "      <td>0.019904</td>\n",
       "      <td>0.122164</td>\n",
       "      <td>2.534837</td>\n",
       "      <td>0.258013</td>\n",
       "      <td>-0.426201</td>\n",
       "      <td>0.548365</td>\n",
       "      <td>NaN</td>\n",
       "    </tr>\n",
       "    <tr>\n",
       "      <th>2</th>\n",
       "      <td>55762.869349</td>\n",
       "      <td>-0.059092</td>\n",
       "      <td>280.197751</td>\n",
       "      <td>0.597241</td>\n",
       "      <td>0.019986</td>\n",
       "      <td>0.031534</td>\n",
       "      <td>4.004285</td>\n",
       "      <td>0.479873</td>\n",
       "      <td>-0.818066</td>\n",
       "      <td>0.849601</td>\n",
       "      <td>NaN</td>\n",
       "    </tr>\n",
       "    <tr>\n",
       "      <th>3</th>\n",
       "      <td>55764.431058</td>\n",
       "      <td>-0.042804</td>\n",
       "      <td>279.152526</td>\n",
       "      <td>0.617667</td>\n",
       "      <td>0.025575</td>\n",
       "      <td>0.126121</td>\n",
       "      <td>5.574564</td>\n",
       "      <td>0.378698</td>\n",
       "      <td>-1.393074</td>\n",
       "      <td>1.519195</td>\n",
       "      <td>NaN</td>\n",
       "    </tr>\n",
       "    <tr>\n",
       "      <th>4</th>\n",
       "      <td>55762.025369</td>\n",
       "      <td>-0.067009</td>\n",
       "      <td>273.444603</td>\n",
       "      <td>0.572748</td>\n",
       "      <td>0.020906</td>\n",
       "      <td>0.060268</td>\n",
       "      <td>3.557838</td>\n",
       "      <td>0.482480</td>\n",
       "      <td>-0.748844</td>\n",
       "      <td>0.809112</td>\n",
       "      <td>NaN</td>\n",
       "    </tr>\n",
       "    <tr>\n",
       "      <th>...</th>\n",
       "      <td>...</td>\n",
       "      <td>...</td>\n",
       "      <td>...</td>\n",
       "      <td>...</td>\n",
       "      <td>...</td>\n",
       "      <td>...</td>\n",
       "      <td>...</td>\n",
       "      <td>...</td>\n",
       "      <td>...</td>\n",
       "      <td>...</td>\n",
       "      <td>...</td>\n",
       "    </tr>\n",
       "    <tr>\n",
       "      <th>19713</th>\n",
       "      <td>-100.757093</td>\n",
       "      <td>-0.002355</td>\n",
       "      <td>10.272065</td>\n",
       "      <td>0.156485</td>\n",
       "      <td>0.026858</td>\n",
       "      <td>-2.123513</td>\n",
       "      <td>0.717312</td>\n",
       "      <td>0.004203</td>\n",
       "      <td>3.368475</td>\n",
       "      <td>5.564230</td>\n",
       "      <td>101.0</td>\n",
       "    </tr>\n",
       "    <tr>\n",
       "      <th>19714</th>\n",
       "      <td>44.697865</td>\n",
       "      <td>0.031002</td>\n",
       "      <td>44.315966</td>\n",
       "      <td>0.413579</td>\n",
       "      <td>0.080408</td>\n",
       "      <td>-0.152435</td>\n",
       "      <td>0.633246</td>\n",
       "      <td>0.033255</td>\n",
       "      <td>3.079775</td>\n",
       "      <td>3.408702</td>\n",
       "      <td>101.0</td>\n",
       "    </tr>\n",
       "    <tr>\n",
       "      <th>19715</th>\n",
       "      <td>36.049509</td>\n",
       "      <td>-0.020305</td>\n",
       "      <td>41.374829</td>\n",
       "      <td>0.282264</td>\n",
       "      <td>0.060556</td>\n",
       "      <td>-0.406050</td>\n",
       "      <td>0.573866</td>\n",
       "      <td>0.017093</td>\n",
       "      <td>-1.207997</td>\n",
       "      <td>2.491783</td>\n",
       "      <td>101.0</td>\n",
       "    </tr>\n",
       "    <tr>\n",
       "      <th>19716</th>\n",
       "      <td>107.731479</td>\n",
       "      <td>-0.341648</td>\n",
       "      <td>50.540982</td>\n",
       "      <td>0.495956</td>\n",
       "      <td>0.070537</td>\n",
       "      <td>-0.167646</td>\n",
       "      <td>0.865635</td>\n",
       "      <td>0.034983</td>\n",
       "      <td>1.031318</td>\n",
       "      <td>3.584180</td>\n",
       "      <td>101.0</td>\n",
       "    </tr>\n",
       "    <tr>\n",
       "      <th>19717</th>\n",
       "      <td>-284.983980</td>\n",
       "      <td>-0.271003</td>\n",
       "      <td>29.328169</td>\n",
       "      <td>0.336153</td>\n",
       "      <td>0.049972</td>\n",
       "      <td>-0.318781</td>\n",
       "      <td>0.828171</td>\n",
       "      <td>0.016798</td>\n",
       "      <td>-2.453456</td>\n",
       "      <td>4.186411</td>\n",
       "      <td>101.0</td>\n",
       "    </tr>\n",
       "  </tbody>\n",
       "</table>\n",
       "<p>23139 rows × 11 columns</p>\n",
       "</div>"
      ],
      "text/plain": [
       "                 t0    u0_amp          tE  log10_thetaE     piE_E     muS_E  \\\n",
       "0      55763.312017 -0.051724  287.263116      0.728651  0.021247  0.066662   \n",
       "1      55763.143207 -0.056239  273.684662      0.363211  0.019904  0.122164   \n",
       "2      55762.869349 -0.059092  280.197751      0.597241  0.019986  0.031534   \n",
       "3      55764.431058 -0.042804  279.152526      0.617667  0.025575  0.126121   \n",
       "4      55762.025369 -0.067009  273.444603      0.572748  0.020906  0.060268   \n",
       "...             ...       ...         ...           ...       ...       ...   \n",
       "19713   -100.757093 -0.002355   10.272065      0.156485  0.026858 -2.123513   \n",
       "19714     44.697865  0.031002   44.315966      0.413579  0.080408 -0.152435   \n",
       "19715     36.049509 -0.020305   41.374829      0.282264  0.060556 -0.406050   \n",
       "19716    107.731479 -0.341648   50.540982      0.495956  0.070537 -0.167646   \n",
       "19717   -284.983980 -0.271003   29.328169      0.336153  0.049972 -0.318781   \n",
       "\n",
       "             mL     piRel     muL_E   muRel_E     id  \n",
       "0      6.890218  0.510787 -1.449263  1.515925    NaN  \n",
       "1      2.534837  0.258013 -0.426201  0.548365    NaN  \n",
       "2      4.004285  0.479873 -0.818066  0.849601    NaN  \n",
       "3      5.574564  0.378698 -1.393074  1.519195    NaN  \n",
       "4      3.557838  0.482480 -0.748844  0.809112    NaN  \n",
       "...         ...       ...       ...       ...    ...  \n",
       "19713  0.717312  0.004203  3.368475  5.564230  101.0  \n",
       "19714  0.633246  0.033255  3.079775  3.408702  101.0  \n",
       "19715  0.573866  0.017093 -1.207997  2.491783  101.0  \n",
       "19716  0.865635  0.034983  1.031318  3.584180  101.0  \n",
       "19717  0.828171  0.016798 -2.453456  4.186411  101.0  \n",
       "\n",
       "[23139 rows x 11 columns]"
      ]
     },
     "execution_count": 55,
     "metadata": {},
     "output_type": "execute_result"
    }
   ],
   "source": [
    "dfTotal"
   ]
  }
 ],
 "metadata": {
  "kernelspec": {
   "display_name": "base",
   "language": "python",
   "name": "python3"
  },
  "language_info": {
   "codemirror_mode": {
    "name": "ipython",
    "version": 3
   },
   "file_extension": ".py",
   "mimetype": "text/x-python",
   "name": "python",
   "nbconvert_exporter": "python",
   "pygments_lexer": "ipython3",
   "version": "3.8.16"
  },
  "orig_nbformat": 4,
  "vscode": {
   "interpreter": {
    "hash": "aaeaf8a9ff06fb6bdf563288c20a6e8a09c59750333508f25818577d19f5cc59"
   }
  }
 },
 "nbformat": 4,
 "nbformat_minor": 2
}
