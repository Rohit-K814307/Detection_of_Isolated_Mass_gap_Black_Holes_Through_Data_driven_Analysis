{
 "cells": [
  {
   "cell_type": "code",
   "execution_count": 3,
   "metadata": {},
   "outputs": [],
   "source": [
    "from astropy.table import Table\n",
    "import numpy as np\n",
    "import pandas as pd\n",
    "import matplotlib.pyplot as plt\n",
    "import seaborn as sns"
   ]
  },
  {
   "attachments": {},
   "cell_type": "markdown",
   "metadata": {},
   "source": [
    "POPSYCLE SIM"
   ]
  },
  {
   "cell_type": "code",
   "execution_count": 4,
   "metadata": {},
   "outputs": [],
   "source": [
    "pops = Table.read(\"data/research_paper/popsycle_sim.fits\").to_pandas()"
   ]
  },
  {
   "cell_type": "code",
   "execution_count": 5,
   "metadata": {},
   "outputs": [],
   "source": [
    "arr = []\n",
    "for i in range(len(pops)):\n",
    "    if (pops[\"rem_id_L\"][i] == 103 and (pops[\"mass_L\"][i] > 2.5 and pops[\"mass_L\"][i] < 6)): #.5 for added padding to mass gap\n",
    "        arr.append(i) #lower mass gap of bhs is between 2.5 or so and 5-7"
   ]
  },
  {
   "cell_type": "code",
   "execution_count": 6,
   "metadata": {},
   "outputs": [
    {
     "data": {
      "text/plain": [
       "18"
      ]
     },
     "execution_count": 6,
     "metadata": {},
     "output_type": "execute_result"
    }
   ],
   "source": [
    "len(arr)"
   ]
  },
  {
   "attachments": {},
   "cell_type": "markdown",
   "metadata": {},
   "source": [
    "LIGO DATA"
   ]
  },
  {
   "cell_type": "code",
   "execution_count": 7,
   "metadata": {},
   "outputs": [],
   "source": [
    "ligo = pd.concat([pd.read_csv(\"data/LIGO/GWTC-1-confident.csv\"),pd.read_csv(\"data/LIGO/GWTC-2.1-confident.csv\"),pd.read_csv(\"data/LIGO/GWTC-2.csv\"), pd.read_csv(\"data/LIGO/GWTC-3-confident.csv\")], axis=0).drop(columns=[\"id\",\"commonName\",\"version\",\"catalog.shortName\",\"jsonurl\",\"reference\",\"far_lower\",\"far_upper\",\"p_astro_lower\",\"p_astro_upper\",\"GPS\"]).fillna(0)"
   ]
  },
  {
   "cell_type": "code",
   "execution_count": null,
   "metadata": {},
   "outputs": [],
   "source": [
    "for col in ligo.columns:\n",
    "    plt.hist(ligo[col],color=\"blue\",edgecolor=\"green\",bins=int(45/1))\n",
    "    plt.title(col)\n",
    "    plt.show()"
   ]
  },
  {
   "cell_type": "code",
   "execution_count": 13,
   "metadata": {},
   "outputs": [],
   "source": [
    "ligoCols = list(ligo.columns)\n",
    "popsCols = list(pops.columns)"
   ]
  },
  {
   "cell_type": "code",
   "execution_count": 15,
   "metadata": {},
   "outputs": [
    {
     "data": {
      "text/plain": [
       "['rem_id_L',\n",
       " 'mass_L',\n",
       " 'rad_L',\n",
       " 'glat_L',\n",
       " 'glon_L',\n",
       " 'vr_L',\n",
       " 'mu_b_L',\n",
       " 'mu_lcosb_L',\n",
       " 'rem_id_S',\n",
       " 'mass_S',\n",
       " 'rad_S',\n",
       " 'glat_S',\n",
       " 'glon_S',\n",
       " 'vr_S',\n",
       " 'mu_b_S',\n",
       " 'mu_lcosb_S',\n",
       " 'theta_E',\n",
       " 'u0',\n",
       " 'mu_rel',\n",
       " 't0',\n",
       " 't_E',\n",
       " 'pi_rel',\n",
       " 'pi_E',\n",
       " 'Imag_L',\n",
       " 'Imag_S',\n",
       " 'bsff_I']"
      ]
     },
     "execution_count": 15,
     "metadata": {},
     "output_type": "execute_result"
    }
   ],
   "source": [
    "popsCols"
   ]
  },
  {
   "cell_type": "code",
   "execution_count": 14,
   "metadata": {},
   "outputs": [
    {
     "data": {
      "text/plain": [
       "['mass_1_source',\n",
       " 'mass_1_source_lower',\n",
       " 'mass_1_source_upper',\n",
       " 'mass_2_source',\n",
       " 'mass_2_source_lower',\n",
       " 'mass_2_source_upper',\n",
       " 'network_matched_filter_snr',\n",
       " 'network_matched_filter_snr_lower',\n",
       " 'network_matched_filter_snr_upper',\n",
       " 'luminosity_distance',\n",
       " 'luminosity_distance_lower',\n",
       " 'luminosity_distance_upper',\n",
       " 'chi_eff',\n",
       " 'chi_eff_lower',\n",
       " 'chi_eff_upper',\n",
       " 'total_mass_source',\n",
       " 'total_mass_source_lower',\n",
       " 'total_mass_source_upper',\n",
       " 'chirp_mass_source',\n",
       " 'chirp_mass_source_lower',\n",
       " 'chirp_mass_source_upper',\n",
       " 'chirp_mass',\n",
       " 'chirp_mass_lower',\n",
       " 'chirp_mass_upper',\n",
       " 'redshift',\n",
       " 'redshift_lower',\n",
       " 'redshift_upper',\n",
       " 'far',\n",
       " 'p_astro',\n",
       " 'final_mass_source',\n",
       " 'final_mass_source_lower',\n",
       " 'final_mass_source_upper']"
      ]
     },
     "execution_count": 14,
     "metadata": {},
     "output_type": "execute_result"
    }
   ],
   "source": [
    "ligoCols"
   ]
  }
 ],
 "metadata": {
  "kernelspec": {
   "display_name": "base",
   "language": "python",
   "name": "python3"
  },
  "language_info": {
   "codemirror_mode": {
    "name": "ipython",
    "version": 3
   },
   "file_extension": ".py",
   "mimetype": "text/x-python",
   "name": "python",
   "nbconvert_exporter": "python",
   "pygments_lexer": "ipython3",
   "version": "3.9.12"
  },
  "orig_nbformat": 4,
  "vscode": {
   "interpreter": {
    "hash": "d1ac76d35ee56195293cc6211a5ce28046b0a933cffd512b659c2d35988db783"
   }
  }
 },
 "nbformat": 4,
 "nbformat_minor": 2
}
