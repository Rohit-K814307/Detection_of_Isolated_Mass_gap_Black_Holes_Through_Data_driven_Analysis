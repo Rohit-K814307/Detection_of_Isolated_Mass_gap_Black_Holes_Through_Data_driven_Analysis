{
 "cells": [
  {
   "cell_type": "code",
   "execution_count": 1,
   "metadata": {},
   "outputs": [],
   "source": [
    "import numpy as np\n",
    "from astropy.table import Table\n",
    "\n",
    "import pandas as pd\n",
    "import matplotlib.pyplot as plt\n",
    "import seaborn as sns"
   ]
  },
  {
   "attachments": {},
   "cell_type": "markdown",
   "metadata": {},
   "source": [
    "POPSYCLE SIM"
   ]
  },
  {
   "cell_type": "code",
   "execution_count": 2,
   "metadata": {},
   "outputs": [],
   "source": [
    "pops = Table.read(\"data/research_paper/popsycle_sim.fits\").to_pandas()"
   ]
  },
  {
   "cell_type": "code",
   "execution_count": 18,
   "metadata": {},
   "outputs": [],
   "source": [
    "post_EW = Table.read(\"data/research_paper/OB110462_EW_post.fits\").to_pandas() #no color data\n",
    "ob = Table.read(\"data/research_paper/OB110462_DW_post.fits\").to_pandas() #color data"
   ]
  },
  {
   "cell_type": "code",
   "execution_count": 19,
   "metadata": {},
   "outputs": [],
   "source": [
    "arr = []\n",
    "for i in range(len(pops)):\n",
    "    if (pops[\"rem_id_L\"][i] == 103 and (pops[\"mass_L\"][i] > 2.5 and pops[\"mass_L\"][i] < 6)): #.5 for added padding to mass gap\n",
    "        arr.append(i) #lower mass gap of bhs is between 2.5 or so and 5-7"
   ]
  },
  {
   "cell_type": "code",
   "execution_count": null,
   "metadata": {},
   "outputs": [],
   "source": [
    "\"\"\"For each microlensing lensing event, 9 columns correspond to properties \n",
    "of the lens (_L suffix), and 9 columns to the source (_S suffix):\n",
    "* Object type where 0 = star, 101 = white dwarf, \n",
    "  102 = neutron star, 103 = black hole (rem_id);\n",
    "* Mass of the object in solar masses (mass);\n",
    "* Galactic radial distance in kpc (rad); \n",
    "* Galactic latitude in deg (glat); \n",
    "* Galactic longitude in deg (glon);\n",
    "* Galactic radial velocity in km/s (vr);\n",
    "* Galactic proper motion vector long/lat components in mas/yr (mu_b, mu_lcosb); \n",
    "* I-band magnitude (Imag).\n",
    "\n",
    "8 columns correspond to properties of the lensing event, \n",
    "so they do not have a _L or _S suffix:\n",
    "* Einstein radius in mas (theta_E);\n",
    "* impact parameter (u0);\n",
    "* source-lens relative proper motion in mas/yr (mu_rel);\n",
    "* time of closest approach in days (t0);\n",
    "* Einstein crossing time in days (t_E);\n",
    "* lens-source relative parallax in mas (pi_rel);\n",
    "* microlensing parallax (pi_E);\n",
    "* source flux fraction in I-band (bsff_I).\"\"\""
   ]
  },
  {
   "attachments": {},
   "cell_type": "markdown",
   "metadata": {},
   "source": [
    "OB110462 - Mass gap classified data"
   ]
  },
  {
   "cell_type": "code",
   "execution_count": null,
   "metadata": {},
   "outputs": [],
   "source": [
    "\"\"\"There are 19 columns:\n",
    "\n",
    "* time of closest approach in MJD (t0); ####################\n",
    "* impact parameter (u0_amp); ####################\n",
    "* Einstein crossing time in days (tE); ####################\n",
    "* log10 of Einstein radius in mas (log10_thetaE); ####################\n",
    "\n",
    "* microlensing parallax vector (piE_E, piE_N); ####################\n",
    "* source position vector at t0 in arcsec (xS0_E, xS0_N);\n",
    "* source proper motion vector in mas/yr (muS_E, muS_N); ####################\n",
    "* lens mass in solar masses (mL); ####################\n",
    "\n",
    "* lens-source relative parallax in mas (piRel); ####################\n",
    "* lens proper motion vector in mas/yr (muL_E, muL_N);####################\n",
    "* source-lens relative proper motion vector in mas/yr (muRel_E, muRel_N).####################\n",
    "\n",
    "For each microlensing lensing event, 9 columns correspond to properties \n",
    "of the lens (_L suffix), and 9 columns to the source (_S suffix):\n",
    "* Object type where 0 = star, 101 = white dwarf, \n",
    "  102 = neutron star, 103 = black hole (rem_id);\n",
    "* Mass of the object in solar masses (mass); ####################\n",
    "* Galactic proper motion vector long/lat components in mas/yr (mu_b, mu_lcosb); ####################\n",
    "\n",
    "8 columns correspond to properties of the lensing event, \n",
    "so they do not have a _L or _S suffix:\n",
    "\n",
    "* Einstein radius in mas (theta_E); ####################\n",
    "* impact parameter (u0); ####################\n",
    "* source-lens relative proper motion in mas/yr (mu_rel); ####################\n",
    "* time of closest approach in days (t0); ####################\n",
    "* Einstein crossing time in days (t_E); ####################\n",
    "* lens-source relative parallax in mas (pi_rel); ####################\n",
    "* microlensing parallax (pi_E);####################\n",
    "\n",
    "\n",
    "\n",
    "\"\"\""
   ]
  },
  {
   "cell_type": "code",
   "execution_count": 20,
   "metadata": {},
   "outputs": [],
   "source": [
    "popsCols = list(pops.columns)\n",
    "obCols = list(ob.columns)"
   ]
  },
  {
   "cell_type": "code",
   "execution_count": 21,
   "metadata": {},
   "outputs": [
    {
     "data": {
      "text/plain": [
       "26"
      ]
     },
     "execution_count": 21,
     "metadata": {},
     "output_type": "execute_result"
    }
   ],
   "source": [
    "len(popsCols)"
   ]
  },
  {
   "attachments": {},
   "cell_type": "markdown",
   "metadata": {},
   "source": [
    "Corresponding features from popsycle to ligo following:\n",
    "\n",
    "1. "
   ]
  }
 ],
 "metadata": {
  "kernelspec": {
   "display_name": "base",
   "language": "python",
   "name": "python3"
  },
  "language_info": {
   "codemirror_mode": {
    "name": "ipython",
    "version": 3
   },
   "file_extension": ".py",
   "mimetype": "text/x-python",
   "name": "python",
   "nbconvert_exporter": "python",
   "pygments_lexer": "ipython3",
   "version": "3.8.16"
  },
  "orig_nbformat": 4,
  "vscode": {
   "interpreter": {
    "hash": "aaeaf8a9ff06fb6bdf563288c20a6e8a09c59750333508f25818577d19f5cc59"
   }
  }
 },
 "nbformat": 4,
 "nbformat_minor": 2
}
