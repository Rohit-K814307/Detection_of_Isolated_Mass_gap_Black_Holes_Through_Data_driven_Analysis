{
 "cells": [
  {
   "cell_type": "code",
   "execution_count": 9,
   "metadata": {},
   "outputs": [],
   "source": [
    "import numpy as np\n",
    "from astropy.table import Table\n",
    "\n",
    "import pandas as pd\n",
    "import matplotlib.pyplot as plt\n",
    "import seaborn as sns"
   ]
  },
  {
   "attachments": {},
   "cell_type": "markdown",
   "metadata": {},
   "source": [
    "POPSYCLE SIM"
   ]
  },
  {
   "cell_type": "code",
   "execution_count": 10,
   "metadata": {},
   "outputs": [],
   "source": [
    "pops = Table.read(\"data/research_paper/popsycle_sim.fits\").to_pandas()"
   ]
  },
  {
   "attachments": {},
   "cell_type": "markdown",
   "metadata": {},
   "source": [
    "OB110462 - Mass gap classified data"
   ]
  },
  {
   "cell_type": "code",
   "execution_count": 11,
   "metadata": {},
   "outputs": [
    {
     "data": {
      "text/html": [
       "<div>\n",
       "<style scoped>\n",
       "    .dataframe tbody tr th:only-of-type {\n",
       "        vertical-align: middle;\n",
       "    }\n",
       "\n",
       "    .dataframe tbody tr th {\n",
       "        vertical-align: top;\n",
       "    }\n",
       "\n",
       "    .dataframe thead th {\n",
       "        text-align: right;\n",
       "    }\n",
       "</style>\n",
       "<table border=\"1\" class=\"dataframe\">\n",
       "  <thead>\n",
       "    <tr style=\"text-align: right;\">\n",
       "      <th></th>\n",
       "      <th>logLike</th>\n",
       "      <th>t0</th>\n",
       "      <th>u0_amp</th>\n",
       "      <th>tE</th>\n",
       "      <th>log10_thetaE</th>\n",
       "      <th>piS</th>\n",
       "      <th>piE_E</th>\n",
       "      <th>piE_N</th>\n",
       "      <th>xS0_E</th>\n",
       "      <th>xS0_N</th>\n",
       "      <th>muS_E</th>\n",
       "      <th>muS_N</th>\n",
       "      <th>mL</th>\n",
       "      <th>piL</th>\n",
       "      <th>piRel</th>\n",
       "      <th>muL_E</th>\n",
       "      <th>muL_N</th>\n",
       "      <th>muRel_E</th>\n",
       "      <th>muRel_N</th>\n",
       "    </tr>\n",
       "  </thead>\n",
       "  <tbody>\n",
       "    <tr>\n",
       "      <th>0</th>\n",
       "      <td>184.877683</td>\n",
       "      <td>55763.312017</td>\n",
       "      <td>-0.051724</td>\n",
       "      <td>287.263116</td>\n",
       "      <td>0.728651</td>\n",
       "      <td>0.135751</td>\n",
       "      <td>0.021247</td>\n",
       "      <td>-0.093013</td>\n",
       "      <td>0.229670</td>\n",
       "      <td>-0.213814</td>\n",
       "      <td>0.066662</td>\n",
       "      <td>1.157038</td>\n",
       "      <td>6.890218</td>\n",
       "      <td>0.646538</td>\n",
       "      <td>0.510787</td>\n",
       "      <td>-1.449263</td>\n",
       "      <td>7.793189</td>\n",
       "      <td>1.515925</td>\n",
       "      <td>-6.636151</td>\n",
       "    </tr>\n",
       "    <tr>\n",
       "      <th>1</th>\n",
       "      <td>189.491588</td>\n",
       "      <td>55763.143207</td>\n",
       "      <td>-0.056239</td>\n",
       "      <td>273.684662</td>\n",
       "      <td>0.363211</td>\n",
       "      <td>0.123753</td>\n",
       "      <td>0.019904</td>\n",
       "      <td>-0.110011</td>\n",
       "      <td>0.229638</td>\n",
       "      <td>-0.214271</td>\n",
       "      <td>0.122164</td>\n",
       "      <td>1.132030</td>\n",
       "      <td>2.534837</td>\n",
       "      <td>0.381767</td>\n",
       "      <td>0.258013</td>\n",
       "      <td>-0.426201</td>\n",
       "      <td>4.162822</td>\n",
       "      <td>0.548365</td>\n",
       "      <td>-3.030792</td>\n",
       "    </tr>\n",
       "    <tr>\n",
       "      <th>2</th>\n",
       "      <td>191.105374</td>\n",
       "      <td>55762.869349</td>\n",
       "      <td>-0.059092</td>\n",
       "      <td>280.197751</td>\n",
       "      <td>0.597241</td>\n",
       "      <td>0.117932</td>\n",
       "      <td>0.019986</td>\n",
       "      <td>-0.119649</td>\n",
       "      <td>0.230059</td>\n",
       "      <td>-0.214283</td>\n",
       "      <td>0.031534</td>\n",
       "      <td>1.162280</td>\n",
       "      <td>4.004285</td>\n",
       "      <td>0.597806</td>\n",
       "      <td>0.479873</td>\n",
       "      <td>-0.818066</td>\n",
       "      <td>6.248444</td>\n",
       "      <td>0.849601</td>\n",
       "      <td>-5.086164</td>\n",
       "    </tr>\n",
       "    <tr>\n",
       "      <th>3</th>\n",
       "      <td>191.884685</td>\n",
       "      <td>55764.431058</td>\n",
       "      <td>-0.042804</td>\n",
       "      <td>279.152526</td>\n",
       "      <td>0.617667</td>\n",
       "      <td>0.098635</td>\n",
       "      <td>0.025575</td>\n",
       "      <td>-0.087679</td>\n",
       "      <td>0.229609</td>\n",
       "      <td>-0.214235</td>\n",
       "      <td>0.126121</td>\n",
       "      <td>1.152938</td>\n",
       "      <td>5.574564</td>\n",
       "      <td>0.477333</td>\n",
       "      <td>0.378698</td>\n",
       "      <td>-1.393074</td>\n",
       "      <td>6.361090</td>\n",
       "      <td>1.519195</td>\n",
       "      <td>-5.208152</td>\n",
       "    </tr>\n",
       "    <tr>\n",
       "      <th>4</th>\n",
       "      <td>192.296255</td>\n",
       "      <td>55762.025369</td>\n",
       "      <td>-0.067009</td>\n",
       "      <td>273.444603</td>\n",
       "      <td>0.572748</td>\n",
       "      <td>0.138009</td>\n",
       "      <td>0.020906</td>\n",
       "      <td>-0.127337</td>\n",
       "      <td>0.229948</td>\n",
       "      <td>-0.214424</td>\n",
       "      <td>0.060268</td>\n",
       "      <td>1.204426</td>\n",
       "      <td>3.557838</td>\n",
       "      <td>0.620489</td>\n",
       "      <td>0.482480</td>\n",
       "      <td>-0.748844</td>\n",
       "      <td>6.132681</td>\n",
       "      <td>0.809112</td>\n",
       "      <td>-4.928255</td>\n",
       "    </tr>\n",
       "  </tbody>\n",
       "</table>\n",
       "</div>"
      ],
      "text/plain": [
       "      logLike            t0    u0_amp          tE  log10_thetaE       piS  \\\n",
       "0  184.877683  55763.312017 -0.051724  287.263116      0.728651  0.135751   \n",
       "1  189.491588  55763.143207 -0.056239  273.684662      0.363211  0.123753   \n",
       "2  191.105374  55762.869349 -0.059092  280.197751      0.597241  0.117932   \n",
       "3  191.884685  55764.431058 -0.042804  279.152526      0.617667  0.098635   \n",
       "4  192.296255  55762.025369 -0.067009  273.444603      0.572748  0.138009   \n",
       "\n",
       "      piE_E     piE_N     xS0_E     xS0_N     muS_E     muS_N        mL  \\\n",
       "0  0.021247 -0.093013  0.229670 -0.213814  0.066662  1.157038  6.890218   \n",
       "1  0.019904 -0.110011  0.229638 -0.214271  0.122164  1.132030  2.534837   \n",
       "2  0.019986 -0.119649  0.230059 -0.214283  0.031534  1.162280  4.004285   \n",
       "3  0.025575 -0.087679  0.229609 -0.214235  0.126121  1.152938  5.574564   \n",
       "4  0.020906 -0.127337  0.229948 -0.214424  0.060268  1.204426  3.557838   \n",
       "\n",
       "        piL     piRel     muL_E     muL_N   muRel_E   muRel_N  \n",
       "0  0.646538  0.510787 -1.449263  7.793189  1.515925 -6.636151  \n",
       "1  0.381767  0.258013 -0.426201  4.162822  0.548365 -3.030792  \n",
       "2  0.597806  0.479873 -0.818066  6.248444  0.849601 -5.086164  \n",
       "3  0.477333  0.378698 -1.393074  6.361090  1.519195 -5.208152  \n",
       "4  0.620489  0.482480 -0.748844  6.132681  0.809112 -4.928255  "
      ]
     },
     "execution_count": 11,
     "metadata": {},
     "output_type": "execute_result"
    }
   ],
   "source": [
    "ob = Table.read(\"data/research_paper/OB110462_DW_post.fits\").to_pandas() #color data\n",
    "ob.head()"
   ]
  },
  {
   "cell_type": "code",
   "execution_count": 12,
   "metadata": {},
   "outputs": [
    {
     "data": {
      "text/plain": [
       "Index(['logLike', 't0', 'u0_amp', 'tE', 'log10_thetaE', 'piS', 'piE_E',\n",
       "       'piE_N', 'xS0_E', 'xS0_N', 'muS_E', 'muS_N', 'mL', 'piL', 'piRel',\n",
       "       'muL_E', 'muL_N', 'muRel_E', 'muRel_N'],\n",
       "      dtype='object')"
      ]
     },
     "execution_count": 12,
     "metadata": {},
     "output_type": "execute_result"
    }
   ],
   "source": [
    "ob.columns"
   ]
  },
  {
   "attachments": {},
   "cell_type": "markdown",
   "metadata": {},
   "source": [
    "combine data"
   ]
  },
  {
   "cell_type": "code",
   "execution_count": 13,
   "metadata": {},
   "outputs": [
    {
     "data": {
      "text/plain": [
       "23139"
      ]
     },
     "execution_count": 13,
     "metadata": {},
     "output_type": "execute_result"
    }
   ],
   "source": [
    "popsCols = list(pops.columns)\n",
    "obCols = list(ob.columns)\n",
    "len(pops) + len(ob)"
   ]
  },
  {
   "cell_type": "code",
   "execution_count": 14,
   "metadata": {},
   "outputs": [],
   "source": [
    "wanted_ob = [\"t0\",\"u0_amp\",\"tE\",\"log10_thetaE\",\"piE_E\",\"muS_E\",\"mL\",\"piRel\",\"muL_E\",\"muRel_E\"]\n",
    "wanted_pops = [\"t0\",\"u0\",\"t_E\",\"theta_E\",\"pi_E\",\"mu_b_S\",\"mass_L\",\"pi_rel\",\"mu_b_L\",\"mu_rel\"]\n",
    "\n",
    "ob_to_pops = {\"t0\":\"t0\", \"u0_amp\":\"u0\",\"tE\":\"t_E\",\"log10_thetaE\":\"theta_E\",\"piE_E\":\"pi_E\",\"muS_E\":\"mu_b_S\",\"mL\":\"mass_L\",\"piRel\":\"pi_rel\",\"muL_E\":\"mu_b_L\",\"muRel_E\":\"mu_rel\"}\n",
    "\n",
    "\n",
    "def gk(val,d=ob_to_pops):\n",
    "    keys = [k for k, v in d.items() if v == val]\n",
    "    if keys:\n",
    "        return keys[0]\n",
    "    return None\n",
    "\n",
    "\n",
    "dfWhole = pd.DataFrame()\n",
    "for j in wanted_ob:\n",
    "    for k in range(len(ob[j])):\n",
    "        dfWhole.at[k,j] = ob[j][k] #0,x \n",
    "\n",
    "dict = {\"id\":[]}\n",
    "\n",
    "for j in wanted_pops:\n",
    "    jVal = gk(j)\n",
    "    dict[jVal] = pops[j]\n",
    "\n",
    "for i in range(len(pops[\"rem_id_L\"])):\n",
    "    dict[\"id\"].append(pops[\"rem_id_L\"][i])\n",
    "\n",
    "dfTotal = pd.concat([dfWhole,pd.DataFrame(dict)])\n"
   ]
  },
  {
   "attachments": {},
   "cell_type": "markdown",
   "metadata": {},
   "source": [
    "Current class labels\n",
    "\n",
    "- 0 = star\n",
    "- 101 = white dwarf , \n",
    "- 102 = neutron star\n",
    "- 103 = black hole\n",
    "\n",
    "Changed/altered class Labels\n",
    "- 0 = star\n",
    "- 1 = mass gap bh (current nan)\n",
    "- 2 = white dwarf\n",
    "- 3 = neutron star\n",
    "- 4 = regular bh"
   ]
  },
  {
   "cell_type": "code",
   "execution_count": 15,
   "metadata": {},
   "outputs": [
    {
     "data": {
      "text/plain": [
       "3285"
      ]
     },
     "execution_count": 15,
     "metadata": {},
     "output_type": "execute_result"
    }
   ],
   "source": [
    "massGP = [val for val in dfTotal[\"mL\"] if val >= 2.5 and val <= 5]\n",
    "len(massGP)"
   ]
  },
  {
   "cell_type": "code",
   "execution_count": 16,
   "metadata": {},
   "outputs": [
    {
     "data": {
      "text/html": [
       "<div>\n",
       "<style scoped>\n",
       "    .dataframe tbody tr th:only-of-type {\n",
       "        vertical-align: middle;\n",
       "    }\n",
       "\n",
       "    .dataframe tbody tr th {\n",
       "        vertical-align: top;\n",
       "    }\n",
       "\n",
       "    .dataframe thead th {\n",
       "        text-align: right;\n",
       "    }\n",
       "</style>\n",
       "<table border=\"1\" class=\"dataframe\">\n",
       "  <thead>\n",
       "    <tr style=\"text-align: right;\">\n",
       "      <th></th>\n",
       "      <th>t0</th>\n",
       "      <th>u0_amp</th>\n",
       "      <th>tE</th>\n",
       "      <th>log10_thetaE</th>\n",
       "      <th>piE_E</th>\n",
       "      <th>muS_E</th>\n",
       "      <th>mL</th>\n",
       "      <th>piRel</th>\n",
       "      <th>muL_E</th>\n",
       "      <th>muRel_E</th>\n",
       "      <th>id</th>\n",
       "    </tr>\n",
       "  </thead>\n",
       "  <tbody>\n",
       "    <tr>\n",
       "      <th>0</th>\n",
       "      <td>55763.312017</td>\n",
       "      <td>-0.051724</td>\n",
       "      <td>287.263116</td>\n",
       "      <td>0.728651</td>\n",
       "      <td>0.021247</td>\n",
       "      <td>0.066662</td>\n",
       "      <td>6.890218</td>\n",
       "      <td>0.510787</td>\n",
       "      <td>-1.449263</td>\n",
       "      <td>1.515925</td>\n",
       "      <td>NaN</td>\n",
       "    </tr>\n",
       "    <tr>\n",
       "      <th>1</th>\n",
       "      <td>55763.143207</td>\n",
       "      <td>-0.056239</td>\n",
       "      <td>273.684662</td>\n",
       "      <td>0.363211</td>\n",
       "      <td>0.019904</td>\n",
       "      <td>0.122164</td>\n",
       "      <td>2.534837</td>\n",
       "      <td>0.258013</td>\n",
       "      <td>-0.426201</td>\n",
       "      <td>0.548365</td>\n",
       "      <td>NaN</td>\n",
       "    </tr>\n",
       "    <tr>\n",
       "      <th>2</th>\n",
       "      <td>55762.869349</td>\n",
       "      <td>-0.059092</td>\n",
       "      <td>280.197751</td>\n",
       "      <td>0.597241</td>\n",
       "      <td>0.019986</td>\n",
       "      <td>0.031534</td>\n",
       "      <td>4.004285</td>\n",
       "      <td>0.479873</td>\n",
       "      <td>-0.818066</td>\n",
       "      <td>0.849601</td>\n",
       "      <td>NaN</td>\n",
       "    </tr>\n",
       "    <tr>\n",
       "      <th>3</th>\n",
       "      <td>55764.431058</td>\n",
       "      <td>-0.042804</td>\n",
       "      <td>279.152526</td>\n",
       "      <td>0.617667</td>\n",
       "      <td>0.025575</td>\n",
       "      <td>0.126121</td>\n",
       "      <td>5.574564</td>\n",
       "      <td>0.378698</td>\n",
       "      <td>-1.393074</td>\n",
       "      <td>1.519195</td>\n",
       "      <td>NaN</td>\n",
       "    </tr>\n",
       "    <tr>\n",
       "      <th>4</th>\n",
       "      <td>55762.025369</td>\n",
       "      <td>-0.067009</td>\n",
       "      <td>273.444603</td>\n",
       "      <td>0.572748</td>\n",
       "      <td>0.020906</td>\n",
       "      <td>0.060268</td>\n",
       "      <td>3.557838</td>\n",
       "      <td>0.482480</td>\n",
       "      <td>-0.748844</td>\n",
       "      <td>0.809112</td>\n",
       "      <td>NaN</td>\n",
       "    </tr>\n",
       "    <tr>\n",
       "      <th>...</th>\n",
       "      <td>...</td>\n",
       "      <td>...</td>\n",
       "      <td>...</td>\n",
       "      <td>...</td>\n",
       "      <td>...</td>\n",
       "      <td>...</td>\n",
       "      <td>...</td>\n",
       "      <td>...</td>\n",
       "      <td>...</td>\n",
       "      <td>...</td>\n",
       "      <td>...</td>\n",
       "    </tr>\n",
       "    <tr>\n",
       "      <th>19713</th>\n",
       "      <td>-100.757093</td>\n",
       "      <td>-0.002355</td>\n",
       "      <td>10.272065</td>\n",
       "      <td>0.156485</td>\n",
       "      <td>0.026858</td>\n",
       "      <td>-2.123513</td>\n",
       "      <td>0.717312</td>\n",
       "      <td>0.004203</td>\n",
       "      <td>3.368475</td>\n",
       "      <td>5.564230</td>\n",
       "      <td>101.0</td>\n",
       "    </tr>\n",
       "    <tr>\n",
       "      <th>19714</th>\n",
       "      <td>44.697865</td>\n",
       "      <td>0.031002</td>\n",
       "      <td>44.315966</td>\n",
       "      <td>0.413579</td>\n",
       "      <td>0.080408</td>\n",
       "      <td>-0.152435</td>\n",
       "      <td>0.633246</td>\n",
       "      <td>0.033255</td>\n",
       "      <td>3.079775</td>\n",
       "      <td>3.408702</td>\n",
       "      <td>101.0</td>\n",
       "    </tr>\n",
       "    <tr>\n",
       "      <th>19715</th>\n",
       "      <td>36.049509</td>\n",
       "      <td>-0.020305</td>\n",
       "      <td>41.374829</td>\n",
       "      <td>0.282264</td>\n",
       "      <td>0.060556</td>\n",
       "      <td>-0.406050</td>\n",
       "      <td>0.573866</td>\n",
       "      <td>0.017093</td>\n",
       "      <td>-1.207997</td>\n",
       "      <td>2.491783</td>\n",
       "      <td>101.0</td>\n",
       "    </tr>\n",
       "    <tr>\n",
       "      <th>19716</th>\n",
       "      <td>107.731479</td>\n",
       "      <td>-0.341648</td>\n",
       "      <td>50.540982</td>\n",
       "      <td>0.495956</td>\n",
       "      <td>0.070537</td>\n",
       "      <td>-0.167646</td>\n",
       "      <td>0.865635</td>\n",
       "      <td>0.034983</td>\n",
       "      <td>1.031318</td>\n",
       "      <td>3.584180</td>\n",
       "      <td>101.0</td>\n",
       "    </tr>\n",
       "    <tr>\n",
       "      <th>19717</th>\n",
       "      <td>-284.983980</td>\n",
       "      <td>-0.271003</td>\n",
       "      <td>29.328169</td>\n",
       "      <td>0.336153</td>\n",
       "      <td>0.049972</td>\n",
       "      <td>-0.318781</td>\n",
       "      <td>0.828171</td>\n",
       "      <td>0.016798</td>\n",
       "      <td>-2.453456</td>\n",
       "      <td>4.186411</td>\n",
       "      <td>101.0</td>\n",
       "    </tr>\n",
       "  </tbody>\n",
       "</table>\n",
       "<p>23139 rows × 11 columns</p>\n",
       "</div>"
      ],
      "text/plain": [
       "                 t0    u0_amp          tE  log10_thetaE     piE_E     muS_E  \\\n",
       "0      55763.312017 -0.051724  287.263116      0.728651  0.021247  0.066662   \n",
       "1      55763.143207 -0.056239  273.684662      0.363211  0.019904  0.122164   \n",
       "2      55762.869349 -0.059092  280.197751      0.597241  0.019986  0.031534   \n",
       "3      55764.431058 -0.042804  279.152526      0.617667  0.025575  0.126121   \n",
       "4      55762.025369 -0.067009  273.444603      0.572748  0.020906  0.060268   \n",
       "...             ...       ...         ...           ...       ...       ...   \n",
       "19713   -100.757093 -0.002355   10.272065      0.156485  0.026858 -2.123513   \n",
       "19714     44.697865  0.031002   44.315966      0.413579  0.080408 -0.152435   \n",
       "19715     36.049509 -0.020305   41.374829      0.282264  0.060556 -0.406050   \n",
       "19716    107.731479 -0.341648   50.540982      0.495956  0.070537 -0.167646   \n",
       "19717   -284.983980 -0.271003   29.328169      0.336153  0.049972 -0.318781   \n",
       "\n",
       "             mL     piRel     muL_E   muRel_E     id  \n",
       "0      6.890218  0.510787 -1.449263  1.515925    NaN  \n",
       "1      2.534837  0.258013 -0.426201  0.548365    NaN  \n",
       "2      4.004285  0.479873 -0.818066  0.849601    NaN  \n",
       "3      5.574564  0.378698 -1.393074  1.519195    NaN  \n",
       "4      3.557838  0.482480 -0.748844  0.809112    NaN  \n",
       "...         ...       ...       ...       ...    ...  \n",
       "19713  0.717312  0.004203  3.368475  5.564230  101.0  \n",
       "19714  0.633246  0.033255  3.079775  3.408702  101.0  \n",
       "19715  0.573866  0.017093 -1.207997  2.491783  101.0  \n",
       "19716  0.865635  0.034983  1.031318  3.584180  101.0  \n",
       "19717  0.828171  0.016798 -2.453456  4.186411  101.0  \n",
       "\n",
       "[23139 rows x 11 columns]"
      ]
     },
     "execution_count": 16,
     "metadata": {},
     "output_type": "execute_result"
    }
   ],
   "source": [
    "dfTotal"
   ]
  },
  {
   "cell_type": "code",
   "execution_count": 17,
   "metadata": {},
   "outputs": [
    {
     "name": "stdout",
     "output_type": "stream",
     "text": [
      "t0              0\n",
      "u0_amp          0\n",
      "tE              0\n",
      "log10_thetaE    0\n",
      "piE_E           0\n",
      "muS_E           0\n",
      "mL              0\n",
      "piRel           0\n",
      "muL_E           0\n",
      "muRel_E         0\n",
      "id              0\n",
      "dtype: int64\n"
     ]
    }
   ],
   "source": [
    "dfTotal = dfTotal.fillna(1)\n",
    "dfTotal = pd.concat([dfTotal[[col for col in dfTotal.columns if col != \"id\"]], dfTotal[\"id\"].replace(101,2)], axis=1)\n",
    "dfTotal = pd.concat([dfTotal[[col for col in dfTotal.columns if col != \"id\"]], dfTotal[\"id\"].replace(102,3)], axis=1)\n",
    "dfTotal = pd.concat([dfTotal[[col for col in dfTotal.columns if col != \"id\"]], dfTotal[\"id\"].replace(103,4)], axis=1)\n",
    "print(dfTotal.isna().sum())\n"
   ]
  },
  {
   "cell_type": "code",
   "execution_count": 18,
   "metadata": {},
   "outputs": [
    {
     "data": {
      "text/plain": [
       "0.0    17153\n",
       "1.0     3421\n",
       "2.0     2088\n",
       "3.0      276\n",
       "4.0      201\n",
       "Name: id, dtype: int64"
      ]
     },
     "execution_count": 18,
     "metadata": {},
     "output_type": "execute_result"
    }
   ],
   "source": [
    "dfTotal[\"id\"].value_counts()"
   ]
  },
  {
   "attachments": {},
   "cell_type": "markdown",
   "metadata": {},
   "source": [
    "Preprocess data"
   ]
  },
  {
   "cell_type": "code",
   "execution_count": 19,
   "metadata": {},
   "outputs": [
    {
     "data": {
      "text/plain": [
       "t0              float64\n",
       "u0_amp          float64\n",
       "tE              float64\n",
       "log10_thetaE    float64\n",
       "piE_E           float64\n",
       "muS_E           float64\n",
       "mL              float64\n",
       "piRel           float64\n",
       "muL_E           float64\n",
       "muRel_E         float64\n",
       "id              float64\n",
       "dtype: object"
      ]
     },
     "execution_count": 19,
     "metadata": {},
     "output_type": "execute_result"
    }
   ],
   "source": [
    "dfTotal.dtypes"
   ]
  },
  {
   "cell_type": "code",
   "execution_count": 20,
   "metadata": {},
   "outputs": [
    {
     "name": "stdout",
     "output_type": "stream",
     "text": [
      "t0              1.983625\n",
      "u0_amp          0.401305\n",
      "tE              1.887421\n",
      "log10_thetaE    4.519006\n",
      "piE_E           2.087928\n",
      "muS_E          -0.109301\n",
      "mL              3.042050\n",
      "piRel           3.724419\n",
      "muL_E          -0.087966\n",
      "muRel_E         1.331930\n",
      "id              2.110386\n",
      "dtype: float64\n",
      "_________________________\n",
      " \n",
      "t0               1.936378\n",
      "u0_amp           2.476196\n",
      "tE               1.877551\n",
      "log10_thetaE    51.244954\n",
      "piE_E           30.167515\n",
      "muS_E            1.872167\n",
      "mL              13.631273\n",
      "piRel           59.298826\n",
      "muL_E            2.442283\n",
      "muRel_E          7.202166\n",
      "id               4.426641\n",
      "dtype: float64\n"
     ]
    }
   ],
   "source": [
    "print(dfTotal.skew())\n",
    "print(\"_________________________\")\n",
    "print(\" \")\n",
    "print(dfTotal.kurtosis())"
   ]
  },
  {
   "cell_type": "code",
   "execution_count": 21,
   "metadata": {},
   "outputs": [
    {
     "data": {
      "image/png": "[encoded data removed]",
      "text/plain": [
       "<Figure size 200x200 with 1 Axes>"
      ]
     },
     "metadata": {},
     "output_type": "display_data"
    },
    {
     "data": {
      "image/png": "[encoded data removed]",
      "text/plain": [
       "<Figure size 200x200 with 1 Axes>"
      ]
     },
     "metadata": {},
     "output_type": "display_data"
    },
    {
     "data": {
      "image/png": "[encoded data removed]",
      "text/plain": [
       "<Figure size 200x200 with 1 Axes>"
      ]
     },
     "metadata": {},
     "output_type": "display_data"
    },
    {
     "data": {
      "image/png": "[encoded data removed]",
      "text/plain": [
       "<Figure size 200x200 with 1 Axes>"
      ]
     },
     "metadata": {},
     "output_type": "display_data"
    },
    {
     "data": {
      "image/png": "[encoded data removed]",
      "text/plain": [
       "<Figure size 200x200 with 1 Axes>"
      ]
     },
     "metadata": {},
     "output_type": "display_data"
    },
    {
     "data": {
      "image/png": "[encoded data removed]",
      "text/plain": [
       "<Figure size 200x200 with 1 Axes>"
      ]
     },
     "metadata": {},
     "output_type": "display_data"
    },
    {
     "data": {
      "image/png": "[encoded data removed]",
      "text/plain": [
       "<Figure size 200x200 with 1 Axes>"
      ]
     },
     "metadata": {},
     "output_type": "display_data"
    },
    {
     "data": {
      "image/png": "[encoded data removed]",
      "text/plain": [
       "<Figure size 200x200 with 1 Axes>"
      ]
     },
     "metadata": {},
     "output_type": "display_data"
    },
    {
     "data": {
      "image/png": "[encoded data removed]",
      "text/plain": [
       "<Figure size 200x200 with 1 Axes>"
      ]
     },
     "metadata": {},
     "output_type": "display_data"
    },
    {
     "data": {
      "image/png": "[encoded data removed]",
      "text/plain": [
       "<Figure size 200x200 with 1 Axes>"
      ]
     },
     "metadata": {},
     "output_type": "display_data"
    },
    {
     "data": {
      "image/png": "[encoded data removed]",
      "text/plain": [
       "<Figure size 200x200 with 1 Axes>"
      ]
     },
     "metadata": {},
     "output_type": "display_data"
    }
   ],
   "source": [
    "from matplotlib import rcParams\n",
    "rcParams['figure.figsize'] = 2,2\n",
    "for col in list(dfTotal.columns):\n",
    "    plt.figure()\n",
    "    sns.kdeplot(dfTotal[col],bw_method=0.5)\n",
    "    \n",
    "    "
   ]
  },
  {
   "attachments": {},
   "cell_type": "markdown",
   "metadata": {},
   "source": [
    "Deal with imbalanced dataset (labels)"
   ]
  },
  {
   "attachments": {},
   "cell_type": "markdown",
   "metadata": {},
   "source": [
    "classes 3 and 4 are critical for prediction - neutron stars can fall in the mass gap, and black holes can be similar to mass gap black holes"
   ]
  },
  {
   "attachments": {},
   "cell_type": "markdown",
   "metadata": {},
   "source": [
    "we should upsample to preserve data: SMOTE-TOMEK link algorithm"
   ]
  },
  {
   "cell_type": "code",
   "execution_count": 22,
   "metadata": {},
   "outputs": [
    {
     "data": {
      "text/plain": [
       "0.0    17153\n",
       "1.0     3421\n",
       "2.0     2088\n",
       "3.0      276\n",
       "4.0      201\n",
       "Name: id, dtype: int64"
      ]
     },
     "execution_count": 22,
     "metadata": {},
     "output_type": "execute_result"
    }
   ],
   "source": [
    "dfTotal[\"id\"].value_counts()"
   ]
  },
  {
   "attachments": {},
   "cell_type": "markdown",
   "metadata": {},
   "source": [
    "split data"
   ]
  },
  {
   "cell_type": "code",
   "execution_count": 23,
   "metadata": {},
   "outputs": [],
   "source": [
    "from sklearn.model_selection import train_test_split\n",
    "xCols = [col for col in dfTotal.columns if col != \"id\"]\n",
    "x_data = dfTotal[xCols]\n",
    "y_data = dfTotal[\"id\"]\n",
    "\n",
    "X_train, X_t, y_train, y_t = train_test_split(x_data, y_data, test_size = 0.4, random_state=42)\n",
    "X_test, X_val, y_test, y_val = train_test_split(X_t,y_t,test_size=0.2)"
   ]
  },
  {
   "attachments": {},
   "cell_type": "markdown",
   "metadata": {},
   "source": [
    "SMOTETomek fit for even data"
   ]
  },
  {
   "cell_type": "code",
   "execution_count": 24,
   "metadata": {},
   "outputs": [],
   "source": [
    "from imblearn.combine import SMOTETomek\n",
    "smk = SMOTETomek()\n",
    "X_res,y_res=smk.fit_resample(X_train, y_train)\n",
    "\n",
    "smk2 = SMOTETomek()\n",
    "X_testRes, y_testRes = smk2.fit_resample(X_test,y_test)"
   ]
  },
  {
   "attachments": {},
   "cell_type": "markdown",
   "metadata": {},
   "source": [
    "vie PCA'd data"
   ]
  },
  {
   "cell_type": "code",
   "execution_count": 25,
   "metadata": {},
   "outputs": [],
   "source": [
    "from sklearn.decomposition import PCA"
   ]
  },
  {
   "cell_type": "code",
   "execution_count": 26,
   "metadata": {},
   "outputs": [],
   "source": [
    "pca = PCA(n_components=1)\n",
    "Xcop = X_res.copy()\n",
    "Xcop = pca.fit_transform(Xcop)"
   ]
  },
  {
   "cell_type": "code",
   "execution_count": 27,
   "metadata": {},
   "outputs": [
    {
     "data": {
      "text/plain": [
       "1.0    10277\n",
       "4.0    10275\n",
       "3.0    10270\n",
       "2.0    10096\n",
       "0.0    10095\n",
       "Name: id, dtype: int64"
      ]
     },
     "execution_count": 27,
     "metadata": {},
     "output_type": "execute_result"
    }
   ],
   "source": [
    "y_res.value_counts()"
   ]
  },
  {
   "cell_type": "code",
   "execution_count": 28,
   "metadata": {},
   "outputs": [
    {
     "data": {
      "image/png": "[encoded data removed]",
      "text/plain": [
       "<Figure size 200x200 with 1 Axes>"
      ]
     },
     "metadata": {},
     "output_type": "display_data"
    }
   ],
   "source": [
    "fig = plt.figure()\n",
    "ax = fig.add_subplot()\n",
    "\n",
    "for i in range(1000):\n",
    "    ax.scatter(Xcop[i][0], y_res[i])\n",
    "\n",
    "ax.set_xlabel('Principle Component 1')\n",
    "ax.set_ylabel('ID')\n",
    "\n",
    "plt.show()"
   ]
  },
  {
   "attachments": {},
   "cell_type": "markdown",
   "metadata": {},
   "source": [
    "Change the y's to vectors with indices"
   ]
  },
  {
   "attachments": {},
   "cell_type": "markdown",
   "metadata": {},
   "source": [
    "- train data: X_res, y_res\n",
    "- val data: X_val, y_val\n",
    "- train data: X_testRes, y_testRes"
   ]
  },
  {
   "cell_type": "code",
   "execution_count": 48,
   "metadata": {},
   "outputs": [],
   "source": [
    "y_res = y_res.to_numpy()\n",
    "y_val = y_val.to_numpy()\n",
    "y_testRes = y_testRes.to_numpy()"
   ]
  },
  {
   "cell_type": "code",
   "execution_count": 49,
   "metadata": {},
   "outputs": [],
   "source": [
    "y_res = y_res.astype(int)\n",
    "y_val = y_val.astype(int)\n",
    "y_testRes = y_testRes.astype(int)"
   ]
  },
  {
   "cell_type": "code",
   "execution_count": 52,
   "metadata": {},
   "outputs": [],
   "source": [
    "arr1 = []\n",
    "for i in range(len(y_res)):\n",
    "    thing1 = [0,0,0,0,0]\n",
    "    thing1[y_res[i]]=1\n",
    "    arr1.append(thing1)\n",
    "        \n",
    "arr2 = []\n",
    "for j in range(len(y_val)):\n",
    "    thing2 = [0,0,0,0,0]\n",
    "    thing2[y_val[j]]=1\n",
    "    arr2.append(thing2)\n",
    "\n",
    "arr3 = []\n",
    "for k in range(len(y_testRes)):\n",
    "    thing3 = [0,0,0,0,0]\n",
    "    thing3[y_testRes[k]]=1 \n",
    "    arr3.append(thing3)\n",
    "\n",
    "\n",
    "yTraining = np.array(arr1)\n",
    "yValidation = np.array(arr2)\n",
    "yTesting = np.array(arr3)"
   ]
  },
  {
   "attachments": {},
   "cell_type": "markdown",
   "metadata": {},
   "source": [
    "Model Building"
   ]
  },
  {
   "attachments": {},
   "cell_type": "markdown",
   "metadata": {},
   "source": [
    "imports"
   ]
  },
  {
   "cell_type": "code",
   "execution_count": 4,
   "metadata": {},
   "outputs": [],
   "source": [
    "import tensorflow as tf\n",
    "from tensorflow import keras\n",
    "from keras.callbacks import EarlyStopping"
   ]
  },
  {
   "cell_type": "code",
   "execution_count": 3,
   "metadata": {},
   "outputs": [],
   "source": [
    "def model(metrics):\n",
    "   \n",
    "    inputs = keras.Input(shape=(10,))\n",
    "    net = tf.keras.layers.Dense(32, activation='relu')(inputs)\n",
    "    net = tf.keras.layers.Dropout(0.2)(net)\n",
    "    net = tf.keras.layers.Dense(64, activation='relu')(net)\n",
    "    out = tf.keras.layers.Dense(5, activation='softmax')(net)\n",
    "    \n",
    "    model = tf.keras.models.Model(inputs=inputs, outputs=out)\n",
    "    model.compile(tf.keras.optimizers.Adam(learning_rate=1e-5), loss='categorical_crossentropy', metrics=metrics)\n",
    "    \n",
    "    return model"
   ]
  },
  {
   "cell_type": "code",
   "execution_count": 6,
   "metadata": {},
   "outputs": [],
   "source": [
    "es = EarlyStopping(monitor='val_loss', mode='min', verbose=1, patience=20)"
   ]
  },
  {
   "cell_type": "code",
   "execution_count": 7,
   "metadata": {},
   "outputs": [
    {
     "name": "stdout",
     "output_type": "stream",
     "text": [
      "Model: \"model\"\n",
      "_________________________________________________________________\n",
      " Layer (type)                Output Shape              Param #   \n",
      "=================================================================\n",
      " input_1 (InputLayer)        [(None, 10)]              0         \n",
      "                                                                 \n",
      " dense (Dense)               (None, 32)                352       \n",
      "                                                                 \n",
      " dropout (Dropout)           (None, 32)                0         \n",
      "                                                                 \n",
      " dense_1 (Dense)             (None, 64)                2112      \n",
      "                                                                 \n",
      " dense_2 (Dense)             (None, 5)                 325       \n",
      "                                                                 \n",
      "=================================================================\n",
      "Total params: 2,789\n",
      "Trainable params: 2,789\n",
      "Non-trainable params: 0\n",
      "_________________________________________________________________\n"
     ]
    }
   ],
   "source": [
    "METRICS = [\n",
    "    tf.keras.metrics.BinaryAccuracy(name='accuracy'),\n",
    "      tf.keras.metrics.Precision(name='precision'),\n",
    "      tf.keras.metrics.Recall(name='recall')\n",
    "]\n",
    "\n",
    "massDet = model(METRICS)\n",
    "massDet.summary()"
   ]
  },
  {
   "cell_type": "code",
   "execution_count": 55,
   "metadata": {},
   "outputs": [
    {
     "name": "stdout",
     "output_type": "stream",
     "text": [
      "Epoch 1/4000\n",
      "1595/1595 - 4s - loss: 12.5932 - accuracy: 0.7557 - precision: 0.3850 - recall: 0.3705 - val_loss: 8.8256 - val_accuracy: 0.6942 - val_precision: 0.2034 - val_recall: 0.1814 - 4s/epoch - 2ms/step\n",
      "Epoch 2/4000\n",
      "1595/1595 - 4s - loss: 10.8629 - accuracy: 0.7594 - precision: 0.3942 - recall: 0.3779 - val_loss: 7.5916 - val_accuracy: 0.6954 - val_precision: 0.2037 - val_recall: 0.1798 - 4s/epoch - 2ms/step\n",
      "Epoch 3/4000\n",
      "1595/1595 - 3s - loss: 9.5371 - accuracy: 0.7624 - precision: 0.4010 - recall: 0.3813 - val_loss: 6.3836 - val_accuracy: 0.6996 - val_precision: 0.2075 - val_recall: 0.1782 - 3s/epoch - 2ms/step\n",
      "Epoch 4/4000\n",
      "1595/1595 - 3s - loss: 8.1036 - accuracy: 0.7680 - precision: 0.4152 - recall: 0.3911 - val_loss: 5.1985 - val_accuracy: 0.7054 - val_precision: 0.2171 - val_recall: 0.1814 - 3s/epoch - 2ms/step\n",
      "Epoch 5/4000\n",
      "1595/1595 - 3s - loss: 6.9731 - accuracy: 0.7716 - precision: 0.4240 - recall: 0.3961 - val_loss: 4.1827 - val_accuracy: 0.7191 - val_precision: 0.2372 - val_recall: 0.1825 - 3s/epoch - 2ms/step\n",
      "Epoch 6/4000\n",
      "1595/1595 - 3s - loss: 6.0595 - accuracy: 0.7793 - precision: 0.4438 - recall: 0.4092 - val_loss: 3.6545 - val_accuracy: 0.7225 - val_precision: 0.2425 - val_recall: 0.1825 - 3s/epoch - 2ms/step\n",
      "Epoch 7/4000\n",
      "1595/1595 - 3s - loss: 5.0984 - accuracy: 0.7865 - precision: 0.4631 - recall: 0.4245 - val_loss: 3.0374 - val_accuracy: 0.7120 - val_precision: 0.2241 - val_recall: 0.1787 - 3s/epoch - 2ms/step\n",
      "Epoch 8/4000\n",
      "1595/1595 - 3s - loss: 4.6701 - accuracy: 0.7910 - precision: 0.4754 - recall: 0.4322 - val_loss: 2.4022 - val_accuracy: 0.7215 - val_precision: 0.2375 - val_recall: 0.1776 - 3s/epoch - 2ms/step\n",
      "Epoch 9/4000\n",
      "1595/1595 - 3s - loss: 4.1342 - accuracy: 0.7949 - precision: 0.4860 - recall: 0.4405 - val_loss: 2.3232 - val_accuracy: 0.7165 - val_precision: 0.2288 - val_recall: 0.1760 - 3s/epoch - 2ms/step\n",
      "Epoch 10/4000\n",
      "1595/1595 - 3s - loss: 3.8648 - accuracy: 0.7976 - precision: 0.4934 - recall: 0.4447 - val_loss: 2.1551 - val_accuracy: 0.7208 - val_precision: 0.2346 - val_recall: 0.1749 - 3s/epoch - 2ms/step\n",
      "Epoch 11/4000\n",
      "1595/1595 - 3s - loss: 3.4419 - accuracy: 0.8026 - precision: 0.5074 - recall: 0.4530 - val_loss: 2.0616 - val_accuracy: 0.7179 - val_precision: 0.2286 - val_recall: 0.1728 - 3s/epoch - 2ms/step\n",
      "Epoch 12/4000\n",
      "1595/1595 - 4s - loss: 3.1740 - accuracy: 0.8040 - precision: 0.5113 - recall: 0.4555 - val_loss: 1.9402 - val_accuracy: 0.7257 - val_precision: 0.2433 - val_recall: 0.1760 - 4s/epoch - 3ms/step\n",
      "Epoch 13/4000\n",
      "1595/1595 - 3s - loss: 2.9278 - accuracy: 0.8080 - precision: 0.5228 - recall: 0.4608 - val_loss: 1.8571 - val_accuracy: 0.7295 - val_precision: 0.2506 - val_recall: 0.1771 - 3s/epoch - 2ms/step\n",
      "Epoch 14/4000\n",
      "1595/1595 - 3s - loss: 2.7314 - accuracy: 0.8113 - precision: 0.5323 - recall: 0.4675 - val_loss: 1.6717 - val_accuracy: 0.7368 - val_precision: 0.2677 - val_recall: 0.1820 - 3s/epoch - 2ms/step\n",
      "Epoch 15/4000\n",
      "1595/1595 - 3s - loss: 2.4785 - accuracy: 0.8139 - precision: 0.5397 - recall: 0.4716 - val_loss: 1.6031 - val_accuracy: 0.7505 - val_precision: 0.3019 - val_recall: 0.1884 - 3s/epoch - 2ms/step\n",
      "Epoch 16/4000\n",
      "1595/1595 - 3s - loss: 2.3371 - accuracy: 0.8164 - precision: 0.5472 - recall: 0.4742 - val_loss: 1.5827 - val_accuracy: 0.7410 - val_precision: 0.2721 - val_recall: 0.1760 - 3s/epoch - 2ms/step\n",
      "Epoch 17/4000\n",
      "1595/1595 - 3s - loss: 2.1940 - accuracy: 0.8187 - precision: 0.5541 - recall: 0.4786 - val_loss: 1.5512 - val_accuracy: 0.7389 - val_precision: 0.2638 - val_recall: 0.1706 - 3s/epoch - 2ms/step\n",
      "Epoch 18/4000\n",
      "1595/1595 - 3s - loss: 2.1617 - accuracy: 0.8214 - precision: 0.5623 - recall: 0.4826 - val_loss: 1.5979 - val_accuracy: 0.7303 - val_precision: 0.2463 - val_recall: 0.1690 - 3s/epoch - 2ms/step\n",
      "Epoch 19/4000\n",
      "1595/1595 - 3s - loss: 1.9768 - accuracy: 0.8240 - precision: 0.5705 - recall: 0.4857 - val_loss: 1.5551 - val_accuracy: 0.7382 - val_precision: 0.2632 - val_recall: 0.1717 - 3s/epoch - 2ms/step\n",
      "Epoch 20/4000\n",
      "1595/1595 - 3s - loss: 1.9230 - accuracy: 0.8260 - precision: 0.5768 - recall: 0.4886 - val_loss: 1.4749 - val_accuracy: 0.7495 - val_precision: 0.2884 - val_recall: 0.1722 - 3s/epoch - 2ms/step\n",
      "Epoch 21/4000\n",
      "1595/1595 - 3s - loss: 1.7745 - accuracy: 0.8287 - precision: 0.5855 - recall: 0.4915 - val_loss: 1.4569 - val_accuracy: 0.7509 - val_precision: 0.2919 - val_recall: 0.1722 - 3s/epoch - 2ms/step\n",
      "Epoch 22/4000\n",
      "1595/1595 - 3s - loss: 1.7137 - accuracy: 0.8308 - precision: 0.5924 - recall: 0.4943 - val_loss: 1.4696 - val_accuracy: 0.7535 - val_precision: 0.3010 - val_recall: 0.1760 - 3s/epoch - 2ms/step\n",
      "Epoch 23/4000\n",
      "1595/1595 - 3s - loss: 1.7208 - accuracy: 0.8325 - precision: 0.5975 - recall: 0.4972 - val_loss: 1.4539 - val_accuracy: 0.7553 - val_precision: 0.3145 - val_recall: 0.1895 - 3s/epoch - 2ms/step\n",
      "Epoch 24/4000\n",
      "1595/1595 - 3s - loss: 1.6086 - accuracy: 0.8350 - precision: 0.6066 - recall: 0.4981 - val_loss: 1.3787 - val_accuracy: 0.7621 - val_precision: 0.3385 - val_recall: 0.1987 - 3s/epoch - 2ms/step\n",
      "Epoch 25/4000\n",
      "1595/1595 - 3s - loss: 1.5414 - accuracy: 0.8367 - precision: 0.6126 - recall: 0.4992 - val_loss: 1.2655 - val_accuracy: 0.7978 - val_precision: 0.4899 - val_recall: 0.2624 - 3s/epoch - 2ms/step\n",
      "Epoch 26/4000\n",
      "1595/1595 - 3s - loss: 1.4765 - accuracy: 0.8386 - precision: 0.6196 - recall: 0.5002 - val_loss: 1.4014 - val_accuracy: 0.7710 - val_precision: 0.3688 - val_recall: 0.2041 - 3s/epoch - 2ms/step\n",
      "Epoch 27/4000\n",
      "1595/1595 - 3s - loss: 1.4525 - accuracy: 0.8405 - precision: 0.6262 - recall: 0.5030 - val_loss: 1.3295 - val_accuracy: 0.7825 - val_precision: 0.4146 - val_recall: 0.2122 - 3s/epoch - 2ms/step\n",
      "Epoch 28/4000\n",
      "1595/1595 - 3s - loss: 1.3933 - accuracy: 0.8422 - precision: 0.6326 - recall: 0.5032 - val_loss: 1.3558 - val_accuracy: 0.7713 - val_precision: 0.3582 - val_recall: 0.1814 - 3s/epoch - 2ms/step\n",
      "Epoch 29/4000\n",
      "1595/1595 - 3s - loss: 1.4016 - accuracy: 0.8443 - precision: 0.6404 - recall: 0.5057 - val_loss: 1.3026 - val_accuracy: 0.7801 - val_precision: 0.3991 - val_recall: 0.1965 - 3s/epoch - 2ms/step\n",
      "Epoch 30/4000\n",
      "1595/1595 - 3s - loss: 1.3051 - accuracy: 0.8455 - precision: 0.6442 - recall: 0.5079 - val_loss: 1.2811 - val_accuracy: 0.7915 - val_precision: 0.4537 - val_recall: 0.2090 - 3s/epoch - 2ms/step\n",
      "Epoch 31/4000\n",
      "1595/1595 - 3s - loss: 1.2486 - accuracy: 0.8463 - precision: 0.6481 - recall: 0.5069 - val_loss: 1.2546 - val_accuracy: 0.7981 - val_precision: 0.4892 - val_recall: 0.2198 - 3s/epoch - 2ms/step\n",
      "Epoch 32/4000\n",
      "1595/1595 - 3s - loss: 1.2998 - accuracy: 0.8474 - precision: 0.6524 - recall: 0.5074 - val_loss: 1.2335 - val_accuracy: 0.7998 - val_precision: 0.4988 - val_recall: 0.2187 - 3s/epoch - 2ms/step\n",
      "Epoch 33/4000\n",
      "1595/1595 - 3s - loss: 1.2133 - accuracy: 0.8489 - precision: 0.6589 - recall: 0.5073 - val_loss: 1.2530 - val_accuracy: 0.7950 - val_precision: 0.4718 - val_recall: 0.2079 - 3s/epoch - 2ms/step\n",
      "Epoch 34/4000\n",
      "1595/1595 - 3s - loss: 1.1820 - accuracy: 0.8508 - precision: 0.6659 - recall: 0.5099 - val_loss: 1.2877 - val_accuracy: 0.7910 - val_precision: 0.4519 - val_recall: 0.2106 - 3s/epoch - 2ms/step\n",
      "Epoch 35/4000\n",
      "1595/1595 - 3s - loss: 1.1386 - accuracy: 0.8518 - precision: 0.6701 - recall: 0.5100 - val_loss: 1.2370 - val_accuracy: 0.7986 - val_precision: 0.4917 - val_recall: 0.2073 - 3s/epoch - 2ms/step\n",
      "Epoch 36/4000\n",
      "1595/1595 - 3s - loss: 1.1562 - accuracy: 0.8533 - precision: 0.6764 - recall: 0.5110 - val_loss: 1.1541 - val_accuracy: 0.8146 - val_precision: 0.5862 - val_recall: 0.2478 - 3s/epoch - 2ms/step\n",
      "Epoch 37/4000\n",
      "1595/1595 - 3s - loss: 1.1085 - accuracy: 0.8550 - precision: 0.6834 - recall: 0.5121 - val_loss: 1.2449 - val_accuracy: 0.7928 - val_precision: 0.4557 - val_recall: 0.1863 - 3s/epoch - 2ms/step\n",
      "Epoch 38/4000\n",
      "1595/1595 - 3s - loss: 1.1080 - accuracy: 0.8557 - precision: 0.6871 - recall: 0.5113 - val_loss: 1.1387 - val_accuracy: 0.8187 - val_precision: 0.6099 - val_recall: 0.2592 - 3s/epoch - 2ms/step\n",
      "Epoch 39/4000\n",
      "1595/1595 - 3s - loss: 1.0692 - accuracy: 0.8568 - precision: 0.6917 - recall: 0.5125 - val_loss: 1.1502 - val_accuracy: 0.8126 - val_precision: 0.5773 - val_recall: 0.2360 - 3s/epoch - 2ms/step\n",
      "Epoch 40/4000\n",
      "1595/1595 - 3s - loss: 1.0406 - accuracy: 0.8582 - precision: 0.6979 - recall: 0.5130 - val_loss: 1.1158 - val_accuracy: 0.8207 - val_precision: 0.6221 - val_recall: 0.2640 - 3s/epoch - 2ms/step\n",
      "Epoch 41/4000\n",
      "1595/1595 - 3s - loss: 1.0458 - accuracy: 0.8597 - precision: 0.7034 - recall: 0.5164 - val_loss: 1.1093 - val_accuracy: 0.8227 - val_precision: 0.6309 - val_recall: 0.2732 - 3s/epoch - 2ms/step\n",
      "Epoch 42/4000\n",
      "1595/1595 - 3s - loss: 1.0306 - accuracy: 0.8597 - precision: 0.7050 - recall: 0.5136 - val_loss: 1.1444 - val_accuracy: 0.8097 - val_precision: 0.5648 - val_recall: 0.2117 - 3s/epoch - 2ms/step\n",
      "Epoch 43/4000\n",
      "1595/1595 - 3s - loss: 1.0137 - accuracy: 0.8610 - precision: 0.7098 - recall: 0.5158 - val_loss: 1.0609 - val_accuracy: 0.8253 - val_precision: 0.6539 - val_recall: 0.2684 - 3s/epoch - 2ms/step\n",
      "Epoch 44/4000\n",
      "1595/1595 - 3s - loss: 0.9871 - accuracy: 0.8631 - precision: 0.7183 - recall: 0.5193 - val_loss: 1.0834 - val_accuracy: 0.8226 - val_precision: 0.6373 - val_recall: 0.2619 - 3s/epoch - 2ms/step\n",
      "Epoch 45/4000\n",
      "1595/1595 - 3s - loss: 0.9692 - accuracy: 0.8630 - precision: 0.7181 - recall: 0.5187 - val_loss: 1.0312 - val_accuracy: 0.8351 - val_precision: 0.7014 - val_recall: 0.3056 - 3s/epoch - 2ms/step\n",
      "Epoch 46/4000\n",
      "1595/1595 - 3s - loss: 0.9886 - accuracy: 0.8649 - precision: 0.7253 - recall: 0.5221 - val_loss: 1.1135 - val_accuracy: 0.8198 - val_precision: 0.6181 - val_recall: 0.2586 - 3s/epoch - 2ms/step\n",
      "Epoch 47/4000\n",
      "1595/1595 - 3s - loss: 0.9488 - accuracy: 0.8656 - precision: 0.7281 - recall: 0.5237 - val_loss: 1.0032 - val_accuracy: 0.8454 - val_precision: 0.7360 - val_recall: 0.3537 - 3s/epoch - 2ms/step\n",
      "Epoch 48/4000\n",
      "1595/1595 - 3s - loss: 0.9318 - accuracy: 0.8671 - precision: 0.7345 - recall: 0.5252 - val_loss: 1.0222 - val_accuracy: 0.8338 - val_precision: 0.7046 - val_recall: 0.2910 - 3s/epoch - 2ms/step\n",
      "Epoch 49/4000\n",
      "1595/1595 - 3s - loss: 0.9153 - accuracy: 0.8681 - precision: 0.7374 - recall: 0.5286 - val_loss: 1.0100 - val_accuracy: 0.8379 - val_precision: 0.7213 - val_recall: 0.3089 - 3s/epoch - 2ms/step\n",
      "Epoch 50/4000\n",
      "1595/1595 - 3s - loss: 0.9207 - accuracy: 0.8676 - precision: 0.7370 - recall: 0.5257 - val_loss: 0.9904 - val_accuracy: 0.8433 - val_precision: 0.7419 - val_recall: 0.3321 - 3s/epoch - 2ms/step\n",
      "Epoch 51/4000\n",
      "1595/1595 - 3s - loss: 0.9386 - accuracy: 0.8690 - precision: 0.7426 - recall: 0.5278 - val_loss: 0.9519 - val_accuracy: 0.8544 - val_precision: 0.7806 - val_recall: 0.3785 - 3s/epoch - 2ms/step\n",
      "Epoch 52/4000\n",
      "1595/1595 - 3s - loss: 0.9175 - accuracy: 0.8700 - precision: 0.7473 - recall: 0.5291 - val_loss: 0.9521 - val_accuracy: 0.8489 - val_precision: 0.7719 - val_recall: 0.3472 - 3s/epoch - 2ms/step\n",
      "Epoch 53/4000\n",
      "1595/1595 - 3s - loss: 0.8892 - accuracy: 0.8700 - precision: 0.7473 - recall: 0.5287 - val_loss: 0.9326 - val_accuracy: 0.8581 - val_precision: 0.7911 - val_recall: 0.3947 - 3s/epoch - 2ms/step\n",
      "Epoch 54/4000\n",
      "1595/1595 - 3s - loss: 0.8668 - accuracy: 0.8726 - precision: 0.7553 - recall: 0.5367 - val_loss: 0.9397 - val_accuracy: 0.8524 - val_precision: 0.7709 - val_recall: 0.3726 - 3s/epoch - 2ms/step\n",
      "Epoch 55/4000\n",
      "1595/1595 - 3s - loss: 0.8707 - accuracy: 0.8730 - precision: 0.7571 - recall: 0.5370 - val_loss: 0.9336 - val_accuracy: 0.8576 - val_precision: 0.7919 - val_recall: 0.3904 - 3s/epoch - 2ms/step\n",
      "Epoch 56/4000\n",
      "1595/1595 - 3s - loss: 0.8349 - accuracy: 0.8745 - precision: 0.7628 - recall: 0.5408 - val_loss: 0.9654 - val_accuracy: 0.8436 - val_precision: 0.7544 - val_recall: 0.3234 - 3s/epoch - 2ms/step\n",
      "Epoch 57/4000\n",
      "1595/1595 - 3s - loss: 0.8429 - accuracy: 0.8762 - precision: 0.7690 - recall: 0.5444 - val_loss: 0.9479 - val_accuracy: 0.8486 - val_precision: 0.7704 - val_recall: 0.3461 - 3s/epoch - 2ms/step\n",
      "Epoch 58/4000\n",
      "1595/1595 - 3s - loss: 0.8217 - accuracy: 0.8776 - precision: 0.7730 - recall: 0.5495 - val_loss: 0.9324 - val_accuracy: 0.8559 - val_precision: 0.7884 - val_recall: 0.3823 - 3s/epoch - 2ms/step\n",
      "Epoch 59/4000\n",
      "1595/1595 - 3s - loss: 0.7977 - accuracy: 0.8788 - precision: 0.7767 - recall: 0.5531 - val_loss: 0.8978 - val_accuracy: 0.8606 - val_precision: 0.8052 - val_recall: 0.3996 - 3s/epoch - 2ms/step\n",
      "Epoch 60/4000\n",
      "1595/1595 - 3s - loss: 0.8097 - accuracy: 0.8785 - precision: 0.7762 - recall: 0.5518 - val_loss: 0.8705 - val_accuracy: 0.8657 - val_precision: 0.8234 - val_recall: 0.4179 - 3s/epoch - 2ms/step\n",
      "Epoch 61/4000\n",
      "1595/1595 - 3s - loss: 0.7796 - accuracy: 0.8816 - precision: 0.7863 - recall: 0.5600 - val_loss: 0.8485 - val_accuracy: 0.8725 - val_precision: 0.8379 - val_recall: 0.4492 - 3s/epoch - 2ms/step\n",
      "Epoch 62/4000\n",
      "1595/1595 - 3s - loss: 0.7815 - accuracy: 0.8823 - precision: 0.7884 - recall: 0.5624 - val_loss: 0.8450 - val_accuracy: 0.8710 - val_precision: 0.8362 - val_recall: 0.4411 - 3s/epoch - 2ms/step\n",
      "Epoch 63/4000\n",
      "1595/1595 - 3s - loss: 0.7400 - accuracy: 0.8843 - precision: 0.7931 - recall: 0.5700 - val_loss: 0.8821 - val_accuracy: 0.8542 - val_precision: 0.7946 - val_recall: 0.3656 - 3s/epoch - 2ms/step\n",
      "Epoch 64/4000\n",
      "1595/1595 - 3s - loss: 0.7684 - accuracy: 0.8848 - precision: 0.7950 - recall: 0.5711 - val_loss: 0.8383 - val_accuracy: 0.8720 - val_precision: 0.8345 - val_recall: 0.4492 - 3s/epoch - 2ms/step\n",
      "Epoch 65/4000\n",
      "1595/1595 - 3s - loss: 0.7484 - accuracy: 0.8861 - precision: 0.7985 - recall: 0.5756 - val_loss: 0.8123 - val_accuracy: 0.8751 - val_precision: 0.8357 - val_recall: 0.4671 - 3s/epoch - 2ms/step\n",
      "Epoch 66/4000\n",
      "1595/1595 - 3s - loss: 0.7198 - accuracy: 0.8872 - precision: 0.8018 - recall: 0.5789 - val_loss: 0.8177 - val_accuracy: 0.8732 - val_precision: 0.8424 - val_recall: 0.4503 - 3s/epoch - 2ms/step\n",
      "Epoch 67/4000\n",
      "1595/1595 - 3s - loss: 0.7039 - accuracy: 0.8889 - precision: 0.8072 - recall: 0.5842 - val_loss: 0.8322 - val_accuracy: 0.8666 - val_precision: 0.8158 - val_recall: 0.4303 - 3s/epoch - 2ms/step\n",
      "Epoch 68/4000\n",
      "1595/1595 - 3s - loss: 0.6867 - accuracy: 0.8909 - precision: 0.8122 - recall: 0.5913 - val_loss: 0.8186 - val_accuracy: 0.8679 - val_precision: 0.8161 - val_recall: 0.4384 - 3s/epoch - 2ms/step\n",
      "Epoch 69/4000\n",
      "1595/1595 - 3s - loss: 0.6927 - accuracy: 0.8911 - precision: 0.8124 - recall: 0.5926 - val_loss: 0.8673 - val_accuracy: 0.8586 - val_precision: 0.7904 - val_recall: 0.3990 - 3s/epoch - 2ms/step\n",
      "Epoch 70/4000\n",
      "1595/1595 - 3s - loss: 0.6823 - accuracy: 0.8926 - precision: 0.8164 - recall: 0.5975 - val_loss: 0.7944 - val_accuracy: 0.8731 - val_precision: 0.8277 - val_recall: 0.4617 - 3s/epoch - 2ms/step\n",
      "Epoch 71/4000\n",
      "1595/1595 - 3s - loss: 0.6848 - accuracy: 0.8926 - precision: 0.8137 - recall: 0.6005 - val_loss: 0.7637 - val_accuracy: 0.8808 - val_precision: 0.8450 - val_recall: 0.4946 - 3s/epoch - 2ms/step\n",
      "Epoch 72/4000\n",
      "1595/1595 - 3s - loss: 0.6495 - accuracy: 0.8942 - precision: 0.8198 - recall: 0.6037 - val_loss: 0.8032 - val_accuracy: 0.8715 - val_precision: 0.8214 - val_recall: 0.4568 - 3s/epoch - 2ms/step\n",
      "Epoch 73/4000\n",
      "1595/1595 - 3s - loss: 0.6484 - accuracy: 0.8964 - precision: 0.8238 - recall: 0.6130 - val_loss: 0.7788 - val_accuracy: 0.8746 - val_precision: 0.8250 - val_recall: 0.4735 - 3s/epoch - 2ms/step\n",
      "Epoch 74/4000\n",
      "1595/1595 - 3s - loss: 0.6299 - accuracy: 0.8974 - precision: 0.8281 - recall: 0.6147 - val_loss: 0.7487 - val_accuracy: 0.8825 - val_precision: 0.8492 - val_recall: 0.5016 - 3s/epoch - 2ms/step\n",
      "Epoch 75/4000\n",
      "1595/1595 - 3s - loss: 0.6242 - accuracy: 0.8986 - precision: 0.8298 - recall: 0.6202 - val_loss: 0.7240 - val_accuracy: 0.8873 - val_precision: 0.8569 - val_recall: 0.5238 - 3s/epoch - 2ms/step\n",
      "Epoch 76/4000\n",
      "1595/1595 - 3s - loss: 0.6126 - accuracy: 0.9006 - precision: 0.8352 - recall: 0.6267 - val_loss: 0.7506 - val_accuracy: 0.8815 - val_precision: 0.8386 - val_recall: 0.5049 - 3s/epoch - 2ms/step\n",
      "Epoch 77/4000\n",
      "1595/1595 - 3s - loss: 0.6068 - accuracy: 0.9010 - precision: 0.8338 - recall: 0.6306 - val_loss: 0.7120 - val_accuracy: 0.8893 - val_precision: 0.8543 - val_recall: 0.5383 - 3s/epoch - 2ms/step\n",
      "Epoch 78/4000\n",
      "1595/1595 - 3s - loss: 0.6130 - accuracy: 0.9014 - precision: 0.8347 - recall: 0.6324 - val_loss: 0.7189 - val_accuracy: 0.8887 - val_precision: 0.8548 - val_recall: 0.5340 - 3s/epoch - 2ms/step\n",
      "Epoch 79/4000\n",
      "1595/1595 - 3s - loss: 0.5989 - accuracy: 0.9032 - precision: 0.8391 - recall: 0.6384 - val_loss: 0.7399 - val_accuracy: 0.8835 - val_precision: 0.8411 - val_recall: 0.5146 - 3s/epoch - 2ms/step\n",
      "Epoch 80/4000\n",
      "1595/1595 - 3s - loss: 0.5836 - accuracy: 0.9042 - precision: 0.8403 - recall: 0.6430 - val_loss: 0.6839 - val_accuracy: 0.8975 - val_precision: 0.8728 - val_recall: 0.5707 - 3s/epoch - 2ms/step\n",
      "Epoch 81/4000\n",
      "1595/1595 - 3s - loss: 0.5852 - accuracy: 0.9055 - precision: 0.8421 - recall: 0.6491 - val_loss: 0.6884 - val_accuracy: 0.8964 - val_precision: 0.8657 - val_recall: 0.5707 - 3s/epoch - 2ms/step\n",
      "Epoch 82/4000\n",
      "1595/1595 - 3s - loss: 0.5781 - accuracy: 0.9060 - precision: 0.8431 - recall: 0.6514 - val_loss: 0.6831 - val_accuracy: 0.8965 - val_precision: 0.8622 - val_recall: 0.5745 - 3s/epoch - 2ms/step\n",
      "Epoch 83/4000\n",
      "1595/1595 - 3s - loss: 0.5818 - accuracy: 0.9077 - precision: 0.8466 - recall: 0.6575 - val_loss: 0.6752 - val_accuracy: 0.8996 - val_precision: 0.8712 - val_recall: 0.5842 - 3s/epoch - 2ms/step\n",
      "Epoch 84/4000\n",
      "1595/1595 - 3s - loss: 0.5792 - accuracy: 0.9087 - precision: 0.8496 - recall: 0.6605 - val_loss: 0.6864 - val_accuracy: 0.8977 - val_precision: 0.8664 - val_recall: 0.5778 - 3s/epoch - 2ms/step\n",
      "Epoch 85/4000\n",
      "1595/1595 - 3s - loss: 0.5554 - accuracy: 0.9092 - precision: 0.8502 - recall: 0.6627 - val_loss: 0.6818 - val_accuracy: 0.8989 - val_precision: 0.8688 - val_recall: 0.5826 - 3s/epoch - 2ms/step\n",
      "Epoch 86/4000\n",
      "1595/1595 - 3s - loss: 0.5556 - accuracy: 0.9101 - precision: 0.8507 - recall: 0.6679 - val_loss: 0.6923 - val_accuracy: 0.8969 - val_precision: 0.8608 - val_recall: 0.5778 - 3s/epoch - 2ms/step\n",
      "Epoch 87/4000\n",
      "1595/1595 - 3s - loss: 0.5534 - accuracy: 0.9103 - precision: 0.8503 - recall: 0.6695 - val_loss: 0.6667 - val_accuracy: 0.9035 - val_precision: 0.8754 - val_recall: 0.6031 - 3s/epoch - 2ms/step\n",
      "Epoch 88/4000\n",
      "1595/1595 - 3s - loss: 0.5527 - accuracy: 0.9117 - precision: 0.8530 - recall: 0.6747 - val_loss: 0.6808 - val_accuracy: 0.9004 - val_precision: 0.8702 - val_recall: 0.5902 - 3s/epoch - 2ms/step\n",
      "Epoch 89/4000\n",
      "1595/1595 - 3s - loss: 0.5391 - accuracy: 0.9133 - precision: 0.8578 - recall: 0.6791 - val_loss: 0.6788 - val_accuracy: 0.9008 - val_precision: 0.8665 - val_recall: 0.5956 - 3s/epoch - 2ms/step\n",
      "Epoch 90/4000\n",
      "1595/1595 - 3s - loss: 0.5334 - accuracy: 0.9138 - precision: 0.8581 - recall: 0.6818 - val_loss: 0.6444 - val_accuracy: 0.9077 - val_precision: 0.8791 - val_recall: 0.6242 - 3s/epoch - 2ms/step\n",
      "Epoch 91/4000\n",
      "1595/1595 - 3s - loss: 0.5309 - accuracy: 0.9144 - precision: 0.8590 - recall: 0.6846 - val_loss: 0.6524 - val_accuracy: 0.9063 - val_precision: 0.8744 - val_recall: 0.6204 - 3s/epoch - 2ms/step\n",
      "Epoch 92/4000\n",
      "1595/1595 - 3s - loss: 0.5270 - accuracy: 0.9154 - precision: 0.8615 - recall: 0.6875 - val_loss: 0.6383 - val_accuracy: 0.9091 - val_precision: 0.8774 - val_recall: 0.6339 - 3s/epoch - 2ms/step\n",
      "Epoch 93/4000\n",
      "1595/1595 - 3s - loss: 0.5372 - accuracy: 0.9168 - precision: 0.8630 - recall: 0.6941 - val_loss: 0.6648 - val_accuracy: 0.9052 - val_precision: 0.8718 - val_recall: 0.6166 - 3s/epoch - 2ms/step\n",
      "Epoch 94/4000\n",
      "1595/1595 - 3s - loss: 0.5238 - accuracy: 0.9170 - precision: 0.8628 - recall: 0.6955 - val_loss: 0.6247 - val_accuracy: 0.9131 - val_precision: 0.8818 - val_recall: 0.6528 - 3s/epoch - 2ms/step\n",
      "Epoch 95/4000\n",
      "1595/1595 - 3s - loss: 0.5052 - accuracy: 0.9188 - precision: 0.8659 - recall: 0.7025 - val_loss: 0.6356 - val_accuracy: 0.9114 - val_precision: 0.8811 - val_recall: 0.6442 - 3s/epoch - 2ms/step\n",
      "Epoch 96/4000\n",
      "1595/1595 - 3s - loss: 0.5123 - accuracy: 0.9188 - precision: 0.8656 - recall: 0.7031 - val_loss: 0.6264 - val_accuracy: 0.9124 - val_precision: 0.8836 - val_recall: 0.6474 - 3s/epoch - 2ms/step\n",
      "Epoch 97/4000\n",
      "1595/1595 - 3s - loss: 0.5026 - accuracy: 0.9192 - precision: 0.8659 - recall: 0.7054 - val_loss: 0.6152 - val_accuracy: 0.9148 - val_precision: 0.8860 - val_recall: 0.6587 - 3s/epoch - 2ms/step\n",
      "Epoch 98/4000\n",
      "1595/1595 - 3s - loss: 0.5121 - accuracy: 0.9197 - precision: 0.8679 - recall: 0.7060 - val_loss: 0.6300 - val_accuracy: 0.9118 - val_precision: 0.8780 - val_recall: 0.6490 - 3s/epoch - 2ms/step\n",
      "Epoch 99/4000\n",
      "1595/1595 - 3s - loss: 0.5063 - accuracy: 0.9208 - precision: 0.8688 - recall: 0.7115 - val_loss: 0.6084 - val_accuracy: 0.9181 - val_precision: 0.8902 - val_recall: 0.6739 - 3s/epoch - 2ms/step\n",
      "Epoch 100/4000\n",
      "1595/1595 - 3s - loss: 0.5055 - accuracy: 0.9215 - precision: 0.8702 - recall: 0.7139 - val_loss: 0.5973 - val_accuracy: 0.9207 - val_precision: 0.8926 - val_recall: 0.6863 - 3s/epoch - 2ms/step\n",
      "Epoch 101/4000\n",
      "1595/1595 - 3s - loss: 0.4889 - accuracy: 0.9228 - precision: 0.8726 - recall: 0.7188 - val_loss: 0.6034 - val_accuracy: 0.9195 - val_precision: 0.8912 - val_recall: 0.6809 - 3s/epoch - 2ms/step\n",
      "Epoch 102/4000\n",
      "1595/1595 - 3s - loss: 0.4906 - accuracy: 0.9223 - precision: 0.8715 - recall: 0.7173 - val_loss: 0.6443 - val_accuracy: 0.9099 - val_precision: 0.8694 - val_recall: 0.6469 - 3s/epoch - 2ms/step\n",
      "Epoch 103/4000\n",
      "1595/1595 - 3s - loss: 0.4785 - accuracy: 0.9236 - precision: 0.8727 - recall: 0.7235 - val_loss: 0.6125 - val_accuracy: 0.9161 - val_precision: 0.8783 - val_recall: 0.6739 - 3s/epoch - 2ms/step\n",
      "Epoch 104/4000\n",
      "1595/1595 - 3s - loss: 0.4802 - accuracy: 0.9246 - precision: 0.8749 - recall: 0.7268 - val_loss: 0.6118 - val_accuracy: 0.9177 - val_precision: 0.8827 - val_recall: 0.6787 - 3s/epoch - 2ms/step\n",
      "Epoch 105/4000\n",
      "1595/1595 - 3s - loss: 0.4678 - accuracy: 0.9257 - precision: 0.8776 - recall: 0.7306 - val_loss: 0.6004 - val_accuracy: 0.9204 - val_precision: 0.8863 - val_recall: 0.6906 - 3s/epoch - 2ms/step\n",
      "Epoch 106/4000\n",
      "1595/1595 - 3s - loss: 0.4711 - accuracy: 0.9259 - precision: 0.8763 - recall: 0.7329 - val_loss: 0.5749 - val_accuracy: 0.9254 - val_precision: 0.8941 - val_recall: 0.7111 - 3s/epoch - 2ms/step\n",
      "Epoch 107/4000\n",
      "1595/1595 - 3s - loss: 0.4680 - accuracy: 0.9263 - precision: 0.8788 - recall: 0.7326 - val_loss: 0.5811 - val_accuracy: 0.9245 - val_precision: 0.8924 - val_recall: 0.7079 - 3s/epoch - 2ms/step\n",
      "Epoch 108/4000\n",
      "1595/1595 - 3s - loss: 0.4575 - accuracy: 0.9270 - precision: 0.8793 - recall: 0.7359 - val_loss: 0.5908 - val_accuracy: 0.9203 - val_precision: 0.8789 - val_recall: 0.6976 - 3s/epoch - 2ms/step\n",
      "Epoch 109/4000\n",
      "1595/1595 - 3s - loss: 0.4595 - accuracy: 0.9274 - precision: 0.8771 - recall: 0.7406 - val_loss: 0.5807 - val_accuracy: 0.9230 - val_precision: 0.8830 - val_recall: 0.7090 - 3s/epoch - 2ms/step\n",
      "Epoch 110/4000\n",
      "1595/1595 - 3s - loss: 0.4593 - accuracy: 0.9283 - precision: 0.8795 - recall: 0.7433 - val_loss: 0.5656 - val_accuracy: 0.9263 - val_precision: 0.8879 - val_recall: 0.7230 - 3s/epoch - 2ms/step\n",
      "Epoch 111/4000\n",
      "1595/1595 - 3s - loss: 0.4471 - accuracy: 0.9294 - precision: 0.8805 - recall: 0.7485 - val_loss: 0.5727 - val_accuracy: 0.9241 - val_precision: 0.8838 - val_recall: 0.7144 - 3s/epoch - 2ms/step\n",
      "Epoch 112/4000\n",
      "1595/1595 - 3s - loss: 0.4519 - accuracy: 0.9297 - precision: 0.8819 - recall: 0.7488 - val_loss: 0.5956 - val_accuracy: 0.9187 - val_precision: 0.8710 - val_recall: 0.6965 - 3s/epoch - 2ms/step\n",
      "Epoch 113/4000\n",
      "1595/1595 - 3s - loss: 0.4393 - accuracy: 0.9294 - precision: 0.8811 - recall: 0.7480 - val_loss: 0.5615 - val_accuracy: 0.9279 - val_precision: 0.8926 - val_recall: 0.7268 - 3s/epoch - 2ms/step\n",
      "Epoch 114/4000\n",
      "1595/1595 - 3s - loss: 0.4403 - accuracy: 0.9305 - precision: 0.8832 - recall: 0.7522 - val_loss: 0.5773 - val_accuracy: 0.9219 - val_precision: 0.8746 - val_recall: 0.7117 - 3s/epoch - 2ms/step\n",
      "Epoch 115/4000\n",
      "1595/1595 - 3s - loss: 0.4340 - accuracy: 0.9314 - precision: 0.8841 - recall: 0.7561 - val_loss: 0.5646 - val_accuracy: 0.9247 - val_precision: 0.8802 - val_recall: 0.7219 - 3s/epoch - 2ms/step\n",
      "Epoch 116/4000\n",
      "1595/1595 - 3s - loss: 0.4274 - accuracy: 0.9327 - precision: 0.8859 - recall: 0.7615 - val_loss: 0.5456 - val_accuracy: 0.9306 - val_precision: 0.8882 - val_recall: 0.7468 - 3s/epoch - 2ms/step\n",
      "Epoch 117/4000\n",
      "1595/1595 - 3s - loss: 0.4322 - accuracy: 0.9321 - precision: 0.8839 - recall: 0.7606 - val_loss: 0.5657 - val_accuracy: 0.9260 - val_precision: 0.8816 - val_recall: 0.7279 - 3s/epoch - 2ms/step\n",
      "Epoch 118/4000\n",
      "1595/1595 - 3s - loss: 0.4237 - accuracy: 0.9338 - precision: 0.8869 - recall: 0.7670 - val_loss: 0.5494 - val_accuracy: 0.9296 - val_precision: 0.8846 - val_recall: 0.7451 - 3s/epoch - 2ms/step\n",
      "Epoch 119/4000\n",
      "1595/1595 - 3s - loss: 0.4194 - accuracy: 0.9345 - precision: 0.8890 - recall: 0.7682 - val_loss: 0.5474 - val_accuracy: 0.9289 - val_precision: 0.8822 - val_recall: 0.7441 - 3s/epoch - 2ms/step\n",
      "Epoch 120/4000\n",
      "1595/1595 - 3s - loss: 0.4114 - accuracy: 0.9355 - precision: 0.8904 - recall: 0.7726 - val_loss: 0.5274 - val_accuracy: 0.9338 - val_precision: 0.8899 - val_recall: 0.7635 - 3s/epoch - 2ms/step\n",
      "Epoch 121/4000\n",
      "1595/1595 - 3s - loss: 0.4079 - accuracy: 0.9358 - precision: 0.8897 - recall: 0.7751 - val_loss: 0.5499 - val_accuracy: 0.9290 - val_precision: 0.8789 - val_recall: 0.7484 - 3s/epoch - 2ms/step\n",
      "Epoch 122/4000\n",
      "1595/1595 - 3s - loss: 0.4011 - accuracy: 0.9371 - precision: 0.8918 - recall: 0.7799 - val_loss: 0.5265 - val_accuracy: 0.9335 - val_precision: 0.8839 - val_recall: 0.7684 - 3s/epoch - 2ms/step\n",
      "Epoch 123/4000\n",
      "1595/1595 - 3s - loss: 0.3978 - accuracy: 0.9379 - precision: 0.8930 - recall: 0.7832 - val_loss: 0.5093 - val_accuracy: 0.9375 - val_precision: 0.8951 - val_recall: 0.7786 - 3s/epoch - 2ms/step\n",
      "Epoch 124/4000\n",
      "1595/1595 - 3s - loss: 0.3934 - accuracy: 0.9386 - precision: 0.8936 - recall: 0.7869 - val_loss: 0.5082 - val_accuracy: 0.9384 - val_precision: 0.8962 - val_recall: 0.7829 - 3s/epoch - 2ms/step\n",
      "Epoch 125/4000\n",
      "1595/1595 - 3s - loss: 0.3968 - accuracy: 0.9383 - precision: 0.8919 - recall: 0.7868 - val_loss: 0.5117 - val_accuracy: 0.9365 - val_precision: 0.8863 - val_recall: 0.7829 - 3s/epoch - 2ms/step\n",
      "Epoch 126/4000\n",
      "1595/1595 - 3s - loss: 0.3879 - accuracy: 0.9399 - precision: 0.8952 - recall: 0.7923 - val_loss: 0.5311 - val_accuracy: 0.9322 - val_precision: 0.8750 - val_recall: 0.7711 - 3s/epoch - 2ms/step\n",
      "Epoch 127/4000\n",
      "1595/1595 - 3s - loss: 0.3787 - accuracy: 0.9409 - precision: 0.8954 - recall: 0.7975 - val_loss: 0.5236 - val_accuracy: 0.9353 - val_precision: 0.8767 - val_recall: 0.7873 - 3s/epoch - 2ms/step\n",
      "Epoch 128/4000\n",
      "1595/1595 - 3s - loss: 0.3779 - accuracy: 0.9420 - precision: 0.8980 - recall: 0.8008 - val_loss: 0.4883 - val_accuracy: 0.9405 - val_precision: 0.8945 - val_recall: 0.7964 - 3s/epoch - 2ms/step\n",
      "Epoch 129/4000\n",
      "1595/1595 - 3s - loss: 0.3709 - accuracy: 0.9427 - precision: 0.8989 - recall: 0.8041 - val_loss: 0.4900 - val_accuracy: 0.9408 - val_precision: 0.8923 - val_recall: 0.8008 - 3s/epoch - 2ms/step\n",
      "Epoch 130/4000\n",
      "1595/1595 - 3s - loss: 0.3662 - accuracy: 0.9438 - precision: 0.8991 - recall: 0.8098 - val_loss: 0.4906 - val_accuracy: 0.9401 - val_precision: 0.8909 - val_recall: 0.7981 - 3s/epoch - 2ms/step\n",
      "Epoch 131/4000\n",
      "1595/1595 - 3s - loss: 0.3648 - accuracy: 0.9453 - precision: 0.9015 - recall: 0.8157 - val_loss: 0.5104 - val_accuracy: 0.9375 - val_precision: 0.8764 - val_recall: 0.8002 - 3s/epoch - 2ms/step\n",
      "Epoch 132/4000\n",
      "1595/1595 - 3s - loss: 0.3596 - accuracy: 0.9462 - precision: 0.9035 - recall: 0.8185 - val_loss: 0.4910 - val_accuracy: 0.9400 - val_precision: 0.8807 - val_recall: 0.8094 - 3s/epoch - 2ms/step\n",
      "Epoch 133/4000\n",
      "1595/1595 - 3s - loss: 0.3565 - accuracy: 0.9466 - precision: 0.9034 - recall: 0.8210 - val_loss: 0.4833 - val_accuracy: 0.9411 - val_precision: 0.8828 - val_recall: 0.8137 - 3s/epoch - 2ms/step\n",
      "Epoch 134/4000\n",
      "1595/1595 - 3s - loss: 0.3533 - accuracy: 0.9473 - precision: 0.9042 - recall: 0.8238 - val_loss: 0.4676 - val_accuracy: 0.9437 - val_precision: 0.8908 - val_recall: 0.8191 - 3s/epoch - 2ms/step\n",
      "Epoch 135/4000\n",
      "1595/1595 - 3s - loss: 0.3470 - accuracy: 0.9478 - precision: 0.9042 - recall: 0.8263 - val_loss: 0.4953 - val_accuracy: 0.9397 - val_precision: 0.8779 - val_recall: 0.8116 - 3s/epoch - 2ms/step\n",
      "Epoch 136/4000\n",
      "1595/1595 - 3s - loss: 0.3436 - accuracy: 0.9487 - precision: 0.9051 - recall: 0.8308 - val_loss: 0.4828 - val_accuracy: 0.9416 - val_precision: 0.8813 - val_recall: 0.8180 - 3s/epoch - 2ms/step\n",
      "Epoch 137/4000\n",
      "1595/1595 - 3s - loss: 0.3441 - accuracy: 0.9496 - precision: 0.9056 - recall: 0.8352 - val_loss: 0.4572 - val_accuracy: 0.9451 - val_precision: 0.8880 - val_recall: 0.8305 - 3s/epoch - 2ms/step\n",
      "Epoch 138/4000\n",
      "1595/1595 - 3s - loss: 0.3426 - accuracy: 0.9499 - precision: 0.9053 - recall: 0.8368 - val_loss: 0.4727 - val_accuracy: 0.9422 - val_precision: 0.8817 - val_recall: 0.8213 - 3s/epoch - 2ms/step\n",
      "Epoch 139/4000\n",
      "1595/1595 - 3s - loss: 0.3387 - accuracy: 0.9509 - precision: 0.9070 - recall: 0.8409 - val_loss: 0.4884 - val_accuracy: 0.9415 - val_precision: 0.8764 - val_recall: 0.8234 - 3s/epoch - 2ms/step\n",
      "Epoch 140/4000\n",
      "1595/1595 - 3s - loss: 0.3324 - accuracy: 0.9520 - precision: 0.9090 - recall: 0.8447 - val_loss: 0.4550 - val_accuracy: 0.9452 - val_precision: 0.8841 - val_recall: 0.8359 - 3s/epoch - 2ms/step\n",
      "Epoch 141/4000\n",
      "1595/1595 - 3s - loss: 0.3290 - accuracy: 0.9520 - precision: 0.9072 - recall: 0.8468 - val_loss: 0.4638 - val_accuracy: 0.9449 - val_precision: 0.8847 - val_recall: 0.8332 - 3s/epoch - 2ms/step\n",
      "Epoch 142/4000\n",
      "1595/1595 - 3s - loss: 0.3228 - accuracy: 0.9534 - precision: 0.9105 - recall: 0.8506 - val_loss: 0.4508 - val_accuracy: 0.9462 - val_precision: 0.8873 - val_recall: 0.8375 - 3s/epoch - 2ms/step\n",
      "Epoch 143/4000\n",
      "1595/1595 - 3s - loss: 0.3255 - accuracy: 0.9531 - precision: 0.9094 - recall: 0.8505 - val_loss: 0.4560 - val_accuracy: 0.9467 - val_precision: 0.8880 - val_recall: 0.8391 - 3s/epoch - 2ms/step\n",
      "Epoch 144/4000\n",
      "1595/1595 - 3s - loss: 0.3185 - accuracy: 0.9546 - precision: 0.9111 - recall: 0.8567 - val_loss: 0.4407 - val_accuracy: 0.9477 - val_precision: 0.8878 - val_recall: 0.8456 - 3s/epoch - 2ms/step\n",
      "Epoch 145/4000\n",
      "1595/1595 - 3s - loss: 0.3159 - accuracy: 0.9550 - precision: 0.9116 - recall: 0.8582 - val_loss: 0.4138 - val_accuracy: 0.9514 - val_precision: 0.8997 - val_recall: 0.8521 - 3s/epoch - 2ms/step\n",
      "Epoch 146/4000\n",
      "1595/1595 - 3s - loss: 0.3189 - accuracy: 0.9552 - precision: 0.9114 - recall: 0.8595 - val_loss: 0.4477 - val_accuracy: 0.9468 - val_precision: 0.8837 - val_recall: 0.8450 - 3s/epoch - 2ms/step\n",
      "Epoch 147/4000\n",
      "1595/1595 - 3s - loss: 0.3147 - accuracy: 0.9557 - precision: 0.9115 - recall: 0.8619 - val_loss: 0.4481 - val_accuracy: 0.9471 - val_precision: 0.8839 - val_recall: 0.8467 - 3s/epoch - 2ms/step\n",
      "Epoch 148/4000\n",
      "1595/1595 - 3s - loss: 0.3075 - accuracy: 0.9570 - precision: 0.9141 - recall: 0.8663 - val_loss: 0.4456 - val_accuracy: 0.9475 - val_precision: 0.8850 - val_recall: 0.8477 - 3s/epoch - 2ms/step\n",
      "Epoch 149/4000\n",
      "1595/1595 - 3s - loss: 0.3048 - accuracy: 0.9577 - precision: 0.9150 - recall: 0.8694 - val_loss: 0.4425 - val_accuracy: 0.9483 - val_precision: 0.8868 - val_recall: 0.8499 - 3s/epoch - 2ms/step\n",
      "Epoch 150/4000\n",
      "1595/1595 - 3s - loss: 0.2999 - accuracy: 0.9585 - precision: 0.9165 - recall: 0.8719 - val_loss: 0.4345 - val_accuracy: 0.9491 - val_precision: 0.8864 - val_recall: 0.8553 - 3s/epoch - 2ms/step\n",
      "Epoch 151/4000\n",
      "1595/1595 - 3s - loss: 0.2969 - accuracy: 0.9592 - precision: 0.9173 - recall: 0.8751 - val_loss: 0.4288 - val_accuracy: 0.9491 - val_precision: 0.8860 - val_recall: 0.8558 - 3s/epoch - 2ms/step\n",
      "Epoch 152/4000\n",
      "1595/1595 - 3s - loss: 0.2990 - accuracy: 0.9590 - precision: 0.9159 - recall: 0.8751 - val_loss: 0.4402 - val_accuracy: 0.9487 - val_precision: 0.8844 - val_recall: 0.8553 - 3s/epoch - 2ms/step\n",
      "Epoch 153/4000\n",
      "1595/1595 - 3s - loss: 0.2985 - accuracy: 0.9588 - precision: 0.9152 - recall: 0.8753 - val_loss: 0.4207 - val_accuracy: 0.9505 - val_precision: 0.8898 - val_recall: 0.8591 - 3s/epoch - 2ms/step\n",
      "Epoch 154/4000\n",
      "1595/1595 - 3s - loss: 0.2920 - accuracy: 0.9594 - precision: 0.9160 - recall: 0.8776 - val_loss: 0.4218 - val_accuracy: 0.9511 - val_precision: 0.8906 - val_recall: 0.8612 - 3s/epoch - 2ms/step\n",
      "Epoch 155/4000\n",
      "1595/1595 - 3s - loss: 0.2902 - accuracy: 0.9596 - precision: 0.9162 - recall: 0.8786 - val_loss: 0.4126 - val_accuracy: 0.9514 - val_precision: 0.8903 - val_recall: 0.8634 - 3s/epoch - 2ms/step\n",
      "Epoch 156/4000\n",
      "1595/1595 - 3s - loss: 0.2935 - accuracy: 0.9604 - precision: 0.9178 - recall: 0.8809 - val_loss: 0.4265 - val_accuracy: 0.9499 - val_precision: 0.8860 - val_recall: 0.8602 - 3s/epoch - 2ms/step\n",
      "Epoch 157/4000\n",
      "1595/1595 - 3s - loss: 0.2938 - accuracy: 0.9601 - precision: 0.9157 - recall: 0.8815 - val_loss: 0.4235 - val_accuracy: 0.9513 - val_precision: 0.8894 - val_recall: 0.8639 - 3s/epoch - 2ms/step\n",
      "Epoch 158/4000\n",
      "1595/1595 - 3s - loss: 0.2884 - accuracy: 0.9613 - precision: 0.9189 - recall: 0.8843 - val_loss: 0.4225 - val_accuracy: 0.9514 - val_precision: 0.8890 - val_recall: 0.8650 - 3s/epoch - 2ms/step\n",
      "Epoch 159/4000\n",
      "1595/1595 - 3s - loss: 0.2857 - accuracy: 0.9615 - precision: 0.9189 - recall: 0.8854 - val_loss: 0.4130 - val_accuracy: 0.9524 - val_precision: 0.8926 - val_recall: 0.8661 - 3s/epoch - 2ms/step\n",
      "Epoch 160/4000\n",
      "1595/1595 - 3s - loss: 0.2821 - accuracy: 0.9623 - precision: 0.9202 - recall: 0.8885 - val_loss: 0.4171 - val_accuracy: 0.9528 - val_precision: 0.8915 - val_recall: 0.8699 - 3s/epoch - 2ms/step\n",
      "Epoch 161/4000\n",
      "1595/1595 - 3s - loss: 0.2833 - accuracy: 0.9618 - precision: 0.9187 - recall: 0.8875 - val_loss: 0.4155 - val_accuracy: 0.9528 - val_precision: 0.8924 - val_recall: 0.8688 - 3s/epoch - 2ms/step\n",
      "Epoch 162/4000\n",
      "1595/1595 - 3s - loss: 0.2772 - accuracy: 0.9629 - precision: 0.9207 - recall: 0.8913 - val_loss: 0.4329 - val_accuracy: 0.9515 - val_precision: 0.8886 - val_recall: 0.8661 - 3s/epoch - 2ms/step\n",
      "Epoch 163/4000\n",
      "1595/1595 - 3s - loss: 0.2761 - accuracy: 0.9632 - precision: 0.9216 - recall: 0.8921 - val_loss: 0.4215 - val_accuracy: 0.9531 - val_precision: 0.8926 - val_recall: 0.8704 - 3s/epoch - 2ms/step\n",
      "Epoch 164/4000\n",
      "1595/1595 - 3s - loss: 0.2737 - accuracy: 0.9632 - precision: 0.9210 - recall: 0.8925 - val_loss: 0.4129 - val_accuracy: 0.9528 - val_precision: 0.8933 - val_recall: 0.8677 - 3s/epoch - 2ms/step\n",
      "Epoch 165/4000\n",
      "1595/1595 - 3s - loss: 0.2699 - accuracy: 0.9638 - precision: 0.9221 - recall: 0.8943 - val_loss: 0.4149 - val_accuracy: 0.9544 - val_precision: 0.8950 - val_recall: 0.8747 - 3s/epoch - 2ms/step\n",
      "Epoch 166/4000\n",
      "1595/1595 - 3s - loss: 0.2744 - accuracy: 0.9648 - precision: 0.9232 - recall: 0.8985 - val_loss: 0.3951 - val_accuracy: 0.9558 - val_precision: 0.8997 - val_recall: 0.8769 - 3s/epoch - 2ms/step\n",
      "Epoch 167/4000\n",
      "1595/1595 - 3s - loss: 0.2704 - accuracy: 0.9640 - precision: 0.9214 - recall: 0.8964 - val_loss: 0.3974 - val_accuracy: 0.9552 - val_precision: 0.8972 - val_recall: 0.8763 - 3s/epoch - 2ms/step\n",
      "Epoch 168/4000\n",
      "1595/1595 - 3s - loss: 0.2703 - accuracy: 0.9646 - precision: 0.9227 - recall: 0.8982 - val_loss: 0.4210 - val_accuracy: 0.9543 - val_precision: 0.8941 - val_recall: 0.8753 - 3s/epoch - 2ms/step\n",
      "Epoch 169/4000\n",
      "1595/1595 - 3s - loss: 0.2650 - accuracy: 0.9656 - precision: 0.9247 - recall: 0.9014 - val_loss: 0.3998 - val_accuracy: 0.9563 - val_precision: 0.8995 - val_recall: 0.8796 - 3s/epoch - 2ms/step\n",
      "Epoch 170/4000\n",
      "1595/1595 - 5s - loss: 0.2639 - accuracy: 0.9657 - precision: 0.9247 - recall: 0.9021 - val_loss: 0.4105 - val_accuracy: 0.9545 - val_precision: 0.8946 - val_recall: 0.8758 - 5s/epoch - 3ms/step\n",
      "Epoch 171/4000\n",
      "1595/1595 - 3s - loss: 0.2605 - accuracy: 0.9662 - precision: 0.9260 - recall: 0.9034 - val_loss: 0.4022 - val_accuracy: 0.9562 - val_precision: 0.8990 - val_recall: 0.8796 - 3s/epoch - 2ms/step\n",
      "Epoch 172/4000\n",
      "1595/1595 - 3s - loss: 0.2605 - accuracy: 0.9663 - precision: 0.9256 - recall: 0.9043 - val_loss: 0.3948 - val_accuracy: 0.9565 - val_precision: 0.9001 - val_recall: 0.8801 - 3s/epoch - 2ms/step\n",
      "Epoch 173/4000\n",
      "1595/1595 - 3s - loss: 0.2587 - accuracy: 0.9656 - precision: 0.9236 - recall: 0.9028 - val_loss: 0.3854 - val_accuracy: 0.9577 - val_precision: 0.9033 - val_recall: 0.8828 - 3s/epoch - 2ms/step\n",
      "Epoch 174/4000\n",
      "1595/1595 - 3s - loss: 0.2562 - accuracy: 0.9671 - precision: 0.9263 - recall: 0.9079 - val_loss: 0.3991 - val_accuracy: 0.9565 - val_precision: 0.8996 - val_recall: 0.8807 - 3s/epoch - 2ms/step\n",
      "Epoch 175/4000\n",
      "1595/1595 - 3s - loss: 0.2578 - accuracy: 0.9669 - precision: 0.9262 - recall: 0.9067 - val_loss: 0.4067 - val_accuracy: 0.9559 - val_precision: 0.8971 - val_recall: 0.8807 - 3s/epoch - 2ms/step\n",
      "Epoch 176/4000\n",
      "1595/1595 - 3s - loss: 0.2539 - accuracy: 0.9674 - precision: 0.9268 - recall: 0.9089 - val_loss: 0.3970 - val_accuracy: 0.9566 - val_precision: 0.8988 - val_recall: 0.8823 - 3s/epoch - 2ms/step\n",
      "Epoch 177/4000\n",
      "1595/1595 - 3s - loss: 0.2538 - accuracy: 0.9671 - precision: 0.9262 - recall: 0.9078 - val_loss: 0.3870 - val_accuracy: 0.9575 - val_precision: 0.9014 - val_recall: 0.8839 - 3s/epoch - 2ms/step\n",
      "Epoch 178/4000\n",
      "1595/1595 - 3s - loss: 0.2501 - accuracy: 0.9681 - precision: 0.9284 - recall: 0.9109 - val_loss: 0.3950 - val_accuracy: 0.9569 - val_precision: 0.8990 - val_recall: 0.8839 - 3s/epoch - 2ms/step\n",
      "Epoch 179/4000\n",
      "1595/1595 - 3s - loss: 0.2493 - accuracy: 0.9678 - precision: 0.9269 - recall: 0.9108 - val_loss: 0.3890 - val_accuracy: 0.9578 - val_precision: 0.9016 - val_recall: 0.8855 - 3s/epoch - 2ms/step\n",
      "Epoch 180/4000\n",
      "1595/1595 - 3s - loss: 0.2478 - accuracy: 0.9686 - precision: 0.9285 - recall: 0.9131 - val_loss: 0.3921 - val_accuracy: 0.9571 - val_precision: 0.8982 - val_recall: 0.8861 - 3s/epoch - 2ms/step\n",
      "Epoch 181/4000\n",
      "1595/1595 - 3s - loss: 0.2480 - accuracy: 0.9693 - precision: 0.9304 - recall: 0.9150 - val_loss: 0.3782 - val_accuracy: 0.9584 - val_precision: 0.9037 - val_recall: 0.8866 - 3s/epoch - 2ms/step\n",
      "Epoch 182/4000\n",
      "1595/1595 - 3s - loss: 0.2490 - accuracy: 0.9691 - precision: 0.9296 - recall: 0.9147 - val_loss: 0.3706 - val_accuracy: 0.9585 - val_precision: 0.9033 - val_recall: 0.8877 - 3s/epoch - 2ms/step\n",
      "Epoch 183/4000\n",
      "1595/1595 - 3s - loss: 0.2433 - accuracy: 0.9689 - precision: 0.9289 - recall: 0.9147 - val_loss: 0.3887 - val_accuracy: 0.9579 - val_precision: 0.8999 - val_recall: 0.8882 - 3s/epoch - 2ms/step\n",
      "Epoch 184/4000\n",
      "1595/1595 - 3s - loss: 0.2442 - accuracy: 0.9693 - precision: 0.9299 - recall: 0.9156 - val_loss: 0.3870 - val_accuracy: 0.9582 - val_precision: 0.9014 - val_recall: 0.8882 - 3s/epoch - 2ms/step\n",
      "Epoch 185/4000\n",
      "1595/1595 - 3s - loss: 0.2414 - accuracy: 0.9700 - precision: 0.9315 - recall: 0.9176 - val_loss: 0.3922 - val_accuracy: 0.9576 - val_precision: 0.8997 - val_recall: 0.8866 - 3s/epoch - 2ms/step\n",
      "Epoch 186/4000\n",
      "1595/1595 - 3s - loss: 0.2425 - accuracy: 0.9697 - precision: 0.9304 - recall: 0.9172 - val_loss: 0.3882 - val_accuracy: 0.9576 - val_precision: 0.9002 - val_recall: 0.8861 - 3s/epoch - 2ms/step\n",
      "Epoch 187/4000\n",
      "1595/1595 - 3s - loss: 0.2418 - accuracy: 0.9698 - precision: 0.9305 - recall: 0.9176 - val_loss: 0.3718 - val_accuracy: 0.9580 - val_precision: 0.9021 - val_recall: 0.8861 - 3s/epoch - 2ms/step\n",
      "Epoch 188/4000\n",
      "1595/1595 - 3s - loss: 0.2382 - accuracy: 0.9698 - precision: 0.9303 - recall: 0.9176 - val_loss: 0.3756 - val_accuracy: 0.9585 - val_precision: 0.9024 - val_recall: 0.8888 - 3s/epoch - 2ms/step\n",
      "Epoch 189/4000\n",
      "1595/1595 - 3s - loss: 0.2396 - accuracy: 0.9697 - precision: 0.9303 - recall: 0.9173 - val_loss: 0.3796 - val_accuracy: 0.9589 - val_precision: 0.9013 - val_recall: 0.8920 - 3s/epoch - 2ms/step\n",
      "Epoch 190/4000\n",
      "1595/1595 - 3s - loss: 0.2381 - accuracy: 0.9701 - precision: 0.9305 - recall: 0.9190 - val_loss: 0.3701 - val_accuracy: 0.9587 - val_precision: 0.9030 - val_recall: 0.8893 - 3s/epoch - 2ms/step\n",
      "Epoch 191/4000\n",
      "1595/1595 - 3s - loss: 0.2370 - accuracy: 0.9708 - precision: 0.9317 - recall: 0.9213 - val_loss: 0.3793 - val_accuracy: 0.9590 - val_precision: 0.9017 - val_recall: 0.8920 - 3s/epoch - 2ms/step\n",
      "Epoch 192/4000\n",
      "1595/1595 - 3s - loss: 0.2353 - accuracy: 0.9708 - precision: 0.9318 - recall: 0.9215 - val_loss: 0.3836 - val_accuracy: 0.9586 - val_precision: 0.9007 - val_recall: 0.8915 - 3s/epoch - 2ms/step\n",
      "Epoch 193/4000\n",
      "1595/1595 - 3s - loss: 0.2315 - accuracy: 0.9709 - precision: 0.9320 - recall: 0.9219 - val_loss: 0.3617 - val_accuracy: 0.9596 - val_precision: 0.9047 - val_recall: 0.8920 - 3s/epoch - 2ms/step\n",
      "Epoch 194/4000\n",
      "1595/1595 - 3s - loss: 0.2317 - accuracy: 0.9712 - precision: 0.9333 - recall: 0.9221 - val_loss: 0.3897 - val_accuracy: 0.9585 - val_precision: 0.9002 - val_recall: 0.8915 - 3s/epoch - 2ms/step\n",
      "Epoch 195/4000\n",
      "1595/1595 - 3s - loss: 0.2326 - accuracy: 0.9708 - precision: 0.9316 - recall: 0.9216 - val_loss: 0.3938 - val_accuracy: 0.9572 - val_precision: 0.8974 - val_recall: 0.8877 - 3s/epoch - 2ms/step\n",
      "Epoch 196/4000\n",
      "1595/1595 - 3s - loss: 0.2270 - accuracy: 0.9716 - precision: 0.9339 - recall: 0.9235 - val_loss: 0.3727 - val_accuracy: 0.9590 - val_precision: 0.9017 - val_recall: 0.8920 - 3s/epoch - 2ms/step\n",
      "Epoch 197/4000\n",
      "1595/1595 - 3s - loss: 0.2271 - accuracy: 0.9716 - precision: 0.9339 - recall: 0.9236 - val_loss: 0.3751 - val_accuracy: 0.9595 - val_precision: 0.9029 - val_recall: 0.8936 - 3s/epoch - 2ms/step\n",
      "Epoch 198/4000\n",
      "1595/1595 - 3s - loss: 0.2262 - accuracy: 0.9723 - precision: 0.9348 - recall: 0.9259 - val_loss: 0.3713 - val_accuracy: 0.9594 - val_precision: 0.9028 - val_recall: 0.8931 - 3s/epoch - 2ms/step\n",
      "Epoch 199/4000\n",
      "1595/1595 - 3s - loss: 0.2301 - accuracy: 0.9713 - precision: 0.9323 - recall: 0.9236 - val_loss: 0.3763 - val_accuracy: 0.9592 - val_precision: 0.9014 - val_recall: 0.8936 - 3s/epoch - 2ms/step\n",
      "Epoch 200/4000\n",
      "1595/1595 - 3s - loss: 0.2236 - accuracy: 0.9726 - precision: 0.9353 - recall: 0.9272 - val_loss: 0.3850 - val_accuracy: 0.9585 - val_precision: 0.8989 - val_recall: 0.8931 - 3s/epoch - 2ms/step\n",
      "Epoch 201/4000\n",
      "1595/1595 - 3s - loss: 0.2244 - accuracy: 0.9722 - precision: 0.9345 - recall: 0.9262 - val_loss: 0.3626 - val_accuracy: 0.9605 - val_precision: 0.9042 - val_recall: 0.8974 - 3s/epoch - 2ms/step\n",
      "Epoch 202/4000\n",
      "1595/1595 - 3s - loss: 0.2227 - accuracy: 0.9723 - precision: 0.9343 - recall: 0.9265 - val_loss: 0.3836 - val_accuracy: 0.9583 - val_precision: 0.8988 - val_recall: 0.8920 - 3s/epoch - 2ms/step\n",
      "Epoch 203/4000\n",
      "1595/1595 - 3s - loss: 0.2248 - accuracy: 0.9724 - precision: 0.9346 - recall: 0.9267 - val_loss: 0.3722 - val_accuracy: 0.9595 - val_precision: 0.9025 - val_recall: 0.8942 - 3s/epoch - 2ms/step\n",
      "Epoch 204/4000\n",
      "1595/1595 - 3s - loss: 0.2219 - accuracy: 0.9731 - precision: 0.9361 - recall: 0.9288 - val_loss: 0.3728 - val_accuracy: 0.9592 - val_precision: 0.9001 - val_recall: 0.8952 - 3s/epoch - 2ms/step\n",
      "Epoch 205/4000\n",
      "1595/1595 - 3s - loss: 0.2207 - accuracy: 0.9731 - precision: 0.9361 - recall: 0.9286 - val_loss: 0.3648 - val_accuracy: 0.9598 - val_precision: 0.9035 - val_recall: 0.8947 - 3s/epoch - 2ms/step\n",
      "Epoch 206/4000\n",
      "1595/1595 - 3s - loss: 0.2188 - accuracy: 0.9735 - precision: 0.9373 - recall: 0.9296 - val_loss: 0.3732 - val_accuracy: 0.9591 - val_precision: 0.9005 - val_recall: 0.8942 - 3s/epoch - 2ms/step\n",
      "Epoch 207/4000\n",
      "1595/1595 - 3s - loss: 0.2195 - accuracy: 0.9730 - precision: 0.9357 - recall: 0.9286 - val_loss: 0.3841 - val_accuracy: 0.9575 - val_precision: 0.8953 - val_recall: 0.8915 - 3s/epoch - 2ms/step\n",
      "Epoch 208/4000\n",
      "1595/1595 - 3s - loss: 0.2168 - accuracy: 0.9734 - precision: 0.9366 - recall: 0.9300 - val_loss: 0.3711 - val_accuracy: 0.9592 - val_precision: 0.9010 - val_recall: 0.8942 - 3s/epoch - 2ms/step\n",
      "Epoch 209/4000\n",
      "1595/1595 - 3s - loss: 0.2176 - accuracy: 0.9737 - precision: 0.9376 - recall: 0.9305 - val_loss: 0.3697 - val_accuracy: 0.9599 - val_precision: 0.9027 - val_recall: 0.8963 - 3s/epoch - 2ms/step\n",
      "Epoch 210/4000\n",
      "1595/1595 - 3s - loss: 0.2157 - accuracy: 0.9735 - precision: 0.9366 - recall: 0.9307 - val_loss: 0.3665 - val_accuracy: 0.9595 - val_precision: 0.9007 - val_recall: 0.8963 - 3s/epoch - 2ms/step\n",
      "Epoch 211/4000\n",
      "1595/1595 - 3s - loss: 0.2147 - accuracy: 0.9733 - precision: 0.9362 - recall: 0.9300 - val_loss: 0.3780 - val_accuracy: 0.9585 - val_precision: 0.8985 - val_recall: 0.8936 - 3s/epoch - 2ms/step\n",
      "Epoch 212/4000\n",
      "1595/1595 - 3s - loss: 0.2132 - accuracy: 0.9749 - precision: 0.9400 - recall: 0.9341 - val_loss: 0.3539 - val_accuracy: 0.9593 - val_precision: 0.9002 - val_recall: 0.8958 - 3s/epoch - 2ms/step\n",
      "Epoch 213/4000\n",
      "1595/1595 - 3s - loss: 0.2130 - accuracy: 0.9738 - precision: 0.9375 - recall: 0.9312 - val_loss: 0.3789 - val_accuracy: 0.9589 - val_precision: 0.8991 - val_recall: 0.8947 - 3s/epoch - 2ms/step\n",
      "Epoch 214/4000\n",
      "1595/1595 - 3s - loss: 0.2119 - accuracy: 0.9738 - precision: 0.9371 - recall: 0.9314 - val_loss: 0.3631 - val_accuracy: 0.9599 - val_precision: 0.9018 - val_recall: 0.8974 - 3s/epoch - 2ms/step\n",
      "Epoch 215/4000\n",
      "1595/1595 - 3s - loss: 0.2126 - accuracy: 0.9743 - precision: 0.9384 - recall: 0.9328 - val_loss: 0.3551 - val_accuracy: 0.9614 - val_precision: 0.9056 - val_recall: 0.9012 - 3s/epoch - 2ms/step\n",
      "Epoch 216/4000\n",
      "1595/1595 - 4s - loss: 0.2095 - accuracy: 0.9744 - precision: 0.9387 - recall: 0.9329 - val_loss: 0.3623 - val_accuracy: 0.9606 - val_precision: 0.9030 - val_recall: 0.8996 - 4s/epoch - 2ms/step\n",
      "Epoch 217/4000\n",
      "1595/1595 - 3s - loss: 0.2145 - accuracy: 0.9742 - precision: 0.9380 - recall: 0.9325 - val_loss: 0.3597 - val_accuracy: 0.9606 - val_precision: 0.9030 - val_recall: 0.8996 - 3s/epoch - 2ms/step\n",
      "Epoch 218/4000\n",
      "1595/1595 - 3s - loss: 0.2095 - accuracy: 0.9747 - precision: 0.9391 - recall: 0.9340 - val_loss: 0.3532 - val_accuracy: 0.9605 - val_precision: 0.9029 - val_recall: 0.8990 - 3s/epoch - 2ms/step\n",
      "Epoch 219/4000\n",
      "1595/1595 - 3s - loss: 0.2072 - accuracy: 0.9748 - precision: 0.9396 - recall: 0.9341 - val_loss: 0.3638 - val_accuracy: 0.9598 - val_precision: 0.9004 - val_recall: 0.8985 - 3s/epoch - 2ms/step\n",
      "Epoch 220/4000\n",
      "1595/1595 - 3s - loss: 0.2073 - accuracy: 0.9751 - precision: 0.9403 - recall: 0.9351 - val_loss: 0.3693 - val_accuracy: 0.9594 - val_precision: 0.8998 - val_recall: 0.8969 - 3s/epoch - 2ms/step\n",
      "Epoch 221/4000\n",
      "1595/1595 - 3s - loss: 0.2065 - accuracy: 0.9747 - precision: 0.9393 - recall: 0.9338 - val_loss: 0.3674 - val_accuracy: 0.9596 - val_precision: 0.8999 - val_recall: 0.8979 - 3s/epoch - 2ms/step\n",
      "Epoch 222/4000\n",
      "1595/1595 - 3s - loss: 0.2052 - accuracy: 0.9753 - precision: 0.9404 - recall: 0.9357 - val_loss: 0.3884 - val_accuracy: 0.9570 - val_precision: 0.8943 - val_recall: 0.8904 - 3s/epoch - 2ms/step\n",
      "Epoch 223/4000\n",
      "1595/1595 - 3s - loss: 0.2064 - accuracy: 0.9750 - precision: 0.9396 - recall: 0.9348 - val_loss: 0.3569 - val_accuracy: 0.9603 - val_precision: 0.9015 - val_recall: 0.8996 - 3s/epoch - 2ms/step\n",
      "Epoch 224/4000\n",
      "1595/1595 - 3s - loss: 0.2042 - accuracy: 0.9756 - precision: 0.9411 - recall: 0.9367 - val_loss: 0.3652 - val_accuracy: 0.9592 - val_precision: 0.8988 - val_recall: 0.8969 - 3s/epoch - 2ms/step\n",
      "Epoch 225/4000\n",
      "1595/1595 - 3s - loss: 0.2026 - accuracy: 0.9756 - precision: 0.9409 - recall: 0.9366 - val_loss: 0.3694 - val_accuracy: 0.9586 - val_precision: 0.8972 - val_recall: 0.8958 - 3s/epoch - 2ms/step\n",
      "Epoch 226/4000\n",
      "1595/1595 - 3s - loss: 0.2016 - accuracy: 0.9754 - precision: 0.9402 - recall: 0.9364 - val_loss: 0.3667 - val_accuracy: 0.9590 - val_precision: 0.8991 - val_recall: 0.8952 - 3s/epoch - 2ms/step\n",
      "Epoch 227/4000\n",
      "1595/1595 - 3s - loss: 0.2033 - accuracy: 0.9754 - precision: 0.9404 - recall: 0.9364 - val_loss: 0.3751 - val_accuracy: 0.9589 - val_precision: 0.8982 - val_recall: 0.8958 - 3s/epoch - 2ms/step\n",
      "Epoch 228/4000\n",
      "1595/1595 - 3s - loss: 0.2004 - accuracy: 0.9758 - precision: 0.9416 - recall: 0.9370 - val_loss: 0.3538 - val_accuracy: 0.9599 - val_precision: 0.9009 - val_recall: 0.8985 - 3s/epoch - 2ms/step\n",
      "Epoch 229/4000\n",
      "1595/1595 - 3s - loss: 0.1986 - accuracy: 0.9758 - precision: 0.9415 - recall: 0.9374 - val_loss: 0.3682 - val_accuracy: 0.9585 - val_precision: 0.8972 - val_recall: 0.8952 - 3s/epoch - 2ms/step\n",
      "Epoch 230/4000\n",
      "1595/1595 - 3s - loss: 0.2001 - accuracy: 0.9759 - precision: 0.9415 - recall: 0.9376 - val_loss: 0.3682 - val_accuracy: 0.9585 - val_precision: 0.8976 - val_recall: 0.8947 - 3s/epoch - 2ms/step\n",
      "Epoch 231/4000\n",
      "1595/1595 - 3s - loss: 0.1971 - accuracy: 0.9765 - precision: 0.9429 - recall: 0.9393 - val_loss: 0.3667 - val_accuracy: 0.9586 - val_precision: 0.8972 - val_recall: 0.8958 - 3s/epoch - 2ms/step\n",
      "Epoch 232/4000\n",
      "1595/1595 - 3s - loss: 0.1988 - accuracy: 0.9763 - precision: 0.9427 - recall: 0.9387 - val_loss: 0.3556 - val_accuracy: 0.9595 - val_precision: 0.8994 - val_recall: 0.8979 - 3s/epoch - 2ms/step\n",
      "Epoch 233/4000\n",
      "1595/1595 - 3s - loss: 0.2006 - accuracy: 0.9761 - precision: 0.9421 - recall: 0.9380 - val_loss: 0.3585 - val_accuracy: 0.9596 - val_precision: 0.8999 - val_recall: 0.8979 - 3s/epoch - 2ms/step\n",
      "Epoch 234/4000\n",
      "1595/1595 - 3s - loss: 0.1967 - accuracy: 0.9766 - precision: 0.9432 - recall: 0.9394 - val_loss: 0.3676 - val_accuracy: 0.9584 - val_precision: 0.8967 - val_recall: 0.8952 - 3s/epoch - 2ms/step\n",
      "Epoch 235/4000\n",
      "1595/1595 - 3s - loss: 0.1999 - accuracy: 0.9760 - precision: 0.9415 - recall: 0.9382 - val_loss: 0.3528 - val_accuracy: 0.9599 - val_precision: 0.9009 - val_recall: 0.8985 - 3s/epoch - 2ms/step\n",
      "Epoch 236/4000\n",
      "1595/1595 - 3s - loss: 0.1953 - accuracy: 0.9764 - precision: 0.9426 - recall: 0.9391 - val_loss: 0.3620 - val_accuracy: 0.9596 - val_precision: 0.8995 - val_recall: 0.8985 - 3s/epoch - 2ms/step\n",
      "Epoch 237/4000\n",
      "1595/1595 - 3s - loss: 0.2039 - accuracy: 0.9762 - precision: 0.9423 - recall: 0.9386 - val_loss: 0.3626 - val_accuracy: 0.9594 - val_precision: 0.8989 - val_recall: 0.8979 - 3s/epoch - 2ms/step\n",
      "Epoch 238/4000\n",
      "1595/1595 - 3s - loss: 0.1961 - accuracy: 0.9767 - precision: 0.9435 - recall: 0.9397 - val_loss: 0.3610 - val_accuracy: 0.9594 - val_precision: 0.8994 - val_recall: 0.8974 - 3s/epoch - 2ms/step\n",
      "Epoch 239/4000\n",
      "1595/1595 - 3s - loss: 0.1915 - accuracy: 0.9768 - precision: 0.9434 - recall: 0.9404 - val_loss: 0.3616 - val_accuracy: 0.9593 - val_precision: 0.8984 - val_recall: 0.8979 - 3s/epoch - 2ms/step\n",
      "Epoch 240/4000\n",
      "1595/1595 - 3s - loss: 0.1930 - accuracy: 0.9770 - precision: 0.9440 - recall: 0.9409 - val_loss: 0.3687 - val_accuracy: 0.9583 - val_precision: 0.8966 - val_recall: 0.8947 - 3s/epoch - 2ms/step\n",
      "Epoch 241/4000\n",
      "1595/1595 - 3s - loss: 0.1964 - accuracy: 0.9769 - precision: 0.9439 - recall: 0.9405 - val_loss: 0.3608 - val_accuracy: 0.9595 - val_precision: 0.8998 - val_recall: 0.8974 - 3s/epoch - 2ms/step\n",
      "Epoch 242/4000\n",
      "1595/1595 - 3s - loss: 0.1963 - accuracy: 0.9772 - precision: 0.9445 - recall: 0.9412 - val_loss: 0.3710 - val_accuracy: 0.9587 - val_precision: 0.8973 - val_recall: 0.8963 - 3s/epoch - 2ms/step\n",
      "Epoch 243/4000\n",
      "1595/1595 - 3s - loss: 0.1956 - accuracy: 0.9764 - precision: 0.9423 - recall: 0.9392 - val_loss: 0.3649 - val_accuracy: 0.9594 - val_precision: 0.8998 - val_recall: 0.8969 - 3s/epoch - 2ms/step\n",
      "Epoch 244/4000\n",
      "1595/1595 - 3s - loss: 0.1938 - accuracy: 0.9773 - precision: 0.9446 - recall: 0.9416 - val_loss: 0.3629 - val_accuracy: 0.9595 - val_precision: 0.8994 - val_recall: 0.8979 - 3s/epoch - 2ms/step\n",
      "Epoch 245/4000\n",
      "1595/1595 - 3s - loss: 0.1953 - accuracy: 0.9770 - precision: 0.9441 - recall: 0.9408 - val_loss: 0.3644 - val_accuracy: 0.9592 - val_precision: 0.8988 - val_recall: 0.8969 - 3s/epoch - 2ms/step\n",
      "Epoch 246/4000\n",
      "1595/1595 - 3s - loss: 0.1895 - accuracy: 0.9775 - precision: 0.9449 - recall: 0.9425 - val_loss: 0.3533 - val_accuracy: 0.9595 - val_precision: 0.8994 - val_recall: 0.8979 - 3s/epoch - 2ms/step\n",
      "Epoch 247/4000\n",
      "1595/1595 - 3s - loss: 0.1910 - accuracy: 0.9777 - precision: 0.9456 - recall: 0.9426 - val_loss: 0.3610 - val_accuracy: 0.9594 - val_precision: 0.8994 - val_recall: 0.8974 - 3s/epoch - 2ms/step\n",
      "Epoch 248/4000\n",
      "1595/1595 - 3s - loss: 0.1917 - accuracy: 0.9777 - precision: 0.9457 - recall: 0.9427 - val_loss: 0.3688 - val_accuracy: 0.9590 - val_precision: 0.8978 - val_recall: 0.8969 - 3s/epoch - 2ms/step\n",
      "Epoch 249/4000\n",
      "1595/1595 - 3s - loss: 0.1865 - accuracy: 0.9781 - precision: 0.9465 - recall: 0.9440 - val_loss: 0.3540 - val_accuracy: 0.9597 - val_precision: 0.8995 - val_recall: 0.8990 - 3s/epoch - 2ms/step\n",
      "Epoch 250/4000\n",
      "1595/1595 - 3s - loss: 0.1886 - accuracy: 0.9780 - precision: 0.9463 - recall: 0.9435 - val_loss: 0.3434 - val_accuracy: 0.9605 - val_precision: 0.9021 - val_recall: 0.9001 - 3s/epoch - 2ms/step\n",
      "Epoch 251/4000\n",
      "1595/1595 - 3s - loss: 0.1887 - accuracy: 0.9778 - precision: 0.9460 - recall: 0.9431 - val_loss: 0.3575 - val_accuracy: 0.9592 - val_precision: 0.8984 - val_recall: 0.8974 - 3s/epoch - 2ms/step\n",
      "Epoch 252/4000\n",
      "1595/1595 - 3s - loss: 0.1884 - accuracy: 0.9782 - precision: 0.9468 - recall: 0.9441 - val_loss: 0.3450 - val_accuracy: 0.9604 - val_precision: 0.9020 - val_recall: 0.8996 - 3s/epoch - 2ms/step\n",
      "Epoch 253/4000\n",
      "1595/1595 - 3s - loss: 0.1865 - accuracy: 0.9777 - precision: 0.9453 - recall: 0.9430 - val_loss: 0.3624 - val_accuracy: 0.9595 - val_precision: 0.8990 - val_recall: 0.8985 - 3s/epoch - 2ms/step\n",
      "Epoch 254/4000\n",
      "1595/1595 - 3s - loss: 0.1883 - accuracy: 0.9777 - precision: 0.9454 - recall: 0.9428 - val_loss: 0.3465 - val_accuracy: 0.9606 - val_precision: 0.9025 - val_recall: 0.9001 - 3s/epoch - 2ms/step\n",
      "Epoch 255/4000\n",
      "1595/1595 - 3s - loss: 0.1862 - accuracy: 0.9776 - precision: 0.9451 - recall: 0.9425 - val_loss: 0.3544 - val_accuracy: 0.9598 - val_precision: 0.9000 - val_recall: 0.8990 - 3s/epoch - 2ms/step\n",
      "Epoch 256/4000\n",
      "1595/1595 - 3s - loss: 0.1864 - accuracy: 0.9779 - precision: 0.9459 - recall: 0.9435 - val_loss: 0.3586 - val_accuracy: 0.9603 - val_precision: 0.9011 - val_recall: 0.9001 - 3s/epoch - 2ms/step\n",
      "Epoch 257/4000\n",
      "1595/1595 - 3s - loss: 0.1868 - accuracy: 0.9782 - precision: 0.9466 - recall: 0.9441 - val_loss: 0.3501 - val_accuracy: 0.9610 - val_precision: 0.9032 - val_recall: 0.9017 - 3s/epoch - 2ms/step\n",
      "Epoch 258/4000\n",
      "1595/1595 - 3s - loss: 0.1866 - accuracy: 0.9783 - precision: 0.9469 - recall: 0.9443 - val_loss: 0.3529 - val_accuracy: 0.9600 - val_precision: 0.9010 - val_recall: 0.8990 - 3s/epoch - 2ms/step\n",
      "Epoch 259/4000\n",
      "1595/1595 - 3s - loss: 0.1843 - accuracy: 0.9780 - precision: 0.9460 - recall: 0.9438 - val_loss: 0.3533 - val_accuracy: 0.9599 - val_precision: 0.9001 - val_recall: 0.8996 - 3s/epoch - 2ms/step\n",
      "Epoch 260/4000\n",
      "1595/1595 - 3s - loss: 0.1858 - accuracy: 0.9784 - precision: 0.9471 - recall: 0.9448 - val_loss: 0.3532 - val_accuracy: 0.9600 - val_precision: 0.9005 - val_recall: 0.8996 - 3s/epoch - 2ms/step\n",
      "Epoch 261/4000\n",
      "1595/1595 - 3s - loss: 0.1898 - accuracy: 0.9782 - precision: 0.9466 - recall: 0.9443 - val_loss: 0.3618 - val_accuracy: 0.9597 - val_precision: 0.8995 - val_recall: 0.8990 - 3s/epoch - 2ms/step\n",
      "Epoch 262/4000\n",
      "1595/1595 - 3s - loss: 0.1842 - accuracy: 0.9781 - precision: 0.9463 - recall: 0.9440 - val_loss: 0.3546 - val_accuracy: 0.9604 - val_precision: 0.9011 - val_recall: 0.9006 - 3s/epoch - 2ms/step\n",
      "Epoch 263/4000\n",
      "1595/1595 - 3s - loss: 0.1863 - accuracy: 0.9782 - precision: 0.9467 - recall: 0.9444 - val_loss: 0.3662 - val_accuracy: 0.9598 - val_precision: 0.9000 - val_recall: 0.8990 - 3s/epoch - 2ms/step\n",
      "Epoch 264/4000\n",
      "1595/1595 - 3s - loss: 0.1819 - accuracy: 0.9791 - precision: 0.9486 - recall: 0.9470 - val_loss: 0.3635 - val_accuracy: 0.9600 - val_precision: 0.9005 - val_recall: 0.8996 - 3s/epoch - 2ms/step\n",
      "Epoch 265/4000\n",
      "1595/1595 - 3s - loss: 0.1831 - accuracy: 0.9785 - precision: 0.9475 - recall: 0.9450 - val_loss: 0.3552 - val_accuracy: 0.9596 - val_precision: 0.8990 - val_recall: 0.8990 - 3s/epoch - 2ms/step\n",
      "Epoch 266/4000\n",
      "1595/1595 - 3s - loss: 0.1817 - accuracy: 0.9787 - precision: 0.9476 - recall: 0.9457 - val_loss: 0.3555 - val_accuracy: 0.9594 - val_precision: 0.8985 - val_recall: 0.8985 - 3s/epoch - 2ms/step\n",
      "Epoch 267/4000\n",
      "1595/1595 - 3s - loss: 0.1820 - accuracy: 0.9786 - precision: 0.9475 - recall: 0.9455 - val_loss: 0.3534 - val_accuracy: 0.9596 - val_precision: 0.8995 - val_recall: 0.8985 - 3s/epoch - 2ms/step\n",
      "Epoch 268/4000\n",
      "1595/1595 - 3s - loss: 0.1826 - accuracy: 0.9789 - precision: 0.9482 - recall: 0.9463 - val_loss: 0.3653 - val_accuracy: 0.9603 - val_precision: 0.9011 - val_recall: 0.9001 - 3s/epoch - 2ms/step\n",
      "Epoch 269/4000\n",
      "1595/1595 - 3s - loss: 0.1862 - accuracy: 0.9782 - precision: 0.9467 - recall: 0.9444 - val_loss: 0.3419 - val_accuracy: 0.9617 - val_precision: 0.9053 - val_recall: 0.9028 - 3s/epoch - 2ms/step\n",
      "Epoch 270/4000\n",
      "1595/1595 - 3s - loss: 0.1811 - accuracy: 0.9787 - precision: 0.9478 - recall: 0.9457 - val_loss: 0.3505 - val_accuracy: 0.9598 - val_precision: 0.9004 - val_recall: 0.8985 - 3s/epoch - 2ms/step\n",
      "Epoch 271/4000\n",
      "1595/1595 - 3s - loss: 0.1811 - accuracy: 0.9786 - precision: 0.9475 - recall: 0.9455 - val_loss: 0.3461 - val_accuracy: 0.9602 - val_precision: 0.9006 - val_recall: 0.9001 - 3s/epoch - 2ms/step\n",
      "Epoch 272/4000\n",
      "1595/1595 - 3s - loss: 0.1819 - accuracy: 0.9787 - precision: 0.9477 - recall: 0.9459 - val_loss: 0.3520 - val_accuracy: 0.9599 - val_precision: 0.9001 - val_recall: 0.8996 - 3s/epoch - 2ms/step\n",
      "Epoch 273/4000\n",
      "1595/1595 - 3s - loss: 0.1797 - accuracy: 0.9792 - precision: 0.9488 - recall: 0.9468 - val_loss: 0.3405 - val_accuracy: 0.9603 - val_precision: 0.9011 - val_recall: 0.9001 - 3s/epoch - 2ms/step\n",
      "Epoch 274/4000\n",
      "1595/1595 - 3s - loss: 0.1793 - accuracy: 0.9790 - precision: 0.9484 - recall: 0.9463 - val_loss: 0.3542 - val_accuracy: 0.9597 - val_precision: 0.8995 - val_recall: 0.8990 - 3s/epoch - 2ms/step\n",
      "Epoch 275/4000\n",
      "1595/1595 - 3s - loss: 0.1787 - accuracy: 0.9788 - precision: 0.9477 - recall: 0.9462 - val_loss: 0.3487 - val_accuracy: 0.9606 - val_precision: 0.9017 - val_recall: 0.9012 - 3s/epoch - 2ms/step\n",
      "Epoch 276/4000\n",
      "1595/1595 - 3s - loss: 0.1805 - accuracy: 0.9784 - precision: 0.9469 - recall: 0.9452 - val_loss: 0.3608 - val_accuracy: 0.9603 - val_precision: 0.9006 - val_recall: 0.9006 - 3s/epoch - 2ms/step\n",
      "Epoch 277/4000\n",
      "1595/1595 - 3s - loss: 0.1801 - accuracy: 0.9790 - precision: 0.9484 - recall: 0.9465 - val_loss: 0.3498 - val_accuracy: 0.9605 - val_precision: 0.9016 - val_recall: 0.9006 - 3s/epoch - 2ms/step\n",
      "Epoch 278/4000\n",
      "1595/1595 - 3s - loss: 0.1779 - accuracy: 0.9796 - precision: 0.9497 - recall: 0.9480 - val_loss: 0.3494 - val_accuracy: 0.9604 - val_precision: 0.9011 - val_recall: 0.9006 - 3s/epoch - 2ms/step\n",
      "Epoch 279/4000\n",
      "1595/1595 - 5s - loss: 0.1785 - accuracy: 0.9789 - precision: 0.9480 - recall: 0.9465 - val_loss: 0.3553 - val_accuracy: 0.9599 - val_precision: 0.9001 - val_recall: 0.8996 - 5s/epoch - 3ms/step\n",
      "Epoch 280/4000\n",
      "1595/1595 - 4s - loss: 0.1803 - accuracy: 0.9790 - precision: 0.9484 - recall: 0.9464 - val_loss: 0.3352 - val_accuracy: 0.9622 - val_precision: 0.9059 - val_recall: 0.9050 - 4s/epoch - 2ms/step\n",
      "Epoch 281/4000\n",
      "1595/1595 - 3s - loss: 0.1770 - accuracy: 0.9790 - precision: 0.9483 - recall: 0.9466 - val_loss: 0.3512 - val_accuracy: 0.9603 - val_precision: 0.9011 - val_recall: 0.9001 - 3s/epoch - 2ms/step\n",
      "Epoch 282/4000\n",
      "1595/1595 - 3s - loss: 0.1779 - accuracy: 0.9793 - precision: 0.9490 - recall: 0.9472 - val_loss: 0.3567 - val_accuracy: 0.9603 - val_precision: 0.9011 - val_recall: 0.9001 - 3s/epoch - 2ms/step\n",
      "Epoch 283/4000\n",
      "1595/1595 - 3s - loss: 0.1770 - accuracy: 0.9793 - precision: 0.9492 - recall: 0.9472 - val_loss: 0.3376 - val_accuracy: 0.9609 - val_precision: 0.9027 - val_recall: 0.9017 - 3s/epoch - 2ms/step\n",
      "Epoch 284/4000\n",
      "1595/1595 - 3s - loss: 0.1747 - accuracy: 0.9794 - precision: 0.9493 - recall: 0.9478 - val_loss: 0.3393 - val_accuracy: 0.9611 - val_precision: 0.9032 - val_recall: 0.9023 - 3s/epoch - 2ms/step\n",
      "Epoch 285/4000\n",
      "1595/1595 - 3s - loss: 0.1757 - accuracy: 0.9790 - precision: 0.9484 - recall: 0.9466 - val_loss: 0.3408 - val_accuracy: 0.9610 - val_precision: 0.9028 - val_recall: 0.9023 - 3s/epoch - 2ms/step\n",
      "Epoch 286/4000\n",
      "1595/1595 - 3s - loss: 0.1805 - accuracy: 0.9789 - precision: 0.9481 - recall: 0.9463 - val_loss: 0.3478 - val_accuracy: 0.9608 - val_precision: 0.9027 - val_recall: 0.9012 - 3s/epoch - 2ms/step\n",
      "Epoch 287/4000\n",
      "1595/1595 - 3s - loss: 0.1764 - accuracy: 0.9797 - precision: 0.9500 - recall: 0.9482 - val_loss: 0.3407 - val_accuracy: 0.9610 - val_precision: 0.9028 - val_recall: 0.9023 - 3s/epoch - 2ms/step\n",
      "Epoch 288/4000\n",
      "1595/1595 - 3s - loss: 0.1754 - accuracy: 0.9802 - precision: 0.9514 - recall: 0.9495 - val_loss: 0.3506 - val_accuracy: 0.9605 - val_precision: 0.9016 - val_recall: 0.9006 - 3s/epoch - 2ms/step\n",
      "Epoch 289/4000\n",
      "1595/1595 - 3s - loss: 0.1794 - accuracy: 0.9785 - precision: 0.9471 - recall: 0.9453 - val_loss: 0.3559 - val_accuracy: 0.9604 - val_precision: 0.9011 - val_recall: 0.9006 - 3s/epoch - 2ms/step\n",
      "Epoch 290/4000\n",
      "1595/1595 - 3s - loss: 0.1764 - accuracy: 0.9797 - precision: 0.9500 - recall: 0.9483 - val_loss: 0.3573 - val_accuracy: 0.9602 - val_precision: 0.9006 - val_recall: 0.9001 - 3s/epoch - 2ms/step\n",
      "Epoch 291/4000\n",
      "1595/1595 - 3s - loss: 0.1782 - accuracy: 0.9793 - precision: 0.9490 - recall: 0.9473 - val_loss: 0.3516 - val_accuracy: 0.9605 - val_precision: 0.9016 - val_recall: 0.9006 - 3s/epoch - 2ms/step\n",
      "Epoch 292/4000\n",
      "1595/1595 - 3s - loss: 0.1747 - accuracy: 0.9799 - precision: 0.9504 - recall: 0.9488 - val_loss: 0.3469 - val_accuracy: 0.9608 - val_precision: 0.9022 - val_recall: 0.9017 - 3s/epoch - 2ms/step\n",
      "Epoch 293/4000\n",
      "1595/1595 - 3s - loss: 0.1749 - accuracy: 0.9798 - precision: 0.9503 - recall: 0.9487 - val_loss: 0.3620 - val_accuracy: 0.9600 - val_precision: 0.9005 - val_recall: 0.8996 - 3s/epoch - 2ms/step\n",
      "Epoch 294/4000\n",
      "1595/1595 - 3s - loss: 0.1753 - accuracy: 0.9796 - precision: 0.9496 - recall: 0.9483 - val_loss: 0.3604 - val_accuracy: 0.9598 - val_precision: 0.8996 - val_recall: 0.8996 - 3s/epoch - 2ms/step\n",
      "Epoch 295/4000\n",
      "1595/1595 - 3s - loss: 0.1765 - accuracy: 0.9794 - precision: 0.9493 - recall: 0.9476 - val_loss: 0.3630 - val_accuracy: 0.9603 - val_precision: 0.9006 - val_recall: 0.9006 - 3s/epoch - 2ms/step\n",
      "Epoch 296/4000\n",
      "1595/1595 - 3s - loss: 0.1751 - accuracy: 0.9796 - precision: 0.9497 - recall: 0.9480 - val_loss: 0.3545 - val_accuracy: 0.9604 - val_precision: 0.9011 - val_recall: 0.9006 - 3s/epoch - 2ms/step\n",
      "Epoch 297/4000\n",
      "1595/1595 - 3s - loss: 0.1745 - accuracy: 0.9800 - precision: 0.9506 - recall: 0.9492 - val_loss: 0.3562 - val_accuracy: 0.9608 - val_precision: 0.9022 - val_recall: 0.9017 - 3s/epoch - 2ms/step\n",
      "Epoch 298/4000\n",
      "1595/1595 - 3s - loss: 0.1747 - accuracy: 0.9794 - precision: 0.9493 - recall: 0.9477 - val_loss: 0.3628 - val_accuracy: 0.9598 - val_precision: 0.8996 - val_recall: 0.8996 - 3s/epoch - 2ms/step\n",
      "Epoch 299/4000\n",
      "1595/1595 - 3s - loss: 0.1746 - accuracy: 0.9798 - precision: 0.9502 - recall: 0.9485 - val_loss: 0.3452 - val_accuracy: 0.9606 - val_precision: 0.9017 - val_recall: 0.9012 - 3s/epoch - 2ms/step\n",
      "Epoch 300/4000\n",
      "1595/1595 - 3s - loss: 0.1723 - accuracy: 0.9798 - precision: 0.9503 - recall: 0.9486 - val_loss: 0.3417 - val_accuracy: 0.9608 - val_precision: 0.9022 - val_recall: 0.9017 - 3s/epoch - 2ms/step\n",
      "Epoch 300: early stopping\n"
     ]
    }
   ],
   "source": [
    "train_history = massDet.fit(X_res, yTraining, validation_data=(X_val, yValidation), epochs=4000, verbose=2, callbacks=[es])"
   ]
  },
  {
   "cell_type": "code",
   "execution_count": 56,
   "metadata": {},
   "outputs": [
    {
     "name": "stdout",
     "output_type": "stream",
     "text": [
      "851/851 - 2s - loss: 0.1446 - accuracy: 0.9871 - precision: 0.9679 - recall: 0.9677 - 2s/epoch - 2ms/step\n"
     ]
    },
    {
     "data": {
      "text/plain": [
       "[0.14464226365089417, 0.9871254563331604, 0.9678995013237, 0.9677218198776245]"
      ]
     },
     "execution_count": 56,
     "metadata": {},
     "output_type": "execute_result"
    }
   ],
   "source": [
    "massDet.evaluate(X_testRes, yTesting, verbose=2)"
   ]
  }
 ],
 "metadata": {
  "kernelspec": {
   "display_name": "base",
   "language": "python",
   "name": "python3"
  },
  "language_info": {
   "codemirror_mode": {
    "name": "ipython",
    "version": 3
   },
   "file_extension": ".py",
   "mimetype": "text/x-python",
   "name": "python",
   "nbconvert_exporter": "python",
   "pygments_lexer": "ipython3",
   "version": "3.8.16"
  },
  "orig_nbformat": 4,
  "vscode": {
   "interpreter": {
    "hash": "aaeaf8a9ff06fb6bdf563288c20a6e8a09c59750333508f25818577d19f5cc59"
   }
  }
 },
 "nbformat": 4,
 "nbformat_minor": 2
}
