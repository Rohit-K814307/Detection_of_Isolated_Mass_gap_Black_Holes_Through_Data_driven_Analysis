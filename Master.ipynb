{
 "cells": [
  {
   "attachments": {},
   "cell_type": "markdown",
   "metadata": {},
   "source": [
    "# Imports"
   ]
  },
  {
   "cell_type": "code",
   "execution_count": 107,
   "metadata": {},
   "outputs": [],
   "source": [
    "#math/viz\n",
    "import numpy as np\n",
    "from astropy.table import Table\n",
    "import pandas as pd\n",
    "import matplotlib.pyplot as plt\n",
    "import seaborn as sns\n",
    "import sys\n",
    "from collections import OrderedDict\n",
    "import math\n",
    "from tqdm import tqdm\n",
    "from matplotlib import rcParams\n",
    "\n",
    "#ML Libraries\n",
    "import torch\n",
    "import torch.nn as nn\n",
    "import torch.nn.functional as F\n",
    "import torch.optim as optim\n",
    "from torch.utils.data import DataLoader, Dataset\n",
    "from tabgan.sampler import GANGenerator\n",
    "\n",
    "\n",
    "#data processing\n",
    "from sklearn.model_selection import train_test_split\n",
    "from sklearn import preprocessing\n",
    "from imblearn.combine import SMOTETomek\n",
    "from sklearn.metrics import accuracy_score\n",
    "from sklearn.metrics import f1_score\n",
    "from sklearn.metrics import precision_score\n",
    "from sklearn.metrics import recall_score\n",
    "from sklearn.metrics import confusion_matrix\n",
    "import itertools"
   ]
  },
  {
   "attachments": {},
   "cell_type": "markdown",
   "metadata": {},
   "source": [
    "Pytorch CUDA Support"
   ]
  },
  {
   "cell_type": "code",
   "execution_count": 2,
   "metadata": {},
   "outputs": [
    {
     "name": "stdout",
     "output_type": "stream",
     "text": [
      "Using device: cpu\n",
      "\n"
     ]
    }
   ],
   "source": [
    "device = torch.device('cuda' if torch.cuda.is_available() else 'cpu')\n",
    "print('Using device:', device)\n",
    "print()\n",
    "\n",
    "#Additional Info when using cuda\n",
    "if device.type == 'cuda':\n",
    "    print(torch.cuda.get_device_name(0))\n",
    "    print('Memory Usage:')\n",
    "    print('Allocated:', round(torch.cuda.memory_allocated(0)/1024**3,1), 'GB')\n",
    "    print('Cached:   ', round(torch.cuda.memory_reserved(0)/1024**3,1), 'GB')"
   ]
  },
  {
   "attachments": {},
   "cell_type": "markdown",
   "metadata": {},
   "source": [
    "# Prepare Dataset of Hubble Telescope Data and Synthetic TableGAN-Generated Data"
   ]
  },
  {
   "attachments": {},
   "cell_type": "markdown",
   "metadata": {},
   "source": [
    "Data Manipulation and Aggregation"
   ]
  },
  {
   "cell_type": "code",
   "execution_count": 3,
   "metadata": {},
   "outputs": [
    {
     "name": "stdout",
     "output_type": "stream",
     "text": [
      "5.928635293618626, 103.0\n",
      "5.879971359489428, 103.0\n",
      "5.162646276613792, 103.0\n",
      "5.417679377687121, 103.0\n",
      "5.93375031652569, 103.0\n",
      "5.428512577551937, 103.0\n",
      "5.945427577313886, 103.0\n",
      "5.495947559658077, 103.0\n",
      "5.928753878023536, 103.0\n",
      "5.45393247635686, 103.0\n",
      "5.851252711006547, 103.0\n",
      "5.6768541171885465, 103.0\n",
      "5.031358482509798, 103.0\n",
      "5.901512804673876, 103.0\n",
      "5.028441306942967, 103.0\n",
      "5.963473680915251, 103.0\n",
      "5.900972124119535, 103.0\n",
      "5.751735432572209, 103.0\n"
     ]
    }
   ],
   "source": [
    "#get black hole data from popsycle dataset\n",
    "pops = Table.read(\"data/popsycle_sim.fits\").to_pandas()\n",
    "ob = Table.read(\"data/OB110462_DW_post.fits\").to_pandas()\n",
    "\n",
    "for i in range(len(pops)):\n",
    "    if (pops[\"mass_L\"][i] < 6 and pops[\"mass_L\"][i] > 2 and (pops[\"rem_id_L\"][i] == 103)):\n",
    "        print(f'{pops[\"mass_L\"][i]}, {pops[\"rem_id_L\"][i]}')\n",
    "    else:\n",
    "        pops = pops.drop([i])\n",
    "\n",
    "pops.reset_index(inplace=True)\n",
    "pops = pops.drop(columns=[\"index\"])\n",
    "\n",
    "wanted_ob = [\"t0\",\"u0_amp\",\"tE\",\"log10_thetaE\",\"piE_E\",\"muS_E\",\"mL\",\"piRel\",\"muL_E\",\"muRel_E\"]\n",
    "wanted_pops = [\"t0\",\"u0\",\"t_E\",\"theta_E\",\"pi_E\",\"mu_b_S\",\"mass_L\",\"pi_rel\",\"mu_b_L\",\"mu_rel\"]\n",
    "\n",
    "ob_to_pops = {\"t0\":\"t0\", \"u0_amp\":\"u0\",\"tE\":\"t_E\",\"log10_thetaE\":\"theta_E\",\"piE_E\":\"pi_E\",\"muS_E\":\"mu_b_S\",\"mL\":\"mass_L\",\"piRel\":\"pi_rel\",\"muL_E\":\"mu_b_L\",\"muRel_E\":\"mu_rel\"}\n",
    "\n",
    "for col in [i for i in ob.columns]:\n",
    "    if col in wanted_ob:\n",
    "        pass\n",
    "    else:\n",
    "        ob = ob.drop(columns=[col])\n",
    "\n",
    "for col in [i for i in pops.columns]:\n",
    "    if col in wanted_pops:\n",
    "        pass\n",
    "    else:\n",
    "        pops = pops.drop(columns=[col])\n",
    "\n",
    "ob = ob.rename(columns=ob_to_pops, errors=\"raise\")\n",
    "\n",
    "ob_targets = {\"target\":[1 for i in range(len(ob))]}\n",
    "pops_targets = {\"target\":[0 for i in range(len(pops))]}\n",
    "target_ob = pd.DataFrame(ob_targets)\n",
    "target_pops = pd.DataFrame(pops_targets)"
   ]
  },
  {
   "attachments": {},
   "cell_type": "markdown",
   "metadata": {},
   "source": [
    "Normalize data"
   ]
  },
  {
   "cell_type": "code",
   "execution_count": 4,
   "metadata": {},
   "outputs": [],
   "source": [
    "df_ob_ns_no_target = pd.concat([ob, pops], ignore_index=True)\n",
    "df_ob_ns_only_target = pd.concat([target_ob,target_pops], ignore_index=True)\n",
    "df_data_not_norm = pd.concat([df_ob_ns_no_target,df_ob_ns_only_target], axis=1)\n",
    "\n",
    "norm_bh_ns = preprocessing.Normalizer()\n",
    "df = norm_bh_ns.fit_transform(df_ob_ns_no_target)"
   ]
  },
  {
   "attachments": {},
   "cell_type": "markdown",
   "metadata": {},
   "source": [
    "Smote Tomek Upsample and Downsample Data"
   ]
  },
  {
   "cell_type": "code",
   "execution_count": 5,
   "metadata": {},
   "outputs": [],
   "source": [
    "smk = SMOTETomek()\n",
    "X,y=smk.fit_resample(df, df_ob_ns_only_target.to_numpy())"
   ]
  },
  {
   "attachments": {},
   "cell_type": "markdown",
   "metadata": {},
   "source": [
    "Split Data"
   ]
  },
  {
   "cell_type": "code",
   "execution_count": 6,
   "metadata": {},
   "outputs": [],
   "source": [
    "df_x_train, df_x_test, df_y_train, df_y_test = train_test_split(\n",
    "    X,\n",
    "    y,\n",
    "    test_size=0.2,\n",
    "    #shuffle=False,\n",
    "    random_state=42,\n",
    ")"
   ]
  },
  {
   "cell_type": "code",
   "execution_count": 7,
   "metadata": {},
   "outputs": [],
   "source": [
    "df_xtrain = pd.DataFrame(df_x_train, columns=df_ob_ns_no_target.columns).reset_index(drop=True)\n",
    "df_xtest = pd.DataFrame(df_x_test, columns=df_ob_ns_no_target.columns).reset_index(drop=True)\n",
    "df_ytrain = pd.DataFrame(df_y_train, columns=[\"id\"]).reset_index(drop=True)\n",
    "df_ytest = pd.DataFrame(df_y_test, columns=[\"id\"]).reset_index(drop=True)"
   ]
  },
  {
   "attachments": {},
   "cell_type": "markdown",
   "metadata": {},
   "source": [
    "Train TABGAN for data synthesis"
   ]
  },
  {
   "cell_type": "code",
   "execution_count": 8,
   "metadata": {},
   "outputs": [
    {
     "data": {
      "application/vnd.jupyter.widget-view+json": {
       "model_id": "f67fbf4b8831454ab11bd52176182df4",
       "version_major": 2,
       "version_minor": 0
      },
      "text/plain": [
       "Fitting CTGAN transformers for each column:   0%|          | 0/11 [00:00<?, ?it/s]"
      ]
     },
     "metadata": {},
     "output_type": "display_data"
    },
    {
     "data": {
      "application/vnd.jupyter.widget-view+json": {
       "model_id": "7dc6963430764330918113339aa554f2",
       "version_major": 2,
       "version_minor": 0
      },
      "text/plain": [
       "Training CTGAN, epochs::   0%|          | 0/20 [00:00<?, ?it/s]"
      ]
     },
     "metadata": {},
     "output_type": "display_data"
    }
   ],
   "source": [
    "gen_x, gen_y = GANGenerator(\n",
    "    gen_x_times=1.1, \n",
    "    cat_cols=None,\n",
    "    bot_filter_quantile=0.001, \n",
    "    top_filter_quantile=0.999,\n",
    "    is_post_process=True,\n",
    "    adversarial_model_params={\n",
    "        \"metrics\": \"rmse\", \n",
    "        \"max_depth\": 2, \n",
    "        \"max_bin\": 100, \n",
    "        \"learning_rate\": 0.02, \n",
    "        \"random_state\": 42, \n",
    "        \"n_estimators\": 500,\n",
    "    }, \n",
    "    pregeneration_frac=2, \n",
    "    only_generated_data=False,\n",
    "    gan_params = {\n",
    "        \"batch_size\": 500, \n",
    "        \"patience\": 25, \n",
    "        \"epochs\" : 20,\n",
    "    }).generate_data_pipe(\n",
    "        df_xtrain, \n",
    "        df_ytrain,\n",
    "        df_xtest, \n",
    "        deep_copy=True, \n",
    "        only_adversarial=False,\n",
    "        use_adversarial=True\n",
    "        )"
   ]
  },
  {
   "attachments": {},
   "cell_type": "markdown",
   "metadata": {},
   "source": [
    "If above code results in NA or INF conversion issue, this is due to a large epoch count and overtraining - decrease the epoch count to solve this issue"
   ]
  },
  {
   "attachments": {},
   "cell_type": "markdown",
   "metadata": {},
   "source": [
    "Concatenate TableGAN data and real-world data"
   ]
  },
  {
   "cell_type": "code",
   "execution_count": 9,
   "metadata": {},
   "outputs": [],
   "source": [
    "t = pd.concat([df_ob_ns_no_target,gen_x])\n",
    "f = pd.concat([df_ob_ns_only_target,pd.DataFrame(gen_y.to_numpy(),columns=[\"target\"])])\n",
    "df_data = pd.concat([t,f], axis=1).reset_index(drop=True)"
   ]
  },
  {
   "attachments": {},
   "cell_type": "markdown",
   "metadata": {},
   "source": [
    "# Exploratory Data Analysis"
   ]
  },
  {
   "cell_type": "code",
   "execution_count": 36,
   "metadata": {},
   "outputs": [],
   "source": [
    "eda_data = df_data.copy()"
   ]
  },
  {
   "cell_type": "code",
   "execution_count": 37,
   "metadata": {},
   "outputs": [
    {
     "data": {
      "text/html": [
       "<div>\n",
       "<style scoped>\n",
       "    .dataframe tbody tr th:only-of-type {\n",
       "        vertical-align: middle;\n",
       "    }\n",
       "\n",
       "    .dataframe tbody tr th {\n",
       "        vertical-align: top;\n",
       "    }\n",
       "\n",
       "    .dataframe thead th {\n",
       "        text-align: right;\n",
       "    }\n",
       "</style>\n",
       "<table border=\"1\" class=\"dataframe\">\n",
       "  <thead>\n",
       "    <tr style=\"text-align: right;\">\n",
       "      <th></th>\n",
       "      <th>t0</th>\n",
       "      <th>u0</th>\n",
       "      <th>t_E</th>\n",
       "      <th>theta_E</th>\n",
       "      <th>pi_E</th>\n",
       "      <th>mu_b_S</th>\n",
       "      <th>mass_L</th>\n",
       "      <th>pi_rel</th>\n",
       "      <th>mu_b_L</th>\n",
       "      <th>mu_rel</th>\n",
       "      <th>target</th>\n",
       "    </tr>\n",
       "  </thead>\n",
       "  <tbody>\n",
       "    <tr>\n",
       "      <th>0</th>\n",
       "      <td>55763.312017</td>\n",
       "      <td>-0.051724</td>\n",
       "      <td>287.263116</td>\n",
       "      <td>0.728651</td>\n",
       "      <td>0.021247</td>\n",
       "      <td>0.066662</td>\n",
       "      <td>6.890218</td>\n",
       "      <td>0.510787</td>\n",
       "      <td>-1.449263</td>\n",
       "      <td>1.515925</td>\n",
       "      <td>1</td>\n",
       "    </tr>\n",
       "    <tr>\n",
       "      <th>1</th>\n",
       "      <td>55763.143207</td>\n",
       "      <td>-0.056239</td>\n",
       "      <td>273.684662</td>\n",
       "      <td>0.363211</td>\n",
       "      <td>0.019904</td>\n",
       "      <td>0.122164</td>\n",
       "      <td>2.534837</td>\n",
       "      <td>0.258013</td>\n",
       "      <td>-0.426201</td>\n",
       "      <td>0.548365</td>\n",
       "      <td>1</td>\n",
       "    </tr>\n",
       "    <tr>\n",
       "      <th>2</th>\n",
       "      <td>55762.869349</td>\n",
       "      <td>-0.059092</td>\n",
       "      <td>280.197751</td>\n",
       "      <td>0.597241</td>\n",
       "      <td>0.019986</td>\n",
       "      <td>0.031534</td>\n",
       "      <td>4.004285</td>\n",
       "      <td>0.479873</td>\n",
       "      <td>-0.818066</td>\n",
       "      <td>0.849601</td>\n",
       "      <td>1</td>\n",
       "    </tr>\n",
       "    <tr>\n",
       "      <th>3</th>\n",
       "      <td>55764.431058</td>\n",
       "      <td>-0.042804</td>\n",
       "      <td>279.152526</td>\n",
       "      <td>0.617667</td>\n",
       "      <td>0.025575</td>\n",
       "      <td>0.126121</td>\n",
       "      <td>5.574564</td>\n",
       "      <td>0.378698</td>\n",
       "      <td>-1.393074</td>\n",
       "      <td>1.519195</td>\n",
       "      <td>1</td>\n",
       "    </tr>\n",
       "    <tr>\n",
       "      <th>4</th>\n",
       "      <td>55762.025369</td>\n",
       "      <td>-0.067009</td>\n",
       "      <td>273.444603</td>\n",
       "      <td>0.572748</td>\n",
       "      <td>0.020906</td>\n",
       "      <td>0.060268</td>\n",
       "      <td>3.557838</td>\n",
       "      <td>0.482480</td>\n",
       "      <td>-0.748844</td>\n",
       "      <td>0.809112</td>\n",
       "      <td>1</td>\n",
       "    </tr>\n",
       "  </tbody>\n",
       "</table>\n",
       "</div>"
      ],
      "text/plain": [
       "             t0        u0         t_E   theta_E      pi_E    mu_b_S    mass_L  \\\n",
       "0  55763.312017 -0.051724  287.263116  0.728651  0.021247  0.066662  6.890218   \n",
       "1  55763.143207 -0.056239  273.684662  0.363211  0.019904  0.122164  2.534837   \n",
       "2  55762.869349 -0.059092  280.197751  0.597241  0.019986  0.031534  4.004285   \n",
       "3  55764.431058 -0.042804  279.152526  0.617667  0.025575  0.126121  5.574564   \n",
       "4  55762.025369 -0.067009  273.444603  0.572748  0.020906  0.060268  3.557838   \n",
       "\n",
       "     pi_rel    mu_b_L    mu_rel  target  \n",
       "0  0.510787 -1.449263  1.515925       1  \n",
       "1  0.258013 -0.426201  0.548365       1  \n",
       "2  0.479873 -0.818066  0.849601       1  \n",
       "3  0.378698 -1.393074  1.519195       1  \n",
       "4  0.482480 -0.748844  0.809112       1  "
      ]
     },
     "execution_count": 37,
     "metadata": {},
     "output_type": "execute_result"
    }
   ],
   "source": [
    "eda_data.head()"
   ]
  },
  {
   "cell_type": "code",
   "execution_count": 38,
   "metadata": {},
   "outputs": [
    {
     "data": {
      "text/plain": [
       "(8999, 11)"
      ]
     },
     "execution_count": 38,
     "metadata": {},
     "output_type": "execute_result"
    }
   ],
   "source": [
    "eda_data.shape"
   ]
  },
  {
   "cell_type": "code",
   "execution_count": 39,
   "metadata": {},
   "outputs": [
    {
     "data": {
      "text/plain": [
       "0"
      ]
     },
     "execution_count": 39,
     "metadata": {},
     "output_type": "execute_result"
    }
   ],
   "source": [
    "eda_data.isna().sum().sum()"
   ]
  },
  {
   "cell_type": "code",
   "execution_count": 40,
   "metadata": {},
   "outputs": [
    {
     "data": {
      "text/plain": [
       "1    6126\n",
       "0    2873\n",
       "Name: target, dtype: int64"
      ]
     },
     "execution_count": 40,
     "metadata": {},
     "output_type": "execute_result"
    }
   ],
   "source": [
    "eda_data[\"target\"].value_counts() #resample necessary"
   ]
  },
  {
   "cell_type": "code",
   "execution_count": 41,
   "metadata": {},
   "outputs": [
    {
     "data": {
      "text/plain": [
       "t0         float64\n",
       "u0         float64\n",
       "t_E        float64\n",
       "theta_E    float64\n",
       "pi_E       float64\n",
       "mu_b_S     float64\n",
       "mass_L     float64\n",
       "pi_rel     float64\n",
       "mu_b_L     float64\n",
       "mu_rel     float64\n",
       "target       int64\n",
       "dtype: object"
      ]
     },
     "execution_count": 41,
     "metadata": {},
     "output_type": "execute_result"
    }
   ],
   "source": [
    "eda_data.dtypes"
   ]
  },
  {
   "cell_type": "code",
   "execution_count": 47,
   "metadata": {},
   "outputs": [
    {
     "name": "stdout",
     "output_type": "stream",
     "text": [
      "Skew:\n",
      "t0          0.493863\n",
      "u0          4.797400\n",
      "t_E         0.494311\n",
      "theta_E     0.877515\n",
      "pi_E        1.599983\n",
      "mu_b_S     35.400529\n",
      "mass_L      0.611195\n",
      "pi_rel      0.622019\n",
      "mu_b_L      2.985134\n",
      "mu_rel     16.280924\n",
      "target     -0.775533\n",
      "dtype: float64\n",
      "\n",
      "Kurtosis:\n",
      "t0           -1.756489\n",
      "u0          121.537479\n",
      "t_E          -1.751878\n",
      "theta_E       2.234090\n",
      "pi_E          4.892270\n",
      "mu_b_S     1612.190269\n",
      "mass_L       -1.447218\n",
      "pi_rel       -1.442326\n",
      "mu_b_L      101.676150\n",
      "mu_rel      390.471782\n",
      "target       -1.398860\n",
      "dtype: float64\n"
     ]
    }
   ],
   "source": [
    "print(f\"Skew:\\n{eda_data.skew()}\\n\\nKurtosis:\\n{eda_data.kurtosis()}\")"
   ]
  },
  {
   "cell_type": "code",
   "execution_count": 49,
   "metadata": {},
   "outputs": [
    {
     "data": {
      "image/png": "[encoded data removed]",
      "text/plain": [
       "<Figure size 200x200 with 1 Axes>"
      ]
     },
     "metadata": {},
     "output_type": "display_data"
    },
    {
     "data": {
      "image/png": "[encoded data removed]",
      "text/plain": [
       "<Figure size 200x200 with 1 Axes>"
      ]
     },
     "metadata": {},
     "output_type": "display_data"
    },
    {
     "data": {
      "image/png": "[encoded data removed]",
      "text/plain": [
       "<Figure size 200x200 with 1 Axes>"
      ]
     },
     "metadata": {},
     "output_type": "display_data"
    },
    {
     "data": {
      "image/png": "[encoded data removed]",
      "text/plain": [
       "<Figure size 200x200 with 1 Axes>"
      ]
     },
     "metadata": {},
     "output_type": "display_data"
    },
    {
     "data": {
      "image/png": "[encoded data removed]",
      "text/plain": [
       "<Figure size 200x200 with 1 Axes>"
      ]
     },
     "metadata": {},
     "output_type": "display_data"
    },
    {
     "data": {
      "image/png": "[encoded data removed]",
      "text/plain": [
       "<Figure size 200x200 with 1 Axes>"
      ]
     },
     "metadata": {},
     "output_type": "display_data"
    },
    {
     "data": {
      "image/png": "[encoded data removed]",
      "text/plain": [
       "<Figure size 200x200 with 1 Axes>"
      ]
     },
     "metadata": {},
     "output_type": "display_data"
    },
    {
     "data": {
      "image/png": "[encoded data removed]",
      "text/plain": [
       "<Figure size 200x200 with 1 Axes>"
      ]
     },
     "metadata": {},
     "output_type": "display_data"
    },
    {
     "data": {
      "image/png": "[encoded data removed]",
      "text/plain": [
       "<Figure size 200x200 with 1 Axes>"
      ]
     },
     "metadata": {},
     "output_type": "display_data"
    },
    {
     "data": {
      "image/png": "[encoded data removed]",
      "text/plain": [
       "<Figure size 200x200 with 1 Axes>"
      ]
     },
     "metadata": {},
     "output_type": "display_data"
    },
    {
     "data": {
      "image/png": "[encoded data removed]",
      "text/plain": [
       "<Figure size 200x200 with 1 Axes>"
      ]
     },
     "metadata": {},
     "output_type": "display_data"
    }
   ],
   "source": [
    "rcParams['figure.figsize'] = 2,2\n",
    "for col in list(eda_data.columns):\n",
    "    plt.figure()\n",
    "    sns.kdeplot(eda_data[col],bw_method=0.5)"
   ]
  },
  {
   "attachments": {},
   "cell_type": "markdown",
   "metadata": {},
   "source": [
    "Observations:\n",
    "\n",
    "1. Data is skewed harshly"
   ]
  },
  {
   "attachments": {},
   "cell_type": "markdown",
   "metadata": {},
   "source": [
    "# Preprocess Data"
   ]
  },
  {
   "attachments": {},
   "cell_type": "markdown",
   "metadata": {},
   "source": [
    "Smote tomek resample to make final data even"
   ]
  },
  {
   "cell_type": "code",
   "execution_count": 10,
   "metadata": {},
   "outputs": [],
   "source": [
    "smk = SMOTETomek()\n",
    "thing = df_data.drop(columns=[\"target\"])\n",
    "m_g_objects,m_g_targets=smk.fit_resample(thing, df_data[\"target\"])"
   ]
  },
  {
   "attachments": {},
   "cell_type": "markdown",
   "metadata": {},
   "source": [
    "Train Test split"
   ]
  },
  {
   "cell_type": "code",
   "execution_count": 11,
   "metadata": {},
   "outputs": [],
   "source": [
    "x_train, x_test, y_train, y_test = train_test_split(\n",
    "    m_g_objects,\n",
    "    m_g_targets,\n",
    "    test_size=0.2,\n",
    "    #shuffle=False,\n",
    "    random_state=42,\n",
    ")"
   ]
  },
  {
   "attachments": {},
   "cell_type": "markdown",
   "metadata": {},
   "source": [
    "# Model Initialization and Architecture"
   ]
  },
  {
   "attachments": {},
   "cell_type": "markdown",
   "metadata": {},
   "source": [
    "Train the Following models on the synthetic data\n",
    "1. Deep Belief Network\n",
    "2. Radial Basis Function Network\n",
    "3. Multilayer Perceptron Network"
   ]
  },
  {
   "attachments": {},
   "cell_type": "markdown",
   "metadata": {},
   "source": [
    "# Create Pytorch Tensors"
   ]
  },
  {
   "cell_type": "code",
   "execution_count": 12,
   "metadata": {},
   "outputs": [],
   "source": [
    "class CustomDataset(Dataset):\n",
    " \n",
    "  def __init__(self,m_g_objects,m_g_targets):\n",
    "    x = m_g_objects.values\n",
    "    y = m_g_targets.values\n",
    " \n",
    "    self.x_train=torch.tensor(x,dtype=torch.float32)\n",
    "    self.y_train=torch.tensor(y,dtype=torch.float32)\n",
    " \n",
    "  def __len__(self):\n",
    "    return len(self.y_train)\n",
    "   \n",
    "  def __getitem__(self,idx):\n",
    "    return self.x_train[idx],self.y_train[idx]"
   ]
  },
  {
   "cell_type": "code",
   "execution_count": 13,
   "metadata": {},
   "outputs": [],
   "source": [
    "X_train = torch.tensor(x_train.values)\n",
    "Y_train = torch.tensor(y_train.values)\n",
    "X_test = torch.tensor(x_test.values)\n",
    "Y_test = torch.tensor(y_test.values)"
   ]
  },
  {
   "cell_type": "code",
   "execution_count": 14,
   "metadata": {},
   "outputs": [],
   "source": [
    "bh_ns = CustomDataset(x_train,y_train)\n",
    "train_loader = DataLoader(bh_ns,batch_size=10,shuffle=False)\n",
    "\n",
    "bh_ns_two = CustomDataset(x_test, y_test)\n",
    "test_loader = DataLoader(bh_ns_two)"
   ]
  },
  {
   "attachments": {},
   "cell_type": "markdown",
   "metadata": {},
   "source": [
    "# DB NET"
   ]
  },
  {
   "attachments": {},
   "cell_type": "markdown",
   "metadata": {},
   "source": [
    "## Define and Train Deep Belief Network"
   ]
  },
  {
   "attachments": {},
   "cell_type": "markdown",
   "metadata": {},
   "source": [
    "1. Define a RBM: Restricted Boltzmann Machine"
   ]
  },
  {
   "cell_type": "code",
   "execution_count": 16,
   "metadata": {},
   "outputs": [],
   "source": [
    "class RBM(nn.Module):\n",
    "    '''\n",
    "    This class defines all the functions needed for an BinaryRBN model\n",
    "    where the visible and hidden units are both considered binary\n",
    "    '''\n",
    "\n",
    "    def __init__(self,\n",
    "                visible_units=10,\n",
    "                hidden_units = 64,\n",
    "                k=2,\n",
    "                learning_rate=1e-5,\n",
    "                learning_rate_decay = False,\n",
    "                xavier_init = False,\n",
    "                increase_to_cd_k = False,\n",
    "                use_gpu = False\n",
    "                ):\n",
    "        '''\n",
    "        Defines the model\n",
    "        W:Wheights shape (visible_units,hidden_units)\n",
    "        c:hidden unit bias shape (hidden_units , )\n",
    "        b : visible unit bias shape(visisble_units ,)\n",
    "        '''\n",
    "        super(RBM,self).__init__()\n",
    "        self.desc = \"RBM\"\n",
    "\n",
    "        self.visible_units = visible_units\n",
    "        self.hidden_units = hidden_units\n",
    "        self.k = k\n",
    "        self.learning_rate = learning_rate\n",
    "        self.learning_rate_decay = learning_rate_decay\n",
    "        self.xavier_init = xavier_init\n",
    "        self.increase_to_cd_k = increase_to_cd_k\n",
    "        self.use_gpu = use_gpu\n",
    "        self.batch_size = 16\n",
    "\n",
    "\n",
    "        # Initialization\n",
    "        if not self.xavier_init:\n",
    "            self.W = torch.randn(self.visible_units,self.hidden_units) * 0.01 #weights\n",
    "        else:\n",
    "            self.xavier_value = torch.sqrt(torch.FloatTensor([1.0 / (self.visible_units + self.hidden_units)]))\n",
    "            self.W = -self.xavier_value + torch.rand(self.visible_units, self.hidden_units) * (2 * self.xavier_value)\n",
    "        self.h_bias = torch.zeros(self.hidden_units) #hidden layer bias\n",
    "        self.v_bias = torch.zeros(self.visible_units) #visible layer bias\n",
    "\n",
    "\n",
    "    def to_hidden(self ,X):\n",
    "        '''\n",
    "        Converts the data in visible layer to hidden layer\n",
    "        also does sampling\n",
    "        X here is the visible probabilities\n",
    "        :param X: torch tensor shape = (n_samples , n_features)\n",
    "        :return -  X_prob - new hidden layer (probabilities)\n",
    "                    sample_X_prob - Gibbs sampling of hidden (1 or 0) based\n",
    "                                on the value\n",
    "        '''\n",
    "        X_prob = torch.matmul(X,self.W)\n",
    "        X_prob = torch.add(X_prob, self.h_bias)#W.x + c\n",
    "        X_prob  = torch.sigmoid(X_prob)\n",
    "\n",
    "        sample_X_prob = self.sampling(X_prob)\n",
    "\n",
    "        return X_prob,sample_X_prob\n",
    "\n",
    "    def to_visible(self,X):\n",
    "        '''\n",
    "        reconstructs data from hidden layer\n",
    "        also does sampling\n",
    "        X here is the probabilities in the hidden layer\n",
    "        :returns - X_prob - the new reconstructed layers(probabilities)\n",
    "                    sample_X_prob - sample of new layer(Gibbs Sampling)\n",
    "\n",
    "        '''\n",
    "        # computing hidden activations and then converting into probabilities\n",
    "        X_prob = torch.matmul(X ,self.W.transpose( 0 , 1) )\n",
    "        X_prob = torch.add(X_prob , self.v_bias)\n",
    "        X_prob = torch.sigmoid(X_prob)\n",
    "\n",
    "        sample_X_prob = self.sampling(X_prob)\n",
    "\n",
    "        return X_prob,sample_X_prob\n",
    "\n",
    "    def sampling(self,prob):\n",
    "        '''\n",
    "        Bernoulli sampling done based on probabilities s\n",
    "        '''\n",
    "        s = torch.distributions.Bernoulli(prob).sample()\n",
    "        return s\n",
    "\n",
    "    def reconstruction_error(self , data):\n",
    "        '''\n",
    "        Computes the reconstruction error for the data\n",
    "        handled by pytorch by loss functions\n",
    "        '''\n",
    "        return self.contrastive_divergence(data, False)\n",
    "\n",
    "    def reconstruct(self , X,n_gibbs):\n",
    "        '''\n",
    "        This will reconstruct the sample with k steps of gibbs Sampling\n",
    "\n",
    "        '''\n",
    "        v = X\n",
    "        for i in range(n_gibbs):\n",
    "            prob_h_,h = self.to_hidden(v)\n",
    "            prob_v_,v = self.to_visible(prob_h_)\n",
    "        return prob_v_,v\n",
    "\n",
    "\n",
    "    def contrastive_divergence(self, input_data ,training = True,\n",
    "                                n_gibbs_sampling_steps=1,lr = 0.001):\n",
    "        # positive phase\n",
    "\n",
    "        positive_hidden_probabilities,positive_hidden_act  = self.to_hidden(input_data)\n",
    "\n",
    "        # calculating W via positive side\n",
    "        positive_associations = torch.matmul(input_data.t() , positive_hidden_act)\n",
    "\n",
    "\n",
    "\n",
    "        # negetive phase\n",
    "        hidden_activations = positive_hidden_act\n",
    "        for i in range(n_gibbs_sampling_steps):\n",
    "            visible_probabilities , _ = self.to_visible(hidden_activations)\n",
    "            hidden_probabilities,hidden_activations = self.to_hidden(visible_probabilities)\n",
    "\n",
    "        negative_visible_probabilities = visible_probabilities\n",
    "        negative_hidden_probabilities = hidden_probabilities\n",
    "\n",
    "        # calculating W via negative side\n",
    "        negative_associations = torch.matmul(negative_visible_probabilities.t() , negative_hidden_probabilities)\n",
    "\n",
    "\n",
    "        # Update parameters\n",
    "        if(training):\n",
    "\n",
    "            batch_size = self.batch_size\n",
    "\n",
    "            g = (positive_associations - negative_associations)\n",
    "            grad_update = g / batch_size\n",
    "            v_bias_update = torch.sum(input_data - negative_visible_probabilities,dim=0)/batch_size\n",
    "            h_bias_update = torch.sum(positive_hidden_probabilities - negative_hidden_probabilities,dim=0)/batch_size\n",
    "\n",
    "            self.W += lr * grad_update\n",
    "            self.v_bias += lr * v_bias_update\n",
    "            self.h_bias += lr * h_bias_update\n",
    "\n",
    "\n",
    "        # Compute reconstruction error\n",
    "        error = torch.mean(torch.sum((input_data - negative_visible_probabilities)**2 , dim = 0))\n",
    "\n",
    "        return error,torch.sum(torch.abs(grad_update))\n",
    "\n",
    "\n",
    "    def forward(self,input_data):\n",
    "        'data->hidden'\n",
    "        return  self.to_hidden(input_data)\n",
    "    def step(self,input_data,epoch,num_epochs):\n",
    "        '''\n",
    "            Includes the foward prop plus the gradient descent\n",
    "            Use this for training\n",
    "        '''\n",
    "        if self.increase_to_cd_k:\n",
    "            n_gibbs_sampling_steps = int(math.ceil((epoch/num_epochs) * self.k))\n",
    "        else:\n",
    "            n_gibbs_sampling_steps = self.k\n",
    "\n",
    "        if self.learning_rate_decay:\n",
    "            lr = self.learning_rate / epoch\n",
    "        else:\n",
    "            lr = self.learning_rate\n",
    "\n",
    "        return self.contrastive_divergence(input_data , True,n_gibbs_sampling_steps,lr);\n",
    "\n",
    "\n",
    "    def train(self,train_dataloader , num_epochs = 50,batch_size=16):\n",
    "\n",
    "        self.batch_size = batch_size\n",
    "        if(isinstance(train_dataloader ,torch.utils.data.DataLoader)):\n",
    "            train_loader = train_dataloader\n",
    "        else:\n",
    "            train_loader = torch.utils.data.DataLoader(train_dataloader, batch_size=batch_size)\n",
    "\n",
    "\n",
    "        for epoch in range(1 , num_epochs+1):\n",
    "            epoch_err = 0.0\n",
    "            n_batches = int(len(train_loader))\n",
    "            # print(n_batches)\n",
    "\n",
    "            cost_ = torch.FloatTensor(n_batches , 1)\n",
    "            grad_ = torch.FloatTensor(n_batches , 1)\n",
    "\n",
    "            for i,(batch,_) in tqdm(enumerate(train_loader),ascii=True,\n",
    "                                desc=\"RBM fitting\", file=sys.stdout):\n",
    "\n",
    "                batch = batch.view(len(batch) , self.visible_units)\n",
    "                \n",
    "                if(self.use_gpu):\n",
    "                    batch = batch.cuda()\n",
    "                cost_[i-1],grad_[i-1] = self.step(batch,epoch,num_epochs)\n",
    "\n",
    "\n",
    "            print(\"Epoch:{} ,avg_cost = {} ,std_cost = {} ,avg_grad = {} ,std_grad = {}\".format(epoch,\\\n",
    "                                                            torch.mean(cost_),\\\n",
    "                                                            torch.std(cost_),\\\n",
    "                                                            torch.mean(grad_),\\\n",
    "                                                            torch.std(grad_)))\n",
    "\n",
    "        return"
   ]
  },
  {
   "attachments": {},
   "cell_type": "markdown",
   "metadata": {},
   "source": [
    "2. DBN Based on RBM"
   ]
  },
  {
   "cell_type": "code",
   "execution_count": 17,
   "metadata": {},
   "outputs": [],
   "source": [
    "class DBN(nn.Module):\n",
    "    def __init__(self,\n",
    "                visible_units = 10,\n",
    "                hidden_units = [64 , 100],\n",
    "                k = 2,\n",
    "                learning_rate = 1e-5,\n",
    "                learning_rate_decay = False,\n",
    "                xavier_init = False,\n",
    "                increase_to_cd_k = False,\n",
    "                use_gpu = False\n",
    "                ):\n",
    "        super(DBN,self).__init__()\n",
    "\n",
    "        self.n_layers = len(hidden_units)\n",
    "        self.rbm_layers =[]\n",
    "        self.rbm_nodes = []\n",
    "\n",
    "        # Creating different RBM layers\n",
    "        for i in range(self.n_layers ):\n",
    "            input_size = 0\n",
    "            if i==0:\n",
    "                input_size = visible_units\n",
    "            else:\n",
    "                input_size = hidden_units[i-1]\n",
    "            rbm = RBM(visible_units = input_size,\n",
    "                    hidden_units = hidden_units[i],\n",
    "                    k= k,\n",
    "                    learning_rate = learning_rate,\n",
    "                    learning_rate_decay = learning_rate_decay,\n",
    "                    xavier_init = xavier_init,\n",
    "                    increase_to_cd_k = increase_to_cd_k,\n",
    "                    use_gpu=use_gpu)\n",
    "\n",
    "            self.rbm_layers.append(rbm)\n",
    "\n",
    "        # rbm_layers = [RBM(rbn_nodes[i-1] , rbm_nodes[i],use_gpu=use_cuda) for i in range(1,len(rbm_nodes))]\n",
    "        self.W_rec = [nn.Parameter(self.rbm_layers[i].W.data.clone()) for i in range(self.n_layers-1)]\n",
    "        self.W_gen = [nn.Parameter(self.rbm_layers[i].W.data) for i in range(self.n_layers-1)]\n",
    "        self.bias_rec = [nn.Parameter(self.rbm_layers[i].h_bias.data.clone()) for i in range(self.n_layers-1)]\n",
    "        self.bias_gen = [nn.Parameter(self.rbm_layers[i].v_bias.data) for i in range(self.n_layers-1)]\n",
    "        self.W_mem = nn.Parameter(self.rbm_layers[-1].W.data)\n",
    "        self.v_bias_mem = nn.Parameter(self.rbm_layers[-1].v_bias.data)\n",
    "        self.h_bias_mem = nn.Parameter(self.rbm_layers[-1].h_bias.data)\n",
    "\n",
    "        for i in range(self.n_layers-1):\n",
    "            self.register_parameter('W_rec%i'%i, self.W_rec[i])\n",
    "            self.register_parameter('W_gen%i'%i, self.W_gen[i])\n",
    "            self.register_parameter('bias_rec%i'%i, self.bias_rec[i])\n",
    "            self.register_parameter('bias_gen%i'%i, self.bias_gen[i])\n",
    "\n",
    "\n",
    "    def forward(self , input_data):\n",
    "        '''\n",
    "            running the forward pass\n",
    "            do not confuse with training this just runs a foward pass\n",
    "        '''\n",
    "        v = input_data\n",
    "        for i in range(len(self.rbm_layers)):\n",
    "            v = v.view((v.shape[0] , -1)).type(torch.FloatTensor)#flatten\n",
    "            p_v,v = self.rbm_layers[i].to_hidden(v)\n",
    "        return p_v,v\n",
    "\n",
    "    def reconstruct(self,input_data):\n",
    "        '''\n",
    "        go till the final layer and then reconstruct\n",
    "        '''\n",
    "        h = input_data\n",
    "        p_h = 0\n",
    "        for i in range(len(self.rbm_layers)):\n",
    "            h = h.view((h.shape[0] , -1)).type(torch.FloatTensor)#flatten\n",
    "            p_h,h = self.rbm_layers[i].to_hidden(h)\n",
    "\n",
    "        v = h\n",
    "        for i in range(len(self.rbm_layers)-1,-1,-1):\n",
    "            v = v.view((v.shape[0] , -1)).type(torch.FloatTensor)\n",
    "            p_v,v = self.rbm_layers[i].to_visible(v)\n",
    "        return p_v,v\n",
    "\n",
    "\n",
    "\n",
    "    def train_static(self, train_data,train_labels,num_epochs=50,batch_size=10):\n",
    "        '''\n",
    "        Greedy Layer By Layer training\n",
    "        Keeping previous layers as static\n",
    "        '''\n",
    "\n",
    "        tmp = train_data\n",
    "\n",
    "        for i in range(len(self.rbm_layers)):\n",
    "            print(\"-\"*20)\n",
    "            print(\"Training the {} st rbm layer\".format(i+1))\n",
    "\n",
    "            tensor_x = tmp.type(torch.FloatTensor) # transform to torch tensors\n",
    "            tensor_y = train_labels.type(torch.FloatTensor)\n",
    "            _dataset = torch.utils.data.TensorDataset(tensor_x,tensor_y) # create your datset\n",
    "            _dataloader = torch.utils.data.DataLoader(_dataset,batch_size=batch_size,drop_last = True) # create your dataloader\n",
    "\n",
    "            self.rbm_layers[i].train(_dataloader , num_epochs,batch_size)\n",
    "            # print(train_data.shape)\n",
    "            v = tmp.view((tmp.shape[0] , -1)).type(torch.FloatTensor)#flatten\n",
    "            p_v , v = self.rbm_layers[i].forward(v)\n",
    "            tmp = v\n",
    "            # print(v.shape)\n",
    "        return\n",
    "\n",
    "    def train_ith(self, train_data,train_labels,num_epochs,batch_size,ith_layer):\n",
    "        '''\n",
    "        taking ith layer at once\n",
    "        can be used for fine tuning\n",
    "        '''\n",
    "        if(ith_layer-1>len(self.rbm_layers) or ith_layer<=0):\n",
    "            print(\"Layer index out of range\")\n",
    "            return\n",
    "        ith_layer = ith_layer-1\n",
    "        v = train_data.view((train_data.shape[0] , -1)).type(torch.FloatTensor)\n",
    "\n",
    "        for ith in range(ith_layer):\n",
    "            p_v, v = self.rbm_layers[ith].forward(v)\n",
    "\n",
    "        tmp = v\n",
    "        tensor_x = tmp.type(torch.FloatTensor) # transform to torch tensors\n",
    "        tensor_y = train_labels.type(torch.FloatTensor)\n",
    "        _dataset = torch.utils.data.TensorDataset(tensor_x,tensor_y) # create your datset\n",
    "        _dataloader = torch.utils.data.DataLoader(_dataset , batch_size=batch_size,drop_last=True)\n",
    "        self.rbm_layers[ith_layer].train(_dataloader, num_epochs,batch_size)\n",
    "        return"
   ]
  },
  {
   "attachments": {},
   "cell_type": "markdown",
   "metadata": {},
   "source": [
    "3. Train DBN"
   ]
  },
  {
   "cell_type": "code",
   "execution_count": 31,
   "metadata": {},
   "outputs": [],
   "source": [
    "dbn_bhns = DBN(visible_units=10 ,\n",
    "                hidden_units=[23*23 ,1*1] ,\n",
    "                k = 5,\n",
    "                learning_rate = 0.01,\n",
    "                learning_rate_decay = True,\n",
    "                xavier_init = True,\n",
    "                increase_to_cd_k = False,\n",
    "                use_gpu = False)"
   ]
  },
  {
   "attachments": {},
   "cell_type": "markdown",
   "metadata": {},
   "source": [
    "Change use_gpu to True when training with CUDA accelerator"
   ]
  },
  {
   "cell_type": "code",
   "execution_count": 32,
   "metadata": {},
   "outputs": [
    {
     "name": "stdout",
     "output_type": "stream",
     "text": [
      "--------------------\n",
      "Training the 1 st rbm layer\n",
      "RBM fitting: 1003it [00:09, 110.46it/s]\n",
      "Epoch:1 ,avg_cost = 842260416.0 ,std_cost = 426686528.0 ,avg_grad = 4462930.5 ,std_grad = 2260999.0\n",
      "RBM fitting: 1003it [00:08, 115.51it/s]\n",
      "Epoch:2 ,avg_cost = 842260416.0 ,std_cost = 426686528.0 ,avg_grad = 4463364.5 ,std_grad = 2261053.75\n",
      "RBM fitting: 1003it [00:08, 125.30it/s]\n",
      "Epoch:3 ,avg_cost = 842260416.0 ,std_cost = 426686528.0 ,avg_grad = 4463370.0 ,std_grad = 2261068.0\n",
      "RBM fitting: 1003it [00:08, 120.64it/s]\n",
      "Epoch:4 ,avg_cost = 842260416.0 ,std_cost = 426686528.0 ,avg_grad = 4463377.0 ,std_grad = 2261071.75\n",
      "RBM fitting: 1003it [00:08, 112.34it/s]\n",
      "Epoch:5 ,avg_cost = 842260416.0 ,std_cost = 426686528.0 ,avg_grad = 4463382.5 ,std_grad = 2261070.5\n",
      "RBM fitting: 1003it [00:08, 120.53it/s]\n",
      "Epoch:6 ,avg_cost = 842260416.0 ,std_cost = 426686528.0 ,avg_grad = 4463388.0 ,std_grad = 2261070.5\n",
      "RBM fitting: 1003it [00:07, 126.51it/s]\n",
      "Epoch:7 ,avg_cost = 842260416.0 ,std_cost = 426686528.0 ,avg_grad = 4463385.0 ,std_grad = 2261070.0\n",
      "RBM fitting: 1003it [00:08, 112.86it/s]\n",
      "Epoch:8 ,avg_cost = 842260416.0 ,std_cost = 426686528.0 ,avg_grad = 4463385.5 ,std_grad = 2261071.0\n",
      "RBM fitting: 1003it [00:08, 118.38it/s]\n",
      "Epoch:9 ,avg_cost = 842260416.0 ,std_cost = 426686528.0 ,avg_grad = 4463387.0 ,std_grad = 2261071.5\n",
      "RBM fitting: 1003it [00:09, 109.73it/s]\n",
      "Epoch:10 ,avg_cost = 842260416.0 ,std_cost = 426686528.0 ,avg_grad = 4463386.5 ,std_grad = 2261069.25\n",
      "RBM fitting: 1003it [00:08, 112.10it/s]\n",
      "Epoch:11 ,avg_cost = 842260416.0 ,std_cost = 426686528.0 ,avg_grad = 4463389.0 ,std_grad = 2261068.25\n",
      "RBM fitting: 1003it [00:08, 119.53it/s]\n",
      "Epoch:12 ,avg_cost = 842260416.0 ,std_cost = 426686528.0 ,avg_grad = 4463386.5 ,std_grad = 2261067.0\n",
      "RBM fitting: 1003it [00:08, 123.44it/s]\n",
      "Epoch:13 ,avg_cost = 842260416.0 ,std_cost = 426686528.0 ,avg_grad = 4463388.5 ,std_grad = 2261068.75\n",
      "RBM fitting: 1003it [00:07, 133.88it/s]\n",
      "Epoch:14 ,avg_cost = 842260416.0 ,std_cost = 426686528.0 ,avg_grad = 4463386.5 ,std_grad = 2261066.0\n",
      "RBM fitting: 1003it [00:07, 125.87it/s]\n",
      "Epoch:15 ,avg_cost = 842260416.0 ,std_cost = 426686528.0 ,avg_grad = 4463386.0 ,std_grad = 2261068.75\n",
      "RBM fitting: 1003it [00:08, 124.64it/s]\n",
      "Epoch:16 ,avg_cost = 842260416.0 ,std_cost = 426686528.0 ,avg_grad = 4463386.0 ,std_grad = 2261066.25\n",
      "RBM fitting: 1003it [00:09, 103.35it/s]\n",
      "Epoch:17 ,avg_cost = 842260416.0 ,std_cost = 426686528.0 ,avg_grad = 4463388.0 ,std_grad = 2261066.75\n",
      "RBM fitting: 1003it [00:08, 119.87it/s]\n",
      "Epoch:18 ,avg_cost = 842260416.0 ,std_cost = 426686528.0 ,avg_grad = 4463387.5 ,std_grad = 2261066.75\n",
      "RBM fitting: 1003it [00:07, 131.64it/s]\n",
      "Epoch:19 ,avg_cost = 842260416.0 ,std_cost = 426686528.0 ,avg_grad = 4463388.5 ,std_grad = 2261069.75\n",
      "RBM fitting: 1003it [00:07, 142.44it/s]\n",
      "Epoch:20 ,avg_cost = 842260416.0 ,std_cost = 426686528.0 ,avg_grad = 4463388.5 ,std_grad = 2261070.0\n",
      "--------------------\n",
      "Training the 2 st rbm layer\n",
      "RBM fitting: 1003it [00:07, 133.20it/s]\n",
      "Epoch:1 ,avg_cost = 1.7408872842788696 ,std_cost = 0.38712748885154724 ,avg_grad = 66.94595336914062 ,std_grad = 37.60258102416992\n",
      "RBM fitting: 1003it [00:06, 164.66it/s]\n",
      "Epoch:2 ,avg_cost = 1.647535800933838 ,std_cost = 0.42315107583999634 ,avg_grad = 54.54906463623047 ,std_grad = 27.34062385559082\n",
      "RBM fitting: 1003it [00:05, 180.39it/s]\n",
      "Epoch:3 ,avg_cost = 1.6471531391143799 ,std_cost = 0.4272724390029907 ,avg_grad = 54.55373001098633 ,std_grad = 27.208663940429688\n",
      "RBM fitting: 1003it [00:04, 219.66it/s]\n",
      "Epoch:4 ,avg_cost = 1.647071361541748 ,std_cost = 0.42831647396087646 ,avg_grad = 54.5484733581543 ,std_grad = 27.18777084350586\n",
      "RBM fitting: 1003it [00:04, 203.65it/s]\n",
      "Epoch:5 ,avg_cost = 1.6470345258712769 ,std_cost = 0.4287411570549011 ,avg_grad = 54.54383087158203 ,std_grad = 27.181663513183594\n",
      "RBM fitting: 1003it [00:04, 225.38it/s]\n",
      "Epoch:6 ,avg_cost = 1.6470129489898682 ,std_cost = 0.4289610683917999 ,avg_grad = 54.540279388427734 ,std_grad = 27.179292678833008\n",
      "RBM fitting: 1003it [00:05, 188.76it/s]\n",
      "Epoch:7 ,avg_cost = 1.6469985246658325 ,std_cost = 0.4290928542613983 ,avg_grad = 54.537559509277344 ,std_grad = 27.17820930480957\n",
      "RBM fitting: 1003it [00:04, 208.60it/s]\n",
      "Epoch:8 ,avg_cost = 1.6469881534576416 ,std_cost = 0.4291798174381256 ,avg_grad = 54.535430908203125 ,std_grad = 27.17765998840332\n",
      "RBM fitting: 1003it [00:05, 195.18it/s]\n",
      "Epoch:9 ,avg_cost = 1.6469800472259521 ,std_cost = 0.4292413890361786 ,avg_grad = 54.53373718261719 ,std_grad = 27.177356719970703\n",
      "RBM fitting: 1003it [00:06, 165.17it/s]\n",
      "Epoch:10 ,avg_cost = 1.646973729133606 ,std_cost = 0.4292871654033661 ,avg_grad = 54.53235626220703 ,std_grad = 27.17717933654785\n",
      "RBM fitting: 1003it [00:07, 132.31it/s]\n",
      "Epoch:11 ,avg_cost = 1.6469687223434448 ,std_cost = 0.4293225109577179 ,avg_grad = 54.53120803833008 ,std_grad = 27.177072525024414\n",
      "RBM fitting: 1003it [00:06, 162.57it/s]\n",
      "Epoch:12 ,avg_cost = 1.6469645500183105 ,std_cost = 0.42935073375701904 ,avg_grad = 54.530242919921875 ,std_grad = 27.177005767822266\n",
      "RBM fitting: 1003it [00:05, 180.00it/s]\n",
      "Epoch:13 ,avg_cost = 1.646960973739624 ,std_cost = 0.42937374114990234 ,avg_grad = 54.529422760009766 ,std_grad = 27.17696189880371\n",
      "RBM fitting: 1003it [00:04, 235.49it/s]\n",
      "Epoch:14 ,avg_cost = 1.6469578742980957 ,std_cost = 0.42939266562461853 ,avg_grad = 54.528709411621094 ,std_grad = 27.176939010620117\n",
      "RBM fitting: 1003it [00:04, 203.39it/s]\n",
      "Epoch:15 ,avg_cost = 1.6469554901123047 ,std_cost = 0.4294086992740631 ,avg_grad = 54.528099060058594 ,std_grad = 27.176923751831055\n",
      "RBM fitting: 1003it [00:05, 189.69it/s]\n",
      "Epoch:16 ,avg_cost = 1.6469531059265137 ,std_cost = 0.4294224977493286 ,avg_grad = 54.527557373046875 ,std_grad = 27.17691421508789\n",
      "RBM fitting: 1003it [00:04, 202.59it/s]\n",
      "Epoch:17 ,avg_cost = 1.6469509601593018 ,std_cost = 0.42943432927131653 ,avg_grad = 54.527076721191406 ,std_grad = 27.176910400390625\n",
      "RBM fitting: 1003it [00:04, 215.25it/s]\n",
      "Epoch:18 ,avg_cost = 1.646949291229248 ,std_cost = 0.429444819688797 ,avg_grad = 54.52665328979492 ,std_grad = 27.176904678344727\n",
      "RBM fitting: 1003it [00:04, 201.03it/s]\n",
      "Epoch:19 ,avg_cost = 1.6469478607177734 ,std_cost = 0.42945414781570435 ,avg_grad = 54.526275634765625 ,std_grad = 27.17690086364746\n",
      "RBM fitting: 1003it [00:05, 172.94it/s]\n",
      "Epoch:20 ,avg_cost = 1.6469461917877197 ,std_cost = 0.4294625222682953 ,avg_grad = 54.52593231201172 ,std_grad = 27.17689323425293\n"
     ]
    }
   ],
   "source": [
    "dbn_bhns.train_static(X_train, Y_train, 20, batch_size=10)"
   ]
  },
  {
   "attachments": {},
   "cell_type": "markdown",
   "metadata": {},
   "source": [
    "Model Save"
   ]
  },
  {
   "cell_type": "code",
   "execution_count": 33,
   "metadata": {},
   "outputs": [],
   "source": [
    "torch.save(dbn_bhns.state_dict(),\"Deep_Belief_Network.pth\")"
   ]
  },
  {
   "attachments": {},
   "cell_type": "markdown",
   "metadata": {},
   "source": [
    "Model Load"
   ]
  },
  {
   "cell_type": "code",
   "execution_count": 35,
   "metadata": {},
   "outputs": [
    {
     "data": {
      "text/plain": [
       "<All keys matched successfully>"
      ]
     },
     "execution_count": 35,
     "metadata": {},
     "output_type": "execute_result"
    }
   ],
   "source": [
    "loaded_model = DBN(visible_units=10 ,\n",
    "                hidden_units=[23*23 ,1*1] ,\n",
    "                k = 5,\n",
    "                learning_rate = 0.01,\n",
    "                learning_rate_decay = True,\n",
    "                xavier_init = True,\n",
    "                increase_to_cd_k = False,\n",
    "                use_gpu = False)\n",
    "\n",
    "loaded_model.load_state_dict(torch.load(\"Deep_Belief_Network.pth\"))"
   ]
  },
  {
   "attachments": {},
   "cell_type": "markdown",
   "metadata": {},
   "source": [
    "## Deep Belief Network Evaluation"
   ]
  },
  {
   "cell_type": "code",
   "execution_count": 41,
   "metadata": {},
   "outputs": [
    {
     "name": "stdout",
     "output_type": "stream",
     "text": [
      "Accuracy: 0.5105619768832204, f1-score: 0.6759894459102902, Precision: [0.         0.51056198], Recall: [0. 1.]\n"
     ]
    }
   ],
   "source": [
    "predictions = dbn_bhns(X_test)[1].detach().cpu().numpy().astype(int)\n",
    "actuals = Y_test.detach().cpu().numpy()\n",
    "\n",
    "accuracy = accuracy_score(actuals, predictions)\n",
    "f1 = f1_score(actuals, predictions)\n",
    "precision = precision_score(actuals, predictions, average=None)\n",
    "recall = recall_score(actuals, predictions, average=None)\n",
    "\n",
    "print(f\"Accuracy: {accuracy}, f1-score: {f1}, Precision: {precision}, Recall: {recall}\")"
   ]
  },
  {
   "attachments": {},
   "cell_type": "markdown",
   "metadata": {},
   "source": [
    "# RBF NET"
   ]
  },
  {
   "attachments": {},
   "cell_type": "markdown",
   "metadata": {},
   "source": [
    "## Define and Train Radial Basis Function Network"
   ]
  },
  {
   "cell_type": "code",
   "execution_count": 42,
   "metadata": {},
   "outputs": [],
   "source": [
    "class RBF(nn.Module):\n",
    "   \n",
    "    def __init__(self, in_features, out_features, basis_func):\n",
    "        super(RBF, self).__init__()\n",
    "        self.in_features = in_features\n",
    "        self.out_features = out_features\n",
    "        self.centres = nn.Parameter(torch.Tensor(out_features, in_features))\n",
    "        self.log_sigmas = nn.Parameter(torch.Tensor(out_features))\n",
    "        self.basis_func = basis_func\n",
    "        self.reset_parameters()\n",
    "\n",
    "    def reset_parameters(self):\n",
    "        nn.init.normal_(self.centres, 0, 1)\n",
    "        nn.init.constant_(self.log_sigmas, 0)\n",
    "\n",
    "    def forward(self, input):\n",
    "        size = (input.size(0), self.out_features, self.in_features)\n",
    "        x = input.unsqueeze(1).expand(size)\n",
    "        c = self.centres.unsqueeze(0).expand(size)\n",
    "        distances = (x - c).pow(2).sum(-1).pow(0.5) / torch.exp(self.log_sigmas).unsqueeze(0)\n",
    "        return self.basis_func(distances)\n",
    "\n",
    "\n",
    "\n",
    "# RBFs\n",
    "\n",
    "def gaussian(alpha):\n",
    "    phi = torch.exp(-1*alpha.pow(2))\n",
    "    return phi\n",
    "\n",
    "def linear(alpha):\n",
    "    phi = alpha\n",
    "    return phi\n",
    "\n",
    "def quadratic(alpha):\n",
    "    phi = alpha.pow(2)\n",
    "    return phi\n",
    "\n",
    "def inverse_quadratic(alpha):\n",
    "    phi = torch.ones_like(alpha) / (torch.ones_like(alpha) + alpha.pow(2))\n",
    "    return phi\n",
    "\n",
    "def multiquadric(alpha):\n",
    "    phi = (torch.ones_like(alpha) + alpha.pow(2)).pow(0.5)\n",
    "    return phi\n",
    "\n",
    "def inverse_multiquadric(alpha):\n",
    "    phi = torch.ones_like(alpha) / (torch.ones_like(alpha) + alpha.pow(2)).pow(0.5)\n",
    "    return phi\n",
    "\n",
    "def spline(alpha):\n",
    "    phi = (alpha.pow(2) * torch.log(alpha + torch.ones_like(alpha)))\n",
    "    return phi\n",
    "\n",
    "def poisson_one(alpha):\n",
    "    phi = (alpha - torch.ones_like(alpha)) * torch.exp(-alpha)\n",
    "    return phi\n",
    "\n",
    "def poisson_two(alpha):\n",
    "    phi = ((alpha - 2*torch.ones_like(alpha)) / 2*torch.ones_like(alpha)) \\\n",
    "    * alpha * torch.exp(-alpha)\n",
    "    return phi\n",
    "\n",
    "def matern32(alpha):\n",
    "    phi = (torch.ones_like(alpha) + 3**0.5*alpha)*torch.exp(-3**0.5*alpha)\n",
    "    return phi\n",
    "\n",
    "def matern52(alpha):\n",
    "    phi = (torch.ones_like(alpha) + 5**0.5*alpha + (5/3) \\\n",
    "    * alpha.pow(2))*torch.exp(-5**0.5*alpha)\n",
    "    return phi\n",
    "\n",
    "def basis_func_dict():\n",
    "   \n",
    "    bases = {'gaussian': gaussian,\n",
    "             'linear': linear,\n",
    "             'quadratic': quadratic,\n",
    "             'inverse quadratic': inverse_quadratic,\n",
    "             'multiquadric': multiquadric,\n",
    "             'inverse multiquadric': inverse_multiquadric,\n",
    "             'spline': spline,\n",
    "             'poisson one': poisson_one,\n",
    "             'poisson two': poisson_two,\n",
    "             'matern32': matern32,\n",
    "             'matern52': matern52}\n",
    "    return bases"
   ]
  },
  {
   "cell_type": "code",
   "execution_count": 43,
   "metadata": {},
   "outputs": [],
   "source": [
    "class RadialBasisNet(nn.Module):\n",
    "    \n",
    "    def __init__(self, layer_widths, layer_centres, basis_func):\n",
    "        super(RadialBasisNet, self).__init__()\n",
    "        self.rbf_layers = nn.ModuleList()\n",
    "        self.linear_layers = nn.ModuleList()\n",
    "        for i in range(len(layer_widths) - 1):\n",
    "            self.rbf_layers.append(RBF(layer_widths[i], layer_centres[i], basis_func))\n",
    "            self.linear_layers.append(nn.Linear(layer_centres[i], layer_widths[i+1]))\n",
    "    \n",
    "    def forward(self, x):\n",
    "        out = x\n",
    "        for i in range(len(self.rbf_layers)):\n",
    "            out = self.rbf_layers[i](out)\n",
    "            out = self.linear_layers[i](out)\n",
    "        return out\n",
    "    \n",
    "    def fit(self, epochs, lr, loss_func):\n",
    "        self.train()\n",
    "        obs = torch.tensor(x_train.to_numpy()).size(0)\n",
    "        trainloader = train_loader\n",
    "        optimiser = torch.optim.Adam(self.parameters(), lr=lr)\n",
    "        epoch = 0\n",
    "        while epoch < epochs:\n",
    "            epoch += 1\n",
    "            current_loss = 0\n",
    "            batches = 0\n",
    "            progress = 0\n",
    "            for x_batch, y_batch in trainloader:\n",
    "                batches += 1\n",
    "                optimiser.zero_grad()\n",
    "                y_hat = self.forward(x_batch)\n",
    "                print(y_hat.shape,y_batch.shape)\n",
    "                y_batch = y_batch.unsqueeze(1)\n",
    "                loss = loss_func(y_hat, y_batch)\n",
    "                current_loss += (1/batches) * (loss.item() - current_loss)\n",
    "                loss.backward()\n",
    "                optimiser.step()\n",
    "                progress += y_batch.size(0)\n",
    "                sys.stdout.write('\\rEpoch: %d, Progress: %d/%d, Loss: %f      ' % \\\n",
    "                                 (epoch, progress, obs, current_loss))\n",
    "                sys.stdout.flush()\n"
   ]
  },
  {
   "cell_type": "code",
   "execution_count": null,
   "metadata": {},
   "outputs": [],
   "source": [
    "layer_widths = [10, 1]\n",
    "layer_centres = [40]\n",
    "basis_func = gaussian\n",
    "\n",
    "rbfnet = RadialBasisNet(layer_widths, layer_centres, basis_func)\n",
    "rbfnet.fit(500, 0.01, nn.BCEWithLogitsLoss())\n",
    "rbfnet.eval()"
   ]
  },
  {
   "attachments": {},
   "cell_type": "markdown",
   "metadata": {},
   "source": [
    "Model Saving"
   ]
  },
  {
   "cell_type": "code",
   "execution_count": null,
   "metadata": {},
   "outputs": [],
   "source": [
    "torch.save(rbfnet.state_dict(),\"Radial_Basis_Function_Net.pth\")"
   ]
  },
  {
   "attachments": {},
   "cell_type": "markdown",
   "metadata": {},
   "source": [
    "Load Model"
   ]
  },
  {
   "cell_type": "code",
   "execution_count": 69,
   "metadata": {},
   "outputs": [
    {
     "data": {
      "text/plain": [
       "<All keys matched successfully>"
      ]
     },
     "execution_count": 69,
     "metadata": {},
     "output_type": "execute_result"
    }
   ],
   "source": [
    "layer_widths = [10, 1]\n",
    "layer_centres = [40]\n",
    "basis_func = gaussian\n",
    "\n",
    "rbfnet = RadialBasisNet(layer_widths, layer_centres, basis_func)\n",
    "rbfnet.load_state_dict(torch.load(\"Radial_Basis_Function_Net.pth\"))"
   ]
  },
  {
   "attachments": {},
   "cell_type": "markdown",
   "metadata": {},
   "source": [
    "## Radial Basis Function Network Evaluation"
   ]
  },
  {
   "cell_type": "code",
   "execution_count": 70,
   "metadata": {},
   "outputs": [
    {
     "name": "stdout",
     "output_type": "stream",
     "text": [
      "Accuracy: 0.9828616978876046, f1-score: 0.9830374753451677, Precision: [0.97211155 0.99362041], Recall: [0.99348534 0.9726776 ]\n"
     ]
    }
   ],
   "source": [
    "preds, actuals = list(), list()\n",
    "for i, (xdat, ydat) in enumerate(test_loader):\n",
    "    thing = rbfnet(xdat).detach().cpu().tolist()[0]\n",
    "    if thing[0] > 0:\n",
    "\n",
    "        preds.append([1])\n",
    "    else:\n",
    "        preds.append([0])\n",
    "        \n",
    "    actuals.append(ydat.detach().cpu().tolist()[0])\n",
    "\n",
    "predictions = np.asarray(preds)\n",
    "actuals = np.asarray(actuals)\n",
    "\n",
    "accuracy = accuracy_score(actuals, predictions)\n",
    "f1 = f1_score(actuals, predictions)\n",
    "precision = precision_score(actuals, predictions, average=None)\n",
    "recall = recall_score(actuals, predictions, average=None)\n",
    "\n",
    "print(f\"Accuracy: {accuracy}, f1-score: {f1}, Precision: {precision}, Recall: {recall}\")"
   ]
  },
  {
   "attachments": {},
   "cell_type": "markdown",
   "metadata": {},
   "source": [
    "# MLP NET"
   ]
  },
  {
   "attachments": {},
   "cell_type": "markdown",
   "metadata": {},
   "source": [
    "## Define and Train Multilayer Perceptron Network"
   ]
  },
  {
   "attachments": {},
   "cell_type": "markdown",
   "metadata": {},
   "source": [
    "Define model architecture"
   ]
  },
  {
   "cell_type": "code",
   "execution_count": 60,
   "metadata": {},
   "outputs": [],
   "source": [
    "mpnet = nn.Sequential(OrderedDict([\n",
    "    ('dense1', nn.Linear(10, 100)),\n",
    "    ('act1', nn.ReLU()),\n",
    "    ('dense2', nn.Linear(100, 50)),\n",
    "    ('act2', nn.ReLU()),\n",
    "    ('output', nn.Linear(50, 1)),\n",
    "    ('outact', nn.Sigmoid()),\n",
    "]))"
   ]
  },
  {
   "attachments": {},
   "cell_type": "markdown",
   "metadata": {},
   "source": [
    "Train Model"
   ]
  },
  {
   "cell_type": "code",
   "execution_count": 64,
   "metadata": {},
   "outputs": [
    {
     "name": "stdout",
     "output_type": "stream",
     "text": [
      "Epoch: 100, Progress: 10020, Loss: 0.000076      "
     ]
    }
   ],
   "source": [
    "epochs = 100\n",
    "loss_fn = nn.BCELoss()\n",
    "learning_rate = 0.001\n",
    "optimizer = torch.optim.Adam(mpnet.parameters(), lr=learning_rate)\n",
    "\n",
    "epoch = 0\n",
    "while epoch < epochs:\n",
    "    epoch += 1\n",
    "    batches = 0\n",
    "    progress = 0\n",
    "    for x_batch, y_batch in train_loader:\n",
    "        batches += 1\n",
    "        optimizer.zero_grad()\n",
    "\n",
    "        y_pred = mpnet(x_batch)\n",
    "        y_batch = y_batch.unsqueeze(1)\n",
    "        loss = loss_fn(y_pred, y_batch)\n",
    "\n",
    "        optimizer.zero_grad()\n",
    "\n",
    "        loss.backward()\n",
    "\n",
    "        optimizer.step()\n",
    "\n",
    "        progress += y_batch.size(0)\n",
    "\n",
    "        if progress % 15 == 0:\n",
    "            sys.stdout.write('\\rEpoch: %d, Progress: %d, Loss: %f      ' % \n",
    "                                (epoch, progress, loss))\n",
    "            sys.stdout.flush()"
   ]
  },
  {
   "attachments": {},
   "cell_type": "markdown",
   "metadata": {},
   "source": [
    "Model Saving"
   ]
  },
  {
   "cell_type": "code",
   "execution_count": 65,
   "metadata": {},
   "outputs": [],
   "source": [
    "torch.save(mpnet.state_dict(),\"Multilayer_Perceptron_Net.pth\")"
   ]
  },
  {
   "cell_type": "code",
   "execution_count": 66,
   "metadata": {},
   "outputs": [
    {
     "data": {
      "text/plain": [
       "<All keys matched successfully>"
      ]
     },
     "execution_count": 66,
     "metadata": {},
     "output_type": "execute_result"
    }
   ],
   "source": [
    "loaded_model = nn.Sequential(OrderedDict([\n",
    "    ('dense1', nn.Linear(10, 100)),\n",
    "    ('act1', nn.ReLU()),\n",
    "    ('dense2', nn.Linear(100, 50)),\n",
    "    ('act2', nn.ReLU()),\n",
    "    ('output', nn.Linear(50, 1)),\n",
    "    ('outact', nn.Sigmoid()),\n",
    "]))\n",
    "\n",
    "loaded_model.load_state_dict(torch.load(\"Multilayer_Perceptron_Net.pth\"))"
   ]
  },
  {
   "attachments": {},
   "cell_type": "markdown",
   "metadata": {},
   "source": [
    "Load Model"
   ]
  },
  {
   "attachments": {},
   "cell_type": "markdown",
   "metadata": {},
   "source": [
    "## Multilayer Perceptron Network Evaluation"
   ]
  },
  {
   "cell_type": "code",
   "execution_count": 67,
   "metadata": {},
   "outputs": [
    {
     "name": "stdout",
     "output_type": "stream",
     "text": [
      "Accuracy: 0.986050219210841, f1-score: 0.9861932938856016, Precision: [0.9752988  0.99681021], Recall: [0.99674267 0.97580016]\n"
     ]
    }
   ],
   "source": [
    "preds, actuals = list(), list()\n",
    "for i, (xdat, ydat) in enumerate(test_loader):\n",
    "    thing = mpnet(xdat).detach().cpu().tolist()[0]\n",
    "    if thing[0] >= 0.5:\n",
    "\n",
    "        preds.append([1])\n",
    "    else:\n",
    "        preds.append([0])\n",
    "        \n",
    "    actuals.append(ydat.detach().cpu().tolist()[0])\n",
    "\n",
    "predictions = np.asarray(preds)\n",
    "actuals = np.asarray(actuals)\n",
    "\n",
    "accuracy = accuracy_score(actuals, predictions)\n",
    "f1 = f1_score(actuals, predictions)\n",
    "precision = precision_score(actuals, predictions, average=None)\n",
    "recall = recall_score(actuals, predictions, average=None)\n",
    "\n",
    "print(f\"Accuracy: {accuracy}, f1-score: {f1}, Precision: {precision}, Recall: {recall}\")"
   ]
  },
  {
   "attachments": {},
   "cell_type": "markdown",
   "metadata": {},
   "source": [
    "# Model by Model Evaluation"
   ]
  },
  {
   "attachments": {},
   "cell_type": "markdown",
   "metadata": {},
   "source": [
    "### Graph Confusion Matrices"
   ]
  },
  {
   "cell_type": "code",
   "execution_count": 94,
   "metadata": {},
   "outputs": [],
   "source": [
    "def make_confusion_matrix(cf,\n",
    "                          group_names=None,\n",
    "                          categories='auto',\n",
    "                          count=True,\n",
    "                          percent=True,\n",
    "                          cbar=True,\n",
    "                          xyticks=True,\n",
    "                          xyplotlabels=True,\n",
    "                          sum_stats=True,\n",
    "                          figsize=None,\n",
    "                          cmap='Blues',\n",
    "                          title=None):\n",
    "    '''\n",
    "    This function will make a pretty plot of an sklearn Confusion Matrix cm using a Seaborn heatmap visualization.\n",
    "\n",
    "    Arguments\n",
    "    ---------\n",
    "    cf:            confusion matrix to be passed in\n",
    "\n",
    "    group_names:   List of strings that represent the labels row by row to be shown in each square.\n",
    "\n",
    "    categories:    List of strings containing the categories to be displayed on the x,y axis. Default is 'auto'\n",
    "\n",
    "    count:         If True, show the raw number in the confusion matrix. Default is True.\n",
    "\n",
    "    normalize:     If True, show the proportions for each category. Default is True.\n",
    "\n",
    "    cbar:          If True, show the color bar. The cbar values are based off the values in the confusion matrix.\n",
    "                   Default is True.\n",
    "\n",
    "    xyticks:       If True, show x and y ticks. Default is True.\n",
    "\n",
    "    xyplotlabels:  If True, show 'True Label' and 'Predicted Label' on the figure. Default is True.\n",
    "\n",
    "    sum_stats:     If True, display summary statistics below the figure. Default is True.\n",
    "\n",
    "    figsize:       Tuple representing the figure size. Default will be the matplotlib rcParams value.\n",
    "\n",
    "    cmap:          Colormap of the values displayed from matplotlib.pyplot.cm. Default is 'Blues'\n",
    "                   See http://matplotlib.org/examples/color/colormaps_reference.html\n",
    "                   \n",
    "    title:         Title for the heatmap. Default is None.\n",
    "\n",
    "    '''\n",
    "\n",
    "\n",
    "    # CODE TO GENERATE TEXT INSIDE EACH SQUARE\n",
    "    blanks = ['' for i in range(cf.size)]\n",
    "\n",
    "    if group_names and len(group_names)==cf.size:\n",
    "        group_labels = [\"{}\\n\".format(value) for value in group_names]\n",
    "    else:\n",
    "        group_labels = blanks\n",
    "\n",
    "    if count:\n",
    "        group_counts = [\"{0:0.0f}\\n\".format(value) for value in cf.flatten()]\n",
    "    else:\n",
    "        group_counts = blanks\n",
    "\n",
    "    if percent:\n",
    "        group_percentages = [\"{0:.2%}\".format(value) for value in cf.flatten()/np.sum(cf)]\n",
    "    else:\n",
    "        group_percentages = blanks\n",
    "\n",
    "    box_labels = [f\"{v1}{v2}{v3}\".strip() for v1, v2, v3 in zip(group_labels,group_counts,group_percentages)]\n",
    "    box_labels = np.asarray(box_labels).reshape(cf.shape[0],cf.shape[1])\n",
    "\n",
    "\n",
    "    # CODE TO GENERATE SUMMARY STATISTICS & TEXT FOR SUMMARY STATS\n",
    "    if sum_stats:\n",
    "        #Accuracy is sum of diagonal divided by total observations\n",
    "        accuracy  = np.trace(cf) / float(np.sum(cf))\n",
    "\n",
    "        #if it is a binary confusion matrix, show some more stats\n",
    "        if len(cf)==2:\n",
    "            #Metrics for Binary Confusion Matrices\n",
    "            precision = cf[1,1] / sum(cf[:,1])\n",
    "            recall    = cf[1,1] / sum(cf[1,:])\n",
    "            f1_score  = 2*precision*recall / (precision + recall)\n",
    "            stats_text = \"\\n\\nAccuracy={:0.3f}\\nPrecision={:0.3f}\\nRecall={:0.3f}\\nF1 Score={:0.3f}\".format(\n",
    "                accuracy,precision,recall,f1_score)\n",
    "        else:\n",
    "            stats_text = \"\\n\\nAccuracy={:0.3f}\".format(accuracy)\n",
    "    else:\n",
    "        stats_text = \"\"\n",
    "\n",
    "\n",
    "    # SET FIGURE PARAMETERS ACCORDING TO OTHER ARGUMENTS\n",
    "    if figsize==None:\n",
    "        #Get default figure size if not set\n",
    "        figsize = plt.rcParams.get('figure.figsize')\n",
    "\n",
    "    if xyticks==False:\n",
    "        #Do not show categories if xyticks is False\n",
    "        categories=False\n",
    "\n",
    "\n",
    "    # MAKE THE HEATMAP VISUALIZATION\n",
    "    plt.figure(figsize=figsize)\n",
    "    sns.heatmap(cf,annot=box_labels,fmt=\"\",cmap=cmap,cbar=cbar,xticklabels=categories,yticklabels=categories)\n",
    "\n",
    "    if xyplotlabels:\n",
    "        plt.ylabel('True label')\n",
    "        plt.xlabel('Predicted label' + stats_text)\n",
    "    else:\n",
    "        plt.xlabel(stats_text)\n",
    "    \n",
    "    if title:\n",
    "        plt.title(title)"
   ]
  },
  {
   "cell_type": "code",
   "execution_count": 104,
   "metadata": {},
   "outputs": [],
   "source": [
    "def confmatr(model,X_test,y_true,isbeliefNet,test_loader=test_loader):\n",
    "    if isbeliefNet:\n",
    "        y_true = y_true.detach().cpu().numpy().tolist()\n",
    "        y_pred = list(itertools.chain.from_iterable(model(X_test)[1].detach().cpu().numpy().astype(int).tolist()))\n",
    "\n",
    "    else:\n",
    "        preds, actuals = list(), list()\n",
    "        for i, (xdat, ydat) in enumerate(test_loader):\n",
    "            thing = model(xdat).detach().cpu().tolist()[0]\n",
    "            if thing[0] > 0:\n",
    "\n",
    "                preds.append([1])\n",
    "            else:\n",
    "                preds.append([0])\n",
    "                \n",
    "            actuals.append(ydat.detach().cpu().tolist()[0])\n",
    "            \n",
    "        y_true = actuals\n",
    "        y_pred = list(itertools.chain.from_iterable(preds))\n",
    "        \n",
    "    conf_arr = confusion_matrix(y_true, y_pred, labels=[0,1])\n",
    "    labels = ['True Neg','False Pos','False Neg','True Pos']\n",
    "    categories = ['Black Hole', 'Neutron Star']\n",
    "    make_confusion_matrix(conf_arr, \n",
    "                        group_names=labels,\n",
    "                        categories=categories, \n",
    "                        cmap='Blues')"
   ]
  },
  {
   "attachments": {},
   "cell_type": "markdown",
   "metadata": {},
   "source": [
    "DBN"
   ]
  },
  {
   "cell_type": "code",
   "execution_count": 102,
   "metadata": {},
   "outputs": [
    {
     "data": {
      "image/png": "[encoded data removed]",
      "text/plain": [
       "<Figure size 640x480 with 2 Axes>"
      ]
     },
     "metadata": {},
     "output_type": "display_data"
    }
   ],
   "source": [
    "confmatr(model=dbn_bhns,X_test=X_test,y_true=Y_test, isbeliefNet=True)"
   ]
  },
  {
   "attachments": {},
   "cell_type": "markdown",
   "metadata": {},
   "source": [
    "RBFN"
   ]
  },
  {
   "cell_type": "code",
   "execution_count": 105,
   "metadata": {},
   "outputs": [
    {
     "data": {
      "image/png": "[encoded data removed]",
      "text/plain": [
       "<Figure size 640x480 with 2 Axes>"
      ]
     },
     "metadata": {},
     "output_type": "display_data"
    }
   ],
   "source": [
    "confmatr(model=rbfnet,X_test=X_test,y_true=Y_test,isbeliefNet=False)"
   ]
  },
  {
   "attachments": {},
   "cell_type": "markdown",
   "metadata": {},
   "source": [
    "MLP"
   ]
  },
  {
   "cell_type": "code",
   "execution_count": 106,
   "metadata": {},
   "outputs": [
    {
     "data": {
      "image/png": "[encoded data removed]",
      "text/plain": [
       "<Figure size 640x480 with 2 Axes>"
      ]
     },
     "metadata": {},
     "output_type": "display_data"
    }
   ],
   "source": [
    "confmatr(model=mpnet,X_test=X_test,y_true=Y_test,isbeliefNet=False)"
   ]
  },
  {
   "attachments": {},
   "cell_type": "markdown",
   "metadata": {},
   "source": [
    "## Graph Model Vs. Model Performance Charts"
   ]
  },
  {
   "cell_type": "code",
   "execution_count": null,
   "metadata": {},
   "outputs": [],
   "source": []
  },
  {
   "attachments": {},
   "cell_type": "markdown",
   "metadata": {},
   "source": [
    "Graph Decision Boundaries"
   ]
  },
  {
   "cell_type": "code",
   "execution_count": null,
   "metadata": {},
   "outputs": [],
   "source": []
  }
 ],
 "metadata": {
  "kernelspec": {
   "display_name": "base",
   "language": "python",
   "name": "python3"
  },
  "language_info": {
   "codemirror_mode": {
    "name": "ipython",
    "version": 3
   },
   "file_extension": ".py",
   "mimetype": "text/x-python",
   "name": "python",
   "nbconvert_exporter": "python",
   "pygments_lexer": "ipython3",
   "version": "3.8.16"
  },
  "orig_nbformat": 4
 },
 "nbformat": 4,
 "nbformat_minor": 2
}
