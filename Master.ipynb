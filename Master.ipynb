{
 "cells": [
  {
   "attachments": {},
   "cell_type": "markdown",
   "metadata": {},
   "source": [
    "# Imports"
   ]
  },
  {
   "cell_type": "code",
   "execution_count": 48,
   "metadata": {},
   "outputs": [],
   "source": [
    "#math/viz\n",
    "import numpy as np\n",
    "from astropy.table import Table\n",
    "import pandas as pd\n",
    "import matplotlib.pyplot as plt\n",
    "import seaborn as sns\n",
    "import sys\n",
    "from collections import OrderedDict\n",
    "import math\n",
    "from tqdm import tqdm\n",
    "from matplotlib import rcParams\n",
    "\n",
    "#ML Libraries\n",
    "import torch\n",
    "import torch.nn as nn\n",
    "import torch.nn.functional as F\n",
    "import torch.optim as optim\n",
    "from torch.autograd import Variable\n",
    "import torchvision\n",
    "import torchvision.transforms as transforms\n",
    "from torch.utils.data import DataLoader, TensorDataset, Dataset\n",
    "from tabgan.sampler import GANGenerator\n",
    "\n",
    "\n",
    "#data processing\n",
    "from sklearn.model_selection import train_test_split\n",
    "from sklearn import preprocessing\n",
    "from imblearn.combine import SMOTETomek\n",
    "from sklearn.metrics import accuracy_score\n",
    "from sklearn.metrics import f1_score\n",
    "from sklearn.metrics import precision_score\n",
    "from sklearn.metrics import recall_score"
   ]
  },
  {
   "attachments": {},
   "cell_type": "markdown",
   "metadata": {},
   "source": [
    "Pytorch CUDA Support"
   ]
  },
  {
   "cell_type": "code",
   "execution_count": 2,
   "metadata": {},
   "outputs": [
    {
     "name": "stdout",
     "output_type": "stream",
     "text": [
      "Using device: cpu\n",
      "\n"
     ]
    }
   ],
   "source": [
    "device = torch.device('cuda' if torch.cuda.is_available() else 'cpu')\n",
    "print('Using device:', device)\n",
    "print()\n",
    "\n",
    "#Additional Info when using cuda\n",
    "if device.type == 'cuda':\n",
    "    print(torch.cuda.get_device_name(0))\n",
    "    print('Memory Usage:')\n",
    "    print('Allocated:', round(torch.cuda.memory_allocated(0)/1024**3,1), 'GB')\n",
    "    print('Cached:   ', round(torch.cuda.memory_reserved(0)/1024**3,1), 'GB')"
   ]
  },
  {
   "attachments": {},
   "cell_type": "markdown",
   "metadata": {},
   "source": [
    "# Prepare Dataset of Hubble Telescope Data and Synthetic TableGAN-Generated Data"
   ]
  },
  {
   "attachments": {},
   "cell_type": "markdown",
   "metadata": {},
   "source": [
    "Data Manipulation and Aggregation"
   ]
  },
  {
   "cell_type": "code",
   "execution_count": 3,
   "metadata": {},
   "outputs": [
    {
     "name": "stdout",
     "output_type": "stream",
     "text": [
      "5.928635293618626, 103.0\n",
      "5.879971359489428, 103.0\n",
      "5.162646276613792, 103.0\n",
      "5.417679377687121, 103.0\n",
      "5.93375031652569, 103.0\n",
      "5.428512577551937, 103.0\n",
      "5.945427577313886, 103.0\n",
      "5.495947559658077, 103.0\n",
      "5.928753878023536, 103.0\n",
      "5.45393247635686, 103.0\n",
      "5.851252711006547, 103.0\n",
      "5.6768541171885465, 103.0\n",
      "5.031358482509798, 103.0\n",
      "5.901512804673876, 103.0\n",
      "5.028441306942967, 103.0\n",
      "5.963473680915251, 103.0\n",
      "5.900972124119535, 103.0\n",
      "5.751735432572209, 103.0\n"
     ]
    }
   ],
   "source": [
    "#get black hole data from popsycle dataset\n",
    "pops = Table.read(\"data/popsycle_sim.fits\").to_pandas()\n",
    "ob = Table.read(\"data/OB110462_DW_post.fits\").to_pandas()\n",
    "\n",
    "for i in range(len(pops)):\n",
    "    if (pops[\"mass_L\"][i] < 6 and pops[\"mass_L\"][i] > 2 and (pops[\"rem_id_L\"][i] == 103)):\n",
    "        print(f'{pops[\"mass_L\"][i]}, {pops[\"rem_id_L\"][i]}')\n",
    "    else:\n",
    "        pops = pops.drop([i])\n",
    "\n",
    "pops.reset_index(inplace=True)\n",
    "pops = pops.drop(columns=[\"index\"])\n",
    "\n",
    "wanted_ob = [\"t0\",\"u0_amp\",\"tE\",\"log10_thetaE\",\"piE_E\",\"muS_E\",\"mL\",\"piRel\",\"muL_E\",\"muRel_E\"]\n",
    "wanted_pops = [\"t0\",\"u0\",\"t_E\",\"theta_E\",\"pi_E\",\"mu_b_S\",\"mass_L\",\"pi_rel\",\"mu_b_L\",\"mu_rel\"]\n",
    "\n",
    "ob_to_pops = {\"t0\":\"t0\", \"u0_amp\":\"u0\",\"tE\":\"t_E\",\"log10_thetaE\":\"theta_E\",\"piE_E\":\"pi_E\",\"muS_E\":\"mu_b_S\",\"mL\":\"mass_L\",\"piRel\":\"pi_rel\",\"muL_E\":\"mu_b_L\",\"muRel_E\":\"mu_rel\"}\n",
    "\n",
    "for col in [i for i in ob.columns]:\n",
    "    if col in wanted_ob:\n",
    "        pass\n",
    "    else:\n",
    "        ob = ob.drop(columns=[col])\n",
    "\n",
    "for col in [i for i in pops.columns]:\n",
    "    if col in wanted_pops:\n",
    "        pass\n",
    "    else:\n",
    "        pops = pops.drop(columns=[col])\n",
    "\n",
    "ob = ob.rename(columns=ob_to_pops, errors=\"raise\")\n",
    "\n",
    "ob_targets = {\"target\":[1 for i in range(len(ob))]}\n",
    "pops_targets = {\"target\":[0 for i in range(len(pops))]}\n",
    "target_ob = pd.DataFrame(ob_targets)\n",
    "target_pops = pd.DataFrame(pops_targets)"
   ]
  },
  {
   "attachments": {},
   "cell_type": "markdown",
   "metadata": {},
   "source": [
    "Normalize data"
   ]
  },
  {
   "cell_type": "code",
   "execution_count": 4,
   "metadata": {},
   "outputs": [],
   "source": [
    "df_ob_ns_no_target = pd.concat([ob, pops], ignore_index=True)\n",
    "df_ob_ns_only_target = pd.concat([target_ob,target_pops], ignore_index=True)\n",
    "df_data_not_norm = pd.concat([df_ob_ns_no_target,df_ob_ns_only_target], axis=1)\n",
    "\n",
    "norm_bh_ns = preprocessing.Normalizer()\n",
    "df = norm_bh_ns.fit_transform(df_ob_ns_no_target)"
   ]
  },
  {
   "attachments": {},
   "cell_type": "markdown",
   "metadata": {},
   "source": [
    "Smote Tomek Upsample and Downsample Data"
   ]
  },
  {
   "cell_type": "code",
   "execution_count": 5,
   "metadata": {},
   "outputs": [],
   "source": [
    "smk = SMOTETomek()\n",
    "X,y=smk.fit_resample(df, df_ob_ns_only_target.to_numpy())"
   ]
  },
  {
   "attachments": {},
   "cell_type": "markdown",
   "metadata": {},
   "source": [
    "Split Data"
   ]
  },
  {
   "cell_type": "code",
   "execution_count": 6,
   "metadata": {},
   "outputs": [],
   "source": [
    "df_x_train, df_x_test, df_y_train, df_y_test = train_test_split(\n",
    "    X,\n",
    "    y,\n",
    "    test_size=0.2,\n",
    "    #shuffle=False,\n",
    "    random_state=42,\n",
    ")"
   ]
  },
  {
   "cell_type": "code",
   "execution_count": 18,
   "metadata": {},
   "outputs": [],
   "source": [
    "df_xtrain = pd.DataFrame(df_x_train, columns=df_ob_ns_no_target.columns).reset_index(drop=True)\n",
    "df_xtest = pd.DataFrame(df_x_test, columns=df_ob_ns_no_target.columns).reset_index(drop=True)\n",
    "df_ytrain = pd.DataFrame(df_y_train, columns=[\"id\"]).reset_index(drop=True)\n",
    "df_ytest = pd.DataFrame(df_y_test, columns=[\"id\"]).reset_index(drop=True)"
   ]
  },
  {
   "attachments": {},
   "cell_type": "markdown",
   "metadata": {},
   "source": [
    "Train TABGAN for data synthesis"
   ]
  },
  {
   "cell_type": "code",
   "execution_count": 33,
   "metadata": {},
   "outputs": [
    {
     "data": {
      "application/vnd.jupyter.widget-view+json": {
       "model_id": "71971149c7f94e5785a0b53de05202b0",
       "version_major": 2,
       "version_minor": 0
      },
      "text/plain": [
       "Fitting CTGAN transformers for each column:   0%|          | 0/11 [00:00<?, ?it/s]"
      ]
     },
     "metadata": {},
     "output_type": "display_data"
    },
    {
     "data": {
      "application/vnd.jupyter.widget-view+json": {
       "model_id": "df71ade73c9e4ad28c67b3802b9eea0a",
       "version_major": 2,
       "version_minor": 0
      },
      "text/plain": [
       "Training CTGAN, epochs::   0%|          | 0/20 [00:00<?, ?it/s]"
      ]
     },
     "metadata": {},
     "output_type": "display_data"
    }
   ],
   "source": [
    "gen_x, gen_y = GANGenerator(\n",
    "    gen_x_times=1.1, \n",
    "    cat_cols=None,\n",
    "    bot_filter_quantile=0.001, \n",
    "    top_filter_quantile=0.999,\n",
    "    is_post_process=True,\n",
    "    adversarial_model_params={\n",
    "        \"metrics\": \"rmse\", \n",
    "        \"max_depth\": 2, \n",
    "        \"max_bin\": 100, \n",
    "        \"learning_rate\": 0.02, \n",
    "        \"random_state\": 42, \n",
    "        \"n_estimators\": 500,\n",
    "    }, \n",
    "    pregeneration_frac=2, \n",
    "    only_generated_data=False,\n",
    "    gan_params = {\n",
    "        \"batch_size\": 500, \n",
    "        \"patience\": 25, \n",
    "        \"epochs\" : 20,\n",
    "    }).generate_data_pipe(\n",
    "        df_xtrain, \n",
    "        df_ytrain,\n",
    "        df_xtest, \n",
    "        deep_copy=True, \n",
    "        only_adversarial=False,\n",
    "        use_adversarial=True\n",
    "        )"
   ]
  },
  {
   "attachments": {},
   "cell_type": "markdown",
   "metadata": {},
   "source": [
    "If above code results in NA or INF conversion issue, this is due to a large epoch count and overtraining - decrease the epoch count to solve this issue"
   ]
  },
  {
   "attachments": {},
   "cell_type": "markdown",
   "metadata": {},
   "source": [
    "Concatenate TableGAN data and real-world data"
   ]
  },
  {
   "cell_type": "code",
   "execution_count": 34,
   "metadata": {},
   "outputs": [],
   "source": [
    "t = pd.concat([df_ob_ns_no_target,gen_x])\n",
    "f = pd.concat([df_ob_ns_only_target,pd.DataFrame(gen_y.to_numpy(),columns=[\"target\"])])\n",
    "df_data = pd.concat([t,f], axis=1).reset_index(drop=True)"
   ]
  },
  {
   "attachments": {},
   "cell_type": "markdown",
   "metadata": {},
   "source": [
    "# Exploratory Data Analysis"
   ]
  },
  {
   "cell_type": "code",
   "execution_count": 36,
   "metadata": {},
   "outputs": [],
   "source": [
    "eda_data = df_data.copy()"
   ]
  },
  {
   "cell_type": "code",
   "execution_count": 37,
   "metadata": {},
   "outputs": [
    {
     "data": {
      "text/html": [
       "<div>\n",
       "<style scoped>\n",
       "    .dataframe tbody tr th:only-of-type {\n",
       "        vertical-align: middle;\n",
       "    }\n",
       "\n",
       "    .dataframe tbody tr th {\n",
       "        vertical-align: top;\n",
       "    }\n",
       "\n",
       "    .dataframe thead th {\n",
       "        text-align: right;\n",
       "    }\n",
       "</style>\n",
       "<table border=\"1\" class=\"dataframe\">\n",
       "  <thead>\n",
       "    <tr style=\"text-align: right;\">\n",
       "      <th></th>\n",
       "      <th>t0</th>\n",
       "      <th>u0</th>\n",
       "      <th>t_E</th>\n",
       "      <th>theta_E</th>\n",
       "      <th>pi_E</th>\n",
       "      <th>mu_b_S</th>\n",
       "      <th>mass_L</th>\n",
       "      <th>pi_rel</th>\n",
       "      <th>mu_b_L</th>\n",
       "      <th>mu_rel</th>\n",
       "      <th>target</th>\n",
       "    </tr>\n",
       "  </thead>\n",
       "  <tbody>\n",
       "    <tr>\n",
       "      <th>0</th>\n",
       "      <td>55763.312017</td>\n",
       "      <td>-0.051724</td>\n",
       "      <td>287.263116</td>\n",
       "      <td>0.728651</td>\n",
       "      <td>0.021247</td>\n",
       "      <td>0.066662</td>\n",
       "      <td>6.890218</td>\n",
       "      <td>0.510787</td>\n",
       "      <td>-1.449263</td>\n",
       "      <td>1.515925</td>\n",
       "      <td>1</td>\n",
       "    </tr>\n",
       "    <tr>\n",
       "      <th>1</th>\n",
       "      <td>55763.143207</td>\n",
       "      <td>-0.056239</td>\n",
       "      <td>273.684662</td>\n",
       "      <td>0.363211</td>\n",
       "      <td>0.019904</td>\n",
       "      <td>0.122164</td>\n",
       "      <td>2.534837</td>\n",
       "      <td>0.258013</td>\n",
       "      <td>-0.426201</td>\n",
       "      <td>0.548365</td>\n",
       "      <td>1</td>\n",
       "    </tr>\n",
       "    <tr>\n",
       "      <th>2</th>\n",
       "      <td>55762.869349</td>\n",
       "      <td>-0.059092</td>\n",
       "      <td>280.197751</td>\n",
       "      <td>0.597241</td>\n",
       "      <td>0.019986</td>\n",
       "      <td>0.031534</td>\n",
       "      <td>4.004285</td>\n",
       "      <td>0.479873</td>\n",
       "      <td>-0.818066</td>\n",
       "      <td>0.849601</td>\n",
       "      <td>1</td>\n",
       "    </tr>\n",
       "    <tr>\n",
       "      <th>3</th>\n",
       "      <td>55764.431058</td>\n",
       "      <td>-0.042804</td>\n",
       "      <td>279.152526</td>\n",
       "      <td>0.617667</td>\n",
       "      <td>0.025575</td>\n",
       "      <td>0.126121</td>\n",
       "      <td>5.574564</td>\n",
       "      <td>0.378698</td>\n",
       "      <td>-1.393074</td>\n",
       "      <td>1.519195</td>\n",
       "      <td>1</td>\n",
       "    </tr>\n",
       "    <tr>\n",
       "      <th>4</th>\n",
       "      <td>55762.025369</td>\n",
       "      <td>-0.067009</td>\n",
       "      <td>273.444603</td>\n",
       "      <td>0.572748</td>\n",
       "      <td>0.020906</td>\n",
       "      <td>0.060268</td>\n",
       "      <td>3.557838</td>\n",
       "      <td>0.482480</td>\n",
       "      <td>-0.748844</td>\n",
       "      <td>0.809112</td>\n",
       "      <td>1</td>\n",
       "    </tr>\n",
       "  </tbody>\n",
       "</table>\n",
       "</div>"
      ],
      "text/plain": [
       "             t0        u0         t_E   theta_E      pi_E    mu_b_S    mass_L  \\\n",
       "0  55763.312017 -0.051724  287.263116  0.728651  0.021247  0.066662  6.890218   \n",
       "1  55763.143207 -0.056239  273.684662  0.363211  0.019904  0.122164  2.534837   \n",
       "2  55762.869349 -0.059092  280.197751  0.597241  0.019986  0.031534  4.004285   \n",
       "3  55764.431058 -0.042804  279.152526  0.617667  0.025575  0.126121  5.574564   \n",
       "4  55762.025369 -0.067009  273.444603  0.572748  0.020906  0.060268  3.557838   \n",
       "\n",
       "     pi_rel    mu_b_L    mu_rel  target  \n",
       "0  0.510787 -1.449263  1.515925       1  \n",
       "1  0.258013 -0.426201  0.548365       1  \n",
       "2  0.479873 -0.818066  0.849601       1  \n",
       "3  0.378698 -1.393074  1.519195       1  \n",
       "4  0.482480 -0.748844  0.809112       1  "
      ]
     },
     "execution_count": 37,
     "metadata": {},
     "output_type": "execute_result"
    }
   ],
   "source": [
    "eda_data.head()"
   ]
  },
  {
   "cell_type": "code",
   "execution_count": 38,
   "metadata": {},
   "outputs": [
    {
     "data": {
      "text/plain": [
       "(8999, 11)"
      ]
     },
     "execution_count": 38,
     "metadata": {},
     "output_type": "execute_result"
    }
   ],
   "source": [
    "eda_data.shape"
   ]
  },
  {
   "cell_type": "code",
   "execution_count": 39,
   "metadata": {},
   "outputs": [
    {
     "data": {
      "text/plain": [
       "0"
      ]
     },
     "execution_count": 39,
     "metadata": {},
     "output_type": "execute_result"
    }
   ],
   "source": [
    "eda_data.isna().sum().sum()"
   ]
  },
  {
   "cell_type": "code",
   "execution_count": 40,
   "metadata": {},
   "outputs": [
    {
     "data": {
      "text/plain": [
       "1    6126\n",
       "0    2873\n",
       "Name: target, dtype: int64"
      ]
     },
     "execution_count": 40,
     "metadata": {},
     "output_type": "execute_result"
    }
   ],
   "source": [
    "eda_data[\"target\"].value_counts() #resample necessary"
   ]
  },
  {
   "cell_type": "code",
   "execution_count": 41,
   "metadata": {},
   "outputs": [
    {
     "data": {
      "text/plain": [
       "t0         float64\n",
       "u0         float64\n",
       "t_E        float64\n",
       "theta_E    float64\n",
       "pi_E       float64\n",
       "mu_b_S     float64\n",
       "mass_L     float64\n",
       "pi_rel     float64\n",
       "mu_b_L     float64\n",
       "mu_rel     float64\n",
       "target       int64\n",
       "dtype: object"
      ]
     },
     "execution_count": 41,
     "metadata": {},
     "output_type": "execute_result"
    }
   ],
   "source": [
    "eda_data.dtypes"
   ]
  },
  {
   "cell_type": "code",
   "execution_count": 47,
   "metadata": {},
   "outputs": [
    {
     "name": "stdout",
     "output_type": "stream",
     "text": [
      "Skew:\n",
      "t0          0.493863\n",
      "u0          4.797400\n",
      "t_E         0.494311\n",
      "theta_E     0.877515\n",
      "pi_E        1.599983\n",
      "mu_b_S     35.400529\n",
      "mass_L      0.611195\n",
      "pi_rel      0.622019\n",
      "mu_b_L      2.985134\n",
      "mu_rel     16.280924\n",
      "target     -0.775533\n",
      "dtype: float64\n",
      "\n",
      "Kurtosis:\n",
      "t0           -1.756489\n",
      "u0          121.537479\n",
      "t_E          -1.751878\n",
      "theta_E       2.234090\n",
      "pi_E          4.892270\n",
      "mu_b_S     1612.190269\n",
      "mass_L       -1.447218\n",
      "pi_rel       -1.442326\n",
      "mu_b_L      101.676150\n",
      "mu_rel      390.471782\n",
      "target       -1.398860\n",
      "dtype: float64\n"
     ]
    }
   ],
   "source": [
    "print(f\"Skew:\\n{eda_data.skew()}\\n\\nKurtosis:\\n{eda_data.kurtosis()}\")"
   ]
  },
  {
   "cell_type": "code",
   "execution_count": 49,
   "metadata": {},
   "outputs": [
    {
     "data": {
      "image/png": "[encoded data removed]",
      "text/plain": [
       "<Figure size 200x200 with 1 Axes>"
      ]
     },
     "metadata": {},
     "output_type": "display_data"
    },
    {
     "data": {
      "image/png": "[encoded data removed]",
      "text/plain": [
       "<Figure size 200x200 with 1 Axes>"
      ]
     },
     "metadata": {},
     "output_type": "display_data"
    },
    {
     "data": {
      "image/png": "[encoded data removed]",
      "text/plain": [
       "<Figure size 200x200 with 1 Axes>"
      ]
     },
     "metadata": {},
     "output_type": "display_data"
    },
    {
     "data": {
      "image/png": "[encoded data removed]",
      "text/plain": [
       "<Figure size 200x200 with 1 Axes>"
      ]
     },
     "metadata": {},
     "output_type": "display_data"
    },
    {
     "data": {
      "image/png": "[encoded data removed]",
      "text/plain": [
       "<Figure size 200x200 with 1 Axes>"
      ]
     },
     "metadata": {},
     "output_type": "display_data"
    },
    {
     "data": {
      "image/png": "[encoded data removed]",
      "text/plain": [
       "<Figure size 200x200 with 1 Axes>"
      ]
     },
     "metadata": {},
     "output_type": "display_data"
    },
    {
     "data": {
      "image/png": "[encoded data removed]",
      "text/plain": [
       "<Figure size 200x200 with 1 Axes>"
      ]
     },
     "metadata": {},
     "output_type": "display_data"
    },
    {
     "data": {
      "image/png": "[encoded data removed]",
      "text/plain": [
       "<Figure size 200x200 with 1 Axes>"
      ]
     },
     "metadata": {},
     "output_type": "display_data"
    },
    {
     "data": {
      "image/png": "[encoded data removed]",
      "text/plain": [
       "<Figure size 200x200 with 1 Axes>"
      ]
     },
     "metadata": {},
     "output_type": "display_data"
    },
    {
     "data": {
      "image/png": "[encoded data removed]",
      "text/plain": [
       "<Figure size 200x200 with 1 Axes>"
      ]
     },
     "metadata": {},
     "output_type": "display_data"
    },
    {
     "data": {
      "image/png": "[encoded data removed]",
      "text/plain": [
       "<Figure size 200x200 with 1 Axes>"
      ]
     },
     "metadata": {},
     "output_type": "display_data"
    }
   ],
   "source": [
    "rcParams['figure.figsize'] = 2,2\n",
    "for col in list(eda_data.columns):\n",
    "    plt.figure()\n",
    "    sns.kdeplot(eda_data[col],bw_method=0.5)"
   ]
  },
  {
   "attachments": {},
   "cell_type": "markdown",
   "metadata": {},
   "source": [
    "Observations:\n",
    "\n",
    "1. Data is skewed harshly"
   ]
  },
  {
   "attachments": {},
   "cell_type": "markdown",
   "metadata": {},
   "source": [
    "# Preprocess Data"
   ]
  },
  {
   "attachments": {},
   "cell_type": "markdown",
   "metadata": {},
   "source": [
    "Smote tomek resample to make final data even"
   ]
  },
  {
   "cell_type": "code",
   "execution_count": 50,
   "metadata": {},
   "outputs": [],
   "source": [
    "smk = SMOTETomek()\n",
    "thing = df_data.drop(columns=[\"target\"])\n",
    "m_g_objects,m_g_targets=smk.fit_resample(thing, df_data[\"target\"])"
   ]
  },
  {
   "attachments": {},
   "cell_type": "markdown",
   "metadata": {},
   "source": [
    "Train Test split"
   ]
  },
  {
   "cell_type": "code",
   "execution_count": 51,
   "metadata": {},
   "outputs": [],
   "source": [
    "x_train, x_test, y_train, y_test = train_test_split(\n",
    "    m_g_objects,\n",
    "    m_g_targets,\n",
    "    test_size=0.2,\n",
    "    #shuffle=False,\n",
    "    random_state=42,\n",
    ")"
   ]
  },
  {
   "attachments": {},
   "cell_type": "markdown",
   "metadata": {},
   "source": [
    "# Model Initialization and Architecture"
   ]
  },
  {
   "attachments": {},
   "cell_type": "markdown",
   "metadata": {},
   "source": [
    "Train the Following models on the synthetic data\n",
    "1. Deep Belief Network\n",
    "2. Radial Basis Function Network\n",
    "3. Multilayer Perceptron Network"
   ]
  },
  {
   "attachments": {},
   "cell_type": "markdown",
   "metadata": {},
   "source": [
    "# Create Pytorch Tensors"
   ]
  },
  {
   "cell_type": "code",
   "execution_count": 52,
   "metadata": {},
   "outputs": [],
   "source": [
    "class CustomDataset(Dataset):\n",
    " \n",
    "  def __init__(self,m_g_objects,m_g_targets):\n",
    "    x = m_g_objects.values\n",
    "    y = m_g_targets.values\n",
    " \n",
    "    self.x_train=torch.tensor(x,dtype=torch.float32)\n",
    "    self.y_train=torch.tensor(y,dtype=torch.float32)\n",
    " \n",
    "  def __len__(self):\n",
    "    return len(self.y_train)\n",
    "   \n",
    "  def __getitem__(self,idx):\n",
    "    return self.x_train[idx],self.y_train[idx]"
   ]
  },
  {
   "cell_type": "code",
   "execution_count": 53,
   "metadata": {},
   "outputs": [],
   "source": [
    "X_train = torch.tensor(x_train.values)\n",
    "Y_train = torch.tensor(y_train.values)\n",
    "X_test = torch.tensor(x_test.values)\n",
    "Y_test = torch.tensor(y_test.values)"
   ]
  },
  {
   "cell_type": "code",
   "execution_count": 54,
   "metadata": {},
   "outputs": [],
   "source": [
    "bh_ns = CustomDataset(x_train,y_train)\n",
    "train_loader = DataLoader(bh_ns,batch_size=10,shuffle=False)\n",
    "\n",
    "bh_ns_two = CustomDataset(x_test, y_test)\n",
    "test_loader = DataLoader(bh_ns_two)"
   ]
  },
  {
   "attachments": {},
   "cell_type": "markdown",
   "metadata": {},
   "source": [
    "# Define Model Evaluation Framework"
   ]
  },
  {
   "cell_type": "code",
   "execution_count": 55,
   "metadata": {},
   "outputs": [],
   "source": [
    "def evaluate(test_loader,net):\n",
    "\n",
    "    preds, expected = list(), list()\n",
    "\n",
    "    for i, (xdat, ydat) in enumerate(test_loader):\n",
    "        y_hat = net(xdat)\n",
    "        y_hat = y_hat.detach().numpy()\n",
    "        actual = ydat.numpy()\n",
    "        actual = actual.reshape(len(actual),1)\n",
    "        y_hat = y_hat.round()\n",
    "\n",
    "        preds.append(y_hat)\n",
    "        expected.append(actual)\n",
    "\n",
    "    predictions, actuals = np.vstack(preds), np.vstack(expected)\n",
    "\n",
    "    \n",
    "    accuracy = accuracy_score(actuals, predictions)\n",
    "    f1 = f1_score(actuals, predictions)\n",
    "    precision = precision_score(actuals, predictions, average=None)\n",
    "    recall = recall_score(actuals, predictions, average=None)\n",
    "\n",
    "    return (f\"Accuracy: {accuracy}, f1-score: {f1}, Precision: {precision}, Recall: {recall}\")"
   ]
  },
  {
   "attachments": {},
   "cell_type": "markdown",
   "metadata": {},
   "source": [
    "# Define and Train Deep Belief Network"
   ]
  },
  {
   "attachments": {},
   "cell_type": "markdown",
   "metadata": {},
   "source": [
    "1. Define a RBM: Restricted Boltzmann Machine"
   ]
  },
  {
   "cell_type": "code",
   "execution_count": 56,
   "metadata": {},
   "outputs": [],
   "source": [
    "class RBM(nn.Module):\n",
    "    '''\n",
    "    This class defines all the functions needed for an BinaryRBN model\n",
    "    where the visible and hidden units are both considered binary\n",
    "    '''\n",
    "\n",
    "    def __init__(self,\n",
    "                visible_units=10,\n",
    "                hidden_units = 64,\n",
    "                k=2,\n",
    "                learning_rate=1e-5,\n",
    "                learning_rate_decay = False,\n",
    "                xavier_init = False,\n",
    "                increase_to_cd_k = False,\n",
    "                use_gpu = False\n",
    "                ):\n",
    "        '''\n",
    "        Defines the model\n",
    "        W:Wheights shape (visible_units,hidden_units)\n",
    "        c:hidden unit bias shape (hidden_units , )\n",
    "        b : visible unit bias shape(visisble_units ,)\n",
    "        '''\n",
    "        super(RBM,self).__init__()\n",
    "        self.desc = \"RBM\"\n",
    "\n",
    "        self.visible_units = visible_units\n",
    "        self.hidden_units = hidden_units\n",
    "        self.k = k\n",
    "        self.learning_rate = learning_rate\n",
    "        self.learning_rate_decay = learning_rate_decay\n",
    "        self.xavier_init = xavier_init\n",
    "        self.increase_to_cd_k = increase_to_cd_k\n",
    "        self.use_gpu = use_gpu\n",
    "        self.batch_size = 16\n",
    "\n",
    "\n",
    "        # Initialization\n",
    "        if not self.xavier_init:\n",
    "            self.W = torch.randn(self.visible_units,self.hidden_units) * 0.01 #weights\n",
    "        else:\n",
    "            self.xavier_value = torch.sqrt(torch.FloatTensor([1.0 / (self.visible_units + self.hidden_units)]))\n",
    "            self.W = -self.xavier_value + torch.rand(self.visible_units, self.hidden_units) * (2 * self.xavier_value)\n",
    "        self.h_bias = torch.zeros(self.hidden_units) #hidden layer bias\n",
    "        self.v_bias = torch.zeros(self.visible_units) #visible layer bias\n",
    "\n",
    "\n",
    "    def to_hidden(self ,X):\n",
    "        '''\n",
    "        Converts the data in visible layer to hidden layer\n",
    "        also does sampling\n",
    "        X here is the visible probabilities\n",
    "        :param X: torch tensor shape = (n_samples , n_features)\n",
    "        :return -  X_prob - new hidden layer (probabilities)\n",
    "                    sample_X_prob - Gibbs sampling of hidden (1 or 0) based\n",
    "                                on the value\n",
    "        '''\n",
    "        X_prob = torch.matmul(X,self.W)\n",
    "        X_prob = torch.add(X_prob, self.h_bias)#W.x + c\n",
    "        X_prob  = torch.sigmoid(X_prob)\n",
    "\n",
    "        sample_X_prob = self.sampling(X_prob)\n",
    "\n",
    "        return X_prob,sample_X_prob\n",
    "\n",
    "    def to_visible(self,X):\n",
    "        '''\n",
    "        reconstructs data from hidden layer\n",
    "        also does sampling\n",
    "        X here is the probabilities in the hidden layer\n",
    "        :returns - X_prob - the new reconstructed layers(probabilities)\n",
    "                    sample_X_prob - sample of new layer(Gibbs Sampling)\n",
    "\n",
    "        '''\n",
    "        # computing hidden activations and then converting into probabilities\n",
    "        X_prob = torch.matmul(X ,self.W.transpose( 0 , 1) )\n",
    "        X_prob = torch.add(X_prob , self.v_bias)\n",
    "        X_prob = torch.sigmoid(X_prob)\n",
    "\n",
    "        sample_X_prob = self.sampling(X_prob)\n",
    "\n",
    "        return X_prob,sample_X_prob\n",
    "\n",
    "    def sampling(self,prob):\n",
    "        '''\n",
    "        Bernoulli sampling done based on probabilities s\n",
    "        '''\n",
    "        s = torch.distributions.Bernoulli(prob).sample()\n",
    "        return s\n",
    "\n",
    "    def reconstruction_error(self , data):\n",
    "        '''\n",
    "        Computes the reconstruction error for the data\n",
    "        handled by pytorch by loss functions\n",
    "        '''\n",
    "        return self.contrastive_divergence(data, False)\n",
    "\n",
    "    def reconstruct(self , X,n_gibbs):\n",
    "        '''\n",
    "        This will reconstruct the sample with k steps of gibbs Sampling\n",
    "\n",
    "        '''\n",
    "        v = X\n",
    "        for i in range(n_gibbs):\n",
    "            prob_h_,h = self.to_hidden(v)\n",
    "            prob_v_,v = self.to_visible(prob_h_)\n",
    "        return prob_v_,v\n",
    "\n",
    "\n",
    "    def contrastive_divergence(self, input_data ,training = True,\n",
    "                                n_gibbs_sampling_steps=1,lr = 0.001):\n",
    "        # positive phase\n",
    "\n",
    "        positive_hidden_probabilities,positive_hidden_act  = self.to_hidden(input_data)\n",
    "\n",
    "        # calculating W via positive side\n",
    "        positive_associations = torch.matmul(input_data.t() , positive_hidden_act)\n",
    "\n",
    "\n",
    "\n",
    "        # negetive phase\n",
    "        hidden_activations = positive_hidden_act\n",
    "        for i in range(n_gibbs_sampling_steps):\n",
    "            visible_probabilities , _ = self.to_visible(hidden_activations)\n",
    "            hidden_probabilities,hidden_activations = self.to_hidden(visible_probabilities)\n",
    "\n",
    "        negative_visible_probabilities = visible_probabilities\n",
    "        negative_hidden_probabilities = hidden_probabilities\n",
    "\n",
    "        # calculating W via negative side\n",
    "        negative_associations = torch.matmul(negative_visible_probabilities.t() , negative_hidden_probabilities)\n",
    "\n",
    "\n",
    "        # Update parameters\n",
    "        if(training):\n",
    "\n",
    "            batch_size = self.batch_size\n",
    "\n",
    "            g = (positive_associations - negative_associations)\n",
    "            grad_update = g / batch_size\n",
    "            v_bias_update = torch.sum(input_data - negative_visible_probabilities,dim=0)/batch_size\n",
    "            h_bias_update = torch.sum(positive_hidden_probabilities - negative_hidden_probabilities,dim=0)/batch_size\n",
    "\n",
    "            self.W += lr * grad_update\n",
    "            self.v_bias += lr * v_bias_update\n",
    "            self.h_bias += lr * h_bias_update\n",
    "\n",
    "\n",
    "        # Compute reconstruction error\n",
    "        error = torch.mean(torch.sum((input_data - negative_visible_probabilities)**2 , dim = 0))\n",
    "\n",
    "        return error,torch.sum(torch.abs(grad_update))\n",
    "\n",
    "\n",
    "    def forward(self,input_data):\n",
    "        'data->hidden'\n",
    "        return  self.to_hidden(input_data)\n",
    "    def step(self,input_data,epoch,num_epochs):\n",
    "        '''\n",
    "            Includes the foward prop plus the gradient descent\n",
    "            Use this for training\n",
    "        '''\n",
    "        if self.increase_to_cd_k:\n",
    "            n_gibbs_sampling_steps = int(math.ceil((epoch/num_epochs) * self.k))\n",
    "        else:\n",
    "            n_gibbs_sampling_steps = self.k\n",
    "\n",
    "        if self.learning_rate_decay:\n",
    "            lr = self.learning_rate / epoch\n",
    "        else:\n",
    "            lr = self.learning_rate\n",
    "\n",
    "        return self.contrastive_divergence(input_data , True,n_gibbs_sampling_steps,lr);\n",
    "\n",
    "\n",
    "    def train(self,train_dataloader , num_epochs = 50,batch_size=16):\n",
    "\n",
    "        self.batch_size = batch_size\n",
    "        if(isinstance(train_dataloader ,torch.utils.data.DataLoader)):\n",
    "            train_loader = train_dataloader\n",
    "        else:\n",
    "            train_loader = torch.utils.data.DataLoader(train_dataloader, batch_size=batch_size)\n",
    "\n",
    "\n",
    "        for epoch in range(1 , num_epochs+1):\n",
    "            epoch_err = 0.0\n",
    "            n_batches = int(len(train_loader))\n",
    "            # print(n_batches)\n",
    "\n",
    "            cost_ = torch.FloatTensor(n_batches , 1)\n",
    "            grad_ = torch.FloatTensor(n_batches , 1)\n",
    "\n",
    "            for i,(batch,_) in tqdm(enumerate(train_loader),ascii=True,\n",
    "                                desc=\"RBM fitting\", file=sys.stdout):\n",
    "\n",
    "                batch = batch.view(len(batch) , self.visible_units)\n",
    "                \n",
    "                if(self.use_gpu):\n",
    "                    batch = batch.cuda()\n",
    "                cost_[i-1],grad_[i-1] = self.step(batch,epoch,num_epochs)\n",
    "\n",
    "\n",
    "            print(\"Epoch:{} ,avg_cost = {} ,std_cost = {} ,avg_grad = {} ,std_grad = {}\".format(epoch,\\\n",
    "                                                            torch.mean(cost_),\\\n",
    "                                                            torch.std(cost_),\\\n",
    "                                                            torch.mean(grad_),\\\n",
    "                                                            torch.std(grad_)))\n",
    "\n",
    "        return"
   ]
  },
  {
   "attachments": {},
   "cell_type": "markdown",
   "metadata": {},
   "source": [
    "2. DBN Based on RBM"
   ]
  },
  {
   "cell_type": "code",
   "execution_count": 57,
   "metadata": {},
   "outputs": [],
   "source": [
    "class DBN(nn.Module):\n",
    "    def __init__(self,\n",
    "                visible_units = 10,\n",
    "                hidden_units = [64 , 100],\n",
    "                k = 2,\n",
    "                learning_rate = 1e-5,\n",
    "                learning_rate_decay = False,\n",
    "                xavier_init = False,\n",
    "                increase_to_cd_k = False,\n",
    "                use_gpu = False\n",
    "                ):\n",
    "        super(DBN,self).__init__()\n",
    "\n",
    "        self.n_layers = len(hidden_units)\n",
    "        self.rbm_layers =[]\n",
    "        self.rbm_nodes = []\n",
    "\n",
    "        # Creating different RBM layers\n",
    "        for i in range(self.n_layers ):\n",
    "            input_size = 0\n",
    "            if i==0:\n",
    "                input_size = visible_units\n",
    "            else:\n",
    "                input_size = hidden_units[i-1]\n",
    "            rbm = RBM(visible_units = input_size,\n",
    "                    hidden_units = hidden_units[i],\n",
    "                    k= k,\n",
    "                    learning_rate = learning_rate,\n",
    "                    learning_rate_decay = learning_rate_decay,\n",
    "                    xavier_init = xavier_init,\n",
    "                    increase_to_cd_k = increase_to_cd_k,\n",
    "                    use_gpu=use_gpu)\n",
    "\n",
    "            self.rbm_layers.append(rbm)\n",
    "\n",
    "        # rbm_layers = [RBM(rbn_nodes[i-1] , rbm_nodes[i],use_gpu=use_cuda) for i in range(1,len(rbm_nodes))]\n",
    "        self.W_rec = [nn.Parameter(self.rbm_layers[i].W.data.clone()) for i in range(self.n_layers-1)]\n",
    "        self.W_gen = [nn.Parameter(self.rbm_layers[i].W.data) for i in range(self.n_layers-1)]\n",
    "        self.bias_rec = [nn.Parameter(self.rbm_layers[i].h_bias.data.clone()) for i in range(self.n_layers-1)]\n",
    "        self.bias_gen = [nn.Parameter(self.rbm_layers[i].v_bias.data) for i in range(self.n_layers-1)]\n",
    "        self.W_mem = nn.Parameter(self.rbm_layers[-1].W.data)\n",
    "        self.v_bias_mem = nn.Parameter(self.rbm_layers[-1].v_bias.data)\n",
    "        self.h_bias_mem = nn.Parameter(self.rbm_layers[-1].h_bias.data)\n",
    "\n",
    "        for i in range(self.n_layers-1):\n",
    "            self.register_parameter('W_rec%i'%i, self.W_rec[i])\n",
    "            self.register_parameter('W_gen%i'%i, self.W_gen[i])\n",
    "            self.register_parameter('bias_rec%i'%i, self.bias_rec[i])\n",
    "            self.register_parameter('bias_gen%i'%i, self.bias_gen[i])\n",
    "\n",
    "\n",
    "    def forward(self , input_data):\n",
    "        '''\n",
    "            running the forward pass\n",
    "            do not confuse with training this just runs a foward pass\n",
    "        '''\n",
    "        v = input_data\n",
    "        for i in range(len(self.rbm_layers)):\n",
    "            v = v.view((v.shape[0] , -1)).type(torch.FloatTensor)#flatten\n",
    "            p_v,v = self.rbm_layers[i].to_hidden(v)\n",
    "        return p_v,v\n",
    "\n",
    "    def reconstruct(self,input_data):\n",
    "        '''\n",
    "        go till the final layer and then reconstruct\n",
    "        '''\n",
    "        h = input_data\n",
    "        p_h = 0\n",
    "        for i in range(len(self.rbm_layers)):\n",
    "            h = h.view((h.shape[0] , -1)).type(torch.FloatTensor)#flatten\n",
    "            p_h,h = self.rbm_layers[i].to_hidden(h)\n",
    "\n",
    "        v = h\n",
    "        for i in range(len(self.rbm_layers)-1,-1,-1):\n",
    "            v = v.view((v.shape[0] , -1)).type(torch.FloatTensor)\n",
    "            p_v,v = self.rbm_layers[i].to_visible(v)\n",
    "        return p_v,v\n",
    "\n",
    "\n",
    "\n",
    "    def train_static(self, train_data,train_labels,num_epochs=50,batch_size=10):\n",
    "        '''\n",
    "        Greedy Layer By Layer training\n",
    "        Keeping previous layers as static\n",
    "        '''\n",
    "\n",
    "        tmp = train_data\n",
    "\n",
    "        for i in range(len(self.rbm_layers)):\n",
    "            print(\"-\"*20)\n",
    "            print(\"Training the {} st rbm layer\".format(i+1))\n",
    "\n",
    "            tensor_x = tmp.type(torch.FloatTensor) # transform to torch tensors\n",
    "            tensor_y = train_labels.type(torch.FloatTensor)\n",
    "            _dataset = torch.utils.data.TensorDataset(tensor_x,tensor_y) # create your datset\n",
    "            _dataloader = torch.utils.data.DataLoader(_dataset,batch_size=batch_size,drop_last = True) # create your dataloader\n",
    "\n",
    "            self.rbm_layers[i].train(_dataloader , num_epochs,batch_size)\n",
    "            # print(train_data.shape)\n",
    "            v = tmp.view((tmp.shape[0] , -1)).type(torch.FloatTensor)#flatten\n",
    "            p_v , v = self.rbm_layers[i].forward(v)\n",
    "            tmp = v\n",
    "            # print(v.shape)\n",
    "        return\n",
    "\n",
    "    def train_ith(self, train_data,train_labels,num_epochs,batch_size,ith_layer):\n",
    "        '''\n",
    "        taking ith layer at once\n",
    "        can be used for fine tuning\n",
    "        '''\n",
    "        if(ith_layer-1>len(self.rbm_layers) or ith_layer<=0):\n",
    "            print(\"Layer index out of range\")\n",
    "            return\n",
    "        ith_layer = ith_layer-1\n",
    "        v = train_data.view((train_data.shape[0] , -1)).type(torch.FloatTensor)\n",
    "\n",
    "        for ith in range(ith_layer):\n",
    "            p_v, v = self.rbm_layers[ith].forward(v)\n",
    "\n",
    "        tmp = v\n",
    "        tensor_x = tmp.type(torch.FloatTensor) # transform to torch tensors\n",
    "        tensor_y = train_labels.type(torch.FloatTensor)\n",
    "        _dataset = torch.utils.data.TensorDataset(tensor_x,tensor_y) # create your datset\n",
    "        _dataloader = torch.utils.data.DataLoader(_dataset , batch_size=batch_size,drop_last=True)\n",
    "        self.rbm_layers[ith_layer].train(_dataloader, num_epochs,batch_size)\n",
    "        return"
   ]
  },
  {
   "attachments": {},
   "cell_type": "markdown",
   "metadata": {},
   "source": [
    "3. Train DBN"
   ]
  },
  {
   "cell_type": "code",
   "execution_count": 58,
   "metadata": {},
   "outputs": [],
   "source": [
    "dbn_bhns = DBN(visible_units=10 ,\n",
    "                hidden_units=[23*23 ,18*18] ,\n",
    "                k = 5,\n",
    "                learning_rate = 0.01,\n",
    "                learning_rate_decay = True,\n",
    "                xavier_init = True,\n",
    "                increase_to_cd_k = False,\n",
    "                use_gpu = False)"
   ]
  },
  {
   "attachments": {},
   "cell_type": "markdown",
   "metadata": {},
   "source": [
    "Change use_gpu to True when training with CUDA accelerator"
   ]
  },
  {
   "cell_type": "code",
   "execution_count": 59,
   "metadata": {},
   "outputs": [
    {
     "name": "stdout",
     "output_type": "stream",
     "text": [
      "--------------------\n",
      "Training the 1 st rbm layer\n",
      "RBM fitting: 305it [00:02, 134.72it/s]\n"
     ]
    },
    {
     "ename": "KeyboardInterrupt",
     "evalue": "",
     "output_type": "error",
     "traceback": [
      "\u001b[1;31m---------------------------------------------------------------------------\u001b[0m",
      "\u001b[1;31mKeyboardInterrupt\u001b[0m                         Traceback (most recent call last)",
      "\u001b[1;32m~\\AppData\\Local\\Temp\\ipykernel_11548\\1126614768.py\u001b[0m in \u001b[0;36m<module>\u001b[1;34m\u001b[0m\n\u001b[1;32m----> 1\u001b[1;33m \u001b[0mdbn_bhns\u001b[0m\u001b[1;33m.\u001b[0m\u001b[0mtrain_static\u001b[0m\u001b[1;33m(\u001b[0m\u001b[0mX_train\u001b[0m\u001b[1;33m,\u001b[0m \u001b[0mY_train\u001b[0m\u001b[1;33m,\u001b[0m \u001b[1;36m20\u001b[0m\u001b[1;33m,\u001b[0m \u001b[0mbatch_size\u001b[0m\u001b[1;33m=\u001b[0m\u001b[1;36m10\u001b[0m\u001b[1;33m)\u001b[0m\u001b[1;33m\u001b[0m\u001b[1;33m\u001b[0m\u001b[0m\n\u001b[0m",
      "\u001b[1;32m~\\AppData\\Local\\Temp\\ipykernel_11548\\3095557592.py\u001b[0m in \u001b[0;36mtrain_static\u001b[1;34m(self, train_data, train_labels, num_epochs, batch_size)\u001b[0m\n\u001b[0;32m     96\u001b[0m             \u001b[0m_dataloader\u001b[0m \u001b[1;33m=\u001b[0m \u001b[0mtorch\u001b[0m\u001b[1;33m.\u001b[0m\u001b[0mutils\u001b[0m\u001b[1;33m.\u001b[0m\u001b[0mdata\u001b[0m\u001b[1;33m.\u001b[0m\u001b[0mDataLoader\u001b[0m\u001b[1;33m(\u001b[0m\u001b[0m_dataset\u001b[0m\u001b[1;33m,\u001b[0m\u001b[0mbatch_size\u001b[0m\u001b[1;33m=\u001b[0m\u001b[0mbatch_size\u001b[0m\u001b[1;33m,\u001b[0m\u001b[0mdrop_last\u001b[0m \u001b[1;33m=\u001b[0m \u001b[1;32mTrue\u001b[0m\u001b[1;33m)\u001b[0m \u001b[1;31m# create your dataloader\u001b[0m\u001b[1;33m\u001b[0m\u001b[1;33m\u001b[0m\u001b[0m\n\u001b[0;32m     97\u001b[0m \u001b[1;33m\u001b[0m\u001b[0m\n\u001b[1;32m---> 98\u001b[1;33m             \u001b[0mself\u001b[0m\u001b[1;33m.\u001b[0m\u001b[0mrbm_layers\u001b[0m\u001b[1;33m[\u001b[0m\u001b[0mi\u001b[0m\u001b[1;33m]\u001b[0m\u001b[1;33m.\u001b[0m\u001b[0mtrain\u001b[0m\u001b[1;33m(\u001b[0m\u001b[0m_dataloader\u001b[0m \u001b[1;33m,\u001b[0m \u001b[0mnum_epochs\u001b[0m\u001b[1;33m,\u001b[0m\u001b[0mbatch_size\u001b[0m\u001b[1;33m)\u001b[0m\u001b[1;33m\u001b[0m\u001b[1;33m\u001b[0m\u001b[0m\n\u001b[0m\u001b[0;32m     99\u001b[0m             \u001b[1;31m# print(train_data.shape)\u001b[0m\u001b[1;33m\u001b[0m\u001b[1;33m\u001b[0m\u001b[1;33m\u001b[0m\u001b[0m\n\u001b[0;32m    100\u001b[0m             \u001b[0mv\u001b[0m \u001b[1;33m=\u001b[0m \u001b[0mtmp\u001b[0m\u001b[1;33m.\u001b[0m\u001b[0mview\u001b[0m\u001b[1;33m(\u001b[0m\u001b[1;33m(\u001b[0m\u001b[0mtmp\u001b[0m\u001b[1;33m.\u001b[0m\u001b[0mshape\u001b[0m\u001b[1;33m[\u001b[0m\u001b[1;36m0\u001b[0m\u001b[1;33m]\u001b[0m \u001b[1;33m,\u001b[0m \u001b[1;33m-\u001b[0m\u001b[1;36m1\u001b[0m\u001b[1;33m)\u001b[0m\u001b[1;33m)\u001b[0m\u001b[1;33m.\u001b[0m\u001b[0mtype\u001b[0m\u001b[1;33m(\u001b[0m\u001b[0mtorch\u001b[0m\u001b[1;33m.\u001b[0m\u001b[0mFloatTensor\u001b[0m\u001b[1;33m)\u001b[0m\u001b[1;31m#flatten\u001b[0m\u001b[1;33m\u001b[0m\u001b[1;33m\u001b[0m\u001b[0m\n",
      "\u001b[1;32m~\\AppData\\Local\\Temp\\ipykernel_11548\\17014863.py\u001b[0m in \u001b[0;36mtrain\u001b[1;34m(self, train_dataloader, num_epochs, batch_size)\u001b[0m\n\u001b[0;32m    190\u001b[0m             \u001b[0mgrad_\u001b[0m \u001b[1;33m=\u001b[0m \u001b[0mtorch\u001b[0m\u001b[1;33m.\u001b[0m\u001b[0mFloatTensor\u001b[0m\u001b[1;33m(\u001b[0m\u001b[0mn_batches\u001b[0m \u001b[1;33m,\u001b[0m \u001b[1;36m1\u001b[0m\u001b[1;33m)\u001b[0m\u001b[1;33m\u001b[0m\u001b[1;33m\u001b[0m\u001b[0m\n\u001b[0;32m    191\u001b[0m \u001b[1;33m\u001b[0m\u001b[0m\n\u001b[1;32m--> 192\u001b[1;33m             for i,(batch,_) in tqdm(enumerate(train_loader),ascii=True,\n\u001b[0m\u001b[0;32m    193\u001b[0m                                 desc=\"RBM fitting\", file=sys.stdout):\n\u001b[0;32m    194\u001b[0m \u001b[1;33m\u001b[0m\u001b[0m\n",
      "\u001b[1;32mc:\\Users\\kulka\\OneDrive\\Documents\\Python_Class\\Anaconda\\anacon\\lib\\site-packages\\tqdm\\std.py\u001b[0m in \u001b[0;36m__iter__\u001b[1;34m(self)\u001b[0m\n\u001b[0;32m   1193\u001b[0m \u001b[1;33m\u001b[0m\u001b[0m\n\u001b[0;32m   1194\u001b[0m         \u001b[1;32mtry\u001b[0m\u001b[1;33m:\u001b[0m\u001b[1;33m\u001b[0m\u001b[1;33m\u001b[0m\u001b[0m\n\u001b[1;32m-> 1195\u001b[1;33m             \u001b[1;32mfor\u001b[0m \u001b[0mobj\u001b[0m \u001b[1;32min\u001b[0m \u001b[0miterable\u001b[0m\u001b[1;33m:\u001b[0m\u001b[1;33m\u001b[0m\u001b[1;33m\u001b[0m\u001b[0m\n\u001b[0m\u001b[0;32m   1196\u001b[0m                 \u001b[1;32myield\u001b[0m \u001b[0mobj\u001b[0m\u001b[1;33m\u001b[0m\u001b[1;33m\u001b[0m\u001b[0m\n\u001b[0;32m   1197\u001b[0m                 \u001b[1;31m# Update and possibly print the progressbar.\u001b[0m\u001b[1;33m\u001b[0m\u001b[1;33m\u001b[0m\u001b[1;33m\u001b[0m\u001b[0m\n",
      "\u001b[1;32mc:\\Users\\kulka\\OneDrive\\Documents\\Python_Class\\Anaconda\\anacon\\lib\\site-packages\\torch\\utils\\data\\dataloader.py\u001b[0m in \u001b[0;36m__next__\u001b[1;34m(self)\u001b[0m\n\u001b[0;32m    631\u001b[0m                 \u001b[1;31m# TODO(https://github.com/pytorch/pytorch/issues/76750)\u001b[0m\u001b[1;33m\u001b[0m\u001b[1;33m\u001b[0m\u001b[1;33m\u001b[0m\u001b[0m\n\u001b[0;32m    632\u001b[0m                 \u001b[0mself\u001b[0m\u001b[1;33m.\u001b[0m\u001b[0m_reset\u001b[0m\u001b[1;33m(\u001b[0m\u001b[1;33m)\u001b[0m  \u001b[1;31m# type: ignore[call-arg]\u001b[0m\u001b[1;33m\u001b[0m\u001b[1;33m\u001b[0m\u001b[0m\n\u001b[1;32m--> 633\u001b[1;33m             \u001b[0mdata\u001b[0m \u001b[1;33m=\u001b[0m \u001b[0mself\u001b[0m\u001b[1;33m.\u001b[0m\u001b[0m_next_data\u001b[0m\u001b[1;33m(\u001b[0m\u001b[1;33m)\u001b[0m\u001b[1;33m\u001b[0m\u001b[1;33m\u001b[0m\u001b[0m\n\u001b[0m\u001b[0;32m    634\u001b[0m             \u001b[0mself\u001b[0m\u001b[1;33m.\u001b[0m\u001b[0m_num_yielded\u001b[0m \u001b[1;33m+=\u001b[0m \u001b[1;36m1\u001b[0m\u001b[1;33m\u001b[0m\u001b[1;33m\u001b[0m\u001b[0m\n\u001b[0;32m    635\u001b[0m             \u001b[1;32mif\u001b[0m \u001b[0mself\u001b[0m\u001b[1;33m.\u001b[0m\u001b[0m_dataset_kind\u001b[0m \u001b[1;33m==\u001b[0m \u001b[0m_DatasetKind\u001b[0m\u001b[1;33m.\u001b[0m\u001b[0mIterable\u001b[0m \u001b[1;32mand\u001b[0m\u001b[0;31m \u001b[0m\u001b[0;31m\\\u001b[0m\u001b[1;33m\u001b[0m\u001b[1;33m\u001b[0m\u001b[0m\n",
      "\u001b[1;32mc:\\Users\\kulka\\OneDrive\\Documents\\Python_Class\\Anaconda\\anacon\\lib\\site-packages\\torch\\utils\\data\\dataloader.py\u001b[0m in \u001b[0;36m_next_data\u001b[1;34m(self)\u001b[0m\n\u001b[0;32m    675\u001b[0m     \u001b[1;32mdef\u001b[0m \u001b[0m_next_data\u001b[0m\u001b[1;33m(\u001b[0m\u001b[0mself\u001b[0m\u001b[1;33m)\u001b[0m\u001b[1;33m:\u001b[0m\u001b[1;33m\u001b[0m\u001b[1;33m\u001b[0m\u001b[0m\n\u001b[0;32m    676\u001b[0m         \u001b[0mindex\u001b[0m \u001b[1;33m=\u001b[0m \u001b[0mself\u001b[0m\u001b[1;33m.\u001b[0m\u001b[0m_next_index\u001b[0m\u001b[1;33m(\u001b[0m\u001b[1;33m)\u001b[0m  \u001b[1;31m# may raise StopIteration\u001b[0m\u001b[1;33m\u001b[0m\u001b[1;33m\u001b[0m\u001b[0m\n\u001b[1;32m--> 677\u001b[1;33m         \u001b[0mdata\u001b[0m \u001b[1;33m=\u001b[0m \u001b[0mself\u001b[0m\u001b[1;33m.\u001b[0m\u001b[0m_dataset_fetcher\u001b[0m\u001b[1;33m.\u001b[0m\u001b[0mfetch\u001b[0m\u001b[1;33m(\u001b[0m\u001b[0mindex\u001b[0m\u001b[1;33m)\u001b[0m  \u001b[1;31m# may raise StopIteration\u001b[0m\u001b[1;33m\u001b[0m\u001b[1;33m\u001b[0m\u001b[0m\n\u001b[0m\u001b[0;32m    678\u001b[0m         \u001b[1;32mif\u001b[0m \u001b[0mself\u001b[0m\u001b[1;33m.\u001b[0m\u001b[0m_pin_memory\u001b[0m\u001b[1;33m:\u001b[0m\u001b[1;33m\u001b[0m\u001b[1;33m\u001b[0m\u001b[0m\n\u001b[0;32m    679\u001b[0m             \u001b[0mdata\u001b[0m \u001b[1;33m=\u001b[0m \u001b[0m_utils\u001b[0m\u001b[1;33m.\u001b[0m\u001b[0mpin_memory\u001b[0m\u001b[1;33m.\u001b[0m\u001b[0mpin_memory\u001b[0m\u001b[1;33m(\u001b[0m\u001b[0mdata\u001b[0m\u001b[1;33m,\u001b[0m \u001b[0mself\u001b[0m\u001b[1;33m.\u001b[0m\u001b[0m_pin_memory_device\u001b[0m\u001b[1;33m)\u001b[0m\u001b[1;33m\u001b[0m\u001b[1;33m\u001b[0m\u001b[0m\n",
      "\u001b[1;31mKeyboardInterrupt\u001b[0m: "
     ]
    }
   ],
   "source": [
    "dbn_bhns.train_static(X_train, Y_train, 20, batch_size=10)"
   ]
  },
  {
   "attachments": {},
   "cell_type": "markdown",
   "metadata": {},
   "source": [
    "Model Save"
   ]
  },
  {
   "cell_type": "code",
   "execution_count": null,
   "metadata": {},
   "outputs": [],
   "source": [
    "torch.save(dbn_bhns.state_dict(),\"Deep_Belief_Network.pth\")"
   ]
  },
  {
   "attachments": {},
   "cell_type": "markdown",
   "metadata": {},
   "source": [
    "Model Load"
   ]
  },
  {
   "cell_type": "code",
   "execution_count": null,
   "metadata": {},
   "outputs": [],
   "source": [
    "loaded_model = DBN(visible_units=10 ,\n",
    "                hidden_units=[23*23 ,18*18] ,\n",
    "                k = 5,\n",
    "                learning_rate = 0.01,\n",
    "                learning_rate_decay = True,\n",
    "                xavier_init = True,\n",
    "                increase_to_cd_k = False,\n",
    "                use_gpu = False)\n",
    "\n",
    "loaded_model.load_state_dict(torch.load(\"Deep_Belief_Network.pth\"))"
   ]
  },
  {
   "attachments": {},
   "cell_type": "markdown",
   "metadata": {},
   "source": [
    "# Deep Belief Network Evaluation"
   ]
  },
  {
   "cell_type": "code",
   "execution_count": null,
   "metadata": {},
   "outputs": [],
   "source": [
    "print(evaluate(test_loader=test_loader,net=dbn_bhns))"
   ]
  },
  {
   "attachments": {},
   "cell_type": "markdown",
   "metadata": {},
   "source": [
    "# Define and Train Radial Basis Function Network"
   ]
  },
  {
   "cell_type": "code",
   "execution_count": 60,
   "metadata": {},
   "outputs": [],
   "source": [
    "class RBF(nn.Module):\n",
    "   \n",
    "    def __init__(self, in_features, out_features, basis_func):\n",
    "        super(RBF, self).__init__()\n",
    "        self.in_features = in_features\n",
    "        self.out_features = out_features\n",
    "        self.centres = nn.Parameter(torch.Tensor(out_features, in_features))\n",
    "        self.log_sigmas = nn.Parameter(torch.Tensor(out_features))\n",
    "        self.basis_func = basis_func\n",
    "        self.reset_parameters()\n",
    "\n",
    "    def reset_parameters(self):\n",
    "        nn.init.normal_(self.centres, 0, 1)\n",
    "        nn.init.constant_(self.log_sigmas, 0)\n",
    "\n",
    "    def forward(self, input):\n",
    "        size = (input.size(0), self.out_features, self.in_features)\n",
    "        x = input.unsqueeze(1).expand(size)\n",
    "        c = self.centres.unsqueeze(0).expand(size)\n",
    "        distances = (x - c).pow(2).sum(-1).pow(0.5) / torch.exp(self.log_sigmas).unsqueeze(0)\n",
    "        return self.basis_func(distances)\n",
    "\n",
    "\n",
    "\n",
    "# RBFs\n",
    "\n",
    "def gaussian(alpha):\n",
    "    phi = torch.exp(-1*alpha.pow(2))\n",
    "    return phi\n",
    "\n",
    "def linear(alpha):\n",
    "    phi = alpha\n",
    "    return phi\n",
    "\n",
    "def quadratic(alpha):\n",
    "    phi = alpha.pow(2)\n",
    "    return phi\n",
    "\n",
    "def inverse_quadratic(alpha):\n",
    "    phi = torch.ones_like(alpha) / (torch.ones_like(alpha) + alpha.pow(2))\n",
    "    return phi\n",
    "\n",
    "def multiquadric(alpha):\n",
    "    phi = (torch.ones_like(alpha) + alpha.pow(2)).pow(0.5)\n",
    "    return phi\n",
    "\n",
    "def inverse_multiquadric(alpha):\n",
    "    phi = torch.ones_like(alpha) / (torch.ones_like(alpha) + alpha.pow(2)).pow(0.5)\n",
    "    return phi\n",
    "\n",
    "def spline(alpha):\n",
    "    phi = (alpha.pow(2) * torch.log(alpha + torch.ones_like(alpha)))\n",
    "    return phi\n",
    "\n",
    "def poisson_one(alpha):\n",
    "    phi = (alpha - torch.ones_like(alpha)) * torch.exp(-alpha)\n",
    "    return phi\n",
    "\n",
    "def poisson_two(alpha):\n",
    "    phi = ((alpha - 2*torch.ones_like(alpha)) / 2*torch.ones_like(alpha)) \\\n",
    "    * alpha * torch.exp(-alpha)\n",
    "    return phi\n",
    "\n",
    "def matern32(alpha):\n",
    "    phi = (torch.ones_like(alpha) + 3**0.5*alpha)*torch.exp(-3**0.5*alpha)\n",
    "    return phi\n",
    "\n",
    "def matern52(alpha):\n",
    "    phi = (torch.ones_like(alpha) + 5**0.5*alpha + (5/3) \\\n",
    "    * alpha.pow(2))*torch.exp(-5**0.5*alpha)\n",
    "    return phi\n",
    "\n",
    "def basis_func_dict():\n",
    "   \n",
    "    bases = {'gaussian': gaussian,\n",
    "             'linear': linear,\n",
    "             'quadratic': quadratic,\n",
    "             'inverse quadratic': inverse_quadratic,\n",
    "             'multiquadric': multiquadric,\n",
    "             'inverse multiquadric': inverse_multiquadric,\n",
    "             'spline': spline,\n",
    "             'poisson one': poisson_one,\n",
    "             'poisson two': poisson_two,\n",
    "             'matern32': matern32,\n",
    "             'matern52': matern52}\n",
    "    return bases"
   ]
  },
  {
   "cell_type": "code",
   "execution_count": 61,
   "metadata": {},
   "outputs": [],
   "source": [
    "class RadialBasisNet(nn.Module):\n",
    "    \n",
    "    def __init__(self, layer_widths, layer_centres, basis_func):\n",
    "        super(RadialBasisNet, self).__init__()\n",
    "        self.rbf_layers = nn.ModuleList()\n",
    "        self.linear_layers = nn.ModuleList()\n",
    "        for i in range(len(layer_widths) - 1):\n",
    "            self.rbf_layers.append(RBF(layer_widths[i], layer_centres[i], basis_func))\n",
    "            self.linear_layers.append(nn.Linear(layer_centres[i], layer_widths[i+1]))\n",
    "    \n",
    "    def forward(self, x):\n",
    "        out = x\n",
    "        for i in range(len(self.rbf_layers)):\n",
    "            out = self.rbf_layers[i](out)\n",
    "            out = self.linear_layers[i](out)\n",
    "        return out\n",
    "    \n",
    "    def fit(self, epochs, lr, loss_func):\n",
    "        self.train()\n",
    "        obs = torch.tensor(x_train.to_numpy()).size(0)\n",
    "        trainloader = train_loader\n",
    "        optimiser = torch.optim.Adam(self.parameters(), lr=lr)\n",
    "        epoch = 0\n",
    "        while epoch < epochs:\n",
    "            epoch += 1\n",
    "            current_loss = 0\n",
    "            batches = 0\n",
    "            progress = 0\n",
    "            for x_batch, y_batch in trainloader:\n",
    "                batches += 1\n",
    "                optimiser.zero_grad()\n",
    "                y_hat = self.forward(x_batch)\n",
    "                print(y_hat.shape,y_batch.shape)\n",
    "                y_batch = y_batch.unsqueeze(1)\n",
    "                loss = loss_func(y_hat, y_batch)\n",
    "                current_loss += (1/batches) * (loss.item() - current_loss)\n",
    "                loss.backward()\n",
    "                optimiser.step()\n",
    "                progress += y_batch.size(0)\n",
    "                sys.stdout.write('\\rEpoch: %d, Progress: %d/%d, Loss: %f      ' % \\\n",
    "                                 (epoch, progress, obs, current_loss))\n",
    "                sys.stdout.flush()\n"
   ]
  },
  {
   "cell_type": "code",
   "execution_count": 62,
   "metadata": {},
   "outputs": [
    {
     "name": "stdout",
     "output_type": "stream",
     "text": [
      "torch.Size([10, 1]) torch.Size([10])\n",
      "Epoch: 1, Progress: 10/9795, Loss: 0.714627      torch.Size([10, 1]) torch.Size([10])\n",
      "Epoch: 1, Progress: 20/9795, Loss: 0.699314      torch.Size([10, 1]) torch.Size([10])\n",
      "Epoch: 1, Progress: 30/9795, Loss: 0.694024      torch.Size([10, 1]) torch.Size([10])\n",
      "Epoch: 1, Progress: 40/9795, Loss: 0.693475      torch.Size([10, 1]) torch.Size([10])\n",
      "Epoch: 1, Progress: 50/9795, Loss: 0.691030      torch.Size([10, 1]) torch.Size([10])\n",
      "Epoch: 1, Progress: 60/9795, Loss: 0.692507      torch.Size([10, 1]) torch.Size([10])\n",
      "Epoch: 1, Progress: 70/9795, Loss: 0.693586      torch.Size([10, 1]) torch.Size([10])\n",
      "Epoch: 1, Progress: 80/9795, Loss: 0.691862      torch.Size([10, 1]) torch.Size([10])\n",
      "Epoch: 1, Progress: 90/9795, Loss: 0.691393      torch.Size([10, 1]) torch.Size([10])\n",
      "Epoch: 1, Progress: 100/9795, Loss: 0.688975      torch.Size([10, 1]) torch.Size([10])\n",
      "Epoch: 1, Progress: 110/9795, Loss: 0.688766      torch.Size([10, 1]) torch.Size([10])\n",
      "Epoch: 1, Progress: 120/9795, Loss: 0.690555      torch.Size([10, 1]) torch.Size([10])\n",
      "Epoch: 1, Progress: 130/9795, Loss: 0.688992      torch.Size([10, 1]) torch.Size([10])\n",
      "Epoch: 1, Progress: 140/9795, Loss: 0.688732      torch.Size([10, 1]) torch.Size([10])\n",
      "Epoch: 1, Progress: 150/9795, Loss: 0.687456      torch.Size([10, 1]) torch.Size([10])\n",
      "Epoch: 1, Progress: 160/9795, Loss: 0.687184      torch.Size([10, 1]) torch.Size([10])\n",
      "Epoch: 1, Progress: 170/9795, Loss: 0.685959      torch.Size([10, 1]) torch.Size([10])\n",
      "Epoch: 1, Progress: 180/9795, Loss: 0.685769      torch.Size([10, 1]) torch.Size([10])\n",
      "Epoch: 1, Progress: 190/9795, Loss: 0.685780      torch.Size([10, 1]) torch.Size([10])\n",
      "Epoch: 1, Progress: 200/9795, Loss: 0.684401      torch.Size([10, 1]) torch.Size([10])\n",
      "Epoch: 1, Progress: 210/9795, Loss: 0.683204      torch.Size([10, 1]) torch.Size([10])\n",
      "Epoch: 1, Progress: 220/9795, Loss: 0.681415      torch.Size([10, 1]) torch.Size([10])\n",
      "Epoch: 1, Progress: 230/9795, Loss: 0.680393      torch.Size([10, 1]) torch.Size([10])\n",
      "Epoch: 1, Progress: 240/9795, Loss: 0.679679      torch.Size([10, 1]) torch.Size([10])\n",
      "Epoch: 1, Progress: 250/9795, Loss: 0.677928      torch.Size([10, 1]) torch.Size([10])\n",
      "Epoch: 1, Progress: 260/9795, Loss: 0.676025      torch.Size([10, 1]) torch.Size([10])\n",
      "Epoch: 1, Progress: 270/9795, Loss: 0.673490      torch.Size([10, 1]) torch.Size([10])\n",
      "Epoch: 1, Progress: 280/9795, Loss: 0.668872      torch.Size([10, 1]) torch.Size([10])\n",
      "Epoch: 1, Progress: 290/9795, Loss: 0.667573      torch.Size([10, 1]) torch.Size([10])\n",
      "Epoch: 1, Progress: 300/9795, Loss: 0.667254      torch.Size([10, 1]) torch.Size([10])\n",
      "Epoch: 1, Progress: 310/9795, Loss: 0.665088      torch.Size([10, 1]) torch.Size([10])\n",
      "Epoch: 1, Progress: 320/9795, Loss: 0.663426      torch.Size([10, 1]) torch.Size([10])\n",
      "Epoch: 1, Progress: 330/9795, Loss: 0.662828      torch.Size([10, 1]) torch.Size([10])\n",
      "Epoch: 1, Progress: 340/9795, Loss: 0.661024      torch.Size([10, 1]) torch.Size([10])\n",
      "Epoch: 1, Progress: 350/9795, Loss: 0.662444      torch.Size([10, 1]) torch.Size([10])\n",
      "Epoch: 1, Progress: 360/9795, Loss: 0.662835      torch.Size([10, 1]) torch.Size([10])\n",
      "Epoch: 1, Progress: 370/9795, Loss: 0.660405      torch.Size([10, 1]) torch.Size([10])\n",
      "Epoch: 1, Progress: 380/9795, Loss: 0.659345      torch.Size([10, 1]) torch.Size([10])\n",
      "Epoch: 1, Progress: 390/9795, Loss: 0.654905      torch.Size([10, 1]) torch.Size([10])\n",
      "Epoch: 1, Progress: 400/9795, Loss: 0.655766      torch.Size([10, 1]) torch.Size([10])\n",
      "Epoch: 1, Progress: 410/9795, Loss: 0.651282      torch.Size([10, 1]) torch.Size([10])\n",
      "Epoch: 1, Progress: 420/9795, Loss: 0.649986      torch.Size([10, 1]) torch.Size([10])\n",
      "Epoch: 1, Progress: 430/9795, Loss: 0.650713      torch.Size([10, 1]) torch.Size([10])\n",
      "Epoch: 1, Progress: 440/9795, Loss: 0.649978      torch.Size([10, 1]) torch.Size([10])\n",
      "Epoch: 1, Progress: 450/9795, Loss: 0.645931      torch.Size([10, 1]) torch.Size([10])\n",
      "Epoch: 1, Progress: 460/9795, Loss: 0.645714      torch.Size([10, 1]) torch.Size([10])\n",
      "Epoch: 1, Progress: 470/9795, Loss: 0.643909      torch.Size([10, 1]) torch.Size([10])\n",
      "Epoch: 1, Progress: 480/9795, Loss: 0.640172      torch.Size([10, 1]) torch.Size([10])\n",
      "Epoch: 1, Progress: 490/9795, Loss: 0.641886      torch.Size([10, 1]) torch.Size([10])\n",
      "Epoch: 1, Progress: 500/9795, Loss: 0.640315      torch.Size([10, 1]) torch.Size([10])\n",
      "Epoch: 1, Progress: 510/9795, Loss: 0.637250      torch.Size([10, 1]) torch.Size([10])\n",
      "Epoch: 1, Progress: 520/9795, Loss: 0.635290      torch.Size([10, 1]) torch.Size([10])\n",
      "Epoch: 1, Progress: 530/9795, Loss: 0.632752      torch.Size([10, 1]) torch.Size([10])\n",
      "Epoch: 1, Progress: 540/9795, Loss: 0.629534      torch.Size([10, 1]) torch.Size([10])\n",
      "Epoch: 1, Progress: 550/9795, Loss: 0.625211      torch.Size([10, 1]) torch.Size([10])\n",
      "Epoch: 1, Progress: 560/9795, Loss: 0.623733      torch.Size([10, 1]) torch.Size([10])\n",
      "Epoch: 1, Progress: 570/9795, Loss: 0.621354      torch.Size([10, 1]) torch.Size([10])\n",
      "Epoch: 1, Progress: 580/9795, Loss: 0.617913      torch.Size([10, 1]) torch.Size([10])\n",
      "Epoch: 1, Progress: 590/9795, Loss: 0.614386      torch.Size([10, 1]) torch.Size([10])\n",
      "Epoch: 1, Progress: 600/9795, Loss: 0.612959      torch.Size([10, 1]) torch.Size([10])\n",
      "Epoch: 1, Progress: 610/9795, Loss: 0.609842      torch.Size([10, 1]) torch.Size([10])\n",
      "Epoch: 1, Progress: 620/9795, Loss: 0.606266      torch.Size([10, 1]) torch.Size([10])\n",
      "Epoch: 1, Progress: 630/9795, Loss: 0.603172      torch.Size([10, 1]) torch.Size([10])\n",
      "Epoch: 1, Progress: 640/9795, Loss: 0.605129      torch.Size([10, 1]) torch.Size([10])\n",
      "Epoch: 1, Progress: 650/9795, Loss: 0.602205      torch.Size([10, 1]) torch.Size([10])\n",
      "Epoch: 1, Progress: 660/9795, Loss: 0.598599      torch.Size([10, 1]) torch.Size([10])\n",
      "Epoch: 1, Progress: 670/9795, Loss: 0.595462      torch.Size([10, 1]) torch.Size([10])\n",
      "Epoch: 1, Progress: 680/9795, Loss: 0.592056      torch.Size([10, 1]) torch.Size([10])\n",
      "Epoch: 1, Progress: 690/9795, Loss: 0.587707      torch.Size([10, 1]) torch.Size([10])\n",
      "Epoch: 1, Progress: 700/9795, Loss: 0.583804      torch.Size([10, 1]) torch.Size([10])\n",
      "Epoch: 1, Progress: 710/9795, Loss: 0.582488      torch.Size([10, 1]) torch.Size([10])\n",
      "Epoch: 1, Progress: 720/9795, Loss: 0.580329      torch.Size([10, 1]) torch.Size([10])\n",
      "Epoch: 1, Progress: 730/9795, Loss: 0.577100      torch.Size([10, 1]) torch.Size([10])\n",
      "Epoch: 1, Progress: 740/9795, Loss: 0.575608      torch.Size([10, 1]) torch.Size([10])\n",
      "Epoch: 1, Progress: 750/9795, Loss: 0.573597      torch.Size([10, 1]) torch.Size([10])\n",
      "Epoch: 1, Progress: 760/9795, Loss: 0.573754      torch.Size([10, 1]) torch.Size([10])\n",
      "Epoch: 1, Progress: 770/9795, Loss: 0.572683      torch.Size([10, 1]) torch.Size([10])\n",
      "Epoch: 1, Progress: 780/9795, Loss: 0.571985      torch.Size([10, 1]) torch.Size([10])\n",
      "Epoch: 1, Progress: 790/9795, Loss: 0.572827      torch.Size([10, 1]) torch.Size([10])\n",
      "Epoch: 1, Progress: 800/9795, Loss: 0.572228      torch.Size([10, 1]) torch.Size([10])\n",
      "Epoch: 1, Progress: 810/9795, Loss: 0.568738      torch.Size([10, 1]) torch.Size([10])\n",
      "Epoch: 1, Progress: 820/9795, Loss: 0.569082      torch.Size([10, 1]) torch.Size([10])\n",
      "Epoch: 1, Progress: 830/9795, Loss: 0.568638      torch.Size([10, 1]) torch.Size([10])\n",
      "Epoch: 1, Progress: 840/9795, Loss: 0.567928      torch.Size([10, 1]) torch.Size([10])\n",
      "Epoch: 1, Progress: 850/9795, Loss: 0.565063      torch.Size([10, 1]) torch.Size([10])\n",
      "Epoch: 1, Progress: 860/9795, Loss: 0.564127      torch.Size([10, 1]) torch.Size([10])\n",
      "Epoch: 1, Progress: 870/9795, Loss: 0.562531      torch.Size([10, 1]) torch.Size([10])\n",
      "Epoch: 1, Progress: 880/9795, Loss: 0.560863      torch.Size([10, 1]) torch.Size([10])\n",
      "Epoch: 1, Progress: 890/9795, Loss: 0.559772      torch.Size([10, 1]) torch.Size([10])\n",
      "Epoch: 1, Progress: 900/9795, Loss: 0.558395      torch.Size([10, 1]) torch.Size([10])\n",
      "Epoch: 1, Progress: 910/9795, Loss: 0.557586      torch.Size([10, 1]) torch.Size([10])\n",
      "Epoch: 1, Progress: 920/9795, Loss: 0.555316      torch.Size([10, 1]) torch.Size([10])\n",
      "Epoch: 1, Progress: 930/9795, Loss: 0.554375      torch.Size([10, 1]) torch.Size([10])\n",
      "Epoch: 1, Progress: 940/9795, Loss: 0.555290      torch.Size([10, 1]) torch.Size([10])\n",
      "Epoch: 1, Progress: 950/9795, Loss: 0.552911      torch.Size([10, 1]) torch.Size([10])\n",
      "Epoch: 1, Progress: 960/9795, Loss: 0.552953      torch.Size([10, 1]) torch.Size([10])\n",
      "Epoch: 1, Progress: 970/9795, Loss: 0.552170      torch.Size([10, 1]) torch.Size([10])\n",
      "Epoch: 1, Progress: 980/9795, Loss: 0.551079      torch.Size([10, 1]) torch.Size([10])\n",
      "Epoch: 1, Progress: 990/9795, Loss: 0.550285      torch.Size([10, 1]) torch.Size([10])\n",
      "Epoch: 1, Progress: 1000/9795, Loss: 0.549592      torch.Size([10, 1]) torch.Size([10])\n",
      "Epoch: 1, Progress: 1010/9795, Loss: 0.548690      torch.Size([10, 1]) torch.Size([10])\n",
      "Epoch: 1, Progress: 1020/9795, Loss: 0.548033      torch.Size([10, 1]) torch.Size([10])\n",
      "Epoch: 1, Progress: 1030/9795, Loss: 0.546697      torch.Size([10, 1]) torch.Size([10])\n",
      "Epoch: 1, Progress: 1040/9795, Loss: 0.544725      torch.Size([10, 1]) torch.Size([10])\n",
      "Epoch: 1, Progress: 1050/9795, Loss: 0.542583      torch.Size([10, 1]) torch.Size([10])\n",
      "Epoch: 1, Progress: 1060/9795, Loss: 0.540779      torch.Size([10, 1]) torch.Size([10])\n",
      "Epoch: 1, Progress: 1070/9795, Loss: 0.539848      torch.Size([10, 1]) torch.Size([10])\n",
      "Epoch: 1, Progress: 1080/9795, Loss: 0.538908      torch.Size([10, 1]) torch.Size([10])\n",
      "Epoch: 1, Progress: 1090/9795, Loss: 0.538606      torch.Size([10, 1]) torch.Size([10])\n",
      "Epoch: 1, Progress: 1100/9795, Loss: 0.538824      torch.Size([10, 1]) torch.Size([10])\n",
      "Epoch: 1, Progress: 1110/9795, Loss: 0.536390      torch.Size([10, 1]) torch.Size([10])\n",
      "Epoch: 1, Progress: 1120/9795, Loss: 0.534756      torch.Size([10, 1]) torch.Size([10])\n",
      "Epoch: 1, Progress: 1130/9795, Loss: 0.534127      torch.Size([10, 1]) torch.Size([10])\n",
      "Epoch: 1, Progress: 1140/9795, Loss: 0.533248      torch.Size([10, 1]) torch.Size([10])\n",
      "Epoch: 1, Progress: 1150/9795, Loss: 0.533165      torch.Size([10, 1]) torch.Size([10])\n",
      "Epoch: 1, Progress: 1160/9795, Loss: 0.532062      torch.Size([10, 1]) torch.Size([10])\n",
      "Epoch: 1, Progress: 1170/9795, Loss: 0.529816      torch.Size([10, 1]) torch.Size([10])\n",
      "Epoch: 1, Progress: 1180/9795, Loss: 0.528857      torch.Size([10, 1]) torch.Size([10])\n",
      "Epoch: 1, Progress: 1190/9795, Loss: 0.527753      torch.Size([10, 1]) torch.Size([10])\n",
      "Epoch: 1, Progress: 1200/9795, Loss: 0.527300      torch.Size([10, 1]) torch.Size([10])\n",
      "Epoch: 1, Progress: 1210/9795, Loss: 0.525418      torch.Size([10, 1]) torch.Size([10])\n",
      "Epoch: 1, Progress: 1220/9795, Loss: 0.525240      torch.Size([10, 1]) torch.Size([10])\n",
      "Epoch: 1, Progress: 1230/9795, Loss: 0.522992      torch.Size([10, 1]) torch.Size([10])\n",
      "Epoch: 1, Progress: 1240/9795, Loss: 0.521748      torch.Size([10, 1]) torch.Size([10])\n",
      "Epoch: 1, Progress: 1250/9795, Loss: 0.520290      torch.Size([10, 1]) torch.Size([10])\n",
      "Epoch: 1, Progress: 1260/9795, Loss: 0.518569      torch.Size([10, 1]) torch.Size([10])\n",
      "Epoch: 1, Progress: 1270/9795, Loss: 0.517350      torch.Size([10, 1]) torch.Size([10])\n",
      "Epoch: 1, Progress: 1280/9795, Loss: 0.515776      torch.Size([10, 1]) torch.Size([10])\n",
      "Epoch: 1, Progress: 1290/9795, Loss: 0.515063      torch.Size([10, 1]) torch.Size([10])\n",
      "Epoch: 1, Progress: 1300/9795, Loss: 0.513918      torch.Size([10, 1]) torch.Size([10])\n",
      "Epoch: 1, Progress: 1310/9795, Loss: 0.513302      torch.Size([10, 1]) torch.Size([10])\n",
      "Epoch: 1, Progress: 1320/9795, Loss: 0.512367      torch.Size([10, 1]) torch.Size([10])\n",
      "Epoch: 1, Progress: 1330/9795, Loss: 0.510677      torch.Size([10, 1]) torch.Size([10])\n",
      "Epoch: 1, Progress: 1340/9795, Loss: 0.510298      torch.Size([10, 1]) torch.Size([10])\n",
      "Epoch: 1, Progress: 1350/9795, Loss: 0.509515      torch.Size([10, 1]) torch.Size([10])\n",
      "Epoch: 1, Progress: 1360/9795, Loss: 0.508669      torch.Size([10, 1]) torch.Size([10])\n",
      "Epoch: 1, Progress: 1370/9795, Loss: 0.507299      torch.Size([10, 1]) torch.Size([10])\n",
      "Epoch: 1, Progress: 1380/9795, Loss: 0.505658      torch.Size([10, 1]) torch.Size([10])\n",
      "Epoch: 1, Progress: 1390/9795, Loss: 0.504858      torch.Size([10, 1]) torch.Size([10])\n",
      "Epoch: 1, Progress: 1400/9795, Loss: 0.503711      torch.Size([10, 1]) torch.Size([10])\n",
      "Epoch: 1, Progress: 1410/9795, Loss: 0.502696      torch.Size([10, 1]) torch.Size([10])\n",
      "Epoch: 1, Progress: 1420/9795, Loss: 0.502230      torch.Size([10, 1]) torch.Size([10])\n",
      "Epoch: 1, Progress: 1430/9795, Loss: 0.500899      torch.Size([10, 1]) torch.Size([10])\n",
      "Epoch: 1, Progress: 1440/9795, Loss: 0.500804      torch.Size([10, 1]) torch.Size([10])\n",
      "Epoch: 1, Progress: 1450/9795, Loss: 0.499585      torch.Size([10, 1]) torch.Size([10])\n",
      "Epoch: 1, Progress: 1460/9795, Loss: 0.499276      torch.Size([10, 1]) torch.Size([10])\n",
      "Epoch: 1, Progress: 1470/9795, Loss: 0.497473      torch.Size([10, 1]) torch.Size([10])\n",
      "Epoch: 1, Progress: 1480/9795, Loss: 0.496523      torch.Size([10, 1]) torch.Size([10])\n",
      "Epoch: 1, Progress: 1490/9795, Loss: 0.496022      torch.Size([10, 1]) torch.Size([10])\n",
      "Epoch: 1, Progress: 1500/9795, Loss: 0.495552      torch.Size([10, 1]) torch.Size([10])\n",
      "Epoch: 1, Progress: 1510/9795, Loss: 0.495076      torch.Size([10, 1]) torch.Size([10])\n",
      "Epoch: 1, Progress: 1520/9795, Loss: 0.494532      torch.Size([10, 1]) torch.Size([10])\n",
      "Epoch: 1, Progress: 1530/9795, Loss: 0.492918      torch.Size([10, 1]) torch.Size([10])\n",
      "Epoch: 1, Progress: 1540/9795, Loss: 0.492049      torch.Size([10, 1]) torch.Size([10])\n",
      "Epoch: 1, Progress: 1550/9795, Loss: 0.491612      torch.Size([10, 1]) torch.Size([10])\n",
      "Epoch: 1, Progress: 1560/9795, Loss: 0.490936      torch.Size([10, 1]) torch.Size([10])\n",
      "Epoch: 1, Progress: 1570/9795, Loss: 0.490131      torch.Size([10, 1]) torch.Size([10])\n",
      "Epoch: 1, Progress: 1580/9795, Loss: 0.489230      torch.Size([10, 1]) torch.Size([10])\n",
      "Epoch: 1, Progress: 1590/9795, Loss: 0.488128      torch.Size([10, 1]) torch.Size([10])\n",
      "Epoch: 1, Progress: 1600/9795, Loss: 0.486991      torch.Size([10, 1]) torch.Size([10])\n",
      "Epoch: 1, Progress: 1610/9795, Loss: 0.486687      torch.Size([10, 1]) torch.Size([10])\n",
      "Epoch: 1, Progress: 1620/9795, Loss: 0.485525      torch.Size([10, 1]) torch.Size([10])\n",
      "Epoch: 1, Progress: 1630/9795, Loss: 0.484274      torch.Size([10, 1]) torch.Size([10])\n",
      "Epoch: 1, Progress: 1640/9795, Loss: 0.483647      torch.Size([10, 1]) torch.Size([10])\n",
      "Epoch: 1, Progress: 1650/9795, Loss: 0.482857      torch.Size([10, 1]) torch.Size([10])\n",
      "Epoch: 1, Progress: 1660/9795, Loss: 0.481850      torch.Size([10, 1]) torch.Size([10])\n",
      "Epoch: 1, Progress: 1670/9795, Loss: 0.480552      torch.Size([10, 1]) torch.Size([10])\n",
      "Epoch: 1, Progress: 1680/9795, Loss: 0.479902      torch.Size([10, 1]) torch.Size([10])\n",
      "Epoch: 1, Progress: 1690/9795, Loss: 0.478735      torch.Size([10, 1]) torch.Size([10])\n",
      "Epoch: 1, Progress: 1700/9795, Loss: 0.478431      torch.Size([10, 1]) torch.Size([10])\n",
      "Epoch: 1, Progress: 1710/9795, Loss: 0.477108      torch.Size([10, 1]) torch.Size([10])\n",
      "Epoch: 1, Progress: 1720/9795, Loss: 0.476654      torch.Size([10, 1]) torch.Size([10])\n",
      "Epoch: 1, Progress: 1730/9795, Loss: 0.475805      torch.Size([10, 1]) torch.Size([10])\n",
      "Epoch: 1, Progress: 1740/9795, Loss: 0.475126      torch.Size([10, 1]) torch.Size([10])\n",
      "Epoch: 1, Progress: 1750/9795, Loss: 0.473520      torch.Size([10, 1]) torch.Size([10])\n",
      "Epoch: 1, Progress: 1760/9795, Loss: 0.472800      torch.Size([10, 1]) torch.Size([10])\n",
      "Epoch: 1, Progress: 1770/9795, Loss: 0.470679      torch.Size([10, 1]) torch.Size([10])\n",
      "Epoch: 1, Progress: 1780/9795, Loss: 0.470644      torch.Size([10, 1]) torch.Size([10])\n",
      "Epoch: 1, Progress: 1790/9795, Loss: 0.470859      torch.Size([10, 1]) torch.Size([10])\n",
      "Epoch: 1, Progress: 1800/9795, Loss: 0.470386      torch.Size([10, 1]) torch.Size([10])\n",
      "Epoch: 1, Progress: 1810/9795, Loss: 0.468962      torch.Size([10, 1]) torch.Size([10])\n",
      "Epoch: 1, Progress: 1820/9795, Loss: 0.468190      torch.Size([10, 1]) torch.Size([10])\n",
      "Epoch: 1, Progress: 1830/9795, Loss: 0.467044      torch.Size([10, 1]) torch.Size([10])\n",
      "Epoch: 1, Progress: 1840/9795, Loss: 0.465936      torch.Size([10, 1]) torch.Size([10])\n",
      "Epoch: 1, Progress: 1850/9795, Loss: 0.466140      torch.Size([10, 1]) torch.Size([10])\n",
      "Epoch: 1, Progress: 1860/9795, Loss: 0.465491      torch.Size([10, 1]) torch.Size([10])\n",
      "Epoch: 1, Progress: 1870/9795, Loss: 0.465123      torch.Size([10, 1]) torch.Size([10])\n",
      "Epoch: 1, Progress: 1880/9795, Loss: 0.464637      torch.Size([10, 1]) torch.Size([10])\n",
      "Epoch: 1, Progress: 1890/9795, Loss: 0.463773      torch.Size([10, 1]) torch.Size([10])\n",
      "Epoch: 1, Progress: 1900/9795, Loss: 0.462932      torch.Size([10, 1]) torch.Size([10])\n",
      "Epoch: 1, Progress: 1910/9795, Loss: 0.465493      torch.Size([10, 1]) torch.Size([10])\n",
      "Epoch: 1, Progress: 1920/9795, Loss: 0.464864      torch.Size([10, 1]) torch.Size([10])\n",
      "Epoch: 1, Progress: 1930/9795, Loss: 0.463708      torch.Size([10, 1]) torch.Size([10])\n",
      "Epoch: 1, Progress: 1940/9795, Loss: 0.463370      torch.Size([10, 1]) torch.Size([10])\n",
      "Epoch: 1, Progress: 1950/9795, Loss: 0.462649      torch.Size([10, 1]) torch.Size([10])\n",
      "Epoch: 1, Progress: 1960/9795, Loss: 0.461635      torch.Size([10, 1]) torch.Size([10])\n",
      "Epoch: 1, Progress: 1970/9795, Loss: 0.460350      torch.Size([10, 1]) torch.Size([10])\n",
      "Epoch: 1, Progress: 1980/9795, Loss: 0.459831      torch.Size([10, 1]) torch.Size([10])\n",
      "Epoch: 1, Progress: 1990/9795, Loss: 0.458878      torch.Size([10, 1]) torch.Size([10])\n",
      "Epoch: 1, Progress: 2000/9795, Loss: 0.457702      "
     ]
    },
    {
     "ename": "KeyboardInterrupt",
     "evalue": "",
     "output_type": "error",
     "traceback": [
      "\u001b[1;31m---------------------------------------------------------------------------\u001b[0m",
      "\u001b[1;31mKeyboardInterrupt\u001b[0m                         Traceback (most recent call last)",
      "\u001b[1;32m~\\AppData\\Local\\Temp\\ipykernel_11548\\925902785.py\u001b[0m in \u001b[0;36m<module>\u001b[1;34m\u001b[0m\n\u001b[0;32m      4\u001b[0m \u001b[1;33m\u001b[0m\u001b[0m\n\u001b[0;32m      5\u001b[0m \u001b[0mrbfnet\u001b[0m \u001b[1;33m=\u001b[0m \u001b[0mRadialBasisNet\u001b[0m\u001b[1;33m(\u001b[0m\u001b[0mlayer_widths\u001b[0m\u001b[1;33m,\u001b[0m \u001b[0mlayer_centres\u001b[0m\u001b[1;33m,\u001b[0m \u001b[0mbasis_func\u001b[0m\u001b[1;33m)\u001b[0m\u001b[1;33m\u001b[0m\u001b[1;33m\u001b[0m\u001b[0m\n\u001b[1;32m----> 6\u001b[1;33m \u001b[0mrbfnet\u001b[0m\u001b[1;33m.\u001b[0m\u001b[0mfit\u001b[0m\u001b[1;33m(\u001b[0m\u001b[1;36m2000\u001b[0m\u001b[1;33m,\u001b[0m \u001b[1;36m0.01\u001b[0m\u001b[1;33m,\u001b[0m \u001b[0mnn\u001b[0m\u001b[1;33m.\u001b[0m\u001b[0mBCEWithLogitsLoss\u001b[0m\u001b[1;33m(\u001b[0m\u001b[1;33m)\u001b[0m\u001b[1;33m)\u001b[0m\u001b[1;33m\u001b[0m\u001b[1;33m\u001b[0m\u001b[0m\n\u001b[0m\u001b[0;32m      7\u001b[0m \u001b[0mrbfnet\u001b[0m\u001b[1;33m.\u001b[0m\u001b[0meval\u001b[0m\u001b[1;33m(\u001b[0m\u001b[1;33m)\u001b[0m\u001b[1;33m\u001b[0m\u001b[1;33m\u001b[0m\u001b[0m\n",
      "\u001b[1;32m~\\AppData\\Local\\Temp\\ipykernel_11548\\231280631.py\u001b[0m in \u001b[0;36mfit\u001b[1;34m(self, epochs, lr, loss_func)\u001b[0m\n\u001b[0;32m     28\u001b[0m             \u001b[0mprogress\u001b[0m \u001b[1;33m=\u001b[0m \u001b[1;36m0\u001b[0m\u001b[1;33m\u001b[0m\u001b[1;33m\u001b[0m\u001b[0m\n\u001b[0;32m     29\u001b[0m             \u001b[1;32mfor\u001b[0m \u001b[0mx_batch\u001b[0m\u001b[1;33m,\u001b[0m \u001b[0my_batch\u001b[0m \u001b[1;32min\u001b[0m \u001b[0mtrainloader\u001b[0m\u001b[1;33m:\u001b[0m\u001b[1;33m\u001b[0m\u001b[1;33m\u001b[0m\u001b[0m\n\u001b[1;32m---> 30\u001b[1;33m                 \u001b[0mbatches\u001b[0m \u001b[1;33m+=\u001b[0m \u001b[1;36m1\u001b[0m\u001b[1;33m\u001b[0m\u001b[1;33m\u001b[0m\u001b[0m\n\u001b[0m\u001b[0;32m     31\u001b[0m                 \u001b[0moptimiser\u001b[0m\u001b[1;33m.\u001b[0m\u001b[0mzero_grad\u001b[0m\u001b[1;33m(\u001b[0m\u001b[1;33m)\u001b[0m\u001b[1;33m\u001b[0m\u001b[1;33m\u001b[0m\u001b[0m\n\u001b[0;32m     32\u001b[0m                 \u001b[0my_hat\u001b[0m \u001b[1;33m=\u001b[0m \u001b[0mself\u001b[0m\u001b[1;33m.\u001b[0m\u001b[0mforward\u001b[0m\u001b[1;33m(\u001b[0m\u001b[0mx_batch\u001b[0m\u001b[1;33m)\u001b[0m\u001b[1;33m\u001b[0m\u001b[1;33m\u001b[0m\u001b[0m\n",
      "\u001b[1;31mKeyboardInterrupt\u001b[0m: "
     ]
    }
   ],
   "source": [
    "layer_widths = [10, 1]\n",
    "layer_centres = [40]\n",
    "basis_func = gaussian\n",
    "\n",
    "rbfnet = RadialBasisNet(layer_widths, layer_centres, basis_func)\n",
    "rbfnet.fit(2000, 0.01, nn.BCEWithLogitsLoss())\n",
    "rbfnet.eval()"
   ]
  },
  {
   "attachments": {},
   "cell_type": "markdown",
   "metadata": {},
   "source": [
    "Model Saving"
   ]
  },
  {
   "cell_type": "code",
   "execution_count": null,
   "metadata": {},
   "outputs": [],
   "source": [
    "torch.save(rbfnet.state_dict(),\"Radial_Basis_Function_Net.pth\")"
   ]
  },
  {
   "attachments": {},
   "cell_type": "markdown",
   "metadata": {},
   "source": [
    "Load Model"
   ]
  },
  {
   "cell_type": "code",
   "execution_count": null,
   "metadata": {},
   "outputs": [],
   "source": [
    "loaded_model = RadialBasisNet(layer_widths, layer_centres, basis_func)\n",
    "loaded_model.load_state_dict(torch.load(\"Radial_Basis_Function_Net.pth\"))"
   ]
  },
  {
   "attachments": {},
   "cell_type": "markdown",
   "metadata": {},
   "source": [
    "# Radial Basis Function Network Evaluation"
   ]
  },
  {
   "cell_type": "code",
   "execution_count": null,
   "metadata": {},
   "outputs": [],
   "source": [
    "print(evaluate(test_loader=test_loader,net=rbfnet))"
   ]
  },
  {
   "attachments": {},
   "cell_type": "markdown",
   "metadata": {},
   "source": [
    "# Define and Train Multilayer Perceptron Network"
   ]
  },
  {
   "attachments": {},
   "cell_type": "markdown",
   "metadata": {},
   "source": [
    "Define model architecture"
   ]
  },
  {
   "cell_type": "code",
   "execution_count": 63,
   "metadata": {},
   "outputs": [],
   "source": [
    "mpnet = nn.Sequential(OrderedDict([\n",
    "    ('dense1', nn.Linear(10, 100)),\n",
    "    ('act1', nn.ReLU()),\n",
    "    ('dense2', nn.Linear(100, 50)),\n",
    "    ('act2', nn.ReLU()),\n",
    "    ('output', nn.Linear(50, 1)),\n",
    "    ('outact', nn.Sigmoid()),\n",
    "]))"
   ]
  },
  {
   "attachments": {},
   "cell_type": "markdown",
   "metadata": {},
   "source": [
    "Train Model"
   ]
  },
  {
   "cell_type": "code",
   "execution_count": 64,
   "metadata": {},
   "outputs": [
    {
     "name": "stdout",
     "output_type": "stream",
     "text": [
      "Epoch: 1, Progress: 6120, Loss: 0.016889      "
     ]
    },
    {
     "ename": "KeyboardInterrupt",
     "evalue": "",
     "output_type": "error",
     "traceback": [
      "\u001b[1;31m---------------------------------------------------------------------------\u001b[0m",
      "\u001b[1;31mKeyboardInterrupt\u001b[0m                         Traceback (most recent call last)",
      "\u001b[1;32m~\\AppData\\Local\\Temp\\ipykernel_11548\\1138511391.py\u001b[0m in \u001b[0;36m<module>\u001b[1;34m\u001b[0m\n\u001b[0;32m     28\u001b[0m             sys.stdout.write('\\rEpoch: %d, Progress: %d, Loss: %f      ' % \n\u001b[0;32m     29\u001b[0m                                 (epoch, progress, loss))\n\u001b[1;32m---> 30\u001b[1;33m             \u001b[0msys\u001b[0m\u001b[1;33m.\u001b[0m\u001b[0mstdout\u001b[0m\u001b[1;33m.\u001b[0m\u001b[0mflush\u001b[0m\u001b[1;33m(\u001b[0m\u001b[1;33m)\u001b[0m\u001b[1;33m\u001b[0m\u001b[1;33m\u001b[0m\u001b[0m\n\u001b[0m",
      "\u001b[1;32mc:\\Users\\kulka\\OneDrive\\Documents\\Python_Class\\Anaconda\\anacon\\lib\\site-packages\\ipykernel\\iostream.py\u001b[0m in \u001b[0;36mflush\u001b[1;34m(self)\u001b[0m\n\u001b[0;32m    481\u001b[0m         ):\n\u001b[0;32m    482\u001b[0m             \u001b[1;31m# request flush on the background thread\u001b[0m\u001b[1;33m\u001b[0m\u001b[1;33m\u001b[0m\u001b[1;33m\u001b[0m\u001b[0m\n\u001b[1;32m--> 483\u001b[1;33m             \u001b[0mself\u001b[0m\u001b[1;33m.\u001b[0m\u001b[0mpub_thread\u001b[0m\u001b[1;33m.\u001b[0m\u001b[0mschedule\u001b[0m\u001b[1;33m(\u001b[0m\u001b[0mself\u001b[0m\u001b[1;33m.\u001b[0m\u001b[0m_flush\u001b[0m\u001b[1;33m)\u001b[0m\u001b[1;33m\u001b[0m\u001b[1;33m\u001b[0m\u001b[0m\n\u001b[0m\u001b[0;32m    484\u001b[0m             \u001b[1;31m# wait for flush to actually get through, if we can.\u001b[0m\u001b[1;33m\u001b[0m\u001b[1;33m\u001b[0m\u001b[1;33m\u001b[0m\u001b[0m\n\u001b[0;32m    485\u001b[0m             \u001b[0mevt\u001b[0m \u001b[1;33m=\u001b[0m \u001b[0mthreading\u001b[0m\u001b[1;33m.\u001b[0m\u001b[0mEvent\u001b[0m\u001b[1;33m(\u001b[0m\u001b[1;33m)\u001b[0m\u001b[1;33m\u001b[0m\u001b[1;33m\u001b[0m\u001b[0m\n",
      "\u001b[1;32mc:\\Users\\kulka\\OneDrive\\Documents\\Python_Class\\Anaconda\\anacon\\lib\\site-packages\\ipykernel\\iostream.py\u001b[0m in \u001b[0;36mschedule\u001b[1;34m(self, f)\u001b[0m\n\u001b[0;32m    208\u001b[0m             \u001b[0mself\u001b[0m\u001b[1;33m.\u001b[0m\u001b[0m_events\u001b[0m\u001b[1;33m.\u001b[0m\u001b[0mappend\u001b[0m\u001b[1;33m(\u001b[0m\u001b[0mf\u001b[0m\u001b[1;33m)\u001b[0m\u001b[1;33m\u001b[0m\u001b[1;33m\u001b[0m\u001b[0m\n\u001b[0;32m    209\u001b[0m             \u001b[1;31m# wake event thread (message content is ignored)\u001b[0m\u001b[1;33m\u001b[0m\u001b[1;33m\u001b[0m\u001b[1;33m\u001b[0m\u001b[0m\n\u001b[1;32m--> 210\u001b[1;33m             \u001b[0mself\u001b[0m\u001b[1;33m.\u001b[0m\u001b[0m_event_pipe\u001b[0m\u001b[1;33m.\u001b[0m\u001b[0msend\u001b[0m\u001b[1;33m(\u001b[0m\u001b[1;34mb\"\"\u001b[0m\u001b[1;33m)\u001b[0m\u001b[1;33m\u001b[0m\u001b[1;33m\u001b[0m\u001b[0m\n\u001b[0m\u001b[0;32m    211\u001b[0m         \u001b[1;32melse\u001b[0m\u001b[1;33m:\u001b[0m\u001b[1;33m\u001b[0m\u001b[1;33m\u001b[0m\u001b[0m\n\u001b[0;32m    212\u001b[0m             \u001b[0mf\u001b[0m\u001b[1;33m(\u001b[0m\u001b[1;33m)\u001b[0m\u001b[1;33m\u001b[0m\u001b[1;33m\u001b[0m\u001b[0m\n",
      "\u001b[1;32mc:\\Users\\kulka\\OneDrive\\Documents\\Python_Class\\Anaconda\\anacon\\lib\\site-packages\\zmq\\sugar\\socket.py\u001b[0m in \u001b[0;36msend\u001b[1;34m(self, data, flags, copy, track, routing_id, group)\u001b[0m\n\u001b[0;32m    616\u001b[0m                 )\n\u001b[0;32m    617\u001b[0m             \u001b[0mdata\u001b[0m\u001b[1;33m.\u001b[0m\u001b[0mgroup\u001b[0m \u001b[1;33m=\u001b[0m \u001b[0mgroup\u001b[0m\u001b[1;33m\u001b[0m\u001b[1;33m\u001b[0m\u001b[0m\n\u001b[1;32m--> 618\u001b[1;33m         \u001b[1;32mreturn\u001b[0m \u001b[0msuper\u001b[0m\u001b[1;33m(\u001b[0m\u001b[1;33m)\u001b[0m\u001b[1;33m.\u001b[0m\u001b[0msend\u001b[0m\u001b[1;33m(\u001b[0m\u001b[0mdata\u001b[0m\u001b[1;33m,\u001b[0m \u001b[0mflags\u001b[0m\u001b[1;33m=\u001b[0m\u001b[0mflags\u001b[0m\u001b[1;33m,\u001b[0m \u001b[0mcopy\u001b[0m\u001b[1;33m=\u001b[0m\u001b[0mcopy\u001b[0m\u001b[1;33m,\u001b[0m \u001b[0mtrack\u001b[0m\u001b[1;33m=\u001b[0m\u001b[0mtrack\u001b[0m\u001b[1;33m)\u001b[0m\u001b[1;33m\u001b[0m\u001b[1;33m\u001b[0m\u001b[0m\n\u001b[0m\u001b[0;32m    619\u001b[0m \u001b[1;33m\u001b[0m\u001b[0m\n\u001b[0;32m    620\u001b[0m     def send_multipart(\n",
      "\u001b[1;32mzmq\\backend\\cython\\socket.pyx\u001b[0m in \u001b[0;36mzmq.backend.cython.socket.Socket.send\u001b[1;34m()\u001b[0m\n",
      "\u001b[1;32mzmq\\backend\\cython\\socket.pyx\u001b[0m in \u001b[0;36mzmq.backend.cython.socket.Socket.send\u001b[1;34m()\u001b[0m\n",
      "\u001b[1;32mzmq\\backend\\cython\\socket.pyx\u001b[0m in \u001b[0;36mzmq.backend.cython.socket._send_copy\u001b[1;34m()\u001b[0m\n",
      "\u001b[1;32mc:\\Users\\kulka\\OneDrive\\Documents\\Python_Class\\Anaconda\\anacon\\lib\\site-packages\\zmq\\backend\\cython\\checkrc.pxd\u001b[0m in \u001b[0;36mzmq.backend.cython.checkrc._check_rc\u001b[1;34m()\u001b[0m\n",
      "\u001b[1;31mKeyboardInterrupt\u001b[0m: "
     ]
    }
   ],
   "source": [
    "epochs = 100\n",
    "loss_fn = nn.BCELoss()\n",
    "learning_rate = 0.001\n",
    "optimizer = torch.optim.Adam(mpnet.parameters(), lr=learning_rate)\n",
    "\n",
    "epoch = 0\n",
    "while epoch < epochs:\n",
    "    epoch += 1\n",
    "    batches = 0\n",
    "    progress = 0\n",
    "    for x_batch, y_batch in train_loader:\n",
    "        batches += 1\n",
    "        optimizer.zero_grad()\n",
    "\n",
    "        y_pred = mpnet(x_batch)\n",
    "        y_batch = y_batch.unsqueeze(1)\n",
    "        loss = loss_fn(y_pred, y_batch)\n",
    "\n",
    "        optimizer.zero_grad()\n",
    "\n",
    "        loss.backward()\n",
    "\n",
    "        optimizer.step()\n",
    "\n",
    "        progress += y_batch.size(0)\n",
    "\n",
    "        if progress % 15 == 0:\n",
    "            sys.stdout.write('\\rEpoch: %d, Progress: %d, Loss: %f      ' % \n",
    "                                (epoch, progress, loss))\n",
    "            sys.stdout.flush()"
   ]
  },
  {
   "attachments": {},
   "cell_type": "markdown",
   "metadata": {},
   "source": [
    "Model Saving"
   ]
  },
  {
   "cell_type": "code",
   "execution_count": null,
   "metadata": {},
   "outputs": [],
   "source": [
    "torch.save(mpnet.state_dict(),\"Multilayer_Perceptron_Net.pth\")"
   ]
  },
  {
   "cell_type": "code",
   "execution_count": null,
   "metadata": {},
   "outputs": [],
   "source": [
    "loaded_model = nn.Sequential(OrderedDict([\n",
    "    ('dense1', nn.Linear(10, 100)),\n",
    "    ('act1', nn.ReLU()),\n",
    "    ('dense2', nn.Linear(100, 50)),\n",
    "    ('act2', nn.ReLU()),\n",
    "    ('output', nn.Linear(50, 1)),\n",
    "    ('outact', nn.Sigmoid()),\n",
    "]))\n",
    "\n",
    "loaded_model.load_state_dict(torch.load(\"Multilayer_Perceptron_Net.pth\"))"
   ]
  },
  {
   "attachments": {},
   "cell_type": "markdown",
   "metadata": {},
   "source": [
    "Load Model"
   ]
  },
  {
   "attachments": {},
   "cell_type": "markdown",
   "metadata": {},
   "source": [
    "# Multilayer Perceptron Network Evaluation"
   ]
  },
  {
   "cell_type": "code",
   "execution_count": null,
   "metadata": {},
   "outputs": [],
   "source": [
    "print(evaluate(test_loader=test_loader,net=mpnet))"
   ]
  }
 ],
 "metadata": {
  "kernelspec": {
   "display_name": "base",
   "language": "python",
   "name": "python3"
  },
  "language_info": {
   "codemirror_mode": {
    "name": "ipython",
    "version": 3
   },
   "file_extension": ".py",
   "mimetype": "text/x-python",
   "name": "python",
   "nbconvert_exporter": "python",
   "pygments_lexer": "ipython3",
   "version": "3.8.16"
  },
  "orig_nbformat": 4
 },
 "nbformat": 4,
 "nbformat_minor": 2
}
